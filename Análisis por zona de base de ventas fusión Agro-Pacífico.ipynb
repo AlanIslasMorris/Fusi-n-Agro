{
 "cells": [
  {
   "cell_type": "code",
   "execution_count": 312,
   "id": "3b3634de",
   "metadata": {},
   "outputs": [],
   "source": [
    "from IPython.display import display\n",
    "from IPython.display import HTML\n",
    "import IPython.core.display as di # Example: di.display_html('<h3>%s:</h3>' % str, raw=True)\n",
    "\n",
    "# This line will hide code by default when the notebook is exported as HTML\n",
    "di.display_html('<script>jQuery(function() {if (jQuery(\"body.notebook_app\").length == 0) { jQuery(\".input_area\").toggle(); jQuery(\".prompt\").toggle();}});</script>', raw=True)\n",
    "\n",
    "# This line will add a button to toggle visibility of code blocks, for use with the HTML export version\n",
    "di.display_html('''<button onclick=\"jQuery('.input_area').toggle(); jQuery('.prompt').toggle();\">Toggle code</button>''', raw=True)\n",
    "\n",
    "# Se importan paquetes de análisis de datos- Proceso\n",
    "\n",
    "import pandas as pd\n",
    "\n",
    "import matplotlib.pyplot as plt\n",
    "\n",
    "import numpy as np\n",
    "\n",
    "BaseVentasFusionAgro = pd.read_csv(\"11.csv\")\n",
    "\n",
    "# Se importan categorías de producto, cultivo y cliente\n",
    "\n",
    "Zona = pd.read_csv(\"Zona.csv\")\n",
    "\n",
    "Producto = pd.read_csv(\"Producto.csv\")\n",
    "\n",
    "Cultivo = pd.read_csv(\"Cultivo.csv\")\n",
    "\n",
    "Mesatrimestre = pd.read_csv(\"Mesatrimestre.csv\")\n",
    "\n",
    "\n",
    "# Se incluyen las categorías en la base\n",
    "\n",
    "Ventas_zona = BaseVentasFusionAgro.merge(Zona, how='left', left_on='RM/ REIQ', right_on='RM/ REIQ_')\n",
    "\n",
    "Ventas_zona_producto = Ventas_zona.merge(Producto, how='left', left_on='Producto_', right_on='Producto_')\n",
    "\n",
    "Ventas_zona_producto_ = Ventas_zona_producto.merge(Mesatrimestre, how='left', left_on='Mes', right_on='Mes')\n",
    "\n",
    "Ventas_zona_producto_cultivo = Ventas_zona_producto_.merge(Cultivo, how='left', left_on='Cultivo_', right_on='Cultivo', indicator = True)\n",
    "\n",
    "# Columnas disponibles\n",
    "\n",
    "Producto.columns\n",
    "Cultivo.columns\n",
    "Zona.columns\n",
    "\n",
    "# Listado de zonas y categorías de cultivos disponibles\n",
    "\n",
    "Ventas_zona_producto_cultivo['Zona Ranking_'].unique()\n",
    "\n",
    "Ventas_zona_producto_cultivo['Cultivo_Categoría'].unique()\n",
    "\n",
    "Ventas_zona_producto_cultivo['Periodo'].unique()\n",
    "\n",
    "Ventas_zona_producto_cultivo['Trimestre'].unique()\n",
    "\n",
    "#Columnas auxiliares\n",
    "\n",
    "Ventas_zona_producto_cultivo['Utilidad $M'] = Ventas_zona_producto_cultivo['Utilidad']/1000000\n",
    "\n",
    "Ventas_zona_producto_cultivo['Utilidad/Utilidad_total (%)'] = Ventas_zona_producto_cultivo['Utilidad']*100/(Ventas_zona_producto_cultivo['Utilidad'].sum())\n",
    "\n",
    "\n"
   ]
  },
  {
   "cell_type": "code",
   "execution_count": 313,
   "id": "87e898a5",
   "metadata": {},
   "outputs": [],
   "source": [
    "#Criterios para filtrar datos\n",
    "\n",
    "Periodoconsiderado_2022 = Ventas_zona_producto_cultivo['Periodo'] == 2022\n",
    "Periodoconsiderado2021 = Ventas_zona_producto_cultivo['Periodo'] == 2021\n",
    "Periodoconsiderado2021 = Ventas_zona_producto_cultivo['Periodo'] == 2020\n",
    "Zonaconsiderada_Noroeste = Ventas_zona_producto_cultivo['Zona Ranking_'] == \"01 Noroeste\"\n",
    "ZonaconsideradaZona2 = Ventas_zona_producto_cultivo['Zona Ranking_'] == \"03 Zona 2\"\n",
    "ZonaconsideradaPacífico = Ventas_zona_producto_cultivo['Zona Ranking_'] == \"02 Pacífico\"\n",
    "T1 = ['T1']\n",
    "T1yT2 = ['T1', 'T2']\n",
    "T1aT4 = ['T1', 'T2','T3', 'T4']\n",
    "Catdecultivo = Ventas_zona_producto_cultivo['Cultivo_Categoría'] == \"Hortalizas\"\n",
    "AdmCat_Cito = Ventas_zona_producto_cultivo['Administracion de la categoria'] == \"1 Cito\"\n",
    "AdmCat_Suelo = Ventas_zona_producto_cultivo['Administracion de la categoria'] == \"2 Raiz/ suelo\"\n",
    "AdmCat_Bioest = Ventas_zona_producto_cultivo['Administracion de la categoria'] == \"3 Bioestimulante\"\n",
    "AdmCat_Coady = Ventas_zona_producto_cultivo['Administracion de la categoria'] == \"4 Coadyuvante\"\n",
    "H2 = Ventas_zona_producto_cultivo['H1 o H2 o Resto'] == \"H2\"\n"
   ]
  },
  {
   "cell_type": "markdown",
   "id": "270c81dd",
   "metadata": {},
   "source": [
    "# Plan del primer trimestre 2022 de Pacífico"
   ]
  },
  {
   "cell_type": "code",
   "execution_count": 314,
   "id": "d5f7f04f",
   "metadata": {},
   "outputs": [],
   "source": [
    "\n",
    "# Plan 2022 corresponde al año 2022, también es posible seleccionar 2020 o 2021\n",
    "\n",
    "Ventas_zona_producto_cultivo_2022 = Ventas_zona_producto_cultivo[Ventas_zona_producto_cultivo['Trimestre'].isin(\n",
    "    T1) &\n",
    "    Periodoconsiderado_2022 & \n",
    "    ZonaconsideradaPacífico ]\n",
    "\n",
    "Ventas_zona_producto_cultivo_Cito_2022 = Ventas_zona_producto_cultivo[Ventas_zona_producto_cultivo['Trimestre'].isin(\n",
    "    T1) &\n",
    "    Periodoconsiderado_2022 & \n",
    "    ZonaconsideradaPacífico &\n",
    "    AdmCat_Cito]\n",
    "Ventas_zona_producto_cultivo_Suelo_2022 = Ventas_zona_producto_cultivo[Ventas_zona_producto_cultivo['Trimestre'].isin(\n",
    "    T1) &\n",
    "    Periodoconsiderado_2022 & \n",
    "    ZonaconsideradaPacífico &\n",
    "    AdmCat_Suelo]\n",
    "Ventas_zona_producto_cultivo_Bioest_2022 = Ventas_zona_producto_cultivo[Ventas_zona_producto_cultivo['Trimestre'].isin(\n",
    "    T1) &\n",
    "    Periodoconsiderado_2022 & \n",
    "    ZonaconsideradaPacífico &\n",
    "    AdmCat_Bioest]\n",
    "Ventas_zona_producto_cultivo_Coady_2022 = Ventas_zona_producto_cultivo[Ventas_zona_producto_cultivo['Trimestre'].isin(\n",
    "    T1) &\n",
    "    Periodoconsiderado_2022 & \n",
    "    ZonaconsideradaPacífico &\n",
    "    AdmCat_Coady]"
   ]
  },
  {
   "cell_type": "markdown",
   "id": "fc5e2b5d",
   "metadata": {},
   "source": [
    "# Utilidad total y desglose por categoría"
   ]
  },
  {
   "cell_type": "code",
   "execution_count": 315,
   "id": "27762798",
   "metadata": {},
   "outputs": [
    {
     "name": "stdout",
     "output_type": "stream",
     "text": [
      "$11.903 M\n"
     ]
    }
   ],
   "source": [
    "\n",
    "print ('${:,.3f} M'.format(Ventas_zona_producto_cultivo_2022['Utilidad'].sum()/1000000) )"
   ]
  },
  {
   "cell_type": "code",
   "execution_count": 316,
   "id": "ee074b80",
   "metadata": {},
   "outputs": [
    {
     "data": {
      "text/html": [
       "<style  type=\"text/css\" >\n",
       "#T_815cb_row0_col0{\n",
       "            width:  10em;\n",
       "             height:  80%;\n",
       "            background:  linear-gradient(90deg,red 72.4%, transparent 72.4%);\n",
       "        }#T_815cb_row1_col0{\n",
       "            width:  10em;\n",
       "             height:  80%;\n",
       "            background:  linear-gradient(90deg,red 100.0%, transparent 100.0%);\n",
       "        }#T_815cb_row2_col0{\n",
       "            width:  10em;\n",
       "             height:  80%;\n",
       "        }#T_815cb_row3_col0{\n",
       "            width:  10em;\n",
       "             height:  80%;\n",
       "            background:  linear-gradient(90deg,red 34.2%, transparent 34.2%);\n",
       "        }</style><table id=\"T_815cb_\" ><thead>    <tr>        <th class=\"blank level0\" ></th>        <th class=\"col_heading level0 col0\" >Utilidad $M</th>    </tr>    <tr>        <th class=\"index_name level0\" >Administracion de la categoria</th>        <th class=\"blank\" ></th>    </tr></thead><tbody>\n",
       "                <tr>\n",
       "                        <th id=\"T_815cb_level0_row0\" class=\"row_heading level0 row0\" >1 Cito</th>\n",
       "                        <td id=\"T_815cb_row0_col0\" class=\"data row0 col0\" >3.693531</td>\n",
       "            </tr>\n",
       "            <tr>\n",
       "                        <th id=\"T_815cb_level0_row1\" class=\"row_heading level0 row1\" >2 Raiz/ suelo</th>\n",
       "                        <td id=\"T_815cb_row1_col0\" class=\"data row1 col0\" >4.645453</td>\n",
       "            </tr>\n",
       "            <tr>\n",
       "                        <th id=\"T_815cb_level0_row2\" class=\"row_heading level0 row2\" >3 Bioestimulante</th>\n",
       "                        <td id=\"T_815cb_row2_col0\" class=\"data row2 col0\" >1.190742</td>\n",
       "            </tr>\n",
       "            <tr>\n",
       "                        <th id=\"T_815cb_level0_row3\" class=\"row_heading level0 row3\" >4 Coadyuvante</th>\n",
       "                        <td id=\"T_815cb_row3_col0\" class=\"data row3 col0\" >2.373257</td>\n",
       "            </tr>\n",
       "    </tbody></table>"
      ],
      "text/plain": [
       "<pandas.io.formats.style.Styler at 0x16baa4c3760>"
      ]
     },
     "metadata": {},
     "output_type": "display_data"
    }
   ],
   "source": [
    "Desgloseporhorizonte_ = Ventas_zona_producto_cultivo_2022.groupby(\n",
    "                                                ['Administracion de la categoria']\n",
    "                                        ).agg(\n",
    "                                                {'Utilidad $M': 'sum'}).style.bar(subset=['Utilidad $M'], color='red')\n",
    "display(Desgloseporhorizonte_)"
   ]
  },
  {
   "cell_type": "code",
   "execution_count": 317,
   "id": "884dbc9d",
   "metadata": {},
   "outputs": [
    {
     "data": {
      "text/html": [
       "<style  type=\"text/css\" >\n",
       "#T_be838_row0_col0{\n",
       "            width:  10em;\n",
       "             height:  80%;\n",
       "            background:  linear-gradient(90deg,red 100.0%, transparent 100.0%);\n",
       "        }#T_be838_row1_col0{\n",
       "            width:  10em;\n",
       "             height:  80%;\n",
       "        }#T_be838_row2_col0{\n",
       "            width:  10em;\n",
       "             height:  80%;\n",
       "            background:  linear-gradient(90deg,red 7.1%, transparent 7.1%);\n",
       "        }</style><table id=\"T_be838_\" ><thead>    <tr>        <th class=\"blank level0\" ></th>        <th class=\"col_heading level0 col0\" >Utilidad $M</th>    </tr>    <tr>        <th class=\"index_name level0\" >H1 o H2 o Resto</th>        <th class=\"blank\" ></th>    </tr></thead><tbody>\n",
       "                <tr>\n",
       "                        <th id=\"T_be838_level0_row0\" class=\"row_heading level0 row0\" >H1</th>\n",
       "                        <td id=\"T_be838_row0_col0\" class=\"data row0 col0\" >10.135096</td>\n",
       "            </tr>\n",
       "            <tr>\n",
       "                        <th id=\"T_be838_level0_row1\" class=\"row_heading level0 row1\" >H2</th>\n",
       "                        <td id=\"T_be838_row1_col0\" class=\"data row1 col0\" >0.542471</td>\n",
       "            </tr>\n",
       "            <tr>\n",
       "                        <th id=\"T_be838_level0_row2\" class=\"row_heading level0 row2\" >Resto</th>\n",
       "                        <td id=\"T_be838_row2_col0\" class=\"data row2 col0\" >1.225416</td>\n",
       "            </tr>\n",
       "    </tbody></table>"
      ],
      "text/plain": [
       "<pandas.io.formats.style.Styler at 0x16baa7448e0>"
      ]
     },
     "metadata": {},
     "output_type": "display_data"
    }
   ],
   "source": [
    "Desgloseporhorizonte_ = Ventas_zona_producto_cultivo_2022.groupby(\n",
    "                                                ['H1 o H2 o Resto']\n",
    "                                        ).agg(\n",
    "                                                {'Utilidad $M': 'sum'}).style.bar(subset=['Utilidad $M'], color='red')\n",
    "display(Desgloseporhorizonte_)"
   ]
  },
  {
   "cell_type": "code",
   "execution_count": 318,
   "id": "b1ff9ae4",
   "metadata": {},
   "outputs": [
    {
     "data": {
      "image/png": "[encoded data removed]",
      "text/plain": [
       "<Figure size 432x288 with 1 Axes>"
      ]
     },
     "metadata": {
      "needs_background": "light"
     },
     "output_type": "display_data"
    }
   ],
   "source": [
    "\n",
    "# Plan 2022 desglosado por cliente y categoría\n",
    "\n",
    "Utilidadporclienteycategoria = Ventas_zona_producto_cultivo_2022.groupby(\n",
    "                                                ['Administracion de la categoria','RM/ REIQ_Ranking']\n",
    "                                        ).agg(\n",
    "                                                {'Utilidad': 'sum'}).reset_index()\n",
    "Utilidadporclienteycategoria_ = Ventas_zona_producto_cultivo_2022.groupby(\n",
    "                                                ['Administracion de la categoria','RM/ REIQ_Ranking']\n",
    "                                        ).agg(\n",
    "                                                {'Utilidad': 'sum'})\n",
    "# Gráfica de barras\n",
    "pd.DataFrame(Utilidadporclienteycategoria_.unstack(level = 1)).plot.bar(stacked=True)\n",
    "plt.legend(loc='center left', bbox_to_anchor=(1.0, 0.5))\n",
    "plt.show()\n",
    "\n",
    "\n"
   ]
  },
  {
   "cell_type": "markdown",
   "id": "13431376",
   "metadata": {},
   "source": [
    "# Listado de top 15 clientes, categorías y cultivos"
   ]
  },
  {
   "cell_type": "code",
   "execution_count": 319,
   "id": "cf0bf143",
   "metadata": {},
   "outputs": [
    {
     "data": {
      "text/html": [
       "<div>\n",
       "<style scoped>\n",
       "    .dataframe tbody tr th:only-of-type {\n",
       "        vertical-align: middle;\n",
       "    }\n",
       "\n",
       "    .dataframe tbody tr th {\n",
       "        vertical-align: top;\n",
       "    }\n",
       "\n",
       "    .dataframe thead th {\n",
       "        text-align: right;\n",
       "    }\n",
       "</style>\n",
       "<table border=\"1\" class=\"dataframe\">\n",
       "  <thead>\n",
       "    <tr style=\"text-align: right;\">\n",
       "      <th></th>\n",
       "      <th></th>\n",
       "      <th></th>\n",
       "      <th>Utilidad $M</th>\n",
       "      <th>Volumen</th>\n",
       "    </tr>\n",
       "    <tr>\n",
       "      <th>Cultivo_Categoría</th>\n",
       "      <th>Administracion de la categoria</th>\n",
       "      <th>RM/ REIQ_Ranking</th>\n",
       "      <th></th>\n",
       "      <th></th>\n",
       "    </tr>\n",
       "  </thead>\n",
       "  <tbody>\n",
       "    <tr>\n",
       "      <th rowspan=\"4\" valign=\"top\">Berries</th>\n",
       "      <th>1 Cito</th>\n",
       "      <th>02 JF</th>\n",
       "      <td>1.923399</td>\n",
       "      <td>6469.2800</td>\n",
       "    </tr>\n",
       "    <tr>\n",
       "      <th rowspan=\"2\" valign=\"top\">2 Raiz/ suelo</th>\n",
       "      <th>06 AACSA</th>\n",
       "      <td>1.235525</td>\n",
       "      <td>11792.0000</td>\n",
       "    </tr>\n",
       "    <tr>\n",
       "      <th>02 JF</th>\n",
       "      <td>1.206407</td>\n",
       "      <td>11521.5000</td>\n",
       "    </tr>\n",
       "    <tr>\n",
       "      <th>4 Coadyuvante</th>\n",
       "      <th>02 JF</th>\n",
       "      <td>1.058350</td>\n",
       "      <td>26274.0792</td>\n",
       "    </tr>\n",
       "    <tr>\n",
       "      <th rowspan=\"4\" valign=\"top\">Frutales siempre verdes</th>\n",
       "      <th>2 Raiz/ suelo</th>\n",
       "      <th>06 AACSA</th>\n",
       "      <td>0.726389</td>\n",
       "      <td>7671.0000</td>\n",
       "    </tr>\n",
       "    <tr>\n",
       "      <th>1 Cito</th>\n",
       "      <th>06 AACSA</th>\n",
       "      <td>0.711099</td>\n",
       "      <td>2355.0000</td>\n",
       "    </tr>\n",
       "    <tr>\n",
       "      <th>2 Raiz/ suelo</th>\n",
       "      <th>02 JF</th>\n",
       "      <td>0.649305</td>\n",
       "      <td>8445.0000</td>\n",
       "    </tr>\n",
       "    <tr>\n",
       "      <th>4 Coadyuvante</th>\n",
       "      <th>02 JF</th>\n",
       "      <td>0.585032</td>\n",
       "      <td>14823.0000</td>\n",
       "    </tr>\n",
       "    <tr>\n",
       "      <th>Hortalizas</th>\n",
       "      <th>2 Raiz/ suelo</th>\n",
       "      <th>06 AACSA</th>\n",
       "      <td>0.535417</td>\n",
       "      <td>4878.0000</td>\n",
       "    </tr>\n",
       "    <tr>\n",
       "      <th>Berries</th>\n",
       "      <th>1 Cito</th>\n",
       "      <th>06 AACSA</th>\n",
       "      <td>0.493693</td>\n",
       "      <td>1635.0000</td>\n",
       "    </tr>\n",
       "  </tbody>\n",
       "</table>\n",
       "</div>"
      ],
      "text/plain": [
       "                                                                         Utilidad $M  \\\n",
       "Cultivo_Categoría       Administracion de la categoria RM/ REIQ_Ranking                \n",
       "Berries                 1 Cito                         02 JF                1.923399   \n",
       "                        2 Raiz/ suelo                  06 AACSA             1.235525   \n",
       "                                                       02 JF                1.206407   \n",
       "                        4 Coadyuvante                  02 JF                1.058350   \n",
       "Frutales siempre verdes 2 Raiz/ suelo                  06 AACSA             0.726389   \n",
       "                        1 Cito                         06 AACSA             0.711099   \n",
       "                        2 Raiz/ suelo                  02 JF                0.649305   \n",
       "                        4 Coadyuvante                  02 JF                0.585032   \n",
       "Hortalizas              2 Raiz/ suelo                  06 AACSA             0.535417   \n",
       "Berries                 1 Cito                         06 AACSA             0.493693   \n",
       "\n",
       "                                                                            Volumen  \n",
       "Cultivo_Categoría       Administracion de la categoria RM/ REIQ_Ranking              \n",
       "Berries                 1 Cito                         02 JF              6469.2800  \n",
       "                        2 Raiz/ suelo                  06 AACSA          11792.0000  \n",
       "                                                       02 JF             11521.5000  \n",
       "                        4 Coadyuvante                  02 JF             26274.0792  \n",
       "Frutales siempre verdes 2 Raiz/ suelo                  06 AACSA           7671.0000  \n",
       "                        1 Cito                         06 AACSA           2355.0000  \n",
       "                        2 Raiz/ suelo                  02 JF              8445.0000  \n",
       "                        4 Coadyuvante                  02 JF             14823.0000  \n",
       "Hortalizas              2 Raiz/ suelo                  06 AACSA           4878.0000  \n",
       "Berries                 1 Cito                         06 AACSA           1635.0000  "
      ]
     },
     "execution_count": 319,
     "metadata": {},
     "output_type": "execute_result"
    }
   ],
   "source": [
    "Detalle2022_ = Ventas_zona_producto_cultivo_2022.groupby(\n",
    "                                                                ['Cultivo_Categoría','Administracion de la categoria','RM/ REIQ_Ranking']\n",
    "                                                                ).agg(\n",
    "                                                                {'Utilidad $M': 'sum', 'Volumen' : 'sum'})\n",
    "Detalle2022_sorted_ = Detalle2022_.sort_values(by=['Utilidad $M'],ascending=False)\n",
    "Detalle2022_sorted_.head(10)\n"
   ]
  },
  {
   "cell_type": "markdown",
   "id": "4e7fb1ea",
   "metadata": {},
   "source": [
    "# Suma de utilidad de top 15 clientes, categorías y cultivos"
   ]
  },
  {
   "cell_type": "code",
   "execution_count": 320,
   "id": "1c38d157",
   "metadata": {},
   "outputs": [
    {
     "name": "stdout",
     "output_type": "stream",
     "text": [
      "$9.125 M\n"
     ]
    }
   ],
   "source": [
    "print('${:,.3f} M'.format(Detalle2022_sorted_['Utilidad $M'].head(10).sum()))"
   ]
  },
  {
   "cell_type": "markdown",
   "id": "28023422",
   "metadata": {},
   "source": [
    "# Cito, 2022"
   ]
  },
  {
   "cell_type": "code",
   "execution_count": 321,
   "id": "b172ec1a",
   "metadata": {},
   "outputs": [],
   "source": [
    "#¿Cuánto representa Cito en valor y respecto a la utilidad total?"
   ]
  },
  {
   "cell_type": "code",
   "execution_count": 322,
   "id": "ec1baf07",
   "metadata": {},
   "outputs": [
    {
     "name": "stdout",
     "output_type": "stream",
     "text": [
      "$3.694 M\n",
      "%31.0 \n"
     ]
    }
   ],
   "source": [
    "print ('${:,.3f} M'.format(\n",
    "                            Ventas_zona_producto_cultivo_Cito_2022['Utilidad'].sum()\n",
    "                            /1000000)\n",
    "      )\n",
    "print ('%{:,.1f} '.format(\n",
    "                            Ventas_zona_producto_cultivo_Cito_2022['Utilidad'].sum()*100/\n",
    "                            Ventas_zona_producto_cultivo_2022['Utilidad'].sum()) )"
   ]
  },
  {
   "cell_type": "code",
   "execution_count": 323,
   "id": "a6a37907",
   "metadata": {},
   "outputs": [
    {
     "data": {
      "image/png": "[encoded data removed]",
      "text/plain": [
       "<Figure size 432x288 with 1 Axes>"
      ]
     },
     "metadata": {
      "needs_background": "light"
     },
     "output_type": "display_data"
    }
   ],
   "source": [
    "\n",
    "# Cito 2022 desglosado por cliente y cultivo\n",
    "Utilidadporclienteycultivo = Ventas_zona_producto_cultivo_Cito_2022.groupby(\n",
    "                                                                            ['RM/ REIQ_Ranking','Cultivo_ranking']\n",
    "                                                                            ).agg(\n",
    "                                                                            {'Utilidad': 'sum'}).reset_index()\n",
    "Utilidadporclienteycultivo_ = Ventas_zona_producto_cultivo_Cito_2022.groupby(\n",
    "                                                                            ['RM/ REIQ_Ranking','Cultivo_ranking']\n",
    "                                                                            ).agg(\n",
    "                                                                            {'Utilidad': 'sum'})\n",
    "# Gráfica de barras\n",
    "Utilidadporclienteycultivo_df = pd.DataFrame(Utilidadporclienteycultivo_.unstack(level = 1))\n",
    "Utilidadporclienteycultivo_df.plot.bar(stacked=True)\n",
    "plt.legend(loc='center left', bbox_to_anchor=(1.0, 0.5))\n",
    "plt.show()\n"
   ]
  },
  {
   "cell_type": "markdown",
   "id": "20799158",
   "metadata": {},
   "source": [
    "# Listado de top 10 clientes y cultivos (Cito)"
   ]
  },
  {
   "cell_type": "code",
   "execution_count": 324,
   "id": "66e3ba74",
   "metadata": {},
   "outputs": [
    {
     "data": {
      "text/html": [
       "<div>\n",
       "<style scoped>\n",
       "    .dataframe tbody tr th:only-of-type {\n",
       "        vertical-align: middle;\n",
       "    }\n",
       "\n",
       "    .dataframe tbody tr th {\n",
       "        vertical-align: top;\n",
       "    }\n",
       "\n",
       "    .dataframe thead th {\n",
       "        text-align: right;\n",
       "    }\n",
       "</style>\n",
       "<table border=\"1\" class=\"dataframe\">\n",
       "  <thead>\n",
       "    <tr style=\"text-align: right;\">\n",
       "      <th></th>\n",
       "      <th></th>\n",
       "      <th>Utilidad $M</th>\n",
       "      <th>Volumen</th>\n",
       "    </tr>\n",
       "    <tr>\n",
       "      <th>Cultivo_Categoría</th>\n",
       "      <th>RM/ REIQ_Ranking</th>\n",
       "      <th></th>\n",
       "      <th></th>\n",
       "    </tr>\n",
       "  </thead>\n",
       "  <tbody>\n",
       "    <tr>\n",
       "      <th>Berries</th>\n",
       "      <th>02 JF</th>\n",
       "      <td>1.923399</td>\n",
       "      <td>6469.28</td>\n",
       "    </tr>\n",
       "    <tr>\n",
       "      <th>Frutales siempre verdes</th>\n",
       "      <th>06 AACSA</th>\n",
       "      <td>0.711099</td>\n",
       "      <td>2355.00</td>\n",
       "    </tr>\n",
       "    <tr>\n",
       "      <th>Berries</th>\n",
       "      <th>06 AACSA</th>\n",
       "      <td>0.493693</td>\n",
       "      <td>1635.00</td>\n",
       "    </tr>\n",
       "    <tr>\n",
       "      <th>Hortalizas</th>\n",
       "      <th>29 Agroxal</th>\n",
       "      <td>0.238663</td>\n",
       "      <td>790.40</td>\n",
       "    </tr>\n",
       "    <tr>\n",
       "      <th>Frutales siempre verdes</th>\n",
       "      <th>02 JF</th>\n",
       "      <td>0.224768</td>\n",
       "      <td>756.00</td>\n",
       "    </tr>\n",
       "  </tbody>\n",
       "</table>\n",
       "</div>"
      ],
      "text/plain": [
       "                                          Utilidad $M  Volumen\n",
       "Cultivo_Categoría       RM/ REIQ_Ranking                      \n",
       "Berries                 02 JF                1.923399  6469.28\n",
       "Frutales siempre verdes 06 AACSA             0.711099  2355.00\n",
       "Berries                 06 AACSA             0.493693  1635.00\n",
       "Hortalizas              29 Agroxal           0.238663   790.40\n",
       "Frutales siempre verdes 02 JF                0.224768   756.00"
      ]
     },
     "execution_count": 324,
     "metadata": {},
     "output_type": "execute_result"
    }
   ],
   "source": [
    "DetalleCito2022_ = Ventas_zona_producto_cultivo_Cito_2022.groupby(\n",
    "                                                                ['Cultivo_Categoría','RM/ REIQ_Ranking']\n",
    "                                                                ).agg(\n",
    "                                                                {'Utilidad $M': 'sum', 'Volumen' : 'sum'})\n",
    "DetalleCito2022_sorted_ = DetalleCito2022_.sort_values(by=['Utilidad $M'],ascending=False)\n",
    "DetalleCito2022_sorted_.head(5)"
   ]
  },
  {
   "cell_type": "code",
   "execution_count": 325,
   "id": "d4a7c4b7",
   "metadata": {},
   "outputs": [
    {
     "name": "stdout",
     "output_type": "stream",
     "text": [
      "$3.592 M\n"
     ]
    }
   ],
   "source": [
    "print('${:,.3f} M'.format(DetalleCito2022_sorted_['Utilidad $M'].head(5).sum()))"
   ]
  },
  {
   "cell_type": "markdown",
   "id": "0af7ea6a",
   "metadata": {},
   "source": [
    "# Raíz/ Suelo, 2022"
   ]
  },
  {
   "cell_type": "code",
   "execution_count": 326,
   "id": "43ef131c",
   "metadata": {},
   "outputs": [
    {
     "name": "stdout",
     "output_type": "stream",
     "text": [
      "$4.645 M\n",
      "%39.0 \n"
     ]
    }
   ],
   "source": [
    "\n",
    "print ('${:,.3f} M'.format(\n",
    "                            Ventas_zona_producto_cultivo_Suelo_2022['Utilidad'].sum()\n",
    "                            /1000000)\n",
    "      )\n",
    "print ('%{:,.1f} '.format(\n",
    "                            Ventas_zona_producto_cultivo_Suelo_2022['Utilidad'].sum()*100/\n",
    "                            Ventas_zona_producto_cultivo_2022['Utilidad'].sum()) )"
   ]
  },
  {
   "cell_type": "code",
   "execution_count": 327,
   "id": "df72175a",
   "metadata": {},
   "outputs": [
    {
     "data": {
      "image/png": "[encoded data removed]",
      "text/plain": [
       "<Figure size 432x288 with 1 Axes>"
      ]
     },
     "metadata": {
      "needs_background": "light"
     },
     "output_type": "display_data"
    }
   ],
   "source": [
    "# Suelo 2022 desglosado por cliente y cultivo\n",
    "UtilidadporclienteycultivoSuelo = Ventas_zona_producto_cultivo_Suelo_2022.groupby(\n",
    "                                                                            ['RM/ REIQ_Ranking','Cultivo_ranking']\n",
    "                                                                            ).agg(\n",
    "                                                                            {'Utilidad': 'sum'}).reset_index()\n",
    "UtilidadporclienteycultivoSuelo_ = Ventas_zona_producto_cultivo_Suelo_2022.groupby(\n",
    "                                                                            ['RM/ REIQ_Ranking','Cultivo_ranking']\n",
    "                                                                            ).agg(\n",
    "                                                                            {'Utilidad': 'sum'})\n",
    "# Gráfica de barras\n",
    "UtilidadporclienteycultivoSuelo_df = pd.DataFrame(UtilidadporclienteycultivoSuelo_.unstack(level = 1))\n",
    "UtilidadporclienteycultivoSuelo_df.plot.bar(stacked=True)\n",
    "plt.legend(loc='center left', bbox_to_anchor=(1.0, 0.5))\n",
    "plt.show()\n"
   ]
  },
  {
   "cell_type": "markdown",
   "id": "95bd0153",
   "metadata": {},
   "source": [
    "# Top 10 "
   ]
  },
  {
   "cell_type": "code",
   "execution_count": 328,
   "id": "1149227d",
   "metadata": {},
   "outputs": [
    {
     "data": {
      "text/html": [
       "<div>\n",
       "<style scoped>\n",
       "    .dataframe tbody tr th:only-of-type {\n",
       "        vertical-align: middle;\n",
       "    }\n",
       "\n",
       "    .dataframe tbody tr th {\n",
       "        vertical-align: top;\n",
       "    }\n",
       "\n",
       "    .dataframe thead th {\n",
       "        text-align: right;\n",
       "    }\n",
       "</style>\n",
       "<table border=\"1\" class=\"dataframe\">\n",
       "  <thead>\n",
       "    <tr style=\"text-align: right;\">\n",
       "      <th></th>\n",
       "      <th></th>\n",
       "      <th>Utilidad $M</th>\n",
       "      <th>Volumen</th>\n",
       "    </tr>\n",
       "    <tr>\n",
       "      <th>Cultivo_Categoría</th>\n",
       "      <th>RM/ REIQ_Ranking</th>\n",
       "      <th></th>\n",
       "      <th></th>\n",
       "    </tr>\n",
       "  </thead>\n",
       "  <tbody>\n",
       "    <tr>\n",
       "      <th rowspan=\"2\" valign=\"top\">Berries</th>\n",
       "      <th>06 AACSA</th>\n",
       "      <td>1.235525</td>\n",
       "      <td>11792.0</td>\n",
       "    </tr>\n",
       "    <tr>\n",
       "      <th>02 JF</th>\n",
       "      <td>1.206407</td>\n",
       "      <td>11521.5</td>\n",
       "    </tr>\n",
       "    <tr>\n",
       "      <th rowspan=\"2\" valign=\"top\">Frutales siempre verdes</th>\n",
       "      <th>06 AACSA</th>\n",
       "      <td>0.726389</td>\n",
       "      <td>7671.0</td>\n",
       "    </tr>\n",
       "    <tr>\n",
       "      <th>02 JF</th>\n",
       "      <td>0.649305</td>\n",
       "      <td>8445.0</td>\n",
       "    </tr>\n",
       "    <tr>\n",
       "      <th rowspan=\"2\" valign=\"top\">Hortalizas</th>\n",
       "      <th>06 AACSA</th>\n",
       "      <td>0.535417</td>\n",
       "      <td>4878.0</td>\n",
       "    </tr>\n",
       "    <tr>\n",
       "      <th>29 Agroxal</th>\n",
       "      <td>0.149810</td>\n",
       "      <td>1345.2</td>\n",
       "    </tr>\n",
       "    <tr>\n",
       "      <th>Industriales</th>\n",
       "      <th>06 AACSA</th>\n",
       "      <td>0.142600</td>\n",
       "      <td>3000.0</td>\n",
       "    </tr>\n",
       "  </tbody>\n",
       "</table>\n",
       "</div>"
      ],
      "text/plain": [
       "                                          Utilidad $M  Volumen\n",
       "Cultivo_Categoría       RM/ REIQ_Ranking                      \n",
       "Berries                 06 AACSA             1.235525  11792.0\n",
       "                        02 JF                1.206407  11521.5\n",
       "Frutales siempre verdes 06 AACSA             0.726389   7671.0\n",
       "                        02 JF                0.649305   8445.0\n",
       "Hortalizas              06 AACSA             0.535417   4878.0\n",
       "                        29 Agroxal           0.149810   1345.2\n",
       "Industriales            06 AACSA             0.142600   3000.0"
      ]
     },
     "execution_count": 328,
     "metadata": {},
     "output_type": "execute_result"
    }
   ],
   "source": [
    "DetalleSuelo2022 = Ventas_zona_producto_cultivo_Suelo_2022.groupby(\n",
    "                                                                ['Cultivo_Categoría','RM/ REIQ_Ranking']\n",
    "                                                                ).agg(\n",
    "                                                                {'Utilidad $M': 'sum', 'Volumen' : 'sum'})\n",
    "DetalleSuelo2022_sorted = DetalleSuelo2022.sort_values(by=['Utilidad $M'],ascending=False)\n",
    "DetalleSuelo2022_sorted.head(10)"
   ]
  },
  {
   "cell_type": "code",
   "execution_count": 329,
   "id": "2f197164",
   "metadata": {},
   "outputs": [
    {
     "name": "stdout",
     "output_type": "stream",
     "text": [
      "$4.645 M\n"
     ]
    }
   ],
   "source": [
    "print('${:,.3f} M'.format(DetalleSuelo2022_sorted['Utilidad $M'].head(10).sum()))"
   ]
  },
  {
   "cell_type": "markdown",
   "id": "ffd5dd47",
   "metadata": {},
   "source": [
    "# Bioestimulante, 2022"
   ]
  },
  {
   "cell_type": "code",
   "execution_count": 330,
   "id": "86992028",
   "metadata": {},
   "outputs": [
    {
     "name": "stdout",
     "output_type": "stream",
     "text": [
      "$1.191 M\n",
      "%10.0 \n"
     ]
    }
   ],
   "source": [
    "print ('${:,.3f} M'.format(\n",
    "                            Ventas_zona_producto_cultivo_Bioest_2022['Utilidad'].sum()\n",
    "                            /1000000)\n",
    "      )\n",
    "print ('%{:,.1f} '.format(\n",
    "                            Ventas_zona_producto_cultivo_Bioest_2022['Utilidad'].sum()*100/\n",
    "                            Ventas_zona_producto_cultivo_2022['Utilidad'].sum()) )\n",
    "\n"
   ]
  },
  {
   "cell_type": "code",
   "execution_count": 331,
   "id": "ca8695a8",
   "metadata": {},
   "outputs": [
    {
     "data": {
      "image/png": "[encoded data removed]",
      "text/plain": [
       "<Figure size 432x288 with 1 Axes>"
      ]
     },
     "metadata": {
      "needs_background": "light"
     },
     "output_type": "display_data"
    }
   ],
   "source": [
    "# Bioest 2022 desglosado por cliente y cultivo\n",
    "UtilidadporclienteycultivoBioest = Ventas_zona_producto_cultivo_Bioest_2022.groupby(\n",
    "                                                                            ['RM/ REIQ_Ranking','Cultivo_ranking']\n",
    "                                                                            ).agg(\n",
    "                                                                            {'Utilidad': 'sum'}).reset_index()\n",
    "UtilidadporclienteycultivoBioest_ = Ventas_zona_producto_cultivo_Bioest_2022.groupby(\n",
    "                                                                            ['RM/ REIQ_Ranking','Cultivo_ranking']\n",
    "                                                                            ).agg(\n",
    "                                                                            {'Utilidad': 'sum'})\n",
    "# Gráfica de barras\n",
    "UtilidadporclienteycultivoBioest_df = pd.DataFrame(UtilidadporclienteycultivoBioest_.unstack(level = 1))\n",
    "UtilidadporclienteycultivoBioest_df.plot.bar(stacked=True)\n",
    "plt.legend(loc='center left', bbox_to_anchor=(1.0, 0.5))\n",
    "plt.show()\n"
   ]
  },
  {
   "cell_type": "markdown",
   "id": "e4b3901e",
   "metadata": {},
   "source": [
    "# Top 10 "
   ]
  },
  {
   "cell_type": "code",
   "execution_count": 332,
   "id": "dc09b9f7",
   "metadata": {},
   "outputs": [
    {
     "data": {
      "text/html": [
       "<div>\n",
       "<style scoped>\n",
       "    .dataframe tbody tr th:only-of-type {\n",
       "        vertical-align: middle;\n",
       "    }\n",
       "\n",
       "    .dataframe tbody tr th {\n",
       "        vertical-align: top;\n",
       "    }\n",
       "\n",
       "    .dataframe thead th {\n",
       "        text-align: right;\n",
       "    }\n",
       "</style>\n",
       "<table border=\"1\" class=\"dataframe\">\n",
       "  <thead>\n",
       "    <tr style=\"text-align: right;\">\n",
       "      <th></th>\n",
       "      <th></th>\n",
       "      <th>Utilidad $M</th>\n",
       "      <th>Volumen</th>\n",
       "    </tr>\n",
       "    <tr>\n",
       "      <th>Cultivo_Categoría</th>\n",
       "      <th>RM/ REIQ_Ranking</th>\n",
       "      <th></th>\n",
       "      <th></th>\n",
       "    </tr>\n",
       "  </thead>\n",
       "  <tbody>\n",
       "    <tr>\n",
       "      <th>Frutales siempre verdes</th>\n",
       "      <th>02 JF</th>\n",
       "      <td>0.458133</td>\n",
       "      <td>4856.80</td>\n",
       "    </tr>\n",
       "    <tr>\n",
       "      <th>Berries</th>\n",
       "      <th>02 JF</th>\n",
       "      <td>0.230791</td>\n",
       "      <td>2748.25</td>\n",
       "    </tr>\n",
       "    <tr>\n",
       "      <th>Frutales siempre verdes</th>\n",
       "      <th>06 AACSA</th>\n",
       "      <td>0.164611</td>\n",
       "      <td>2347.50</td>\n",
       "    </tr>\n",
       "    <tr>\n",
       "      <th>Hortalizas</th>\n",
       "      <th>29 Agroxal</th>\n",
       "      <td>0.164464</td>\n",
       "      <td>1368.00</td>\n",
       "    </tr>\n",
       "    <tr>\n",
       "      <th>Industriales</th>\n",
       "      <th>06 AACSA</th>\n",
       "      <td>0.117594</td>\n",
       "      <td>2250.00</td>\n",
       "    </tr>\n",
       "    <tr>\n",
       "      <th>Hortalizas</th>\n",
       "      <th>06 AACSA</th>\n",
       "      <td>0.029165</td>\n",
       "      <td>455.00</td>\n",
       "    </tr>\n",
       "    <tr>\n",
       "      <th>Berries</th>\n",
       "      <th>06 AACSA</th>\n",
       "      <td>0.025984</td>\n",
       "      <td>350.00</td>\n",
       "    </tr>\n",
       "  </tbody>\n",
       "</table>\n",
       "</div>"
      ],
      "text/plain": [
       "                                          Utilidad $M  Volumen\n",
       "Cultivo_Categoría       RM/ REIQ_Ranking                      \n",
       "Frutales siempre verdes 02 JF                0.458133  4856.80\n",
       "Berries                 02 JF                0.230791  2748.25\n",
       "Frutales siempre verdes 06 AACSA             0.164611  2347.50\n",
       "Hortalizas              29 Agroxal           0.164464  1368.00\n",
       "Industriales            06 AACSA             0.117594  2250.00\n",
       "Hortalizas              06 AACSA             0.029165   455.00\n",
       "Berries                 06 AACSA             0.025984   350.00"
      ]
     },
     "execution_count": 332,
     "metadata": {},
     "output_type": "execute_result"
    }
   ],
   "source": [
    "DetalleBioest2022 = Ventas_zona_producto_cultivo_Bioest_2022.groupby(\n",
    "                                                                ['Cultivo_Categoría','RM/ REIQ_Ranking']\n",
    "                                                                ).agg(\n",
    "                                                                {'Utilidad $M': 'sum', 'Volumen' : 'sum'})\n",
    "DetalleBioest2022_sorted = DetalleBioest2022.sort_values(by=['Utilidad $M'],ascending=False)\n",
    "DetalleBioest2022_sorted.head(10)"
   ]
  },
  {
   "cell_type": "code",
   "execution_count": 333,
   "id": "d610e937",
   "metadata": {},
   "outputs": [
    {
     "name": "stdout",
     "output_type": "stream",
     "text": [
      "$1.191 M\n"
     ]
    }
   ],
   "source": [
    "print('${:,.3f} M'.format(DetalleBioest2022_sorted['Utilidad $M'].head(10).sum()))"
   ]
  },
  {
   "cell_type": "markdown",
   "id": "fb253c42",
   "metadata": {},
   "source": [
    "# Coady 2022"
   ]
  },
  {
   "cell_type": "code",
   "execution_count": 334,
   "id": "4774ca81",
   "metadata": {},
   "outputs": [
    {
     "name": "stdout",
     "output_type": "stream",
     "text": [
      "$2.373 M\n",
      "%19.9 \n"
     ]
    }
   ],
   "source": [
    "print ('${:,.3f} M'.format(\n",
    "                            Ventas_zona_producto_cultivo_Coady_2022['Utilidad'].sum()\n",
    "                            /1000000)\n",
    "      )\n",
    "print ('%{:,.1f} '.format(\n",
    "                            Ventas_zona_producto_cultivo_Coady_2022['Utilidad'].sum()*100/\n",
    "                            Ventas_zona_producto_cultivo_2022['Utilidad'].sum()) )\n"
   ]
  },
  {
   "cell_type": "code",
   "execution_count": 335,
   "id": "ae088900",
   "metadata": {},
   "outputs": [
    {
     "data": {
      "image/png": "[encoded data removed]",
      "text/plain": [
       "<Figure size 432x288 with 1 Axes>"
      ]
     },
     "metadata": {
      "needs_background": "light"
     },
     "output_type": "display_data"
    }
   ],
   "source": [
    "# Bioest 2022 desglosado por cliente y cultivo\n",
    "UtilidadporclienteycultivoCoady = Ventas_zona_producto_cultivo_Coady_2022.groupby(\n",
    "                                                                            ['RM/ REIQ_Ranking','Cultivo_ranking']\n",
    "                                                                            ).agg(\n",
    "                                                                            {'Utilidad': 'sum'}).reset_index()\n",
    "UtilidadporclienteycultivoCoady_ = Ventas_zona_producto_cultivo_Coady_2022.groupby(\n",
    "                                                                            ['RM/ REIQ_Ranking','Cultivo_ranking']\n",
    "                                                                            ).agg(\n",
    "                                                                            {'Utilidad': 'sum'})\n",
    "# Gráfica de barras\n",
    "UtilidadporclienteycultivoCoady_df = pd.DataFrame(UtilidadporclienteycultivoCoady_.unstack(level = 1))\n",
    "UtilidadporclienteycultivoCoady_df.plot.bar(stacked=True)\n",
    "plt.legend(loc='center left', bbox_to_anchor=(1.0, 0.5))\n",
    "plt.show()"
   ]
  },
  {
   "cell_type": "markdown",
   "id": "df15d2ba",
   "metadata": {},
   "source": [
    "# Anexo: Resumen por cliente y horizonte"
   ]
  },
  {
   "cell_type": "code",
   "execution_count": 336,
   "id": "f990aad6",
   "metadata": {},
   "outputs": [
    {
     "data": {
      "image/png": "[encoded data removed]",
      "text/plain": [
       "<Figure size 432x288 with 1 Axes>"
      ]
     },
     "metadata": {
      "needs_background": "light"
     },
     "output_type": "display_data"
    }
   ],
   "source": [
    "# Plan 2022 desglosado por cliente y horizonte\n",
    "\n",
    "Utilidadporclienteyhorizonte_ = Ventas_zona_producto_cultivo_2022.groupby(\n",
    "                                                ['H1 o H2 o Resto','RM/ REIQ_Ranking']\n",
    "                                        ).agg(\n",
    "                                                {'Utilidad': 'sum'})\n",
    "# Gráfica de barras\n",
    "pd.DataFrame(Utilidadporclienteyhorizonte_.unstack(level = 1)).plot.bar(stacked=True)\n",
    "plt.legend(loc='center left', bbox_to_anchor=(1.0, 0.5))\n",
    "plt.show()\n",
    "\n"
   ]
  },
  {
   "cell_type": "markdown",
   "id": "986e94c2",
   "metadata": {},
   "source": [
    "#  Anexo: Resumen por producto"
   ]
  },
  {
   "cell_type": "code",
   "execution_count": 337,
   "id": "30313453",
   "metadata": {},
   "outputs": [
    {
     "data": {
      "text/html": [
       "<style  type=\"text/css\" >\n",
       "#T_0d50b_row0_col0{\n",
       "            width:  10em;\n",
       "             height:  80%;\n",
       "            background:  linear-gradient(90deg,red 94.5%, transparent 94.5%);\n",
       "        }#T_0d50b_row1_col0{\n",
       "            width:  10em;\n",
       "             height:  80%;\n",
       "            background:  linear-gradient(90deg,red 100.0%, transparent 100.0%);\n",
       "        }#T_0d50b_row2_col0{\n",
       "            width:  10em;\n",
       "             height:  80%;\n",
       "            background:  linear-gradient(90deg,red 1.8%, transparent 1.8%);\n",
       "        }#T_0d50b_row3_col0{\n",
       "            width:  10em;\n",
       "             height:  80%;\n",
       "        }#T_0d50b_row4_col0{\n",
       "            width:  10em;\n",
       "             height:  80%;\n",
       "            background:  linear-gradient(90deg,red 8.3%, transparent 8.3%);\n",
       "        }#T_0d50b_row5_col0{\n",
       "            width:  10em;\n",
       "             height:  80%;\n",
       "            background:  linear-gradient(90deg,red 8.4%, transparent 8.4%);\n",
       "        }#T_0d50b_row6_col0{\n",
       "            width:  10em;\n",
       "             height:  80%;\n",
       "            background:  linear-gradient(90deg,red 8.0%, transparent 8.0%);\n",
       "        }#T_0d50b_row7_col0{\n",
       "            width:  10em;\n",
       "             height:  80%;\n",
       "            background:  linear-gradient(90deg,red 5.5%, transparent 5.5%);\n",
       "        }#T_0d50b_row8_col0{\n",
       "            width:  10em;\n",
       "             height:  80%;\n",
       "            background:  linear-gradient(90deg,red 38.3%, transparent 38.3%);\n",
       "        }#T_0d50b_row9_col0{\n",
       "            width:  10em;\n",
       "             height:  80%;\n",
       "            background:  linear-gradient(90deg,red 5.9%, transparent 5.9%);\n",
       "        }#T_0d50b_row10_col0{\n",
       "            width:  10em;\n",
       "             height:  80%;\n",
       "            background:  linear-gradient(90deg,red 9.0%, transparent 9.0%);\n",
       "        }</style><table id=\"T_0d50b_\" ><thead>    <tr>        <th class=\"blank\" ></th>        <th class=\"blank\" ></th>        <th class=\"blank level0\" ></th>        <th class=\"col_heading level0 col0\" >Utilidad $M</th>    </tr>    <tr>        <th class=\"index_name level0\" >Administracion de la categoria</th>        <th class=\"index_name level1\" >H1 o H2 o Resto</th>        <th class=\"index_name level2\" >Producto_Ranking</th>        <th class=\"blank\" ></th>    </tr></thead><tbody>\n",
       "                <tr>\n",
       "                        <th id=\"T_0d50b_level0_row0\" class=\"row_heading level0 row0\" >1 Cito</th>\n",
       "                        <th id=\"T_0d50b_level1_row0\" class=\"row_heading level1 row0\" >H1</th>\n",
       "                        <th id=\"T_0d50b_level2_row0\" class=\"row_heading level2 row0\" >01 Agromil Plus ReactMaxx</th>\n",
       "                        <td id=\"T_0d50b_row0_col0\" class=\"data row0 col0\" >3.693531</td>\n",
       "            </tr>\n",
       "            <tr>\n",
       "                        <th id=\"T_0d50b_level0_row1\" class=\"row_heading level0 row1\" rowspan=\"4\">2 Raiz/ suelo</th>\n",
       "                        <th id=\"T_0d50b_level1_row1\" class=\"row_heading level1 row1\" rowspan=\"2\">H1</th>\n",
       "                        <th id=\"T_0d50b_level2_row1\" class=\"row_heading level2 row1\" >02 Rooting SmartSelect</th>\n",
       "                        <td id=\"T_0d50b_row1_col0\" class=\"data row1 col0\" >3.901499</td>\n",
       "            </tr>\n",
       "            <tr>\n",
       "                                        <th id=\"T_0d50b_level2_row2\" class=\"row_heading level2 row2\" >07 Rooting AdStrong</th>\n",
       "                        <td id=\"T_0d50b_row2_col0\" class=\"data row2 col0\" >0.188865</td>\n",
       "            </tr>\n",
       "            <tr>\n",
       "                                <th id=\"T_0d50b_level1_row3\" class=\"row_heading level1 row3\" >H2</th>\n",
       "                        <th id=\"T_0d50b_level2_row3\" class=\"row_heading level2 row3\" >17 Querkus SmartSelect</th>\n",
       "                        <td id=\"T_0d50b_row3_col0\" class=\"data row3 col0\" >0.120650</td>\n",
       "            </tr>\n",
       "            <tr>\n",
       "                                <th id=\"T_0d50b_level1_row4\" class=\"row_heading level1 row4\" >Resto</th>\n",
       "                        <th id=\"T_0d50b_level2_row4\" class=\"row_heading level2 row4\" >13 Rooting G</th>\n",
       "                        <td id=\"T_0d50b_row4_col0\" class=\"data row4 col0\" >0.434439</td>\n",
       "            </tr>\n",
       "            <tr>\n",
       "                        <th id=\"T_0d50b_level0_row5\" class=\"row_heading level0 row5\" rowspan=\"3\">3 Bioestimulante</th>\n",
       "                        <th id=\"T_0d50b_level1_row5\" class=\"row_heading level1 row5\" >H1</th>\n",
       "                        <th id=\"T_0d50b_level2_row5\" class=\"row_heading level2 row5\" >11 Agromil 5 AdStrong</th>\n",
       "                        <td id=\"T_0d50b_row5_col0\" class=\"data row5 col0\" >0.438815</td>\n",
       "            </tr>\n",
       "            <tr>\n",
       "                                <th id=\"T_0d50b_level1_row6\" class=\"row_heading level1 row6\" >H2</th>\n",
       "                        <th id=\"T_0d50b_level2_row6\" class=\"row_heading level2 row6\" >05 Jun�perus StressOff</th>\n",
       "                        <td id=\"T_0d50b_row6_col0\" class=\"data row6 col0\" >0.421822</td>\n",
       "            </tr>\n",
       "            <tr>\n",
       "                                <th id=\"T_0d50b_level1_row7\" class=\"row_heading level1 row7\" >Resto</th>\n",
       "                        <th id=\"T_0d50b_level2_row7\" class=\"row_heading level2 row7\" >04 Agromil V</th>\n",
       "                        <td id=\"T_0d50b_row7_col0\" class=\"data row7 col0\" >0.330105</td>\n",
       "            </tr>\n",
       "            <tr>\n",
       "                        <th id=\"T_0d50b_level0_row8\" class=\"row_heading level0 row8\" rowspan=\"3\">4 Coadyuvante</th>\n",
       "                        <th id=\"T_0d50b_level1_row8\" class=\"row_heading level1 row8\" rowspan=\"2\">H1</th>\n",
       "                        <th id=\"T_0d50b_level2_row8\" class=\"row_heading level2 row8\" >03 AGREXABC</th>\n",
       "                        <td id=\"T_0d50b_row8_col0\" class=\"data row8 col0\" >1.568696</td>\n",
       "            </tr>\n",
       "            <tr>\n",
       "                                        <th id=\"T_0d50b_level2_row9\" class=\"row_heading level2 row9\" >06 AGREXRP</th>\n",
       "                        <td id=\"T_0d50b_row9_col0\" class=\"data row9 col0\" >0.343689</td>\n",
       "            </tr>\n",
       "            <tr>\n",
       "                                <th id=\"T_0d50b_level1_row10\" class=\"row_heading level1 row10\" >Resto</th>\n",
       "                        <th id=\"T_0d50b_level2_row10\" class=\"row_heading level2 row10\" >10 AGREXF</th>\n",
       "                        <td id=\"T_0d50b_row10_col0\" class=\"data row10 col0\" >0.460872</td>\n",
       "            </tr>\n",
       "    </tbody></table>"
      ],
      "text/plain": [
       "<pandas.io.formats.style.Styler at 0x16baa61aaf0>"
      ]
     },
     "metadata": {},
     "output_type": "display_data"
    }
   ],
   "source": [
    "Producto_ = Ventas_zona_producto_cultivo_2022.groupby(\n",
    "                                                ['Administracion de la categoria','H1 o H2 o Resto','Producto_Ranking']\n",
    "                                        ).agg({'Utilidad $M': 'sum'}).style.bar(subset=['Utilidad $M'], color='red')\n",
    "display(Producto_)"
   ]
  },
  {
   "cell_type": "markdown",
   "id": "38a3e70d",
   "metadata": {},
   "source": [
    "# Anexo: Resumen  por cliente"
   ]
  },
  {
   "cell_type": "code",
   "execution_count": 338,
   "id": "e8da5179",
   "metadata": {},
   "outputs": [
    {
     "data": {
      "text/html": [
       "<style  type=\"text/css\" >\n",
       "#T_8a135_row0_col0{\n",
       "            width:  10em;\n",
       "             height:  80%;\n",
       "            background:  linear-gradient(90deg,red 100.0%, transparent 100.0%);\n",
       "        }#T_8a135_row1_col0{\n",
       "            width:  10em;\n",
       "             height:  80%;\n",
       "            background:  linear-gradient(90deg,red 76.1%, transparent 76.1%);\n",
       "        }#T_8a135_row2_col0{\n",
       "            width:  10em;\n",
       "             height:  80%;\n",
       "        }</style><table id=\"T_8a135_\" ><thead>    <tr>        <th class=\"blank\" ></th>        <th class=\"blank level0\" ></th>        <th class=\"col_heading level0 col0\" >Utilidad $M</th>    </tr>    <tr>        <th class=\"index_name level0\" >RM/ REIQ_Ranking</th>        <th class=\"index_name level1\" >RM/ REIQ_x</th>        <th class=\"blank\" ></th>    </tr></thead><tbody>\n",
       "                <tr>\n",
       "                        <th id=\"T_8a135_level0_row0\" class=\"row_heading level0 row0\" >02 JF</th>\n",
       "                        <th id=\"T_8a135_level1_row0\" class=\"row_heading level1 row0\" >JF</th>\n",
       "                        <td id=\"T_8a135_row0_col0\" class=\"data row0 col0\" >6.336185</td>\n",
       "            </tr>\n",
       "            <tr>\n",
       "                        <th id=\"T_8a135_level0_row1\" class=\"row_heading level0 row1\" >06 AACSA</th>\n",
       "                        <th id=\"T_8a135_level1_row1\" class=\"row_heading level1 row1\" >AACSA</th>\n",
       "                        <td id=\"T_8a135_row1_col0\" class=\"data row1 col0\" >4.965515</td>\n",
       "            </tr>\n",
       "            <tr>\n",
       "                        <th id=\"T_8a135_level0_row2\" class=\"row_heading level0 row2\" >29 Agroxal</th>\n",
       "                        <th id=\"T_8a135_level1_row2\" class=\"row_heading level1 row2\" >Agroxal</th>\n",
       "                        <td id=\"T_8a135_row2_col0\" class=\"data row2 col0\" >0.601283</td>\n",
       "            </tr>\n",
       "    </tbody></table>"
      ],
      "text/plain": [
       "<pandas.io.formats.style.Styler at 0x16ba81cdd00>"
      ]
     },
     "metadata": {},
     "output_type": "display_data"
    }
   ],
   "source": [
    "Zona_ = Ventas_zona_producto_cultivo_2022.groupby(\n",
    "                                            ['RM/ REIQ_Ranking','RM/ REIQ_x']\n",
    "                                    ).agg({'Utilidad $M': 'sum'}).sort_values(by=['Utilidad $M'], ascending = False).style.bar(subset=['Utilidad $M'], color='red')\n",
    "display(Zona_)"
   ]
  },
  {
   "cell_type": "markdown",
   "id": "9e9f5cad",
   "metadata": {},
   "source": [
    "# Anexo: Por cultivo"
   ]
  },
  {
   "cell_type": "code",
   "execution_count": 339,
   "id": "cd1d082e",
   "metadata": {},
   "outputs": [
    {
     "data": {
      "text/html": [
       "<style  type=\"text/css\" >\n",
       "#T_cc2a6_row0_col0{\n",
       "            width:  10em;\n",
       "             height:  80%;\n",
       "            background:  linear-gradient(90deg,red 53.5%, transparent 53.5%);\n",
       "        }#T_cc2a6_row1_col0{\n",
       "            width:  10em;\n",
       "             height:  80%;\n",
       "            background:  linear-gradient(90deg,red 16.7%, transparent 16.7%);\n",
       "        }#T_cc2a6_row2_col0{\n",
       "            width:  10em;\n",
       "             height:  80%;\n",
       "            background:  linear-gradient(90deg,red 100.0%, transparent 100.0%);\n",
       "        }#T_cc2a6_row3_col0{\n",
       "            width:  10em;\n",
       "             height:  80%;\n",
       "        }</style><table id=\"T_cc2a6_\" ><thead>    <tr>        <th class=\"blank level0\" ></th>        <th class=\"col_heading level0 col0\" >Utilidad $M</th>    </tr>    <tr>        <th class=\"index_name level0\" >Cultivo_Categoría_Ranking</th>        <th class=\"blank\" ></th>    </tr></thead><tbody>\n",
       "                <tr>\n",
       "                        <th id=\"T_cc2a6_level0_row0\" class=\"row_heading level0 row0\" >02 Frutales siempre verdes</th>\n",
       "                        <td id=\"T_cc2a6_row0_col0\" class=\"data row0 col0\" >3.635134</td>\n",
       "            </tr>\n",
       "            <tr>\n",
       "                        <th id=\"T_cc2a6_level0_row1\" class=\"row_heading level0 row1\" >03 Hortalizas</th>\n",
       "                        <td id=\"T_cc2a6_row1_col0\" class=\"data row1 col0\" >1.419229</td>\n",
       "            </tr>\n",
       "            <tr>\n",
       "                        <th id=\"T_cc2a6_level0_row2\" class=\"row_heading level0 row2\" >05 Berries</th>\n",
       "                        <td id=\"T_cc2a6_row2_col0\" class=\"data row2 col0\" >6.437493</td>\n",
       "            </tr>\n",
       "            <tr>\n",
       "                        <th id=\"T_cc2a6_level0_row3\" class=\"row_heading level0 row3\" >08 Industriales</th>\n",
       "                        <td id=\"T_cc2a6_row3_col0\" class=\"data row3 col0\" >0.411127</td>\n",
       "            </tr>\n",
       "    </tbody></table>"
      ],
      "text/plain": [
       "<pandas.io.formats.style.Styler at 0x16baa63cd60>"
      ]
     },
     "metadata": {},
     "output_type": "display_data"
    }
   ],
   "source": [
    "Cultivos= Cultivo[(Cultivo['Cultivo_Categoría'] != \"-\") & (Cultivo['Cultivo_Categoría'] != \"Otros\")]\n",
    "Ventas_zona_producto_cultivo_2022_= Ventas_zona_producto_cultivo_2022[Ventas_zona_producto_cultivo_2022['Cultivo_Categoría_Ranking'] != \"-\"]\n",
    "\n",
    "\n",
    "Cultivo_ = Ventas_zona_producto_cultivo_2022_.groupby(\n",
    "                                                ['Cultivo_Categoría_Ranking']\n",
    "                                                ).agg({'Utilidad $M': 'sum'},{'Utilidad/Utilidad_total (%)': 'sum'}).sort_values(by=['Cultivo_Categoría_Ranking','Utilidad $M'], ascending = True).style.bar(subset=['Utilidad $M'], color='red')\n",
    "display(Cultivo_)"
   ]
  },
  {
   "cell_type": "code",
   "execution_count": 340,
   "id": "c5183900",
   "metadata": {},
   "outputs": [
    {
     "data": {
      "text/html": [
       "<style  type=\"text/css\" >\n",
       "#T_f534f_row0_col0{\n",
       "            width:  10em;\n",
       "             height:  80%;\n",
       "            background:  linear-gradient(90deg,red 53.5%, transparent 53.5%);\n",
       "        }#T_f534f_row1_col0{\n",
       "            width:  10em;\n",
       "             height:  80%;\n",
       "            background:  linear-gradient(90deg,red 16.7%, transparent 16.7%);\n",
       "        }#T_f534f_row2_col0{\n",
       "            width:  10em;\n",
       "             height:  80%;\n",
       "            background:  linear-gradient(90deg,red 100.0%, transparent 100.0%);\n",
       "        }#T_f534f_row3_col0{\n",
       "            width:  10em;\n",
       "             height:  80%;\n",
       "        }</style><table id=\"T_f534f_\" ><thead>    <tr>        <th class=\"blank level0\" ></th>        <th class=\"col_heading level0 col0\" >Utilidad $M</th>    </tr>    <tr>        <th class=\"index_name level0\" >Cultivo_Categoría_Ranking</th>        <th class=\"blank\" ></th>    </tr></thead><tbody>\n",
       "                <tr>\n",
       "                        <th id=\"T_f534f_level0_row0\" class=\"row_heading level0 row0\" >02 Frutales siempre verdes</th>\n",
       "                        <td id=\"T_f534f_row0_col0\" class=\"data row0 col0\" >3.635134</td>\n",
       "            </tr>\n",
       "            <tr>\n",
       "                        <th id=\"T_f534f_level0_row1\" class=\"row_heading level0 row1\" >03 Hortalizas</th>\n",
       "                        <td id=\"T_f534f_row1_col0\" class=\"data row1 col0\" >1.419229</td>\n",
       "            </tr>\n",
       "            <tr>\n",
       "                        <th id=\"T_f534f_level0_row2\" class=\"row_heading level0 row2\" >05 Berries</th>\n",
       "                        <td id=\"T_f534f_row2_col0\" class=\"data row2 col0\" >6.437493</td>\n",
       "            </tr>\n",
       "            <tr>\n",
       "                        <th id=\"T_f534f_level0_row3\" class=\"row_heading level0 row3\" >08 Industriales</th>\n",
       "                        <td id=\"T_f534f_row3_col0\" class=\"data row3 col0\" >0.411127</td>\n",
       "            </tr>\n",
       "    </tbody></table>"
      ],
      "text/plain": [
       "<pandas.io.formats.style.Styler at 0x16ba838aeb0>"
      ]
     },
     "metadata": {},
     "output_type": "display_data"
    }
   ],
   "source": [
    "Cultivos= Cultivo[(Cultivo['Cultivo_Categoría'] != \"-\") & (Cultivo['Cultivo_Categoría'] != \"Otros\")]\n",
    "Ventas_zona_producto_cultivo_2022_= Ventas_zona_producto_cultivo_2022[Ventas_zona_producto_cultivo_2022['Cultivo_Categoría_Ranking'] != \"-\"]\n",
    "\n",
    "\n",
    "Cultivo_ = Ventas_zona_producto_cultivo_2022_.groupby(\n",
    "                                                ['Cultivo_Categoría_Ranking']\n",
    "                                                ).agg({'Utilidad $M': 'sum'},{'Utilidad/Utilidad_total (%)': 'sum'}).sort_values(by=['Cultivo_Categoría_Ranking','Utilidad $M'], ascending = True).style.bar(subset=['Utilidad $M'], color='red')\n",
    "display(Cultivo_)"
   ]
  }
 ],
 "metadata": {
  "hide_input": true,
  "kernelspec": {
   "display_name": "Python 3",
   "language": "python",
   "name": "python3"
  },
  "language_info": {
   "codemirror_mode": {
    "name": "ipython",
    "version": 3
   },
   "file_extension": ".py",
   "mimetype": "text/x-python",
   "name": "python",
   "nbconvert_exporter": "python",
   "pygments_lexer": "ipython3",
   "version": "3.8.8"
  }
 },
 "nbformat": 4,
 "nbformat_minor": 5
}
