{
  "nbformat": 4,
  "nbformat_minor": 0,
  "metadata": {
    "colab": {
      "provenance": [],
      "mount_file_id": "1xM7B1DD7dMFD8IXPM0GirLJoeg2ajOQd",
      "authorship_tag": "ABX9TyOfvRiuEVLT9v3/gSOcL3IU",
      "include_colab_link": true
    },
    "kernelspec": {
      "name": "python3",
      "display_name": "Python 3"
    },
    "language_info": {
      "name": "python"
    }
  },
  "cells": [
    {
      "cell_type": "markdown",
      "metadata": {
        "id": "view-in-github",
        "colab_type": "text"
      },
      "source": [
        "<a href=\"https://colab.research.google.com/github/AlanIslasMorris/Fusi-n-Agro/blob/main/Suministro_y_venta.ipynb\" target=\"_parent\"><img src=\"https://colab.research.google.com/assets/colab-badge.svg\" alt=\"Open In Colab\"/></a>"
      ]
    },
    {
      "cell_type": "code",
      "execution_count": 56,
      "metadata": {
        "id": "SbfCRkhFqieN"
      },
      "outputs": [],
      "source": [
        "import pandas as pd"
      ]
    },
    {
      "cell_type": "code",
      "source": [
        "#Zona\n",
        "df3 = pd.read_excel('Zona.xlsx').groupby(['Empresa','RM/ REIQ_','País_3'])['Rtnm'].count().reset_index().rename(columns = {'RM/ REIQ_':'RM'})\n",
        "\n",
        "#Presentación a volumen\n",
        "df2 = pd.read_excel('Presentacion_a_volumen.xlsx').groupby('Presentación')['Vol aux'].mean().reset_index()\n",
        "\n",
        "#Forecast JUNIO\n",
        "df = pd.read_excel('Forecast.xlsx').groupby(['RM','Producto','Item a producto.Item','Presentación','Mes'])['Volumen'].sum().reset_index()\n",
        "df = df.rename(columns={'Item a producto.Item':'ITEMNMBR'})\n",
        "#Forecast por empresa\n",
        "df = df.merge(df3, on='RM', how ='left')\n",
        "df = df.groupby(['Empresa','Producto','ITEMNMBR','Presentación','Mes'])['Volumen'].sum().reset_index()\n",
        "df = df.merge(df2,on='Presentación', how = 'left')\n",
        "# Litros a Unidades\n",
        "df['Unidades']= df['Volumen']/df['Vol aux']\n",
        "#MX, junio\n",
        "df = df[(df['Empresa'] == 'México')&(df['Mes'] == 7)]\n",
        "df = df.rename(columns={'Unidades':'Unidades julio'})\n",
        "\n",
        "# Pedidos\n",
        "df1 = pd.read_excel('Pedidos.xlsx',skiprows=2).groupby(['EMPRESA', 'ITEMNMBR'])['Sum of PEDIDOS'].sum().reset_index()\n",
        "df1 = df1[df1['EMPRESA'] == 'MX']\n",
        "#Selecciona valores superiores a 0\n",
        "df1=df1[df1['Sum of PEDIDOS']>0].sort_values(by='Sum of PEDIDOS', ascending = False)\n",
        "\n",
        "# Inventario\n",
        "df7 = pd.read_excel('Pedidos.xlsx',skiprows=2).groupby(['EMPRESA', 'ITEMNMBR'])['Sum of INVENTARIO'].sum().reset_index()\n",
        "df7 = df7[df7['EMPRESA'] == 'MX']\n",
        "#Selecciona valores superiores a 0\n",
        "df7=df7[df7['Sum of INVENTARIO']>0].sort_values(by='Sum of INVENTARIO', ascending = False)\n",
        "\n",
        "\n",
        "\n",
        "#Pendiente\n",
        "df4 = pd.read_excel('Pendiente.xlsx',skiprows=2)\n",
        "df4 = df4.rename(columns={\"Sum of PENDIENTE_R\":\"Sum of PENDIENTE\"})\n",
        "\n"
      ],
      "metadata": {
        "id": "CGiCRlUuIISl"
      },
      "execution_count": 57,
      "outputs": []
    },
    {
      "cell_type": "code",
      "source": [
        "df4 = df4.groupby([\"EMPRESA\",\"ITEMNMBR\"])[\"Sum of PENDIENTE\"].sum().reset_index()\n",
        "df4 = df4[df4['EMPRESA'] == 'MX']\n",
        "\n",
        "\n",
        "\n",
        "#Volumen de ventas\n",
        "df5 = pd.read_excel('Volumen.xlsx',skiprows=2).groupby([\"Empresa\",\"ID_PRODUCTO\",\"'Base'[Mes]\"])[\"Ver selección\"].sum().reset_index()\n",
        "df5 = df5.rename(columns={\"'Base'[Mes]\":\"Mes\",\n",
        "                          \"ID_PRODUCTO\":\"ITEMNMBR\",\n",
        "                          \"Ver selección\":\"Volumen ventas junio\"})\n",
        "df5 = df5[(df5['Empresa'] == 'MX')&(df5['Mes'] == 6)]\n",
        "\n",
        "\n",
        "#Forecast Mayo\n",
        "df6 = pd.read_excel('Forecast.xlsx').groupby(['RM','Producto','Item a producto.Item','Presentación','Mes'])['Volumen'].sum().reset_index()\n",
        "df6 = df6.rename(columns={'Item a producto.Item':'ITEMNMBR'})\n",
        "\n",
        "#Forecast por empresa\n",
        "df6 = df6.merge(df3, on='RM', how ='left')\n",
        "df6 = df6.groupby(['Empresa','Producto','ITEMNMBR','Presentación','Mes'])['Volumen'].sum().reset_index()\n",
        "df6 = df6.merge(df2,on='Presentación', how = 'left')\n",
        "# Litros a Unidades\n",
        "df6['Unidades']= df6['Volumen']/df6['Vol aux']\n",
        "#MX, julio\n",
        "df6 = df6[(df6['Empresa'] == 'México')&(df6['Mes'] == 8)]\n",
        "df6 = df6.rename(columns={'Unidades':'Unidades agosto'})\n",
        "\n"
      ],
      "metadata": {
        "id": "FWwO2lvtuh66"
      },
      "execution_count": 58,
      "outputs": []
    },
    {
      "cell_type": "code",
      "source": [
        "merged_df = df.merge(df1[['ITEMNMBR', 'Sum of PEDIDOS']], on='ITEMNMBR', how='left')\n",
        "\n",
        "merged_df = merged_df.merge(df4[['ITEMNMBR', 'Sum of PENDIENTE']], on='ITEMNMBR', how='left')\n",
        "\n",
        "merged_df = merged_df.merge(df5[['ITEMNMBR', 'Volumen ventas junio']], on='ITEMNMBR', how='left')\n",
        "\n",
        "merged_df = merged_df.merge(df6[['ITEMNMBR', 'Unidades agosto']], on='ITEMNMBR', how='left')\n",
        "\n",
        "merged_df = merged_df.merge(df7[['ITEMNMBR', 'Sum of INVENTARIO']], on='ITEMNMBR', how='left')\n"
      ],
      "metadata": {
        "id": "W_i2WQn5LiA5"
      },
      "execution_count": 59,
      "outputs": []
    },
    {
      "cell_type": "code",
      "source": [
        "from pandas.core.reshape.merge import merge_ordered\n",
        "# Cálculo de cantidad disponible\n",
        "merged_df['Disponible']=merged_df['Sum of INVENTARIO']\\\n",
        "                        +merged_df['Sum of PENDIENTE']\\\n",
        "                        - merged_df['Sum of PEDIDOS']\n",
        "\n",
        "# Compra sugerida\n",
        "#++++++++++++++++++++Actualizar el mes++++++++++++++++++++++++++++++++++++++++++\n",
        "merged_df['Compra_sugerida'] = merged_df['Unidades agosto']\\\n",
        "                              -merged_df['Disponible']\n",
        "merged_df = merged_df.sort_values(by='Unidades agosto', ascending=False)\n"
      ],
      "metadata": {
        "id": "LBGGzVLyxsn-"
      },
      "execution_count": 60,
      "outputs": []
    },
    {
      "cell_type": "code",
      "source": [
        "merged_df.to_csv('Tabla de compras_.csv', index=False)"
      ],
      "metadata": {
        "id": "AwlAovjHLz74"
      },
      "execution_count": 61,
      "outputs": []
    }
  ]
}