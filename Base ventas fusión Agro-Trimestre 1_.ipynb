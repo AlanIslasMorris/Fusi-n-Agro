{
 "cells": [
  {
   "cell_type": "code",
   "execution_count": 121,
   "id": "b62c12a0",
   "metadata": {},
   "outputs": [],
   "source": [
    "# Se importan paquetes de análisis de datos- Proceso\n",
    "\n",
    "import pandas as pd\n",
    "\n",
    "import matplotlib.pyplot as plt\n",
    "\n",
    "import numpy as np\n",
    "\n",
    "# Se importa base de plan de ventas fusión Agro - Proceso\n",
    "\n",
    "Plan2022 = pd.read_csv(\"1.csv\")\n",
    "\n",
    "Precios = pd.read_csv(\"2.csv\")\n",
    "\n",
    "Costos = pd.read_csv(\"4.csv\")\n",
    "\n",
    "Plan2022_ = pd.read_csv(\"5.csv\")\n",
    "\n",
    "BaseVentasFusionAgro = pd.read_csv(\"11.csv\")\n",
    "\n",
    "# Se importan categorías de producto, cultivo y cliente\n",
    "\n",
    "Zona = pd.read_csv(\"Zona.csv\")\n",
    "\n",
    "Producto = pd.read_csv(\"Producto.csv\")\n",
    "\n",
    "Cultivo = pd.read_csv(\"Cultivo.csv\")\n",
    "\n",
    "Mesatrimestre = pd.read_csv(\"Mesatrimestre.csv\")\n",
    "\n",
    "# A qué categorías pertenece cada producto\n",
    "\n",
    "\n",
    "Producto_ = Producto.groupby(['Administracion de la categoria','H1 o H2 o Resto','Producto_Ranking']).agg({'Producto_': 'count'})\n",
    "\n",
    "# A qué zonas pertenece cada cliente\n",
    "\n",
    "\n",
    "Zona_ = Zona.groupby(['Empresa','Zona','RM/ REIQ']).agg({'RM/ REIQ': 'count'})\n",
    "\n",
    "\n",
    "# A qué zonas pertenece cada cliente\n",
    "\n",
    "\n",
    "Cultivos= Cultivo[(Cultivo['Cultivo_Categoría'] != \"-\") & (Cultivo['Cultivo_Categoría'] != \"Otros\")]\n",
    "\n",
    "Cultivo_ = Cultivos.groupby(['Cultivo_Macrocategoría','Cultivo_Categoría','Cultivo_']).agg({'Cultivo_': 'count'})\n",
    "\n",
    "\n",
    "# Se incluyen las categorías en la base\n",
    "\n",
    "\n",
    "Ventas_zona = BaseVentasFusionAgro.merge(Zona, how='left', left_on='RM/ REIQ', right_on='RM/ REIQ_')\n",
    "\n",
    "Ventas_zona_producto = Ventas_zona.merge(Producto, how='left', left_on='Producto_', right_on='Producto_')\n",
    "\n",
    "Ventas_zona_producto_ = Ventas_zona_producto.merge(Mesatrimestre, how='left', left_on='Mes', right_on='Mes')\n",
    "\n",
    "Ventas_zona_producto_cultivo = Ventas_zona_producto_.merge(Cultivo, how='left', left_on='Cultivo_', right_on='Cultivo', indicator = True)\n",
    "\n",
    "\n",
    "#Criterios para filtrar datos\n",
    "\n",
    "Periodoconsiderado_2022 = Ventas_zona_producto_cultivo['Periodo'] == 2022\n",
    "Periodoconsiderado2021 = Ventas_zona_producto_cultivo['Periodo'] == 2021\n",
    "Periodoconsiderado2020 = Ventas_zona_producto_cultivo['Periodo'] == 2020\n",
    "Zonaconsiderada_Noroeste = Ventas_zona_producto_cultivo['Zona Ranking_'] == \"01 Noroeste\"\n",
    "ZonaconsideradaZona2 = Ventas_zona_producto_cultivo['Zona Ranking_'] == \"03 Zona 2\"\n",
    "ZonaconsideradaPacífico = Ventas_zona_producto_cultivo['Zona Ranking_'] == \"02 Pacífico\"\n",
    "EmpresaconsideradaMéxico = Ventas_zona_producto_cultivo ['Empresa'] == \"México\"\n",
    "EmpresaconsideradaNOesMéxico = Ventas_zona_producto_cultivo ['Empresa'] != \"México\"\n",
    "\n",
    "T1 = ['T1']\n",
    "T1yT2 = ['T1', 'T2']\n",
    "T1aT4 = ['T1', 'T2','T3', 'T4']\n",
    "Catdecultivo = Ventas_zona_producto_cultivo['Cultivo_Categoría'] == \"Hortalizas\"\n",
    "AdmCat_Cito = Ventas_zona_producto_cultivo['Administracion de la categoria'] == \"1 Cito\"\n",
    "AdmCat_Suelo = Ventas_zona_producto_cultivo['Administracion de la categoria'] == \"2 Raiz/ suelo\"\n",
    "AdmCat_Bioest = Ventas_zona_producto_cultivo['Administracion de la categoria'] == \"3 Bioestimulante\"\n",
    "AdmCat_Coady = Ventas_zona_producto_cultivo['Administracion de la categoria'] == \"4 Coadyuvante\"\n",
    "H2 = Ventas_zona_producto_cultivo['H1 o H2 o Resto'] == \"H2\"\n",
    "\n",
    "# Plan 2022 corresponde al año 2022, también es posible seleccionar 2020 o 2021\n",
    "\n",
    "Ventas_zona_producto_cultivo_2021 = Ventas_zona_producto_cultivo[Ventas_zona_producto_cultivo['Trimestre'].isin(\n",
    "    T1) &\n",
    "    Periodoconsiderado2021]\n",
    "\n",
    "Ventas_zona_producto_cultivo_2022 = Ventas_zona_producto_cultivo[Ventas_zona_producto_cultivo['Trimestre'].isin(\n",
    "    T1) &\n",
    "    Periodoconsiderado_2022]\n",
    "\n",
    "Ventas_zona_producto_cultivo_Cito_2022 = Ventas_zona_producto_cultivo[Ventas_zona_producto_cultivo['Trimestre'].isin(\n",
    "    T1) &\n",
    "    Periodoconsiderado_2022  &\n",
    "    AdmCat_Cito]\n",
    "Ventas_zona_producto_cultivo_Suelo_2022 = Ventas_zona_producto_cultivo[Ventas_zona_producto_cultivo['Trimestre'].isin(\n",
    "    T1) &\n",
    "    Periodoconsiderado_2022 &\n",
    "    AdmCat_Suelo]\n",
    "Ventas_zona_producto_cultivo_Bioest_2022 = Ventas_zona_producto_cultivo[Ventas_zona_producto_cultivo['Trimestre'].isin(\n",
    "    T1) &\n",
    "    Periodoconsiderado_2022 &\n",
    "    AdmCat_Bioest]\n",
    "Ventas_zona_producto_cultivo_Coady_2022 = Ventas_zona_producto_cultivo[Ventas_zona_producto_cultivo['Trimestre'].isin(\n",
    "    T1) &\n",
    "    Periodoconsiderado_2022 &\n",
    "    AdmCat_Coady]\n",
    "\n",
    "CitoMx = Ventas_zona_producto_cultivo[Periodoconsiderado_2022 & \n",
    "                                      EmpresaconsideradaMéxico &\n",
    "                                      AdmCat_Cito]\n",
    "CitoIntnl = Ventas_zona_producto_cultivo[Periodoconsiderado_2022 &\n",
    "                                         EmpresaconsideradaNOesMéxico &\n",
    "                                         AdmCat_Cito]\n",
    "SueloMx = Ventas_zona_producto_cultivo[Periodoconsiderado_2022 &\n",
    "                                       EmpresaconsideradaMéxico &\n",
    "                                       AdmCat_Suelo]\n",
    "SueloIntnl = Ventas_zona_producto_cultivo[Periodoconsiderado_2022 &\n",
    "                                          EmpresaconsideradaNOesMéxico &\n",
    "                                          AdmCat_Suelo]\n",
    "BioestMx = Ventas_zona_producto_cultivo[Periodoconsiderado_2022 &\n",
    "                                        EmpresaconsideradaMéxico &\n",
    "                                        AdmCat_Bioest]\n",
    "BioestIntnl = Ventas_zona_producto_cultivo[Periodoconsiderado_2022 &\n",
    "                                           EmpresaconsideradaNOesMéxico &\n",
    "                                           AdmCat_Bioest]\n",
    "\n"
   ]
  },
  {
   "cell_type": "markdown",
   "id": "4cce3afc",
   "metadata": {},
   "source": [
    "# Análisis del primer trimestre de Base de ventas Fusión Agro"
   ]
  },
  {
   "cell_type": "markdown",
   "id": "3ad8608c",
   "metadata": {},
   "source": [
    "# Utilidad Fusión Agro por zona y por año "
   ]
  },
  {
   "cell_type": "code",
   "execution_count": 122,
   "id": "032e6040",
   "metadata": {
    "scrolled": true
   },
   "outputs": [
    {
     "data": {
      "image/png": "[encoded data removed]",
      "text/plain": [
       "<Figure size 432x288 with 1 Axes>"
      ]
     },
     "metadata": {
      "needs_background": "light"
     },
     "output_type": "display_data"
    }
   ],
   "source": [
    "UZA = Ventas_zona_producto_cultivo.groupby(['Periodo','Zona_Ranking']).agg({'Utilidad': 'sum'}).reset_index()\n",
    "UZA_ = Ventas_zona_producto_cultivo.groupby(['Periodo','Zona_Ranking']).agg({'Utilidad': 'sum'})\n",
    "UZA_df = pd.DataFrame(UZA_.unstack(level = 1))\n",
    "UZA_df.plot.bar(stacked=True)\n",
    "plt.legend(loc='center left', bbox_to_anchor=(1.0, 0.5))\n",
    "plt.show()\n"
   ]
  },
  {
   "cell_type": "code",
   "execution_count": 123,
   "id": "02e06f03",
   "metadata": {},
   "outputs": [
    {
     "data": {
      "text/html": [
       "<div>\n",
       "<style scoped>\n",
       "    .dataframe tbody tr th:only-of-type {\n",
       "        vertical-align: middle;\n",
       "    }\n",
       "\n",
       "    .dataframe tbody tr th {\n",
       "        vertical-align: top;\n",
       "    }\n",
       "\n",
       "    .dataframe thead th {\n",
       "        text-align: right;\n",
       "    }\n",
       "</style>\n",
       "<table border=\"1\" class=\"dataframe\">\n",
       "  <thead>\n",
       "    <tr style=\"text-align: right;\">\n",
       "      <th></th>\n",
       "      <th>Utilidad</th>\n",
       "    </tr>\n",
       "    <tr>\n",
       "      <th>Periodo</th>\n",
       "      <th></th>\n",
       "    </tr>\n",
       "  </thead>\n",
       "  <tbody>\n",
       "    <tr>\n",
       "      <th>2020</th>\n",
       "      <td>1.793428e+08</td>\n",
       "    </tr>\n",
       "    <tr>\n",
       "      <th>2021</th>\n",
       "      <td>2.437687e+08</td>\n",
       "    </tr>\n",
       "    <tr>\n",
       "      <th>2022</th>\n",
       "      <td>2.827465e+08</td>\n",
       "    </tr>\n",
       "  </tbody>\n",
       "</table>\n",
       "</div>"
      ],
      "text/plain": [
       "             Utilidad\n",
       "Periodo              \n",
       "2020     1.793428e+08\n",
       "2021     2.437687e+08\n",
       "2022     2.827465e+08"
      ]
     },
     "execution_count": 123,
     "metadata": {},
     "output_type": "execute_result"
    }
   ],
   "source": [
    "UZA2 = Ventas_zona_producto_cultivo.groupby(['Periodo']).agg({'Utilidad': 'sum'})\n",
    "UZA2.head(20)"
   ]
  },
  {
   "cell_type": "markdown",
   "id": "264a29a7",
   "metadata": {},
   "source": [
    "# Utilidad Fusión Agro "
   ]
  },
  {
   "cell_type": "code",
   "execution_count": 124,
   "id": "0f47997e",
   "metadata": {},
   "outputs": [
    {
     "name": "stdout",
     "output_type": "stream",
     "text": [
      "$73.946 M\n"
     ]
    }
   ],
   "source": [
    "print ('${:,.3f} M'.format(Ventas_zona_producto_cultivo_2022['Utilidad'].sum()/1000000) )"
   ]
  },
  {
   "cell_type": "markdown",
   "id": "1654d3a2",
   "metadata": {},
   "source": [
    "# Crecimiento respecto al 2021"
   ]
  },
  {
   "cell_type": "code",
   "execution_count": 125,
   "id": "0f4ff2e5",
   "metadata": {},
   "outputs": [
    {
     "name": "stdout",
     "output_type": "stream",
     "text": [
      "20.31 %\n"
     ]
    }
   ],
   "source": [
    "print ('{:,.2f} %'.format(\n",
    "                            ((Ventas_zona_producto_cultivo_2022['Utilidad'].sum()/\n",
    "                            Ventas_zona_producto_cultivo_2021['Utilidad'].sum())-1)*100\n",
    "                        )) "
   ]
  },
  {
   "cell_type": "markdown",
   "id": "ddd201b1",
   "metadata": {},
   "source": [
    " # Desglose por zona y por categoría"
   ]
  },
  {
   "cell_type": "code",
   "execution_count": 126,
   "id": "b1ff9ae4",
   "metadata": {
    "scrolled": true
   },
   "outputs": [
    {
     "data": {
      "image/png": "[encoded data removed]",
      "text/plain": [
       "<Figure size 432x288 with 1 Axes>"
      ]
     },
     "metadata": {
      "needs_background": "light"
     },
     "output_type": "display_data"
    }
   ],
   "source": [
    "RCZ = Ventas_zona_producto_cultivo_2022.groupby(['Administracion de la categoria','Zona_Ranking']).agg({'Utilidad': 'sum'}).reset_index()\n",
    "RCZ_ = Ventas_zona_producto_cultivo_2022.groupby(['Administracion de la categoria','Zona_Ranking']).agg({'Utilidad': 'sum'})\n",
    "RCZ_df = pd.DataFrame(RCZ_.unstack(level = 1))\n",
    "RCZ_df.plot.bar(stacked=True)\n",
    "plt.legend(loc='center left', bbox_to_anchor=(1.0, 0.5))\n",
    "plt.show()\n"
   ]
  },
  {
   "cell_type": "code",
   "execution_count": 127,
   "id": "6d752127",
   "metadata": {},
   "outputs": [
    {
     "data": {
      "text/html": [
       "<div>\n",
       "<style scoped>\n",
       "    .dataframe tbody tr th:only-of-type {\n",
       "        vertical-align: middle;\n",
       "    }\n",
       "\n",
       "    .dataframe tbody tr th {\n",
       "        vertical-align: top;\n",
       "    }\n",
       "\n",
       "    .dataframe thead th {\n",
       "        text-align: right;\n",
       "    }\n",
       "</style>\n",
       "<table border=\"1\" class=\"dataframe\">\n",
       "  <thead>\n",
       "    <tr style=\"text-align: right;\">\n",
       "      <th></th>\n",
       "      <th>Utilidad</th>\n",
       "    </tr>\n",
       "    <tr>\n",
       "      <th>Administracion de la categoria</th>\n",
       "      <th></th>\n",
       "    </tr>\n",
       "  </thead>\n",
       "  <tbody>\n",
       "    <tr>\n",
       "      <th>1 Cito</th>\n",
       "      <td>2.904446e+07</td>\n",
       "    </tr>\n",
       "    <tr>\n",
       "      <th>2 Raiz/ suelo</th>\n",
       "      <td>1.885172e+07</td>\n",
       "    </tr>\n",
       "    <tr>\n",
       "      <th>3 Bioestimulante</th>\n",
       "      <td>1.203039e+07</td>\n",
       "    </tr>\n",
       "    <tr>\n",
       "      <th>4 Coadyuvante</th>\n",
       "      <td>1.058073e+07</td>\n",
       "    </tr>\n",
       "    <tr>\n",
       "      <th>5 GA</th>\n",
       "      <td>1.239757e+06</td>\n",
       "    </tr>\n",
       "    <tr>\n",
       "      <th>6 Nutrici�n</th>\n",
       "      <td>2.198556e+06</td>\n",
       "    </tr>\n",
       "  </tbody>\n",
       "</table>\n",
       "</div>"
      ],
      "text/plain": [
       "                                    Utilidad\n",
       "Administracion de la categoria              \n",
       "1 Cito                          2.904446e+07\n",
       "2 Raiz/ suelo                   1.885172e+07\n",
       "3 Bioestimulante                1.203039e+07\n",
       "4 Coadyuvante                   1.058073e+07\n",
       "5 GA                            1.239757e+06\n",
       "6 Nutrici�n                     2.198556e+06"
      ]
     },
     "execution_count": 127,
     "metadata": {},
     "output_type": "execute_result"
    }
   ],
   "source": [
    "RCZ2 = Ventas_zona_producto_cultivo_2022.groupby(['Administracion de la categoria']).agg({'Utilidad': 'sum'})\n",
    "RCZ2.head(20)"
   ]
  },
  {
   "cell_type": "markdown",
   "id": "df15d2ba",
   "metadata": {},
   "source": [
    "# Desglose por zona y por horizonte"
   ]
  },
  {
   "cell_type": "code",
   "execution_count": 128,
   "id": "f990aad6",
   "metadata": {},
   "outputs": [
    {
     "data": {
      "image/png": "[encoded data removed]",
      "text/plain": [
       "<Figure size 432x288 with 1 Axes>"
      ]
     },
     "metadata": {
      "needs_background": "light"
     },
     "output_type": "display_data"
    }
   ],
   "source": [
    "RCZ_H = Ventas_zona_producto_cultivo_2022.groupby(['H1 o H2 o Resto','Zona_Ranking']).agg({'Utilidad': 'sum'}).reset_index()\n",
    "RCZ__H = Ventas_zona_producto_cultivo_2022.groupby(['H1 o H2 o Resto','Zona_Ranking']).agg({'Utilidad': 'sum'})\n",
    "RCZ_df_H = pd.DataFrame(RCZ__H.unstack(level = 1))\n",
    "RCZ_df_H.plot.bar(stacked=True)\n",
    "plt.legend(loc='center left', bbox_to_anchor=(1.0, 0.5))\n",
    "plt.show()\n"
   ]
  },
  {
   "cell_type": "code",
   "execution_count": 129,
   "id": "a4db6601",
   "metadata": {},
   "outputs": [
    {
     "data": {
      "text/html": [
       "<div>\n",
       "<style scoped>\n",
       "    .dataframe tbody tr th:only-of-type {\n",
       "        vertical-align: middle;\n",
       "    }\n",
       "\n",
       "    .dataframe tbody tr th {\n",
       "        vertical-align: top;\n",
       "    }\n",
       "\n",
       "    .dataframe thead th {\n",
       "        text-align: right;\n",
       "    }\n",
       "</style>\n",
       "<table border=\"1\" class=\"dataframe\">\n",
       "  <thead>\n",
       "    <tr style=\"text-align: right;\">\n",
       "      <th></th>\n",
       "      <th>Utilidad</th>\n",
       "    </tr>\n",
       "    <tr>\n",
       "      <th>H1 o H2 o Resto</th>\n",
       "      <th></th>\n",
       "    </tr>\n",
       "  </thead>\n",
       "  <tbody>\n",
       "    <tr>\n",
       "      <th>H1</th>\n",
       "      <td>5.231811e+07</td>\n",
       "    </tr>\n",
       "    <tr>\n",
       "      <th>H2</th>\n",
       "      <td>9.030466e+06</td>\n",
       "    </tr>\n",
       "    <tr>\n",
       "      <th>Resto</th>\n",
       "      <td>1.259704e+07</td>\n",
       "    </tr>\n",
       "  </tbody>\n",
       "</table>\n",
       "</div>"
      ],
      "text/plain": [
       "                     Utilidad\n",
       "H1 o H2 o Resto              \n",
       "H1               5.231811e+07\n",
       "H2               9.030466e+06\n",
       "Resto            1.259704e+07"
      ]
     },
     "execution_count": 129,
     "metadata": {},
     "output_type": "execute_result"
    }
   ],
   "source": [
    "RCZ_H2 = Ventas_zona_producto_cultivo_2022.groupby(['H1 o H2 o Resto']).agg({'Utilidad': 'sum'})\n",
    "RCZ_H2.head(20)"
   ]
  },
  {
   "cell_type": "markdown",
   "id": "2cb988cb",
   "metadata": {},
   "source": [
    "# Top 20 prioridades en todo Fusión Agro"
   ]
  },
  {
   "cell_type": "code",
   "execution_count": 130,
   "id": "c0c40ac6",
   "metadata": {},
   "outputs": [
    {
     "data": {
      "text/html": [
       "<div>\n",
       "<style scoped>\n",
       "    .dataframe tbody tr th:only-of-type {\n",
       "        vertical-align: middle;\n",
       "    }\n",
       "\n",
       "    .dataframe tbody tr th {\n",
       "        vertical-align: top;\n",
       "    }\n",
       "\n",
       "    .dataframe thead th {\n",
       "        text-align: right;\n",
       "    }\n",
       "</style>\n",
       "<table border=\"1\" class=\"dataframe\">\n",
       "  <thead>\n",
       "    <tr style=\"text-align: right;\">\n",
       "      <th></th>\n",
       "      <th></th>\n",
       "      <th></th>\n",
       "      <th>Utilidad</th>\n",
       "    </tr>\n",
       "    <tr>\n",
       "      <th>Cultivo_Categoría_Ranking</th>\n",
       "      <th>Zona_Ranking</th>\n",
       "      <th>Administracion de la categoria</th>\n",
       "      <th></th>\n",
       "    </tr>\n",
       "  </thead>\n",
       "  <tbody>\n",
       "    <tr>\n",
       "      <th rowspan=\"2\" valign=\"top\">04 Vides</th>\n",
       "      <th>01 Norte</th>\n",
       "      <th>1 Cito</th>\n",
       "      <td>5.201897e+06</td>\n",
       "    </tr>\n",
       "    <tr>\n",
       "      <th>04 Chile/Perú</th>\n",
       "      <th>1 Cito</th>\n",
       "      <td>5.138181e+06</td>\n",
       "    </tr>\n",
       "    <tr>\n",
       "      <th rowspan=\"2\" valign=\"top\">05 Berries</th>\n",
       "      <th rowspan=\"2\" valign=\"top\">02 Pacífico</th>\n",
       "      <th>2 Raiz/ suelo</th>\n",
       "      <td>2.441932e+06</td>\n",
       "    </tr>\n",
       "    <tr>\n",
       "      <th>1 Cito</th>\n",
       "      <td>2.417092e+06</td>\n",
       "    </tr>\n",
       "    <tr>\n",
       "      <th>02 Frutales siempre verdes</th>\n",
       "      <th>05 Zona 2</th>\n",
       "      <th>3 Bioestimulante</th>\n",
       "      <td>2.353494e+06</td>\n",
       "    </tr>\n",
       "    <tr>\n",
       "      <th>06 Granos</th>\n",
       "      <th>05 Zona 2</th>\n",
       "      <th>1 Cito</th>\n",
       "      <td>2.134339e+06</td>\n",
       "    </tr>\n",
       "    <tr>\n",
       "      <th>03 Hortalizas</th>\n",
       "      <th>01 Norte</th>\n",
       "      <th>2 Raiz/ suelo</th>\n",
       "      <td>1.927666e+06</td>\n",
       "    </tr>\n",
       "    <tr>\n",
       "      <th>02 Frutales siempre verdes</th>\n",
       "      <th>05 Zona 2</th>\n",
       "      <th>4 Coadyuvante</th>\n",
       "      <td>1.927613e+06</td>\n",
       "    </tr>\n",
       "    <tr>\n",
       "      <th>04 Vides</th>\n",
       "      <th>04 Chile/Perú</th>\n",
       "      <th>2 Raiz/ suelo</th>\n",
       "      <td>1.819498e+06</td>\n",
       "    </tr>\n",
       "    <tr>\n",
       "      <th rowspan=\"2\" valign=\"top\">03 Hortalizas</th>\n",
       "      <th rowspan=\"2\" valign=\"top\">01 Norte</th>\n",
       "      <th>1 Cito</th>\n",
       "      <td>1.789719e+06</td>\n",
       "    </tr>\n",
       "    <tr>\n",
       "      <th>4 Coadyuvante</th>\n",
       "      <td>1.606711e+06</td>\n",
       "    </tr>\n",
       "    <tr>\n",
       "      <th>02 Frutales siempre verdes</th>\n",
       "      <th>02 Pacífico</th>\n",
       "      <th>2 Raiz/ suelo</th>\n",
       "      <td>1.375694e+06</td>\n",
       "    </tr>\n",
       "    <tr>\n",
       "      <th>04 Vides</th>\n",
       "      <th>01 Norte</th>\n",
       "      <th>3 Bioestimulante</th>\n",
       "      <td>1.346029e+06</td>\n",
       "    </tr>\n",
       "    <tr>\n",
       "      <th>05 Berries</th>\n",
       "      <th>02 Pacífico</th>\n",
       "      <th>4 Coadyuvante</th>\n",
       "      <td>1.321693e+06</td>\n",
       "    </tr>\n",
       "    <tr>\n",
       "      <th>02 Frutales siempre verdes</th>\n",
       "      <th>03 Sureste</th>\n",
       "      <th>3 Bioestimulante</th>\n",
       "      <td>1.307618e+06</td>\n",
       "    </tr>\n",
       "    <tr>\n",
       "      <th rowspan=\"2\" valign=\"top\">03 Hortalizas</th>\n",
       "      <th>02 Pacífico</th>\n",
       "      <th>1 Cito</th>\n",
       "      <td>1.290194e+06</td>\n",
       "    </tr>\n",
       "    <tr>\n",
       "      <th>06 IqChem</th>\n",
       "      <th>1 Cito</th>\n",
       "      <td>1.174007e+06</td>\n",
       "    </tr>\n",
       "    <tr>\n",
       "      <th>02 Frutales siempre verdes</th>\n",
       "      <th>07 Zona 1</th>\n",
       "      <th>1 Cito</th>\n",
       "      <td>1.085731e+06</td>\n",
       "    </tr>\n",
       "    <tr>\n",
       "      <th>03 Hortalizas</th>\n",
       "      <th>02 Pacífico</th>\n",
       "      <th>2 Raiz/ suelo</th>\n",
       "      <td>9.959883e+05</td>\n",
       "    </tr>\n",
       "    <tr>\n",
       "      <th>02 Frutales siempre verdes</th>\n",
       "      <th>02 Pacífico</th>\n",
       "      <th>1 Cito</th>\n",
       "      <td>9.358669e+05</td>\n",
       "    </tr>\n",
       "  </tbody>\n",
       "</table>\n",
       "</div>"
      ],
      "text/plain": [
       "                                                                             Utilidad\n",
       "Cultivo_Categoría_Ranking  Zona_Ranking  Administracion de la categoria              \n",
       "04 Vides                   01 Norte      1 Cito                          5.201897e+06\n",
       "                           04 Chile/Perú 1 Cito                          5.138181e+06\n",
       "05 Berries                 02 Pacífico   2 Raiz/ suelo                   2.441932e+06\n",
       "                                         1 Cito                          2.417092e+06\n",
       "02 Frutales siempre verdes 05 Zona 2     3 Bioestimulante                2.353494e+06\n",
       "06 Granos                  05 Zona 2     1 Cito                          2.134339e+06\n",
       "03 Hortalizas              01 Norte      2 Raiz/ suelo                   1.927666e+06\n",
       "02 Frutales siempre verdes 05 Zona 2     4 Coadyuvante                   1.927613e+06\n",
       "04 Vides                   04 Chile/Perú 2 Raiz/ suelo                   1.819498e+06\n",
       "03 Hortalizas              01 Norte      1 Cito                          1.789719e+06\n",
       "                                         4 Coadyuvante                   1.606711e+06\n",
       "02 Frutales siempre verdes 02 Pacífico   2 Raiz/ suelo                   1.375694e+06\n",
       "04 Vides                   01 Norte      3 Bioestimulante                1.346029e+06\n",
       "05 Berries                 02 Pacífico   4 Coadyuvante                   1.321693e+06\n",
       "02 Frutales siempre verdes 03 Sureste    3 Bioestimulante                1.307618e+06\n",
       "03 Hortalizas              02 Pacífico   1 Cito                          1.290194e+06\n",
       "                           06 IqChem     1 Cito                          1.174007e+06\n",
       "02 Frutales siempre verdes 07 Zona 1     1 Cito                          1.085731e+06\n",
       "03 Hortalizas              02 Pacífico   2 Raiz/ suelo                   9.959883e+05\n",
       "02 Frutales siempre verdes 02 Pacífico   1 Cito                          9.358669e+05"
      ]
     },
     "execution_count": 130,
     "metadata": {},
     "output_type": "execute_result"
    }
   ],
   "source": [
    "Detalle2022 = Ventas_zona_producto_cultivo_2022.groupby(['Cultivo_Categoría_Ranking','Zona_Ranking','Administracion de la categoria']).agg({'Utilidad': 'sum'})\n",
    "Detalle2022_sorted = Detalle2022.sort_values(by=['Utilidad'],ascending=False)\n",
    "Detalle2022_sorted.head(20)"
   ]
  },
  {
   "cell_type": "code",
   "execution_count": 131,
   "id": "5a832bd5",
   "metadata": {},
   "outputs": [
    {
     "name": "stdout",
     "output_type": "stream",
     "text": [
      "$39.591 M\n"
     ]
    }
   ],
   "source": [
    "print ('${:,.3f} M'.format(Detalle2022_sorted['Utilidad'].head(20).sum()/1000000) )\n"
   ]
  },
  {
   "cell_type": "markdown",
   "id": "e2ba580c",
   "metadata": {},
   "source": [
    "# Análisis por categoría"
   ]
  },
  {
   "cell_type": "markdown",
   "id": "28023422",
   "metadata": {},
   "source": [
    "# Cito, 2022"
   ]
  },
  {
   "cell_type": "markdown",
   "id": "799b789f",
   "metadata": {},
   "source": [
    "# Valor de Cito y lo que representa respecto a utilidad total"
   ]
  },
  {
   "cell_type": "code",
   "execution_count": 132,
   "id": "ec1baf07",
   "metadata": {
    "scrolled": true
   },
   "outputs": [
    {
     "name": "stdout",
     "output_type": "stream",
     "text": [
      "$29.044 M\n",
      "39.3 %\n"
     ]
    }
   ],
   "source": [
    "utilidadtotal2022 = Ventas_zona_producto_cultivo_2022['Utilidad'].sum()\n",
    "utilidadcito2022 = Ventas_zona_producto_cultivo_Cito_2022['Utilidad'].sum()\n",
    "utilidadcito2022/ utilidadtotal2022\n",
    "print ('${:,.3f} M'.format(Ventas_zona_producto_cultivo_Cito_2022['Utilidad'].sum()/1000000) )\n",
    "print ('{:,.1f} %'.format(utilidadcito2022*100/ utilidadtotal2022))\n"
   ]
  },
  {
   "cell_type": "code",
   "execution_count": 133,
   "id": "a6a37907",
   "metadata": {
    "scrolled": true
   },
   "outputs": [
    {
     "data": {
      "image/png": "[encoded data removed]",
      "text/plain": [
       "<Figure size 432x288 with 1 Axes>"
      ]
     },
     "metadata": {
      "needs_background": "light"
     },
     "output_type": "display_data"
    }
   ],
   "source": [
    "ResumenporHorizonteyEmp = Ventas_zona_producto_cultivo_Cito_2022.groupby(['Zona_Ranking','Producto_']).agg({'Utilidad': 'sum'}).reset_index()\n",
    "ResumenporHorizonteyEmp_ = Ventas_zona_producto_cultivo_Cito_2022.groupby(['Zona_Ranking','Producto_']).agg({'Utilidad': 'sum'})\n",
    "ResumenporHorizonteyEmp_df = pd.DataFrame(ResumenporHorizonteyEmp_.unstack(level = 1))\n",
    "ResumenporHorizonteyEmp_df.plot.bar(stacked=True)\n",
    "plt.legend(loc='center left', bbox_to_anchor=(1.0, 0.5))\n",
    "plt.show()\n"
   ]
  },
  {
   "cell_type": "code",
   "execution_count": 134,
   "id": "8cc3c8dd",
   "metadata": {},
   "outputs": [
    {
     "data": {
      "text/html": [
       "<div>\n",
       "<style scoped>\n",
       "    .dataframe tbody tr th:only-of-type {\n",
       "        vertical-align: middle;\n",
       "    }\n",
       "\n",
       "    .dataframe tbody tr th {\n",
       "        vertical-align: top;\n",
       "    }\n",
       "\n",
       "    .dataframe thead th {\n",
       "        text-align: right;\n",
       "    }\n",
       "</style>\n",
       "<table border=\"1\" class=\"dataframe\">\n",
       "  <thead>\n",
       "    <tr style=\"text-align: right;\">\n",
       "      <th></th>\n",
       "      <th>Utilidad</th>\n",
       "    </tr>\n",
       "    <tr>\n",
       "      <th>Zona_Ranking</th>\n",
       "      <th></th>\n",
       "    </tr>\n",
       "  </thead>\n",
       "  <tbody>\n",
       "    <tr>\n",
       "      <th>01 Norte</th>\n",
       "      <td>8.078157e+06</td>\n",
       "    </tr>\n",
       "    <tr>\n",
       "      <th>04 Chile/Perú</th>\n",
       "      <td>5.138181e+06</td>\n",
       "    </tr>\n",
       "    <tr>\n",
       "      <th>02 Pacífico</th>\n",
       "      <td>4.728097e+06</td>\n",
       "    </tr>\n",
       "    <tr>\n",
       "      <th>05 Zona 2</th>\n",
       "      <td>3.023839e+06</td>\n",
       "    </tr>\n",
       "    <tr>\n",
       "      <th>07 Zona 1</th>\n",
       "      <td>3.016689e+06</td>\n",
       "    </tr>\n",
       "    <tr>\n",
       "      <th>06 IqChem</th>\n",
       "      <td>2.399674e+06</td>\n",
       "    </tr>\n",
       "    <tr>\n",
       "      <th>03 Sureste</th>\n",
       "      <td>2.366729e+06</td>\n",
       "    </tr>\n",
       "    <tr>\n",
       "      <th>08 Ecu,Col,EUA</th>\n",
       "      <td>2.930971e+05</td>\n",
       "    </tr>\n",
       "  </tbody>\n",
       "</table>\n",
       "</div>"
      ],
      "text/plain": [
       "                    Utilidad\n",
       "Zona_Ranking                \n",
       "01 Norte        8.078157e+06\n",
       "04 Chile/Perú   5.138181e+06\n",
       "02 Pacífico     4.728097e+06\n",
       "05 Zona 2       3.023839e+06\n",
       "07 Zona 1       3.016689e+06\n",
       "06 IqChem       2.399674e+06\n",
       "03 Sureste      2.366729e+06\n",
       "08 Ecu,Col,EUA  2.930971e+05"
      ]
     },
     "execution_count": 134,
     "metadata": {},
     "output_type": "execute_result"
    }
   ],
   "source": [
    "Ventas_zona_Cito_2022 = ResumenporHorizonteyEmp.groupby(['Zona_Ranking']).agg({'Utilidad': 'sum'})\n",
    "Ventas_zona_Cito_2022_sorted = Ventas_zona_Cito_2022.sort_values(by=['Utilidad'],ascending=False)\n",
    "Ventas_zona_Cito_2022_sorted.head(20)"
   ]
  },
  {
   "cell_type": "markdown",
   "id": "20799158",
   "metadata": {},
   "source": [
    "# Top 10"
   ]
  },
  {
   "cell_type": "code",
   "execution_count": 135,
   "id": "6a4b1ced",
   "metadata": {
    "scrolled": true
   },
   "outputs": [
    {
     "data": {
      "text/html": [
       "<div>\n",
       "<style scoped>\n",
       "    .dataframe tbody tr th:only-of-type {\n",
       "        vertical-align: middle;\n",
       "    }\n",
       "\n",
       "    .dataframe tbody tr th {\n",
       "        vertical-align: top;\n",
       "    }\n",
       "\n",
       "    .dataframe thead th {\n",
       "        text-align: right;\n",
       "    }\n",
       "</style>\n",
       "<table border=\"1\" class=\"dataframe\">\n",
       "  <thead>\n",
       "    <tr style=\"text-align: right;\">\n",
       "      <th></th>\n",
       "      <th></th>\n",
       "      <th>Utilidad</th>\n",
       "    </tr>\n",
       "    <tr>\n",
       "      <th>Cultivo_Categoría</th>\n",
       "      <th>Zona_Ranking</th>\n",
       "      <th></th>\n",
       "    </tr>\n",
       "  </thead>\n",
       "  <tbody>\n",
       "    <tr>\n",
       "      <th rowspan=\"2\" valign=\"top\">Vides</th>\n",
       "      <th>01 Norte</th>\n",
       "      <td>5.201897e+06</td>\n",
       "    </tr>\n",
       "    <tr>\n",
       "      <th>04 Chile/Perú</th>\n",
       "      <td>5.138181e+06</td>\n",
       "    </tr>\n",
       "    <tr>\n",
       "      <th>Berries</th>\n",
       "      <th>02 Pacífico</th>\n",
       "      <td>2.417092e+06</td>\n",
       "    </tr>\n",
       "    <tr>\n",
       "      <th>Granos</th>\n",
       "      <th>05 Zona 2</th>\n",
       "      <td>2.134339e+06</td>\n",
       "    </tr>\n",
       "    <tr>\n",
       "      <th rowspan=\"3\" valign=\"top\">Hortalizas</th>\n",
       "      <th>01 Norte</th>\n",
       "      <td>1.789719e+06</td>\n",
       "    </tr>\n",
       "    <tr>\n",
       "      <th>02 Pacífico</th>\n",
       "      <td>1.290194e+06</td>\n",
       "    </tr>\n",
       "    <tr>\n",
       "      <th>06 IqChem</th>\n",
       "      <td>1.174007e+06</td>\n",
       "    </tr>\n",
       "    <tr>\n",
       "      <th rowspan=\"3\" valign=\"top\">Frutales siempre verdes</th>\n",
       "      <th>07 Zona 1</th>\n",
       "      <td>1.085731e+06</td>\n",
       "    </tr>\n",
       "    <tr>\n",
       "      <th>02 Pacífico</th>\n",
       "      <td>9.358669e+05</td>\n",
       "    </tr>\n",
       "    <tr>\n",
       "      <th>03 Sureste</th>\n",
       "      <td>8.940348e+05</td>\n",
       "    </tr>\n",
       "  </tbody>\n",
       "</table>\n",
       "</div>"
      ],
      "text/plain": [
       "                                           Utilidad\n",
       "Cultivo_Categoría       Zona_Ranking               \n",
       "Vides                   01 Norte       5.201897e+06\n",
       "                        04 Chile/Perú  5.138181e+06\n",
       "Berries                 02 Pacífico    2.417092e+06\n",
       "Granos                  05 Zona 2      2.134339e+06\n",
       "Hortalizas              01 Norte       1.789719e+06\n",
       "                        02 Pacífico    1.290194e+06\n",
       "                        06 IqChem      1.174007e+06\n",
       "Frutales siempre verdes 07 Zona 1      1.085731e+06\n",
       "                        02 Pacífico    9.358669e+05\n",
       "                        03 Sureste     8.940348e+05"
      ]
     },
     "execution_count": 135,
     "metadata": {},
     "output_type": "execute_result"
    }
   ],
   "source": [
    "DetalleCito2022 = Ventas_zona_producto_cultivo_Cito_2022.groupby(['Cultivo_Categoría','Zona_Ranking']).agg({'Utilidad': 'sum'})\n",
    "DetalleCito2022_sorted = DetalleCito2022.sort_values(by=['Utilidad'],ascending=False)\n",
    "DetalleCito2022_sorted.head(10)\n"
   ]
  },
  {
   "cell_type": "code",
   "execution_count": 136,
   "id": "98ec32fe",
   "metadata": {},
   "outputs": [
    {
     "name": "stdout",
     "output_type": "stream",
     "text": [
      "$22.061 M\n"
     ]
    }
   ],
   "source": [
    "print('${:,.3f} M'.format(DetalleCito2022_sorted['Utilidad'].head(10).sum()/1000000))"
   ]
  },
  {
   "cell_type": "markdown",
   "id": "0af7ea6a",
   "metadata": {},
   "source": [
    "# Raíz/ Suelo, 2022"
   ]
  },
  {
   "cell_type": "markdown",
   "id": "07bd8d0f",
   "metadata": {},
   "source": [
    "# Valor de RaízSuelo y lo que representa respecto a utilidad total"
   ]
  },
  {
   "cell_type": "code",
   "execution_count": 137,
   "id": "43ef131c",
   "metadata": {
    "scrolled": true
   },
   "outputs": [
    {
     "name": "stdout",
     "output_type": "stream",
     "text": [
      "$18.852 M\n",
      "25.5 %\n"
     ]
    }
   ],
   "source": [
    "utilidadtotal2022 = Ventas_zona_producto_cultivo_2022['Utilidad'].sum()\n",
    "utilidadsuelo2022 = Ventas_zona_producto_cultivo_Suelo_2022['Utilidad'].sum()\n",
    "print ('${:,.3f} M'.format(Ventas_zona_producto_cultivo_Suelo_2022['Utilidad'].sum()/1000000) )\n",
    "print ('{:,.1f} %'.format(utilidadsuelo2022*100/ utilidadtotal2022))\n"
   ]
  },
  {
   "cell_type": "code",
   "execution_count": 138,
   "id": "df72175a",
   "metadata": {
    "scrolled": true
   },
   "outputs": [
    {
     "data": {
      "image/png": "[encoded data removed]",
      "text/plain": [
       "<Figure size 432x288 with 1 Axes>"
      ]
     },
     "metadata": {
      "needs_background": "light"
     },
     "output_type": "display_data"
    }
   ],
   "source": [
    "ResumenporHorizonteyEmp_Suelo = Ventas_zona_producto_cultivo_Suelo_2022.groupby(['Zona_Ranking','Producto_']).agg({'Utilidad': 'sum'}).reset_index()\n",
    "ResumenporHorizonteyEmp_Suelo_ = Ventas_zona_producto_cultivo_Suelo_2022.groupby(['Zona_Ranking','Producto_']).agg({'Utilidad': 'sum'})\n",
    "ResumenporHorizonteyEmp_Suelo_df = pd.DataFrame(ResumenporHorizonteyEmp_Suelo_.unstack(level = 1))\n",
    "ResumenporHorizonteyEmp_Suelo_df.plot.bar(stacked=True)\n",
    "plt.legend(loc='center left', bbox_to_anchor=(1.0, 0.5))\n",
    "plt.show()\n"
   ]
  },
  {
   "cell_type": "code",
   "execution_count": 139,
   "id": "0344d657",
   "metadata": {},
   "outputs": [
    {
     "data": {
      "text/html": [
       "<div>\n",
       "<style scoped>\n",
       "    .dataframe tbody tr th:only-of-type {\n",
       "        vertical-align: middle;\n",
       "    }\n",
       "\n",
       "    .dataframe tbody tr th {\n",
       "        vertical-align: top;\n",
       "    }\n",
       "\n",
       "    .dataframe thead th {\n",
       "        text-align: right;\n",
       "    }\n",
       "</style>\n",
       "<table border=\"1\" class=\"dataframe\">\n",
       "  <thead>\n",
       "    <tr style=\"text-align: right;\">\n",
       "      <th></th>\n",
       "      <th>Utilidad</th>\n",
       "    </tr>\n",
       "    <tr>\n",
       "      <th>Zona_Ranking</th>\n",
       "      <th></th>\n",
       "    </tr>\n",
       "  </thead>\n",
       "  <tbody>\n",
       "    <tr>\n",
       "      <th>01 Norte</th>\n",
       "      <td>4.085168e+06</td>\n",
       "    </tr>\n",
       "    <tr>\n",
       "      <th>02 Pacífico</th>\n",
       "      <td>5.036447e+06</td>\n",
       "    </tr>\n",
       "    <tr>\n",
       "      <th>03 Sureste</th>\n",
       "      <td>1.801147e+06</td>\n",
       "    </tr>\n",
       "    <tr>\n",
       "      <th>04 Chile/Perú</th>\n",
       "      <td>3.697593e+06</td>\n",
       "    </tr>\n",
       "    <tr>\n",
       "      <th>05 Zona 2</th>\n",
       "      <td>7.070623e+05</td>\n",
       "    </tr>\n",
       "    <tr>\n",
       "      <th>06 IqChem</th>\n",
       "      <td>8.982571e+05</td>\n",
       "    </tr>\n",
       "    <tr>\n",
       "      <th>07 Zona 1</th>\n",
       "      <td>1.800440e+06</td>\n",
       "    </tr>\n",
       "    <tr>\n",
       "      <th>08 Ecu,Col,EUA</th>\n",
       "      <td>8.256047e+05</td>\n",
       "    </tr>\n",
       "  </tbody>\n",
       "</table>\n",
       "</div>"
      ],
      "text/plain": [
       "                    Utilidad\n",
       "Zona_Ranking                \n",
       "01 Norte        4.085168e+06\n",
       "02 Pacífico     5.036447e+06\n",
       "03 Sureste      1.801147e+06\n",
       "04 Chile/Perú   3.697593e+06\n",
       "05 Zona 2       7.070623e+05\n",
       "06 IqChem       8.982571e+05\n",
       "07 Zona 1       1.800440e+06\n",
       "08 Ecu,Col,EUA  8.256047e+05"
      ]
     },
     "execution_count": 139,
     "metadata": {},
     "output_type": "execute_result"
    }
   ],
   "source": [
    "Ventas_zona_Suelo_2022 = Ventas_zona_producto_cultivo_Suelo_2022.groupby(['Zona_Ranking']).agg({'Utilidad': 'sum'})\n",
    "Ventas_zona_Suelo_2022.head(20)"
   ]
  },
  {
   "cell_type": "markdown",
   "id": "95bd0153",
   "metadata": {},
   "source": [
    "# Top 10 "
   ]
  },
  {
   "cell_type": "code",
   "execution_count": 140,
   "id": "1149227d",
   "metadata": {
    "scrolled": true
   },
   "outputs": [
    {
     "data": {
      "text/html": [
       "<div>\n",
       "<style scoped>\n",
       "    .dataframe tbody tr th:only-of-type {\n",
       "        vertical-align: middle;\n",
       "    }\n",
       "\n",
       "    .dataframe tbody tr th {\n",
       "        vertical-align: top;\n",
       "    }\n",
       "\n",
       "    .dataframe thead th {\n",
       "        text-align: right;\n",
       "    }\n",
       "</style>\n",
       "<table border=\"1\" class=\"dataframe\">\n",
       "  <thead>\n",
       "    <tr style=\"text-align: right;\">\n",
       "      <th></th>\n",
       "      <th></th>\n",
       "      <th>Utilidad</th>\n",
       "    </tr>\n",
       "    <tr>\n",
       "      <th>Cultivo_Categoría</th>\n",
       "      <th>Zona_Ranking</th>\n",
       "      <th></th>\n",
       "    </tr>\n",
       "  </thead>\n",
       "  <tbody>\n",
       "    <tr>\n",
       "      <th>Berries</th>\n",
       "      <th>02 Pacífico</th>\n",
       "      <td>2.441932e+06</td>\n",
       "    </tr>\n",
       "    <tr>\n",
       "      <th>Hortalizas</th>\n",
       "      <th>01 Norte</th>\n",
       "      <td>1.927666e+06</td>\n",
       "    </tr>\n",
       "    <tr>\n",
       "      <th>Vides</th>\n",
       "      <th>04 Chile/Perú</th>\n",
       "      <td>1.819498e+06</td>\n",
       "    </tr>\n",
       "    <tr>\n",
       "      <th>Frutales siempre verdes</th>\n",
       "      <th>02 Pacífico</th>\n",
       "      <td>1.375694e+06</td>\n",
       "    </tr>\n",
       "    <tr>\n",
       "      <th>Hortalizas</th>\n",
       "      <th>02 Pacífico</th>\n",
       "      <td>9.959883e+05</td>\n",
       "    </tr>\n",
       "    <tr>\n",
       "      <th>Frutales siempre verdes</th>\n",
       "      <th>07 Zona 1</th>\n",
       "      <td>7.713685e+05</td>\n",
       "    </tr>\n",
       "    <tr>\n",
       "      <th>Granos</th>\n",
       "      <th>01 Norte</th>\n",
       "      <td>7.446382e+05</td>\n",
       "    </tr>\n",
       "    <tr>\n",
       "      <th>Hortalizas</th>\n",
       "      <th>03 Sureste</th>\n",
       "      <td>7.369814e+05</td>\n",
       "    </tr>\n",
       "    <tr>\n",
       "      <th>Vides</th>\n",
       "      <th>01 Norte</th>\n",
       "      <td>7.231719e+05</td>\n",
       "    </tr>\n",
       "    <tr>\n",
       "      <th>Frutal caducifolio</th>\n",
       "      <th>04 Chile/Perú</th>\n",
       "      <td>6.701109e+05</td>\n",
       "    </tr>\n",
       "  </tbody>\n",
       "</table>\n",
       "</div>"
      ],
      "text/plain": [
       "                                           Utilidad\n",
       "Cultivo_Categoría       Zona_Ranking               \n",
       "Berries                 02 Pacífico    2.441932e+06\n",
       "Hortalizas              01 Norte       1.927666e+06\n",
       "Vides                   04 Chile/Perú  1.819498e+06\n",
       "Frutales siempre verdes 02 Pacífico    1.375694e+06\n",
       "Hortalizas              02 Pacífico    9.959883e+05\n",
       "Frutales siempre verdes 07 Zona 1      7.713685e+05\n",
       "Granos                  01 Norte       7.446382e+05\n",
       "Hortalizas              03 Sureste     7.369814e+05\n",
       "Vides                   01 Norte       7.231719e+05\n",
       "Frutal caducifolio      04 Chile/Perú  6.701109e+05"
      ]
     },
     "execution_count": 140,
     "metadata": {},
     "output_type": "execute_result"
    }
   ],
   "source": [
    "DetalleSuelo2022 = Ventas_zona_producto_cultivo_Suelo_2022.groupby(['Cultivo_Categoría','Zona_Ranking']).agg({'Utilidad': 'sum'})\n",
    "DetalleSuelo2022_sorted = DetalleSuelo2022.sort_values(by=['Utilidad'],ascending=False)\n",
    "DetalleSuelo2022_sorted.head(10)"
   ]
  },
  {
   "cell_type": "code",
   "execution_count": 141,
   "id": "1e8b3bfa",
   "metadata": {},
   "outputs": [
    {
     "name": "stdout",
     "output_type": "stream",
     "text": [
      "$12.207 M\n"
     ]
    }
   ],
   "source": [
    "print('${:,.3f} M'.format(DetalleSuelo2022_sorted['Utilidad'].head(10).sum()/1000000))"
   ]
  },
  {
   "cell_type": "markdown",
   "id": "ffd5dd47",
   "metadata": {},
   "source": [
    "# Bioestimulante, 2022"
   ]
  },
  {
   "cell_type": "markdown",
   "id": "c94fce5b",
   "metadata": {},
   "source": [
    "# Valor de Bioestimulante y lo que representa respecto a utilidad total"
   ]
  },
  {
   "cell_type": "code",
   "execution_count": 142,
   "id": "86992028",
   "metadata": {
    "scrolled": true
   },
   "outputs": [
    {
     "name": "stdout",
     "output_type": "stream",
     "text": [
      "$12.030 M\n",
      "16.3 %\n"
     ]
    }
   ],
   "source": [
    "utilidadtotal2022 = Ventas_zona_producto_cultivo_2022['Utilidad'].sum()\n",
    "utilidadbioest2022 = Ventas_zona_producto_cultivo_Bioest_2022['Utilidad'].sum()\n",
    "print ('${:,.3f} M'.format(Ventas_zona_producto_cultivo_Bioest_2022['Utilidad'].sum()/1000000) )\n",
    "print ('{:,.1f} %'.format(utilidadbioest2022*100/ utilidadtotal2022))\n"
   ]
  },
  {
   "cell_type": "code",
   "execution_count": 143,
   "id": "ca8695a8",
   "metadata": {
    "scrolled": false
   },
   "outputs": [
    {
     "data": {
      "image/png": "[encoded data removed]",
      "text/plain": [
       "<Figure size 432x288 with 1 Axes>"
      ]
     },
     "metadata": {
      "needs_background": "light"
     },
     "output_type": "display_data"
    }
   ],
   "source": [
    "ResumenporHorizonteyEmp_Bioest = Ventas_zona_producto_cultivo_Bioest_2022.groupby(['Zona_Ranking','Producto_']).agg({'Utilidad': 'sum'}).reset_index()\n",
    "ResumenporHorizonteyEmp_Bioest_ = Ventas_zona_producto_cultivo_Bioest_2022.groupby(['Zona_Ranking','Producto_']).agg({'Utilidad': 'sum'})\n",
    "ResumenporHorizonteyEmp_Bioest_df = pd.DataFrame(ResumenporHorizonteyEmp_Bioest_.unstack(level = 1))\n",
    "ResumenporHorizonteyEmp_Bioest_df.plot.bar(stacked=True)\n",
    "plt.legend(loc='center left', bbox_to_anchor=(1.0, 0.5))\n",
    "plt.show()\n"
   ]
  },
  {
   "cell_type": "code",
   "execution_count": 144,
   "id": "0b434f5e",
   "metadata": {},
   "outputs": [
    {
     "data": {
      "text/html": [
       "<div>\n",
       "<style scoped>\n",
       "    .dataframe tbody tr th:only-of-type {\n",
       "        vertical-align: middle;\n",
       "    }\n",
       "\n",
       "    .dataframe tbody tr th {\n",
       "        vertical-align: top;\n",
       "    }\n",
       "\n",
       "    .dataframe thead th {\n",
       "        text-align: right;\n",
       "    }\n",
       "</style>\n",
       "<table border=\"1\" class=\"dataframe\">\n",
       "  <thead>\n",
       "    <tr style=\"text-align: right;\">\n",
       "      <th></th>\n",
       "      <th>Utilidad</th>\n",
       "    </tr>\n",
       "    <tr>\n",
       "      <th>Zona_Ranking</th>\n",
       "      <th></th>\n",
       "    </tr>\n",
       "  </thead>\n",
       "  <tbody>\n",
       "    <tr>\n",
       "      <th>01 Norte</th>\n",
       "      <td>2.854904e+06</td>\n",
       "    </tr>\n",
       "    <tr>\n",
       "      <th>02 Pacífico</th>\n",
       "      <td>1.801548e+06</td>\n",
       "    </tr>\n",
       "    <tr>\n",
       "      <th>03 Sureste</th>\n",
       "      <td>2.310132e+06</td>\n",
       "    </tr>\n",
       "    <tr>\n",
       "      <th>04 Chile/Perú</th>\n",
       "      <td>1.112511e+05</td>\n",
       "    </tr>\n",
       "    <tr>\n",
       "      <th>05 Zona 2</th>\n",
       "      <td>2.616822e+06</td>\n",
       "    </tr>\n",
       "    <tr>\n",
       "      <th>06 IqChem</th>\n",
       "      <td>1.274876e+06</td>\n",
       "    </tr>\n",
       "    <tr>\n",
       "      <th>07 Zona 1</th>\n",
       "      <td>5.583677e+05</td>\n",
       "    </tr>\n",
       "    <tr>\n",
       "      <th>08 Ecu,Col,EUA</th>\n",
       "      <td>5.024850e+05</td>\n",
       "    </tr>\n",
       "  </tbody>\n",
       "</table>\n",
       "</div>"
      ],
      "text/plain": [
       "                    Utilidad\n",
       "Zona_Ranking                \n",
       "01 Norte        2.854904e+06\n",
       "02 Pacífico     1.801548e+06\n",
       "03 Sureste      2.310132e+06\n",
       "04 Chile/Perú   1.112511e+05\n",
       "05 Zona 2       2.616822e+06\n",
       "06 IqChem       1.274876e+06\n",
       "07 Zona 1       5.583677e+05\n",
       "08 Ecu,Col,EUA  5.024850e+05"
      ]
     },
     "execution_count": 144,
     "metadata": {},
     "output_type": "execute_result"
    }
   ],
   "source": [
    "Ventas_zona_Bioest_2022 = Ventas_zona_producto_cultivo_Bioest_2022.groupby(['Zona_Ranking']).agg({'Utilidad': 'sum'})\n",
    "Ventas_zona_Bioest_2022.head(20)"
   ]
  },
  {
   "cell_type": "markdown",
   "id": "e4b3901e",
   "metadata": {},
   "source": [
    "# Top 10 "
   ]
  },
  {
   "cell_type": "code",
   "execution_count": 145,
   "id": "dc09b9f7",
   "metadata": {
    "scrolled": true
   },
   "outputs": [
    {
     "data": {
      "text/html": [
       "<div>\n",
       "<style scoped>\n",
       "    .dataframe tbody tr th:only-of-type {\n",
       "        vertical-align: middle;\n",
       "    }\n",
       "\n",
       "    .dataframe tbody tr th {\n",
       "        vertical-align: top;\n",
       "    }\n",
       "\n",
       "    .dataframe thead th {\n",
       "        text-align: right;\n",
       "    }\n",
       "</style>\n",
       "<table border=\"1\" class=\"dataframe\">\n",
       "  <thead>\n",
       "    <tr style=\"text-align: right;\">\n",
       "      <th></th>\n",
       "      <th></th>\n",
       "      <th>Utilidad</th>\n",
       "    </tr>\n",
       "    <tr>\n",
       "      <th>Cultivo_Categoría</th>\n",
       "      <th>Zona_Ranking</th>\n",
       "      <th></th>\n",
       "    </tr>\n",
       "  </thead>\n",
       "  <tbody>\n",
       "    <tr>\n",
       "      <th>Frutales siempre verdes</th>\n",
       "      <th>05 Zona 2</th>\n",
       "      <td>2.353494e+06</td>\n",
       "    </tr>\n",
       "    <tr>\n",
       "      <th>Vides</th>\n",
       "      <th>01 Norte</th>\n",
       "      <td>1.346029e+06</td>\n",
       "    </tr>\n",
       "    <tr>\n",
       "      <th rowspan=\"2\" valign=\"top\">Frutales siempre verdes</th>\n",
       "      <th>03 Sureste</th>\n",
       "      <td>1.307618e+06</td>\n",
       "    </tr>\n",
       "    <tr>\n",
       "      <th>06 IqChem</th>\n",
       "      <td>7.678785e+05</td>\n",
       "    </tr>\n",
       "    <tr>\n",
       "      <th>Hortalizas</th>\n",
       "      <th>02 Pacífico</th>\n",
       "      <td>7.605819e+05</td>\n",
       "    </tr>\n",
       "    <tr>\n",
       "      <th>Cucurbitácea</th>\n",
       "      <th>01 Norte</th>\n",
       "      <td>6.534636e+05</td>\n",
       "    </tr>\n",
       "    <tr>\n",
       "      <th>Frutales siempre verdes</th>\n",
       "      <th>02 Pacífico</th>\n",
       "      <td>6.227441e+05</td>\n",
       "    </tr>\n",
       "    <tr>\n",
       "      <th>Hortalizas</th>\n",
       "      <th>01 Norte</th>\n",
       "      <td>5.938536e+05</td>\n",
       "    </tr>\n",
       "    <tr>\n",
       "      <th>Industriales</th>\n",
       "      <th>03 Sureste</th>\n",
       "      <td>3.722083e+05</td>\n",
       "    </tr>\n",
       "    <tr>\n",
       "      <th>Hortalizas</th>\n",
       "      <th>03 Sureste</th>\n",
       "      <td>3.148482e+05</td>\n",
       "    </tr>\n",
       "  </tbody>\n",
       "</table>\n",
       "</div>"
      ],
      "text/plain": [
       "                                          Utilidad\n",
       "Cultivo_Categoría       Zona_Ranking              \n",
       "Frutales siempre verdes 05 Zona 2     2.353494e+06\n",
       "Vides                   01 Norte      1.346029e+06\n",
       "Frutales siempre verdes 03 Sureste    1.307618e+06\n",
       "                        06 IqChem     7.678785e+05\n",
       "Hortalizas              02 Pacífico   7.605819e+05\n",
       "Cucurbitácea            01 Norte      6.534636e+05\n",
       "Frutales siempre verdes 02 Pacífico   6.227441e+05\n",
       "Hortalizas              01 Norte      5.938536e+05\n",
       "Industriales            03 Sureste    3.722083e+05\n",
       "Hortalizas              03 Sureste    3.148482e+05"
      ]
     },
     "execution_count": 145,
     "metadata": {},
     "output_type": "execute_result"
    }
   ],
   "source": [
    "DetalleBioest2022 = Ventas_zona_producto_cultivo_Bioest_2022.groupby(['Cultivo_Categoría','Zona_Ranking']).agg({'Utilidad': 'sum'})\n",
    "DetalleBioest2022_sorted = DetalleBioest2022.sort_values(by=['Utilidad'],ascending=False)\n",
    "DetalleBioest2022_sorted.head(10)"
   ]
  },
  {
   "cell_type": "code",
   "execution_count": 146,
   "id": "b2b3d85b",
   "metadata": {},
   "outputs": [
    {
     "name": "stdout",
     "output_type": "stream",
     "text": [
      "$9.093 M\n"
     ]
    }
   ],
   "source": [
    "print('${:,.3f} M'.format(DetalleBioest2022_sorted['Utilidad'].head(10).sum()/1000000))"
   ]
  },
  {
   "cell_type": "markdown",
   "id": "fb253c42",
   "metadata": {},
   "source": [
    "# Coady 2022"
   ]
  },
  {
   "cell_type": "markdown",
   "id": "1b7a5100",
   "metadata": {},
   "source": [
    "# Valor de Coadyuvante y lo que  representa respecto a utilidad total "
   ]
  },
  {
   "cell_type": "code",
   "execution_count": 147,
   "id": "4774ca81",
   "metadata": {
    "scrolled": true
   },
   "outputs": [
    {
     "name": "stdout",
     "output_type": "stream",
     "text": [
      "$10.581 M\n",
      "14.3 %\n"
     ]
    }
   ],
   "source": [
    "utilidadtotal2022 = Ventas_zona_producto_cultivo_2022['Utilidad'].sum()\n",
    "utilidadcoady2022 = Ventas_zona_producto_cultivo_Coady_2022['Utilidad'].sum()\n",
    "print ('${:,.3f} M'.format(Ventas_zona_producto_cultivo_Coady_2022['Utilidad'].sum()/1000000) )\n",
    "print ('{:,.1f} %'.format(utilidadcoady2022*100/ utilidadtotal2022))"
   ]
  },
  {
   "cell_type": "code",
   "execution_count": 148,
   "id": "ae088900",
   "metadata": {
    "scrolled": false
   },
   "outputs": [
    {
     "data": {
      "image/png": "[encoded data removed]",
      "text/plain": [
       "<Figure size 432x288 with 1 Axes>"
      ]
     },
     "metadata": {
      "needs_background": "light"
     },
     "output_type": "display_data"
    }
   ],
   "source": [
    "ResumenporHorizonteyEmp_Coady = Ventas_zona_producto_cultivo_Coady_2022.groupby(['Zona_Ranking','Producto_']).agg({'Utilidad': 'sum'}).reset_index()\n",
    "ResumenporHorizonteyEmp_Coady_ = Ventas_zona_producto_cultivo_Coady_2022.groupby(['Zona_Ranking','Producto_']).agg({'Utilidad': 'sum'})\n",
    "ResumenporHorizonteyEmp_Coady_df = pd.DataFrame(ResumenporHorizonteyEmp_Coady_.unstack(level = 1))\n",
    "ResumenporHorizonteyEmp_Coady_df.plot.bar(stacked=True)\n",
    "plt.legend(loc='center left', bbox_to_anchor=(1.0, 0.5))\n",
    "plt.show()\n"
   ]
  },
  {
   "cell_type": "code",
   "execution_count": 149,
   "id": "5d1effd9",
   "metadata": {},
   "outputs": [
    {
     "data": {
      "text/html": [
       "<div>\n",
       "<style scoped>\n",
       "    .dataframe tbody tr th:only-of-type {\n",
       "        vertical-align: middle;\n",
       "    }\n",
       "\n",
       "    .dataframe tbody tr th {\n",
       "        vertical-align: top;\n",
       "    }\n",
       "\n",
       "    .dataframe thead th {\n",
       "        text-align: right;\n",
       "    }\n",
       "</style>\n",
       "<table border=\"1\" class=\"dataframe\">\n",
       "  <thead>\n",
       "    <tr style=\"text-align: right;\">\n",
       "      <th></th>\n",
       "      <th>Utilidad</th>\n",
       "    </tr>\n",
       "    <tr>\n",
       "      <th>Zona_Ranking</th>\n",
       "      <th></th>\n",
       "    </tr>\n",
       "  </thead>\n",
       "  <tbody>\n",
       "    <tr>\n",
       "      <th>01 Norte</th>\n",
       "      <td>2.129697e+06</td>\n",
       "    </tr>\n",
       "    <tr>\n",
       "      <th>02 Pacífico</th>\n",
       "      <td>2.582261e+06</td>\n",
       "    </tr>\n",
       "    <tr>\n",
       "      <th>03 Sureste</th>\n",
       "      <td>1.374562e+06</td>\n",
       "    </tr>\n",
       "    <tr>\n",
       "      <th>05 Zona 2</th>\n",
       "      <td>2.171987e+06</td>\n",
       "    </tr>\n",
       "    <tr>\n",
       "      <th>06 IqChem</th>\n",
       "      <td>1.163459e+06</td>\n",
       "    </tr>\n",
       "    <tr>\n",
       "      <th>07 Zona 1</th>\n",
       "      <td>1.085841e+06</td>\n",
       "    </tr>\n",
       "    <tr>\n",
       "      <th>08 Ecu,Col,EUA</th>\n",
       "      <td>7.292258e+04</td>\n",
       "    </tr>\n",
       "  </tbody>\n",
       "</table>\n",
       "</div>"
      ],
      "text/plain": [
       "                    Utilidad\n",
       "Zona_Ranking                \n",
       "01 Norte        2.129697e+06\n",
       "02 Pacífico     2.582261e+06\n",
       "03 Sureste      1.374562e+06\n",
       "05 Zona 2       2.171987e+06\n",
       "06 IqChem       1.163459e+06\n",
       "07 Zona 1       1.085841e+06\n",
       "08 Ecu,Col,EUA  7.292258e+04"
      ]
     },
     "execution_count": 149,
     "metadata": {},
     "output_type": "execute_result"
    }
   ],
   "source": [
    "Ventas_zona_Coady_2022 = Ventas_zona_producto_cultivo_Coady_2022.groupby(['Zona_Ranking']).agg({'Utilidad': 'sum'})\n",
    "Ventas_zona_Coady_2022.head(20)"
   ]
  },
  {
   "cell_type": "markdown",
   "id": "83b0c092",
   "metadata": {},
   "source": [
    "# Análisis Mx vs \"Internacional\""
   ]
  },
  {
   "cell_type": "markdown",
   "id": "44cc1876",
   "metadata": {},
   "source": [
    "# Cito en México, 2022\n"
   ]
  },
  {
   "cell_type": "code",
   "execution_count": 150,
   "id": "4423a496",
   "metadata": {},
   "outputs": [
    {
     "name": "stdout",
     "output_type": "stream",
     "text": [
      "$56.772 M\n"
     ]
    }
   ],
   "source": [
    "print ('${:,.3f} M'.format(CitoMx['Utilidad'].sum()/1000000) )\n"
   ]
  },
  {
   "cell_type": "code",
   "execution_count": 151,
   "id": "4ac9610f",
   "metadata": {
    "scrolled": true
   },
   "outputs": [
    {
     "data": {
      "text/plain": [
       "<AxesSubplot:xlabel='Cultivo_Categoría_Ranking'>"
      ]
     },
     "execution_count": 151,
     "metadata": {},
     "output_type": "execute_result"
    },
    {
     "data": {
      "image/png": "[encoded data removed]",
      "text/plain": [
       "<Figure size 432x288 with 1 Axes>"
      ]
     },
     "metadata": {
      "needs_background": "light"
     },
     "output_type": "display_data"
    }
   ],
   "source": [
    "ResumenporCultyZona_CitoMx = CitoMx.groupby(['Cultivo_Categoría_Ranking','Zona_Ranking']).agg({'Utilidad': 'sum'})\n",
    "ResumenporCultyZona_CitoMx_df = pd.DataFrame(ResumenporCultyZona_CitoMx.unstack(level = 1))\n",
    "ResumenporCultyZona_CitoMx_df.plot(kind = 'bar')"
   ]
  },
  {
   "cell_type": "code",
   "execution_count": 152,
   "id": "bbee6f73",
   "metadata": {},
   "outputs": [
    {
     "data": {
      "text/html": [
       "<div>\n",
       "<style scoped>\n",
       "    .dataframe tbody tr th:only-of-type {\n",
       "        vertical-align: middle;\n",
       "    }\n",
       "\n",
       "    .dataframe tbody tr th {\n",
       "        vertical-align: top;\n",
       "    }\n",
       "\n",
       "    .dataframe thead th {\n",
       "        text-align: right;\n",
       "    }\n",
       "</style>\n",
       "<table border=\"1\" class=\"dataframe\">\n",
       "  <thead>\n",
       "    <tr style=\"text-align: right;\">\n",
       "      <th></th>\n",
       "      <th>Utilidad</th>\n",
       "    </tr>\n",
       "    <tr>\n",
       "      <th>Cultivo_Categoría_Ranking</th>\n",
       "      <th></th>\n",
       "    </tr>\n",
       "  </thead>\n",
       "  <tbody>\n",
       "    <tr>\n",
       "      <th>02 Frutales siempre verdes</th>\n",
       "      <td>7.614530e+06</td>\n",
       "    </tr>\n",
       "    <tr>\n",
       "      <th>03 Hortalizas</th>\n",
       "      <td>2.011865e+07</td>\n",
       "    </tr>\n",
       "    <tr>\n",
       "      <th>04 Vides</th>\n",
       "      <td>5.767548e+06</td>\n",
       "    </tr>\n",
       "    <tr>\n",
       "      <th>05 Berries</th>\n",
       "      <td>9.181705e+06</td>\n",
       "    </tr>\n",
       "    <tr>\n",
       "      <th>06 Granos</th>\n",
       "      <td>7.186166e+05</td>\n",
       "    </tr>\n",
       "    <tr>\n",
       "      <th>08 Industriales</th>\n",
       "      <td>7.085272e+06</td>\n",
       "    </tr>\n",
       "    <tr>\n",
       "      <th>09 Cucurbitácea</th>\n",
       "      <td>3.798479e+06</td>\n",
       "    </tr>\n",
       "    <tr>\n",
       "      <th>10 Frutal caducifolio</th>\n",
       "      <td>7.810223e+05</td>\n",
       "    </tr>\n",
       "    <tr>\n",
       "      <th>11 Ornamental</th>\n",
       "      <td>1.382509e+06</td>\n",
       "    </tr>\n",
       "    <tr>\n",
       "      <th>51 Leguminosa</th>\n",
       "      <td>3.238378e+05</td>\n",
       "    </tr>\n",
       "  </tbody>\n",
       "</table>\n",
       "</div>"
      ],
      "text/plain": [
       "                                Utilidad\n",
       "Cultivo_Categoría_Ranking               \n",
       "02 Frutales siempre verdes  7.614530e+06\n",
       "03 Hortalizas               2.011865e+07\n",
       "04 Vides                    5.767548e+06\n",
       "05 Berries                  9.181705e+06\n",
       "06 Granos                   7.186166e+05\n",
       "08 Industriales             7.085272e+06\n",
       "09 Cucurbitácea             3.798479e+06\n",
       "10 Frutal caducifolio       7.810223e+05\n",
       "11 Ornamental               1.382509e+06\n",
       "51 Leguminosa               3.238378e+05"
      ]
     },
     "execution_count": 152,
     "metadata": {},
     "output_type": "execute_result"
    }
   ],
   "source": [
    "ResumenporCultyZona_CitoMx2 = CitoMx.groupby(['Cultivo_Categoría_Ranking']).agg({'Utilidad': 'sum'})\n",
    "ResumenporCultyZona_CitoMx2.head(20)"
   ]
  },
  {
   "cell_type": "markdown",
   "id": "e27ad607",
   "metadata": {},
   "source": [
    "# Cito en demás empresas"
   ]
  },
  {
   "cell_type": "code",
   "execution_count": 153,
   "id": "d221199b",
   "metadata": {},
   "outputs": [
    {
     "name": "stdout",
     "output_type": "stream",
     "text": [
      "$63.060 M\n"
     ]
    }
   ],
   "source": [
    "print ('${:,.3f} M'.format(CitoIntnl['Utilidad'].sum()/1000000) )"
   ]
  },
  {
   "cell_type": "code",
   "execution_count": 154,
   "id": "7bbaedbf",
   "metadata": {},
   "outputs": [
    {
     "data": {
      "text/plain": [
       "<AxesSubplot:xlabel='Cultivo_Categoría_Ranking'>"
      ]
     },
     "execution_count": 154,
     "metadata": {},
     "output_type": "execute_result"
    },
    {
     "data": {
      "image/png": "[encoded data removed]",
      "text/plain": [
       "<Figure size 432x288 with 1 Axes>"
      ]
     },
     "metadata": {
      "needs_background": "light"
     },
     "output_type": "display_data"
    }
   ],
   "source": [
    "ResumenporCultyZona_CitoIntnl = CitoIntnl.groupby(['Cultivo_Categoría_Ranking','Zona_Ranking']).agg({'Utilidad': 'sum'})\n",
    "ResumenporCultyZona_CitoIntnl_df = pd.DataFrame(ResumenporCultyZona_CitoIntnl.unstack(level = 1))\n",
    "ResumenporCultyZona_CitoIntnl_df.plot(kind = 'bar')"
   ]
  },
  {
   "cell_type": "code",
   "execution_count": 155,
   "id": "08c8f0eb",
   "metadata": {},
   "outputs": [
    {
     "data": {
      "text/html": [
       "<div>\n",
       "<style scoped>\n",
       "    .dataframe tbody tr th:only-of-type {\n",
       "        vertical-align: middle;\n",
       "    }\n",
       "\n",
       "    .dataframe tbody tr th {\n",
       "        vertical-align: top;\n",
       "    }\n",
       "\n",
       "    .dataframe thead th {\n",
       "        text-align: right;\n",
       "    }\n",
       "</style>\n",
       "<table border=\"1\" class=\"dataframe\">\n",
       "  <thead>\n",
       "    <tr style=\"text-align: right;\">\n",
       "      <th></th>\n",
       "      <th>Utilidad</th>\n",
       "    </tr>\n",
       "    <tr>\n",
       "      <th>Cultivo_Categoría_Ranking</th>\n",
       "      <th></th>\n",
       "    </tr>\n",
       "  </thead>\n",
       "  <tbody>\n",
       "    <tr>\n",
       "      <th>-</th>\n",
       "      <td>7.451368e+03</td>\n",
       "    </tr>\n",
       "    <tr>\n",
       "      <th>02 Frutales siempre verdes</th>\n",
       "      <td>6.519710e+06</td>\n",
       "    </tr>\n",
       "    <tr>\n",
       "      <th>03 Hortalizas</th>\n",
       "      <td>8.522047e+06</td>\n",
       "    </tr>\n",
       "    <tr>\n",
       "      <th>04 Vides</th>\n",
       "      <td>2.746191e+07</td>\n",
       "    </tr>\n",
       "    <tr>\n",
       "      <th>05 Berries</th>\n",
       "      <td>1.108053e+06</td>\n",
       "    </tr>\n",
       "    <tr>\n",
       "      <th>06 Granos</th>\n",
       "      <td>7.770204e+06</td>\n",
       "    </tr>\n",
       "    <tr>\n",
       "      <th>08 Industriales</th>\n",
       "      <td>1.060123e+06</td>\n",
       "    </tr>\n",
       "    <tr>\n",
       "      <th>09 Cucurbitácea</th>\n",
       "      <td>3.005938e+06</td>\n",
       "    </tr>\n",
       "    <tr>\n",
       "      <th>10 Frutal caducifolio</th>\n",
       "      <td>5.380387e+06</td>\n",
       "    </tr>\n",
       "    <tr>\n",
       "      <th>11 Ornamental</th>\n",
       "      <td>5.712177e+05</td>\n",
       "    </tr>\n",
       "    <tr>\n",
       "      <th>13 Forraje</th>\n",
       "      <td>5.969357e+05</td>\n",
       "    </tr>\n",
       "    <tr>\n",
       "      <th>51 Leguminosa</th>\n",
       "      <td>1.055794e+06</td>\n",
       "    </tr>\n",
       "  </tbody>\n",
       "</table>\n",
       "</div>"
      ],
      "text/plain": [
       "                                Utilidad\n",
       "Cultivo_Categoría_Ranking               \n",
       "-                           7.451368e+03\n",
       "02 Frutales siempre verdes  6.519710e+06\n",
       "03 Hortalizas               8.522047e+06\n",
       "04 Vides                    2.746191e+07\n",
       "05 Berries                  1.108053e+06\n",
       "06 Granos                   7.770204e+06\n",
       "08 Industriales             1.060123e+06\n",
       "09 Cucurbitácea             3.005938e+06\n",
       "10 Frutal caducifolio       5.380387e+06\n",
       "11 Ornamental               5.712177e+05\n",
       "13 Forraje                  5.969357e+05\n",
       "51 Leguminosa               1.055794e+06"
      ]
     },
     "execution_count": 155,
     "metadata": {},
     "output_type": "execute_result"
    }
   ],
   "source": [
    "ResumenporCultyZona_CitoIntnl2 = CitoIntnl.groupby(['Cultivo_Categoría_Ranking']).agg({'Utilidad': 'sum'})\n",
    "ResumenporCultyZona_CitoIntnl2.head(20)"
   ]
  },
  {
   "cell_type": "markdown",
   "id": "cec134d6",
   "metadata": {},
   "source": [
    "# Top 10 en México "
   ]
  },
  {
   "cell_type": "code",
   "execution_count": 156,
   "id": "dca743ee",
   "metadata": {
    "scrolled": true
   },
   "outputs": [],
   "source": [
    "ResumenporCultyZona_CitoMx_detalle = CitoMx.groupby(['Cultivo_Categoría','RM/ REIQ_x']).agg({'Utilidad': 'sum'})"
   ]
  },
  {
   "cell_type": "code",
   "execution_count": 157,
   "id": "e35885fe",
   "metadata": {},
   "outputs": [],
   "source": [
    "ResumenporCultyZona_CitoIntnl_detalle = CitoIntnl.groupby(['Cultivo_Categoría','RM/ REIQ_x']).agg({'Utilidad': 'sum'})"
   ]
  },
  {
   "cell_type": "code",
   "execution_count": 158,
   "id": "d5ca98a0",
   "metadata": {
    "scrolled": true
   },
   "outputs": [
    {
     "data": {
      "text/html": [
       "<div>\n",
       "<style scoped>\n",
       "    .dataframe tbody tr th:only-of-type {\n",
       "        vertical-align: middle;\n",
       "    }\n",
       "\n",
       "    .dataframe tbody tr th {\n",
       "        vertical-align: top;\n",
       "    }\n",
       "\n",
       "    .dataframe thead th {\n",
       "        text-align: right;\n",
       "    }\n",
       "</style>\n",
       "<table border=\"1\" class=\"dataframe\">\n",
       "  <thead>\n",
       "    <tr style=\"text-align: right;\">\n",
       "      <th></th>\n",
       "      <th></th>\n",
       "      <th>Utilidad</th>\n",
       "    </tr>\n",
       "    <tr>\n",
       "      <th>Cultivo_Categoría</th>\n",
       "      <th>RM/ REIQ_x</th>\n",
       "      <th></th>\n",
       "    </tr>\n",
       "  </thead>\n",
       "  <tbody>\n",
       "    <tr>\n",
       "      <th>Hortalizas</th>\n",
       "      <th>Quinval</th>\n",
       "      <td>7.318580e+06</td>\n",
       "    </tr>\n",
       "    <tr>\n",
       "      <th>Berries</th>\n",
       "      <th>JF</th>\n",
       "      <td>7.130747e+06</td>\n",
       "    </tr>\n",
       "    <tr>\n",
       "      <th>Industriales</th>\n",
       "      <th>Dysea</th>\n",
       "      <td>6.610754e+06</td>\n",
       "    </tr>\n",
       "    <tr>\n",
       "      <th>Vides</th>\n",
       "      <th>Ditecosa</th>\n",
       "      <td>5.568708e+06</td>\n",
       "    </tr>\n",
       "    <tr>\n",
       "      <th rowspan=\"2\" valign=\"top\">Hortalizas</th>\n",
       "      <th>Dysea</th>\n",
       "      <td>3.173162e+06</td>\n",
       "    </tr>\n",
       "    <tr>\n",
       "      <th>Ciba</th>\n",
       "      <td>2.924993e+06</td>\n",
       "    </tr>\n",
       "    <tr>\n",
       "      <th rowspan=\"2\" valign=\"top\">Frutales siempre verdes</th>\n",
       "      <th>Fv</th>\n",
       "      <td>2.909872e+06</td>\n",
       "    </tr>\n",
       "    <tr>\n",
       "      <th>AACSA</th>\n",
       "      <td>2.370329e+06</td>\n",
       "    </tr>\n",
       "    <tr>\n",
       "      <th>Cucurbitácea</th>\n",
       "      <th>Ditecosa</th>\n",
       "      <td>2.243053e+06</td>\n",
       "    </tr>\n",
       "    <tr>\n",
       "      <th>Hortalizas</th>\n",
       "      <th>Hormonas</th>\n",
       "      <td>1.994557e+06</td>\n",
       "    </tr>\n",
       "  </tbody>\n",
       "</table>\n",
       "</div>"
      ],
      "text/plain": [
       "                                        Utilidad\n",
       "Cultivo_Categoría       RM/ REIQ_x              \n",
       "Hortalizas              Quinval     7.318580e+06\n",
       "Berries                 JF          7.130747e+06\n",
       "Industriales            Dysea       6.610754e+06\n",
       "Vides                   Ditecosa    5.568708e+06\n",
       "Hortalizas              Dysea       3.173162e+06\n",
       "                        Ciba        2.924993e+06\n",
       "Frutales siempre verdes Fv          2.909872e+06\n",
       "                        AACSA       2.370329e+06\n",
       "Cucurbitácea            Ditecosa    2.243053e+06\n",
       "Hortalizas              Hormonas    1.994557e+06"
      ]
     },
     "execution_count": 158,
     "metadata": {},
     "output_type": "execute_result"
    }
   ],
   "source": [
    "ResumenporCultyZona_CitoMx_detalle_sorted = ResumenporCultyZona_CitoMx_detalle.sort_values(by=['Utilidad'],ascending=False)\n",
    "ResumenporCultyZona_CitoMx_detalle_sorted.head(10)"
   ]
  },
  {
   "cell_type": "code",
   "execution_count": 159,
   "id": "9fab96a3",
   "metadata": {
    "scrolled": true
   },
   "outputs": [
    {
     "name": "stdout",
     "output_type": "stream",
     "text": [
      "$56.772 M\n"
     ]
    }
   ],
   "source": [
    "print ('${:,.3f} M'.format(ResumenporCultyZona_CitoMx_detalle['Utilidad'].sum()/1000000) )"
   ]
  },
  {
   "cell_type": "markdown",
   "id": "faafdd74",
   "metadata": {},
   "source": [
    "# Top 10 en otros países"
   ]
  },
  {
   "cell_type": "code",
   "execution_count": 160,
   "id": "9149da42",
   "metadata": {},
   "outputs": [
    {
     "data": {
      "text/html": [
       "<div>\n",
       "<style scoped>\n",
       "    .dataframe tbody tr th:only-of-type {\n",
       "        vertical-align: middle;\n",
       "    }\n",
       "\n",
       "    .dataframe tbody tr th {\n",
       "        vertical-align: top;\n",
       "    }\n",
       "\n",
       "    .dataframe thead th {\n",
       "        text-align: right;\n",
       "    }\n",
       "</style>\n",
       "<table border=\"1\" class=\"dataframe\">\n",
       "  <thead>\n",
       "    <tr style=\"text-align: right;\">\n",
       "      <th></th>\n",
       "      <th></th>\n",
       "      <th>Utilidad</th>\n",
       "    </tr>\n",
       "    <tr>\n",
       "      <th>Cultivo_Categoría</th>\n",
       "      <th>RM/ REIQ_x</th>\n",
       "      <th></th>\n",
       "    </tr>\n",
       "  </thead>\n",
       "  <tbody>\n",
       "    <tr>\n",
       "      <th rowspan=\"3\" valign=\"top\">Vides</th>\n",
       "      <th>Drokasa</th>\n",
       "      <td>1.284545e+07</td>\n",
       "    </tr>\n",
       "    <tr>\n",
       "      <th>GMT</th>\n",
       "      <td>7.678691e+06</td>\n",
       "    </tr>\n",
       "    <tr>\n",
       "      <th>Tattersal</th>\n",
       "      <td>6.840204e+06</td>\n",
       "    </tr>\n",
       "    <tr>\n",
       "      <th>Granos</th>\n",
       "      <th>Empresas Melo</th>\n",
       "      <td>6.231077e+06</td>\n",
       "    </tr>\n",
       "    <tr>\n",
       "      <th>Frutal caducifolio</th>\n",
       "      <th>GMT</th>\n",
       "      <td>4.415932e+06</td>\n",
       "    </tr>\n",
       "    <tr>\n",
       "      <th>Hortalizas</th>\n",
       "      <th>Txao</th>\n",
       "      <td>2.136014e+06</td>\n",
       "    </tr>\n",
       "    <tr>\n",
       "      <th rowspan=\"2\" valign=\"top\">Frutales siempre verdes</th>\n",
       "      <th>Agricola Piscis</th>\n",
       "      <td>2.089583e+06</td>\n",
       "    </tr>\n",
       "    <tr>\n",
       "      <th>Guatemala</th>\n",
       "      <td>1.948303e+06</td>\n",
       "    </tr>\n",
       "    <tr>\n",
       "      <th rowspan=\"2\" valign=\"top\">Hortalizas</th>\n",
       "      <th>Agroasa</th>\n",
       "      <td>1.650889e+06</td>\n",
       "    </tr>\n",
       "    <tr>\n",
       "      <th>Guatemala</th>\n",
       "      <td>1.506941e+06</td>\n",
       "    </tr>\n",
       "  </tbody>\n",
       "</table>\n",
       "</div>"
      ],
      "text/plain": [
       "                                             Utilidad\n",
       "Cultivo_Categoría       RM/ REIQ_x                   \n",
       "Vides                   Drokasa          1.284545e+07\n",
       "                        GMT              7.678691e+06\n",
       "                        Tattersal        6.840204e+06\n",
       "Granos                  Empresas Melo    6.231077e+06\n",
       "Frutal caducifolio      GMT              4.415932e+06\n",
       "Hortalizas              Txao             2.136014e+06\n",
       "Frutales siempre verdes Agricola Piscis  2.089583e+06\n",
       "                        Guatemala        1.948303e+06\n",
       "Hortalizas              Agroasa          1.650889e+06\n",
       "                        Guatemala        1.506941e+06"
      ]
     },
     "execution_count": 160,
     "metadata": {},
     "output_type": "execute_result"
    }
   ],
   "source": [
    "ResumenporCultyZona_CitoIntnl_detalle_sorted = ResumenporCultyZona_CitoIntnl_detalle.sort_values(by=['Utilidad'],ascending=False)\n",
    "ResumenporCultyZona_CitoIntnl_detalle_sorted.head(10)"
   ]
  },
  {
   "cell_type": "markdown",
   "id": "03a1e01a",
   "metadata": {},
   "source": [
    "# Raíz/Suelo en México, 2022"
   ]
  },
  {
   "cell_type": "code",
   "execution_count": 161,
   "id": "87a004b6",
   "metadata": {},
   "outputs": [
    {
     "name": "stdout",
     "output_type": "stream",
     "text": [
      "$40.494 M\n"
     ]
    }
   ],
   "source": [
    "print ('${:,.3f} M'.format(SueloMx['Utilidad'].sum()/1000000) )"
   ]
  },
  {
   "cell_type": "code",
   "execution_count": 162,
   "id": "9ec835bd",
   "metadata": {
    "scrolled": true
   },
   "outputs": [
    {
     "data": {
      "text/plain": [
       "<AxesSubplot:xlabel='Cultivo_Categoría_Ranking'>"
      ]
     },
     "execution_count": 162,
     "metadata": {},
     "output_type": "execute_result"
    },
    {
     "data": {
      "image/png": "[encoded data removed]",
      "text/plain": [
       "<Figure size 432x288 with 1 Axes>"
      ]
     },
     "metadata": {
      "needs_background": "light"
     },
     "output_type": "display_data"
    }
   ],
   "source": [
    "ResumenporCultyZona_SueloMx = SueloMx.groupby(['Cultivo_Categoría_Ranking','Zona_Ranking']).agg({'Utilidad': 'sum'})\n",
    "ResumenporCultyZona_SueloMx_df = pd.DataFrame(ResumenporCultyZona_SueloMx.unstack(level = 1))\n",
    "ResumenporCultyZona_SueloMx_df.plot(kind = 'bar')"
   ]
  },
  {
   "cell_type": "code",
   "execution_count": 163,
   "id": "57980b50",
   "metadata": {},
   "outputs": [
    {
     "data": {
      "text/html": [
       "<div>\n",
       "<style scoped>\n",
       "    .dataframe tbody tr th:only-of-type {\n",
       "        vertical-align: middle;\n",
       "    }\n",
       "\n",
       "    .dataframe tbody tr th {\n",
       "        vertical-align: top;\n",
       "    }\n",
       "\n",
       "    .dataframe thead th {\n",
       "        text-align: right;\n",
       "    }\n",
       "</style>\n",
       "<table border=\"1\" class=\"dataframe\">\n",
       "  <thead>\n",
       "    <tr style=\"text-align: right;\">\n",
       "      <th></th>\n",
       "      <th>Utilidad</th>\n",
       "    </tr>\n",
       "    <tr>\n",
       "      <th>Cultivo_Categoría_Ranking</th>\n",
       "      <th></th>\n",
       "    </tr>\n",
       "  </thead>\n",
       "  <tbody>\n",
       "    <tr>\n",
       "      <th>02 Frutales siempre verdes</th>\n",
       "      <td>8.415044e+06</td>\n",
       "    </tr>\n",
       "    <tr>\n",
       "      <th>03 Hortalizas</th>\n",
       "      <td>1.437052e+07</td>\n",
       "    </tr>\n",
       "    <tr>\n",
       "      <th>04 Vides</th>\n",
       "      <td>1.518651e+06</td>\n",
       "    </tr>\n",
       "    <tr>\n",
       "      <th>05 Berries</th>\n",
       "      <td>9.715815e+06</td>\n",
       "    </tr>\n",
       "    <tr>\n",
       "      <th>06 Granos</th>\n",
       "      <td>1.328772e+06</td>\n",
       "    </tr>\n",
       "    <tr>\n",
       "      <th>08 Industriales</th>\n",
       "      <td>1.366460e+06</td>\n",
       "    </tr>\n",
       "    <tr>\n",
       "      <th>09 Cucurbitácea</th>\n",
       "      <td>2.170073e+06</td>\n",
       "    </tr>\n",
       "    <tr>\n",
       "      <th>10 Frutal caducifolio</th>\n",
       "      <td>4.346644e+05</td>\n",
       "    </tr>\n",
       "    <tr>\n",
       "      <th>11 Ornamental</th>\n",
       "      <td>6.792321e+05</td>\n",
       "    </tr>\n",
       "    <tr>\n",
       "      <th>13 Forraje</th>\n",
       "      <td>1.822092e+05</td>\n",
       "    </tr>\n",
       "    <tr>\n",
       "      <th>51 Leguminosa</th>\n",
       "      <td>3.121371e+05</td>\n",
       "    </tr>\n",
       "  </tbody>\n",
       "</table>\n",
       "</div>"
      ],
      "text/plain": [
       "                                Utilidad\n",
       "Cultivo_Categoría_Ranking               \n",
       "02 Frutales siempre verdes  8.415044e+06\n",
       "03 Hortalizas               1.437052e+07\n",
       "04 Vides                    1.518651e+06\n",
       "05 Berries                  9.715815e+06\n",
       "06 Granos                   1.328772e+06\n",
       "08 Industriales             1.366460e+06\n",
       "09 Cucurbitácea             2.170073e+06\n",
       "10 Frutal caducifolio       4.346644e+05\n",
       "11 Ornamental               6.792321e+05\n",
       "13 Forraje                  1.822092e+05\n",
       "51 Leguminosa               3.121371e+05"
      ]
     },
     "execution_count": 163,
     "metadata": {},
     "output_type": "execute_result"
    }
   ],
   "source": [
    "ResumenporCultyZona_SueloMx2 = SueloMx.groupby(['Cultivo_Categoría_Ranking']).agg({'Utilidad': 'sum'})\n",
    "ResumenporCultyZona_SueloMx2.head(20)"
   ]
  },
  {
   "cell_type": "markdown",
   "id": "03070224",
   "metadata": {},
   "source": [
    "# Raíz/Suelo en demás empresas\n"
   ]
  },
  {
   "cell_type": "code",
   "execution_count": 164,
   "id": "ccfe82e9",
   "metadata": {},
   "outputs": [
    {
     "name": "stdout",
     "output_type": "stream",
     "text": [
      "$29.754 M\n"
     ]
    }
   ],
   "source": [
    "print ('${:,.3f} M'.format(SueloIntnl['Utilidad'].sum()/1000000) )"
   ]
  },
  {
   "cell_type": "code",
   "execution_count": 165,
   "id": "0bdd8671",
   "metadata": {
    "scrolled": true
   },
   "outputs": [
    {
     "data": {
      "text/plain": [
       "<AxesSubplot:xlabel='Cultivo_Categoría_Ranking'>"
      ]
     },
     "execution_count": 165,
     "metadata": {},
     "output_type": "execute_result"
    },
    {
     "data": {
      "image/png": "[encoded data removed]",
      "text/plain": [
       "<Figure size 432x288 with 1 Axes>"
      ]
     },
     "metadata": {
      "needs_background": "light"
     },
     "output_type": "display_data"
    }
   ],
   "source": [
    "ResumenporCultyZona_SueloIntnl = SueloIntnl.groupby(['Cultivo_Categoría_Ranking','Zona_Ranking']).agg({'Utilidad': 'sum'})\n",
    "ResumenporCultyZona_SueloIntnl_df = pd.DataFrame(ResumenporCultyZona_SueloIntnl.unstack(level = 1))\n",
    "ResumenporCultyZona_SueloIntnl_df.plot(kind = 'bar')"
   ]
  },
  {
   "cell_type": "code",
   "execution_count": 166,
   "id": "6d38e68c",
   "metadata": {},
   "outputs": [
    {
     "data": {
      "text/html": [
       "<div>\n",
       "<style scoped>\n",
       "    .dataframe tbody tr th:only-of-type {\n",
       "        vertical-align: middle;\n",
       "    }\n",
       "\n",
       "    .dataframe tbody tr th {\n",
       "        vertical-align: top;\n",
       "    }\n",
       "\n",
       "    .dataframe thead th {\n",
       "        text-align: right;\n",
       "    }\n",
       "</style>\n",
       "<table border=\"1\" class=\"dataframe\">\n",
       "  <thead>\n",
       "    <tr style=\"text-align: right;\">\n",
       "      <th></th>\n",
       "      <th>Utilidad</th>\n",
       "    </tr>\n",
       "    <tr>\n",
       "      <th>Cultivo_Categoría_Ranking</th>\n",
       "      <th></th>\n",
       "    </tr>\n",
       "  </thead>\n",
       "  <tbody>\n",
       "    <tr>\n",
       "      <th>-</th>\n",
       "      <td>2.833584e+05</td>\n",
       "    </tr>\n",
       "    <tr>\n",
       "      <th>02 Frutales siempre verdes</th>\n",
       "      <td>7.428955e+06</td>\n",
       "    </tr>\n",
       "    <tr>\n",
       "      <th>03 Hortalizas</th>\n",
       "      <td>6.296709e+06</td>\n",
       "    </tr>\n",
       "    <tr>\n",
       "      <th>04 Vides</th>\n",
       "      <td>6.590839e+06</td>\n",
       "    </tr>\n",
       "    <tr>\n",
       "      <th>05 Berries</th>\n",
       "      <td>1.613092e+06</td>\n",
       "    </tr>\n",
       "    <tr>\n",
       "      <th>06 Granos</th>\n",
       "      <td>1.402519e+06</td>\n",
       "    </tr>\n",
       "    <tr>\n",
       "      <th>08 Industriales</th>\n",
       "      <td>2.238674e+05</td>\n",
       "    </tr>\n",
       "    <tr>\n",
       "      <th>09 Cucurbitácea</th>\n",
       "      <td>7.027222e+05</td>\n",
       "    </tr>\n",
       "    <tr>\n",
       "      <th>10 Frutal caducifolio</th>\n",
       "      <td>4.362140e+06</td>\n",
       "    </tr>\n",
       "    <tr>\n",
       "      <th>11 Ornamental</th>\n",
       "      <td>4.536011e+05</td>\n",
       "    </tr>\n",
       "    <tr>\n",
       "      <th>13 Forraje</th>\n",
       "      <td>1.778497e+05</td>\n",
       "    </tr>\n",
       "    <tr>\n",
       "      <th>51 Leguminosa</th>\n",
       "      <td>2.183007e+05</td>\n",
       "    </tr>\n",
       "  </tbody>\n",
       "</table>\n",
       "</div>"
      ],
      "text/plain": [
       "                                Utilidad\n",
       "Cultivo_Categoría_Ranking               \n",
       "-                           2.833584e+05\n",
       "02 Frutales siempre verdes  7.428955e+06\n",
       "03 Hortalizas               6.296709e+06\n",
       "04 Vides                    6.590839e+06\n",
       "05 Berries                  1.613092e+06\n",
       "06 Granos                   1.402519e+06\n",
       "08 Industriales             2.238674e+05\n",
       "09 Cucurbitácea             7.027222e+05\n",
       "10 Frutal caducifolio       4.362140e+06\n",
       "11 Ornamental               4.536011e+05\n",
       "13 Forraje                  1.778497e+05\n",
       "51 Leguminosa               2.183007e+05"
      ]
     },
     "execution_count": 166,
     "metadata": {},
     "output_type": "execute_result"
    }
   ],
   "source": [
    "ResumenporCultyZona_SueloIntnl2 = SueloIntnl.groupby(['Cultivo_Categoría_Ranking']).agg({'Utilidad': 'sum'})\n",
    "ResumenporCultyZona_SueloIntnl2.head(20)"
   ]
  },
  {
   "cell_type": "markdown",
   "id": "555bcdb8",
   "metadata": {},
   "source": [
    "# Top 10 en México"
   ]
  },
  {
   "cell_type": "code",
   "execution_count": 167,
   "id": "5ae8c231",
   "metadata": {
    "scrolled": true
   },
   "outputs": [
    {
     "data": {
      "text/html": [
       "<div>\n",
       "<style scoped>\n",
       "    .dataframe tbody tr th:only-of-type {\n",
       "        vertical-align: middle;\n",
       "    }\n",
       "\n",
       "    .dataframe tbody tr th {\n",
       "        vertical-align: top;\n",
       "    }\n",
       "\n",
       "    .dataframe thead th {\n",
       "        text-align: right;\n",
       "    }\n",
       "</style>\n",
       "<table border=\"1\" class=\"dataframe\">\n",
       "  <thead>\n",
       "    <tr style=\"text-align: right;\">\n",
       "      <th></th>\n",
       "      <th></th>\n",
       "      <th>Utilidad</th>\n",
       "    </tr>\n",
       "    <tr>\n",
       "      <th>Cultivo_Categoría</th>\n",
       "      <th>RM/ REIQ_x</th>\n",
       "      <th></th>\n",
       "    </tr>\n",
       "  </thead>\n",
       "  <tbody>\n",
       "    <tr>\n",
       "      <th rowspan=\"2\" valign=\"top\">Berries</th>\n",
       "      <th>AACSA</th>\n",
       "      <td>4.614181e+06</td>\n",
       "    </tr>\n",
       "    <tr>\n",
       "      <th>JF</th>\n",
       "      <td>4.520336e+06</td>\n",
       "    </tr>\n",
       "    <tr>\n",
       "      <th>Hortalizas</th>\n",
       "      <th>Quinval</th>\n",
       "      <td>3.495301e+06</td>\n",
       "    </tr>\n",
       "    <tr>\n",
       "      <th rowspan=\"2\" valign=\"top\">Frutales siempre verdes</th>\n",
       "      <th>AACSA</th>\n",
       "      <td>3.122935e+06</td>\n",
       "    </tr>\n",
       "    <tr>\n",
       "      <th>JF</th>\n",
       "      <td>2.853887e+06</td>\n",
       "    </tr>\n",
       "    <tr>\n",
       "      <th>Hortalizas</th>\n",
       "      <th>AACSA</th>\n",
       "      <td>2.217619e+06</td>\n",
       "    </tr>\n",
       "    <tr>\n",
       "      <th>Frutales siempre verdes</th>\n",
       "      <th>Fv</th>\n",
       "      <td>1.771998e+06</td>\n",
       "    </tr>\n",
       "    <tr>\n",
       "      <th rowspan=\"2\" valign=\"top\">Hortalizas</th>\n",
       "      <th>PromAgric</th>\n",
       "      <td>1.551698e+06</td>\n",
       "    </tr>\n",
       "    <tr>\n",
       "      <th>Dysea</th>\n",
       "      <td>1.484035e+06</td>\n",
       "    </tr>\n",
       "    <tr>\n",
       "      <th>Vides</th>\n",
       "      <th>Ditecosa</th>\n",
       "      <td>1.417984e+06</td>\n",
       "    </tr>\n",
       "  </tbody>\n",
       "</table>\n",
       "</div>"
      ],
      "text/plain": [
       "                                        Utilidad\n",
       "Cultivo_Categoría       RM/ REIQ_x              \n",
       "Berries                 AACSA       4.614181e+06\n",
       "                        JF          4.520336e+06\n",
       "Hortalizas              Quinval     3.495301e+06\n",
       "Frutales siempre verdes AACSA       3.122935e+06\n",
       "                        JF          2.853887e+06\n",
       "Hortalizas              AACSA       2.217619e+06\n",
       "Frutales siempre verdes Fv          1.771998e+06\n",
       "Hortalizas              PromAgric   1.551698e+06\n",
       "                        Dysea       1.484035e+06\n",
       "Vides                   Ditecosa    1.417984e+06"
      ]
     },
     "execution_count": 167,
     "metadata": {},
     "output_type": "execute_result"
    }
   ],
   "source": [
    "ResumenporCultyZona_SueloMx_detalle = SueloMx.groupby(['Cultivo_Categoría','RM/ REIQ_x']).agg({'Utilidad': 'sum'})\n",
    "ResumenporCultyZona_SueloIntnl_detalle = SueloIntnl.groupby(['Cultivo_Categoría','RM/ REIQ_x']).agg({'Utilidad': 'sum'})\n",
    "ResumenporCultyZona_SueloMx_detalle_sorted = ResumenporCultyZona_SueloMx_detalle.sort_values(by=['Utilidad'],ascending=False)\n",
    "ResumenporCultyZona_SueloMx_detalle_sorted.head(10)"
   ]
  },
  {
   "cell_type": "code",
   "execution_count": 168,
   "id": "b9374250",
   "metadata": {},
   "outputs": [
    {
     "name": "stdout",
     "output_type": "stream",
     "text": [
      "$27.050 M\n"
     ]
    }
   ],
   "source": [
    "print ('${:,.3f} M'.format(ResumenporCultyZona_SueloMx_detalle_sorted['Utilidad'].head(10).sum()/1000000) )\n"
   ]
  },
  {
   "cell_type": "markdown",
   "id": "99056a88",
   "metadata": {},
   "source": [
    "# Top 10 en otros países"
   ]
  },
  {
   "cell_type": "code",
   "execution_count": 169,
   "id": "a5768cff",
   "metadata": {},
   "outputs": [
    {
     "data": {
      "text/html": [
       "<div>\n",
       "<style scoped>\n",
       "    .dataframe tbody tr th:only-of-type {\n",
       "        vertical-align: middle;\n",
       "    }\n",
       "\n",
       "    .dataframe tbody tr th {\n",
       "        vertical-align: top;\n",
       "    }\n",
       "\n",
       "    .dataframe thead th {\n",
       "        text-align: right;\n",
       "    }\n",
       "</style>\n",
       "<table border=\"1\" class=\"dataframe\">\n",
       "  <thead>\n",
       "    <tr style=\"text-align: right;\">\n",
       "      <th></th>\n",
       "      <th></th>\n",
       "      <th>Utilidad</th>\n",
       "    </tr>\n",
       "    <tr>\n",
       "      <th>Cultivo_Categoría</th>\n",
       "      <th>RM/ REIQ_x</th>\n",
       "      <th></th>\n",
       "    </tr>\n",
       "  </thead>\n",
       "  <tbody>\n",
       "    <tr>\n",
       "      <th>Frutal caducifolio</th>\n",
       "      <th>GMT</th>\n",
       "      <td>3.350554e+06</td>\n",
       "    </tr>\n",
       "    <tr>\n",
       "      <th rowspan=\"2\" valign=\"top\">Vides</th>\n",
       "      <th>Drokasa</th>\n",
       "      <td>3.237895e+06</td>\n",
       "    </tr>\n",
       "    <tr>\n",
       "      <th>GMT</th>\n",
       "      <td>1.763450e+06</td>\n",
       "    </tr>\n",
       "    <tr>\n",
       "      <th>Hortalizas</th>\n",
       "      <th>Duarte</th>\n",
       "      <td>1.351895e+06</td>\n",
       "    </tr>\n",
       "    <tr>\n",
       "      <th>Granos</th>\n",
       "      <th>Empresas Melo</th>\n",
       "      <td>1.175925e+06</td>\n",
       "    </tr>\n",
       "    <tr>\n",
       "      <th rowspan=\"2\" valign=\"top\">Frutales siempre verdes</th>\n",
       "      <th>Guatemala</th>\n",
       "      <td>1.079303e+06</td>\n",
       "    </tr>\n",
       "    <tr>\n",
       "      <th>GMT</th>\n",
       "      <td>1.058070e+06</td>\n",
       "    </tr>\n",
       "    <tr>\n",
       "      <th>Hortalizas</th>\n",
       "      <th>Guatemala</th>\n",
       "      <td>1.014638e+06</td>\n",
       "    </tr>\n",
       "    <tr>\n",
       "      <th>Berries</th>\n",
       "      <th>Drokasa</th>\n",
       "      <td>8.830623e+05</td>\n",
       "    </tr>\n",
       "    <tr>\n",
       "      <th>Vides</th>\n",
       "      <th>Agrofuturo</th>\n",
       "      <td>8.582524e+05</td>\n",
       "    </tr>\n",
       "  </tbody>\n",
       "</table>\n",
       "</div>"
      ],
      "text/plain": [
       "                                           Utilidad\n",
       "Cultivo_Categoría       RM/ REIQ_x                 \n",
       "Frutal caducifolio      GMT            3.350554e+06\n",
       "Vides                   Drokasa        3.237895e+06\n",
       "                        GMT            1.763450e+06\n",
       "Hortalizas              Duarte         1.351895e+06\n",
       "Granos                  Empresas Melo  1.175925e+06\n",
       "Frutales siempre verdes Guatemala      1.079303e+06\n",
       "                        GMT            1.058070e+06\n",
       "Hortalizas              Guatemala      1.014638e+06\n",
       "Berries                 Drokasa        8.830623e+05\n",
       "Vides                   Agrofuturo     8.582524e+05"
      ]
     },
     "execution_count": 169,
     "metadata": {},
     "output_type": "execute_result"
    }
   ],
   "source": [
    "ResumenporCultyZona_SueloIntnl_detalle_sorted = ResumenporCultyZona_SueloIntnl_detalle.sort_values(by=['Utilidad'],ascending=False)\n",
    "ResumenporCultyZona_SueloIntnl_detalle_sorted.head(10)"
   ]
  },
  {
   "cell_type": "code",
   "execution_count": 170,
   "id": "c0d5e069",
   "metadata": {},
   "outputs": [
    {
     "name": "stdout",
     "output_type": "stream",
     "text": [
      "$15.773 M\n"
     ]
    }
   ],
   "source": [
    "print ('${:,.3f} M'.format(ResumenporCultyZona_SueloIntnl_detalle_sorted['Utilidad'].head(10).sum()/1000000) )\n"
   ]
  },
  {
   "cell_type": "markdown",
   "id": "1fa12386",
   "metadata": {},
   "source": [
    "# Bioestimulante en México, 2022"
   ]
  },
  {
   "cell_type": "code",
   "execution_count": 171,
   "id": "e02cc325",
   "metadata": {},
   "outputs": [
    {
     "name": "stdout",
     "output_type": "stream",
     "text": [
      "$23.587 M\n"
     ]
    }
   ],
   "source": [
    "print ('${:,.3f} M'.format(BioestMx['Utilidad'].sum()/1000000) )"
   ]
  },
  {
   "cell_type": "code",
   "execution_count": 172,
   "id": "485f4da0",
   "metadata": {
    "scrolled": true
   },
   "outputs": [
    {
     "data": {
      "text/plain": [
       "<AxesSubplot:xlabel='Cultivo_Categoría_Ranking'>"
      ]
     },
     "execution_count": 172,
     "metadata": {},
     "output_type": "execute_result"
    },
    {
     "data": {
      "image/png": "[encoded data removed]",
      "text/plain": [
       "<Figure size 432x288 with 1 Axes>"
      ]
     },
     "metadata": {
      "needs_background": "light"
     },
     "output_type": "display_data"
    }
   ],
   "source": [
    "ResumenporCultyZona_BioestMx = BioestMx.groupby(['Cultivo_Categoría_Ranking','Zona_Ranking']).agg({'Utilidad': 'sum'})\n",
    "ResumenporCultyZona_BioestMx_df = pd.DataFrame(ResumenporCultyZona_BioestMx.unstack(level = 1))\n",
    "ResumenporCultyZona_BioestMx_df.plot(kind = 'bar')"
   ]
  },
  {
   "cell_type": "code",
   "execution_count": 173,
   "id": "f3a80ef1",
   "metadata": {},
   "outputs": [
    {
     "data": {
      "text/html": [
       "<div>\n",
       "<style scoped>\n",
       "    .dataframe tbody tr th:only-of-type {\n",
       "        vertical-align: middle;\n",
       "    }\n",
       "\n",
       "    .dataframe tbody tr th {\n",
       "        vertical-align: top;\n",
       "    }\n",
       "\n",
       "    .dataframe thead th {\n",
       "        text-align: right;\n",
       "    }\n",
       "</style>\n",
       "<table border=\"1\" class=\"dataframe\">\n",
       "  <thead>\n",
       "    <tr style=\"text-align: right;\">\n",
       "      <th></th>\n",
       "      <th>Utilidad</th>\n",
       "    </tr>\n",
       "    <tr>\n",
       "      <th>Cultivo_Categoría_Ranking</th>\n",
       "      <th></th>\n",
       "    </tr>\n",
       "  </thead>\n",
       "  <tbody>\n",
       "    <tr>\n",
       "      <th>02 Frutales siempre verdes</th>\n",
       "      <td>7.588391e+06</td>\n",
       "    </tr>\n",
       "    <tr>\n",
       "      <th>03 Hortalizas</th>\n",
       "      <td>6.177945e+06</td>\n",
       "    </tr>\n",
       "    <tr>\n",
       "      <th>04 Vides</th>\n",
       "      <td>2.499013e+06</td>\n",
       "    </tr>\n",
       "    <tr>\n",
       "      <th>05 Berries</th>\n",
       "      <td>1.135086e+06</td>\n",
       "    </tr>\n",
       "    <tr>\n",
       "      <th>06 Granos</th>\n",
       "      <td>6.403643e+05</td>\n",
       "    </tr>\n",
       "    <tr>\n",
       "      <th>08 Industriales</th>\n",
       "      <td>2.083501e+06</td>\n",
       "    </tr>\n",
       "    <tr>\n",
       "      <th>09 Cucurbitácea</th>\n",
       "      <td>2.134589e+06</td>\n",
       "    </tr>\n",
       "    <tr>\n",
       "      <th>10 Frutal caducifolio</th>\n",
       "      <td>6.452521e+05</td>\n",
       "    </tr>\n",
       "    <tr>\n",
       "      <th>11 Ornamental</th>\n",
       "      <td>1.586141e+05</td>\n",
       "    </tr>\n",
       "    <tr>\n",
       "      <th>51 Leguminosa</th>\n",
       "      <td>5.243992e+05</td>\n",
       "    </tr>\n",
       "  </tbody>\n",
       "</table>\n",
       "</div>"
      ],
      "text/plain": [
       "                                Utilidad\n",
       "Cultivo_Categoría_Ranking               \n",
       "02 Frutales siempre verdes  7.588391e+06\n",
       "03 Hortalizas               6.177945e+06\n",
       "04 Vides                    2.499013e+06\n",
       "05 Berries                  1.135086e+06\n",
       "06 Granos                   6.403643e+05\n",
       "08 Industriales             2.083501e+06\n",
       "09 Cucurbitácea             2.134589e+06\n",
       "10 Frutal caducifolio       6.452521e+05\n",
       "11 Ornamental               1.586141e+05\n",
       "51 Leguminosa               5.243992e+05"
      ]
     },
     "execution_count": 173,
     "metadata": {},
     "output_type": "execute_result"
    }
   ],
   "source": [
    "ResumenporCultyZona_BioestMx2 = BioestMx.groupby(['Cultivo_Categoría_Ranking']).agg({'Utilidad': 'sum'})\n",
    "ResumenporCultyZona_BioestMx2.head(20)"
   ]
  },
  {
   "cell_type": "markdown",
   "id": "ec43b24f",
   "metadata": {},
   "source": [
    "# Bioestimulante en demás empresas\n"
   ]
  },
  {
   "cell_type": "code",
   "execution_count": 174,
   "id": "36f3875b",
   "metadata": {},
   "outputs": [
    {
     "name": "stdout",
     "output_type": "stream",
     "text": [
      "$17.740 M\n"
     ]
    }
   ],
   "source": [
    "print ('${:,.3f} M'.format(BioestIntnl['Utilidad'].sum()/1000000) )"
   ]
  },
  {
   "cell_type": "code",
   "execution_count": 175,
   "id": "40d51684",
   "metadata": {
    "scrolled": true
   },
   "outputs": [
    {
     "data": {
      "text/plain": [
       "<AxesSubplot:xlabel='Cultivo_Categoría_Ranking'>"
      ]
     },
     "execution_count": 175,
     "metadata": {},
     "output_type": "execute_result"
    },
    {
     "data": {
      "image/png": "[encoded data removed]",
      "text/plain": [
       "<Figure size 432x288 with 1 Axes>"
      ]
     },
     "metadata": {
      "needs_background": "light"
     },
     "output_type": "display_data"
    }
   ],
   "source": [
    "ResumenporCultyZona_BioestIntnl = BioestIntnl.groupby(['Cultivo_Categoría_Ranking','Zona_Ranking']).agg({'Utilidad': 'sum'})\n",
    "ResumenporCultyZona_Bioest_df = pd.DataFrame(ResumenporCultyZona_BioestIntnl.unstack(level = 1))\n",
    "ResumenporCultyZona_Bioest_df.plot(kind = 'bar')"
   ]
  },
  {
   "cell_type": "code",
   "execution_count": 176,
   "id": "78f5c7c3",
   "metadata": {},
   "outputs": [
    {
     "data": {
      "text/html": [
       "<div>\n",
       "<style scoped>\n",
       "    .dataframe tbody tr th:only-of-type {\n",
       "        vertical-align: middle;\n",
       "    }\n",
       "\n",
       "    .dataframe tbody tr th {\n",
       "        vertical-align: top;\n",
       "    }\n",
       "\n",
       "    .dataframe thead th {\n",
       "        text-align: right;\n",
       "    }\n",
       "</style>\n",
       "<table border=\"1\" class=\"dataframe\">\n",
       "  <thead>\n",
       "    <tr style=\"text-align: right;\">\n",
       "      <th></th>\n",
       "      <th>Utilidad</th>\n",
       "    </tr>\n",
       "    <tr>\n",
       "      <th>Cultivo_Categoría_Ranking</th>\n",
       "      <th></th>\n",
       "    </tr>\n",
       "  </thead>\n",
       "  <tbody>\n",
       "    <tr>\n",
       "      <th>-</th>\n",
       "      <td>1.207833e+04</td>\n",
       "    </tr>\n",
       "    <tr>\n",
       "      <th>02 Frutales siempre verdes</th>\n",
       "      <td>8.286032e+06</td>\n",
       "    </tr>\n",
       "    <tr>\n",
       "      <th>03 Hortalizas</th>\n",
       "      <td>3.185726e+06</td>\n",
       "    </tr>\n",
       "    <tr>\n",
       "      <th>04 Vides</th>\n",
       "      <td>1.468943e+06</td>\n",
       "    </tr>\n",
       "    <tr>\n",
       "      <th>05 Berries</th>\n",
       "      <td>1.572464e+05</td>\n",
       "    </tr>\n",
       "    <tr>\n",
       "      <th>06 Granos</th>\n",
       "      <td>2.196328e+06</td>\n",
       "    </tr>\n",
       "    <tr>\n",
       "      <th>08 Industriales</th>\n",
       "      <td>6.187468e+05</td>\n",
       "    </tr>\n",
       "    <tr>\n",
       "      <th>09 Cucurbitácea</th>\n",
       "      <td>3.967090e+05</td>\n",
       "    </tr>\n",
       "    <tr>\n",
       "      <th>10 Frutal caducifolio</th>\n",
       "      <td>5.673964e+05</td>\n",
       "    </tr>\n",
       "    <tr>\n",
       "      <th>11 Ornamental</th>\n",
       "      <td>5.851859e+05</td>\n",
       "    </tr>\n",
       "    <tr>\n",
       "      <th>13 Forraje</th>\n",
       "      <td>1.334055e+05</td>\n",
       "    </tr>\n",
       "    <tr>\n",
       "      <th>51 Leguminosa</th>\n",
       "      <td>1.326187e+05</td>\n",
       "    </tr>\n",
       "  </tbody>\n",
       "</table>\n",
       "</div>"
      ],
      "text/plain": [
       "                                Utilidad\n",
       "Cultivo_Categoría_Ranking               \n",
       "-                           1.207833e+04\n",
       "02 Frutales siempre verdes  8.286032e+06\n",
       "03 Hortalizas               3.185726e+06\n",
       "04 Vides                    1.468943e+06\n",
       "05 Berries                  1.572464e+05\n",
       "06 Granos                   2.196328e+06\n",
       "08 Industriales             6.187468e+05\n",
       "09 Cucurbitácea             3.967090e+05\n",
       "10 Frutal caducifolio       5.673964e+05\n",
       "11 Ornamental               5.851859e+05\n",
       "13 Forraje                  1.334055e+05\n",
       "51 Leguminosa               1.326187e+05"
      ]
     },
     "execution_count": 176,
     "metadata": {},
     "output_type": "execute_result"
    }
   ],
   "source": [
    "ResumenporCultyZona_BioestIntnl2 = BioestIntnl.groupby(['Cultivo_Categoría_Ranking']).agg({'Utilidad': 'sum'})\n",
    "ResumenporCultyZona_BioestIntnl2.head(20)"
   ]
  },
  {
   "cell_type": "markdown",
   "id": "7ee488e9",
   "metadata": {},
   "source": [
    "# Top 10 en México"
   ]
  },
  {
   "cell_type": "code",
   "execution_count": 177,
   "id": "8521cde7",
   "metadata": {
    "scrolled": true
   },
   "outputs": [
    {
     "data": {
      "text/html": [
       "<div>\n",
       "<style scoped>\n",
       "    .dataframe tbody tr th:only-of-type {\n",
       "        vertical-align: middle;\n",
       "    }\n",
       "\n",
       "    .dataframe tbody tr th {\n",
       "        vertical-align: top;\n",
       "    }\n",
       "\n",
       "    .dataframe thead th {\n",
       "        text-align: right;\n",
       "    }\n",
       "</style>\n",
       "<table border=\"1\" class=\"dataframe\">\n",
       "  <thead>\n",
       "    <tr style=\"text-align: right;\">\n",
       "      <th></th>\n",
       "      <th></th>\n",
       "      <th>Utilidad</th>\n",
       "    </tr>\n",
       "    <tr>\n",
       "      <th>Cultivo_Categoría</th>\n",
       "      <th>RM/ REIQ_x</th>\n",
       "      <th></th>\n",
       "    </tr>\n",
       "  </thead>\n",
       "  <tbody>\n",
       "    <tr>\n",
       "      <th>Frutales siempre verdes</th>\n",
       "      <th>Fv</th>\n",
       "      <td>3.774870e+06</td>\n",
       "    </tr>\n",
       "    <tr>\n",
       "      <th>Vides</th>\n",
       "      <th>Ditecosa</th>\n",
       "      <td>2.315773e+06</td>\n",
       "    </tr>\n",
       "    <tr>\n",
       "      <th>Hortalizas</th>\n",
       "      <th>Ciba</th>\n",
       "      <td>2.108956e+06</td>\n",
       "    </tr>\n",
       "    <tr>\n",
       "      <th>Frutales siempre verdes</th>\n",
       "      <th>JF</th>\n",
       "      <td>1.491097e+06</td>\n",
       "    </tr>\n",
       "    <tr>\n",
       "      <th>Cucurbitácea</th>\n",
       "      <th>Ditecosa</th>\n",
       "      <td>1.133746e+06</td>\n",
       "    </tr>\n",
       "    <tr>\n",
       "      <th>Frutales siempre verdes</th>\n",
       "      <th>Serco Verde</th>\n",
       "      <td>1.088504e+06</td>\n",
       "    </tr>\n",
       "    <tr>\n",
       "      <th>Hortalizas</th>\n",
       "      <th>Quinval</th>\n",
       "      <td>1.035159e+06</td>\n",
       "    </tr>\n",
       "    <tr>\n",
       "      <th>Berries</th>\n",
       "      <th>JF</th>\n",
       "      <td>9.004271e+05</td>\n",
       "    </tr>\n",
       "    <tr>\n",
       "      <th>Hortalizas</th>\n",
       "      <th>Fv</th>\n",
       "      <td>6.516407e+05</td>\n",
       "    </tr>\n",
       "    <tr>\n",
       "      <th>Industriales</th>\n",
       "      <th>Fv</th>\n",
       "      <td>6.408311e+05</td>\n",
       "    </tr>\n",
       "  </tbody>\n",
       "</table>\n",
       "</div>"
      ],
      "text/plain": [
       "                                         Utilidad\n",
       "Cultivo_Categoría       RM/ REIQ_x               \n",
       "Frutales siempre verdes Fv           3.774870e+06\n",
       "Vides                   Ditecosa     2.315773e+06\n",
       "Hortalizas              Ciba         2.108956e+06\n",
       "Frutales siempre verdes JF           1.491097e+06\n",
       "Cucurbitácea            Ditecosa     1.133746e+06\n",
       "Frutales siempre verdes Serco Verde  1.088504e+06\n",
       "Hortalizas              Quinval      1.035159e+06\n",
       "Berries                 JF           9.004271e+05\n",
       "Hortalizas              Fv           6.516407e+05\n",
       "Industriales            Fv           6.408311e+05"
      ]
     },
     "execution_count": 177,
     "metadata": {},
     "output_type": "execute_result"
    }
   ],
   "source": [
    "ResumenporCultyZona_BioestMx_detalle = BioestMx.groupby(['Cultivo_Categoría','RM/ REIQ_x']).agg({'Utilidad': 'sum'})\n",
    "ResumenporCultyZona_BioestIntnl_detalle = BioestIntnl.groupby(['Cultivo_Categoría','RM/ REIQ_x']).agg({'Utilidad': 'sum'})\n",
    "ResumenporCultyZona_BioestMx_detalle_sorted = ResumenporCultyZona_BioestMx_detalle.sort_values(by=['Utilidad'],ascending=False)\n",
    "ResumenporCultyZona_BioestMx_detalle_sorted.head(10)"
   ]
  },
  {
   "cell_type": "code",
   "execution_count": 178,
   "id": "a779c9e7",
   "metadata": {},
   "outputs": [
    {
     "name": "stdout",
     "output_type": "stream",
     "text": [
      "$15.141 M\n"
     ]
    }
   ],
   "source": [
    "print ('${:,.3f} M'.format(ResumenporCultyZona_BioestMx_detalle_sorted['Utilidad'].head(10).sum()/1000000) )\n"
   ]
  },
  {
   "cell_type": "markdown",
   "id": "72b495c5",
   "metadata": {},
   "source": [
    "# Top 10 en otros países"
   ]
  },
  {
   "cell_type": "code",
   "execution_count": 179,
   "id": "805781da",
   "metadata": {},
   "outputs": [
    {
     "data": {
      "text/html": [
       "<div>\n",
       "<style scoped>\n",
       "    .dataframe tbody tr th:only-of-type {\n",
       "        vertical-align: middle;\n",
       "    }\n",
       "\n",
       "    .dataframe tbody tr th {\n",
       "        vertical-align: top;\n",
       "    }\n",
       "\n",
       "    .dataframe thead th {\n",
       "        text-align: right;\n",
       "    }\n",
       "</style>\n",
       "<table border=\"1\" class=\"dataframe\">\n",
       "  <thead>\n",
       "    <tr style=\"text-align: right;\">\n",
       "      <th></th>\n",
       "      <th></th>\n",
       "      <th>Utilidad</th>\n",
       "    </tr>\n",
       "    <tr>\n",
       "      <th>Cultivo_Categoría</th>\n",
       "      <th>RM/ REIQ_x</th>\n",
       "      <th></th>\n",
       "    </tr>\n",
       "  </thead>\n",
       "  <tbody>\n",
       "    <tr>\n",
       "      <th rowspan=\"2\" valign=\"top\">Frutales siempre verdes</th>\n",
       "      <th>Agricola Piscis</th>\n",
       "      <td>4.171722e+06</td>\n",
       "    </tr>\n",
       "    <tr>\n",
       "      <th>Txao</th>\n",
       "      <td>1.362507e+06</td>\n",
       "    </tr>\n",
       "    <tr>\n",
       "      <th>Vides</th>\n",
       "      <th>Agrofuturo</th>\n",
       "      <td>7.728887e+05</td>\n",
       "    </tr>\n",
       "    <tr>\n",
       "      <th>Frutales siempre verdes</th>\n",
       "      <th>Empresas Melo</th>\n",
       "      <td>7.335164e+05</td>\n",
       "    </tr>\n",
       "    <tr>\n",
       "      <th>Vides</th>\n",
       "      <th>Drokasa</th>\n",
       "      <td>5.562556e+05</td>\n",
       "    </tr>\n",
       "    <tr>\n",
       "      <th rowspan=\"2\" valign=\"top\">Hortalizas</th>\n",
       "      <th>Bioscience</th>\n",
       "      <td>5.030567e+05</td>\n",
       "    </tr>\n",
       "    <tr>\n",
       "      <th>IA- JPM</th>\n",
       "      <td>4.553091e+05</td>\n",
       "    </tr>\n",
       "    <tr>\n",
       "      <th>Granos</th>\n",
       "      <th>Agroasa</th>\n",
       "      <td>4.359739e+05</td>\n",
       "    </tr>\n",
       "    <tr>\n",
       "      <th>Frutales siempre verdes</th>\n",
       "      <th>Agrica</th>\n",
       "      <td>4.145223e+05</td>\n",
       "    </tr>\n",
       "    <tr>\n",
       "      <th>Hortalizas</th>\n",
       "      <th>Agroasa</th>\n",
       "      <td>3.836570e+05</td>\n",
       "    </tr>\n",
       "  </tbody>\n",
       "</table>\n",
       "</div>"
      ],
      "text/plain": [
       "                                             Utilidad\n",
       "Cultivo_Categoría       RM/ REIQ_x                   \n",
       "Frutales siempre verdes Agricola Piscis  4.171722e+06\n",
       "                        Txao             1.362507e+06\n",
       "Vides                   Agrofuturo       7.728887e+05\n",
       "Frutales siempre verdes Empresas Melo    7.335164e+05\n",
       "Vides                   Drokasa          5.562556e+05\n",
       "Hortalizas              Bioscience       5.030567e+05\n",
       "                        IA- JPM          4.553091e+05\n",
       "Granos                  Agroasa          4.359739e+05\n",
       "Frutales siempre verdes Agrica           4.145223e+05\n",
       "Hortalizas              Agroasa          3.836570e+05"
      ]
     },
     "execution_count": 179,
     "metadata": {},
     "output_type": "execute_result"
    }
   ],
   "source": [
    "ResumenporCultyZona_BioestIntnl_detalle_sorted = ResumenporCultyZona_BioestIntnl_detalle.sort_values(by=['Utilidad'],ascending=False)\n",
    "ResumenporCultyZona_BioestIntnl_detalle_sorted.head(10)"
   ]
  },
  {
   "cell_type": "code",
   "execution_count": 180,
   "id": "89a822c6",
   "metadata": {},
   "outputs": [
    {
     "name": "stdout",
     "output_type": "stream",
     "text": [
      "$9.789 M\n"
     ]
    }
   ],
   "source": [
    "print ('${:,.3f} M'.format(ResumenporCultyZona_BioestIntnl_detalle_sorted['Utilidad'].head(10).sum()/1000000) )\n"
   ]
  }
 ],
 "metadata": {
  "hide_input": false,
  "kernelspec": {
   "display_name": "Python 3",
   "language": "python",
   "name": "python3"
  },
  "language_info": {
   "codemirror_mode": {
    "name": "ipython",
    "version": 3
   },
   "file_extension": ".py",
   "mimetype": "text/x-python",
   "name": "python",
   "nbconvert_exporter": "python",
   "pygments_lexer": "ipython3",
   "version": "3.8.8"
  }
 },
 "nbformat": 4,
 "nbformat_minor": 5
}
