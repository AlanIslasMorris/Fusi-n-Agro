{
 "cells": [
  {
   "cell_type": "code",
   "execution_count": 1,
   "id": "b62c12a0",
   "metadata": {
    "hide_input": false
   },
   "outputs": [
    {
     "data": {
      "text/html": [
       "<script>jQuery(function() {if (jQuery(\"body.notebook_app\").length == 0) { jQuery(\".input_area\").toggle(); jQuery(\".prompt\").toggle();}});</script>"
      ]
     },
     "metadata": {},
     "output_type": "display_data"
    },
    {
     "data": {
      "text/html": [
       "<button onclick=\"jQuery('.input_area').toggle(); jQuery('.prompt').toggle();\">Toggle code</button>"
      ]
     },
     "metadata": {},
     "output_type": "display_data"
    }
   ],
   "source": [
    "from IPython.display import display\n",
    "from IPython.display import HTML\n",
    "import IPython.core.display as di # Example: di.display_html('<h3>%s:</h3>' % str, raw=True)\n",
    "\n",
    "# This line will hide code by default when the notebook is exported as HTML\n",
    "di.display_html('<script>jQuery(function() {if (jQuery(\"body.notebook_app\").length == 0) { jQuery(\".input_area\").toggle(); jQuery(\".prompt\").toggle();}});</script>', raw=True)\n",
    "\n",
    "# This line will add a button to toggle visibility of code blocks, for use with the HTML export version\n",
    "di.display_html('''<button onclick=\"jQuery('.input_area').toggle(); jQuery('.prompt').toggle();\">Toggle code</button>''', raw=True)\n",
    "\n",
    "# Se importan paquetes de análisis de datos- Proceso\n",
    "\n",
    "import pandas as pd\n",
    "\n",
    "import matplotlib.pyplot as plt\n",
    "\n",
    "import numpy as np\n",
    "\n",
    "# Se importa base de plan de ventas fusión Agro \n",
    "\n",
    "BaseVentasFusionAgro = pd.read_csv(\"11.csv\")\n",
    "\n",
    "# Se importan categorías de producto, cultivo y cliente\n",
    "\n",
    "Zona = pd.read_csv(\"Zona.csv\")\n",
    "\n",
    "Producto = pd.read_csv(\"Producto.csv\")\n",
    "\n",
    "Cultivo = pd.read_csv(\"Cultivo.csv\")\n",
    "\n",
    "Mesatrimestre = pd.read_csv(\"Mesatrimestre.csv\")\n",
    "\n",
    "# Se incluyen las categorías en la base\n",
    "\n",
    "Ventas_zona = BaseVentasFusionAgro.merge(Zona, how='left', left_on='RM/ REIQ', right_on='RM/ REIQ_')\n",
    "\n",
    "Ventas_zona_producto = Ventas_zona.merge(Producto, how='left', left_on='Producto_', right_on='Producto_')\n",
    "\n",
    "Ventas_zona_producto_ = Ventas_zona_producto.merge(Mesatrimestre, how='left', left_on='Mes', right_on='Mes')\n",
    "\n",
    "Ventas_zona_producto_cultivo_ = Ventas_zona_producto_.merge(Cultivo, how='left', left_on='Cultivo_', right_on='Cultivo', indicator = True)\n",
    "\n"
   ]
  },
  {
   "cell_type": "code",
   "execution_count": 2,
   "id": "143c0f0e",
   "metadata": {},
   "outputs": [],
   "source": [
    "#Criterios para filtrar datos\n",
    "\n",
    "Periodoconsiderado_2022 = Ventas_zona_producto_cultivo_['Periodo'] == 2022\n",
    "Periodoconsiderado2021 = Ventas_zona_producto_cultivo_['Periodo'] == 2021\n",
    "T1 = Ventas_zona_producto_cultivo_['Trimestre'] == \"T1\"\n",
    "EmpresaconsideradaMéxico = Ventas_zona_producto_cultivo_ ['Empresa'] == \"México\"\n",
    "EmpresaconsideradaNOesMéxico = Ventas_zona_producto_cultivo_ ['Empresa'] != \"México\"\n",
    "AdmCat_Cito = Ventas_zona_producto_cultivo_['Administracion de la categoria'] == \"1 Cito\"\n",
    "AdmCat_Suelo = Ventas_zona_producto_cultivo_['Administracion de la categoria'] == \"2 Raiz/ suelo\"\n",
    "AdmCat_Bioest = Ventas_zona_producto_cultivo_['Administracion de la categoria'] == \"3 Bioestimulante\"\n",
    "AdmCat_Coady = Ventas_zona_producto_cultivo_['Administracion de la categoria'] == \"4 Coadyuvante\"\n",
    "H2 = Ventas_zona_producto_cultivo_['H1 o H2 o Resto'] == \"H2\"\n",
    "\n",
    "# También es posible filtrar por zona p.ej.: ['Zona_Ranking'] == '02 Pacífico'\n",
    "# En lugar de Pacífico las otras zonas son:\n",
    "# '01 Norte', '08 Ecu,Col,EUA', '05 Zona 2','06 IqChem', '07 Zona 1', '03 Sureste', '04 Chile/Perú'\n",
    "# Las otras empresas: \n",
    "# 'Intnl', 'CAC', 'IqChem', 'SUD'\n",
    "\n"
   ]
  },
  {
   "cell_type": "code",
   "execution_count": 3,
   "id": "de7c1e15",
   "metadata": {},
   "outputs": [],
   "source": [
    "# Plan 2022 corresponde al año 2022, también es posible seleccionar 2020 o 2021\n",
    "\n",
    "Ventas_zona_producto_cultivo = Ventas_zona_producto_cultivo_\n",
    "\n",
    "#Columnas auxiliares\n",
    "\n",
    "Ventas_zona_producto_cultivo['Utilidad $M'] = Ventas_zona_producto_cultivo['Utilidad']/1000000\n",
    "\n",
    "Ventas_zona_producto_cultivo['Utilidad/Utilidad_total (%)'] = Ventas_zona_producto_cultivo['Utilidad']*100/(Ventas_zona_producto_cultivo['Utilidad'].sum())\n",
    "\n",
    "# La base de ventas fusión agro, se filtra por año y/o empresa y/o categoría\n",
    "# Se usa la base que incluye categorías de cultivos, clientes y productos\n",
    "# Se usan los criterios para filtrar datos listados previamente\n",
    "# Se muestra sólo T1\n",
    "\n",
    "Ventas_zona_producto_cultivo_T1 = Ventas_zona_producto_cultivo_[\n",
    "    H2]\n",
    "\n",
    "Ventas_zona_producto_cultivo_Mx_2022 = Ventas_zona_producto_cultivo_[\n",
    "    EmpresaconsideradaMéxico &\n",
    "    Periodoconsiderado_2022&\n",
    "    H2]\n",
    "\n",
    "Ventas_zona_producto_cultivo_noesMx_2022 = Ventas_zona_producto_cultivo_[\n",
    "    EmpresaconsideradaNOesMéxico &\n",
    "    Periodoconsiderado_2022&\n",
    "    H2]\n",
    "\n",
    "Ventas_zona_producto_cultivo_2021 = Ventas_zona_producto_cultivo_[\n",
    "    Periodoconsiderado2021&\n",
    "    H2]\n",
    "\n",
    "Ventas_zona_producto_cultivo_2022 = Ventas_zona_producto_cultivo_[\n",
    "    Periodoconsiderado_2022&\n",
    "    H2]\n",
    "\n",
    "Ventas_zona_producto_cultivo_Cito_2022 = Ventas_zona_producto_cultivo_[\n",
    "    Periodoconsiderado_2022  &\n",
    "    AdmCat_Cito&\n",
    "    H2]\n",
    "Ventas_zona_producto_cultivo_Suelo_2022 = Ventas_zona_producto_cultivo_[\n",
    "    Periodoconsiderado_2022 &\n",
    "    AdmCat_Suelo&\n",
    "    H2]\n",
    "Ventas_zona_producto_cultivo_Bioest_2022 = Ventas_zona_producto_cultivo_[\n",
    "    Periodoconsiderado_2022 &\n",
    "    AdmCat_Bioest&\n",
    "    H2]\n",
    "Ventas_zona_producto_cultivo_Coady_2022 = Ventas_zona_producto_cultivo_[\n",
    "    Periodoconsiderado_2022 &\n",
    "    AdmCat_Coady&\n",
    "    H2]"
   ]
  },
  {
   "cell_type": "markdown",
   "id": "4cce3afc",
   "metadata": {},
   "source": [
    "# Análisis de Base de ventas Fusión Agro"
   ]
  },
  {
   "cell_type": "markdown",
   "id": "3ad8608c",
   "metadata": {},
   "source": [
    "# Utilidad ($M) Fusión Agro por zona y por año "
   ]
  },
  {
   "cell_type": "code",
   "execution_count": 4,
   "id": "032e6040",
   "metadata": {
    "scrolled": true
   },
   "outputs": [
    {
     "data": {
      "image/png": "[encoded data removed]",
      "text/plain": [
       "<Figure size 432x288 with 1 Axes>"
      ]
     },
     "metadata": {
      "needs_background": "light"
     },
     "output_type": "display_data"
    }
   ],
   "source": [
    "UZA_ = Ventas_zona_producto_cultivo_T1.groupby(['Periodo','Zona_Ranking']).agg({'Utilidad $M': 'sum'})\n",
    "UZA_df = pd.DataFrame(UZA_.unstack(level = 1))\n",
    "UZA_df.plot.bar(stacked=True)\n",
    "plt.legend(loc='center left', bbox_to_anchor=(1.0, 0.5))\n",
    "plt.show()\n"
   ]
  },
  {
   "cell_type": "code",
   "execution_count": 5,
   "id": "d0b1096f",
   "metadata": {},
   "outputs": [
    {
     "data": {
      "text/html": [
       "<style  type=\"text/css\" >\n",
       "#T_1e77e_row0_col0{\n",
       "            width:  10em;\n",
       "             height:  80%;\n",
       "            background:  linear-gradient(90deg,lightgreen 85.2%, transparent 85.2%);\n",
       "        }#T_1e77e_row1_col0{\n",
       "            width:  10em;\n",
       "             height:  80%;\n",
       "            background:  linear-gradient(90deg,lightgreen 91.2%, transparent 91.2%);\n",
       "        }#T_1e77e_row2_col0{\n",
       "            width:  10em;\n",
       "             height:  80%;\n",
       "            background:  linear-gradient(90deg,lightgreen 100.0%, transparent 100.0%);\n",
       "        }</style><table id=\"T_1e77e_\" ><thead>    <tr>        <th class=\"blank level0\" ></th>        <th class=\"col_heading level0 col0\" >Utilidad $M</th>    </tr>    <tr>        <th class=\"index_name level0\" >Periodo</th>        <th class=\"blank\" ></th>    </tr></thead><tbody>\n",
       "                <tr>\n",
       "                        <th id=\"T_1e77e_level0_row0\" class=\"row_heading level0 row0\" >2020</th>\n",
       "                        <td id=\"T_1e77e_row0_col0\" class=\"data row0 col0\" >$29.83</td>\n",
       "            </tr>\n",
       "            <tr>\n",
       "                        <th id=\"T_1e77e_level0_row1\" class=\"row_heading level0 row1\" >2021</th>\n",
       "                        <td id=\"T_1e77e_row1_col0\" class=\"data row1 col0\" >$31.92</td>\n",
       "            </tr>\n",
       "            <tr>\n",
       "                        <th id=\"T_1e77e_level0_row2\" class=\"row_heading level0 row2\" >2022</th>\n",
       "                        <td id=\"T_1e77e_row2_col0\" class=\"data row2 col0\" >$35.01</td>\n",
       "            </tr>\n",
       "    </tbody></table>"
      ],
      "text/plain": [
       "<pandas.io.formats.style.Styler at 0x23c88985e80>"
      ]
     },
     "execution_count": 5,
     "metadata": {},
     "output_type": "execute_result"
    }
   ],
   "source": [
    "UZA2 = Ventas_zona_producto_cultivo_T1.groupby(['Periodo']).agg({'Utilidad $M': 'sum'})\n",
    "UZA2.style.format('${0:,.2f}').bar(color='lightgreen', vmin=0, subset=['Utilidad $M'])"
   ]
  },
  {
   "cell_type": "markdown",
   "id": "264a29a7",
   "metadata": {},
   "source": [
    "# Utilidad ($M) Fusión Agro "
   ]
  },
  {
   "cell_type": "code",
   "execution_count": 6,
   "id": "0f47997e",
   "metadata": {},
   "outputs": [
    {
     "name": "stdout",
     "output_type": "stream",
     "text": [
      "$35.009 M\n"
     ]
    }
   ],
   "source": [
    "print ('${:,.3f} M'.format(Ventas_zona_producto_cultivo_2022['Utilidad'].sum()/1000000) )"
   ]
  },
  {
   "cell_type": "markdown",
   "id": "1654d3a2",
   "metadata": {},
   "source": [
    "# Crecimiento respecto al 2021"
   ]
  },
  {
   "cell_type": "code",
   "execution_count": 7,
   "id": "0f4ff2e5",
   "metadata": {},
   "outputs": [
    {
     "name": "stdout",
     "output_type": "stream",
     "text": [
      "9.68 %\n"
     ]
    }
   ],
   "source": [
    "print ('{:,.2f} %'.format(\n",
    "                            ((Ventas_zona_producto_cultivo_2022['Utilidad'].sum()/\n",
    "                            Ventas_zona_producto_cultivo_2021['Utilidad'].sum())-1)*100\n",
    "                        )) "
   ]
  },
  {
   "cell_type": "markdown",
   "id": "ddd201b1",
   "metadata": {},
   "source": [
    " # Desglose por zona y por categoría"
   ]
  },
  {
   "cell_type": "code",
   "execution_count": 8,
   "id": "b1ff9ae4",
   "metadata": {
    "scrolled": true
   },
   "outputs": [
    {
     "data": {
      "image/png": "[encoded data removed]",
      "text/plain": [
       "<Figure size 432x288 with 1 Axes>"
      ]
     },
     "metadata": {
      "needs_background": "light"
     },
     "output_type": "display_data"
    }
   ],
   "source": [
    "RCZ = Ventas_zona_producto_cultivo_2022.groupby(['Administracion de la categoria','Zona_Ranking']).agg({'Utilidad $M': 'sum'}).reset_index()\n",
    "RCZ_ = Ventas_zona_producto_cultivo_2022.groupby(['Administracion de la categoria','Zona_Ranking']).agg({'Utilidad $M': 'sum'})\n",
    "RCZ_df = pd.DataFrame(RCZ_.unstack(level = 1))\n",
    "RCZ_df.plot.bar(stacked=True)\n",
    "plt.legend(loc='center left', bbox_to_anchor=(1.0, 0.5))\n",
    "plt.show()\n"
   ]
  },
  {
   "cell_type": "code",
   "execution_count": 9,
   "id": "6d752127",
   "metadata": {},
   "outputs": [
    {
     "data": {
      "text/html": [
       "<style  type=\"text/css\" >\n",
       "#T_c0ec1_row0_col0{\n",
       "            width:  10em;\n",
       "             height:  80%;\n",
       "            background:  linear-gradient(90deg,lightgreen 36.3%, transparent 36.3%);\n",
       "        }#T_c0ec1_row1_col0{\n",
       "            width:  10em;\n",
       "             height:  80%;\n",
       "            background:  linear-gradient(90deg,lightgreen 25.7%, transparent 25.7%);\n",
       "        }#T_c0ec1_row2_col0{\n",
       "            width:  10em;\n",
       "             height:  80%;\n",
       "            background:  linear-gradient(90deg,lightgreen 100.0%, transparent 100.0%);\n",
       "        }#T_c0ec1_row3_col0{\n",
       "            width:  10em;\n",
       "             height:  80%;\n",
       "            background:  linear-gradient(90deg,lightgreen 22.5%, transparent 22.5%);\n",
       "        }</style><table id=\"T_c0ec1_\" ><thead>    <tr>        <th class=\"blank level0\" ></th>        <th class=\"col_heading level0 col0\" >Utilidad $M</th>    </tr>    <tr>        <th class=\"index_name level0\" >Administracion de la categoria</th>        <th class=\"blank\" ></th>    </tr></thead><tbody>\n",
       "                <tr>\n",
       "                        <th id=\"T_c0ec1_level0_row0\" class=\"row_heading level0 row0\" >1 Cito</th>\n",
       "                        <td id=\"T_c0ec1_row0_col0\" class=\"data row0 col0\" >$6.88</td>\n",
       "            </tr>\n",
       "            <tr>\n",
       "                        <th id=\"T_c0ec1_level0_row1\" class=\"row_heading level0 row1\" >2 Raiz/ suelo</th>\n",
       "                        <td id=\"T_c0ec1_row1_col0\" class=\"data row1 col0\" >$4.88</td>\n",
       "            </tr>\n",
       "            <tr>\n",
       "                        <th id=\"T_c0ec1_level0_row2\" class=\"row_heading level0 row2\" >3 Bioestimulante</th>\n",
       "                        <td id=\"T_c0ec1_row2_col0\" class=\"data row2 col0\" >$18.98</td>\n",
       "            </tr>\n",
       "            <tr>\n",
       "                        <th id=\"T_c0ec1_level0_row3\" class=\"row_heading level0 row3\" >5 GA</th>\n",
       "                        <td id=\"T_c0ec1_row3_col0\" class=\"data row3 col0\" >$4.27</td>\n",
       "            </tr>\n",
       "    </tbody></table>"
      ],
      "text/plain": [
       "<pandas.io.formats.style.Styler at 0x23c83fb0190>"
      ]
     },
     "execution_count": 9,
     "metadata": {},
     "output_type": "execute_result"
    }
   ],
   "source": [
    "RCZ2 = Ventas_zona_producto_cultivo_2022.groupby(['Administracion de la categoria']).agg({'Utilidad $M': 'sum'})\n",
    "RCZ2.head(20).style.format('${0:,.2f}').bar(color='lightgreen', vmin=0, subset=['Utilidad $M'])"
   ]
  },
  {
   "cell_type": "code",
   "execution_count": null,
   "id": "984a5b42",
   "metadata": {},
   "outputs": [],
   "source": [
    "\n",
    "\n",
    "\n",
    "\n",
    "\n",
    "\n",
    "\n",
    "\n",
    "\n",
    "\n",
    "\n",
    "\n",
    "\n",
    "\n",
    "\n",
    "\n",
    "\n",
    "\n"
   ]
  },
  {
   "cell_type": "markdown",
   "id": "e2ba580c",
   "metadata": {},
   "source": [
    "# Análisis por categoría"
   ]
  },
  {
   "cell_type": "markdown",
   "id": "28023422",
   "metadata": {},
   "source": [
    "# Cito, 2022"
   ]
  },
  {
   "cell_type": "markdown",
   "id": "799b789f",
   "metadata": {},
   "source": [
    "# Valor de Cito y lo que representa respecto a utilidad total"
   ]
  },
  {
   "cell_type": "code",
   "execution_count": 10,
   "id": "ec1baf07",
   "metadata": {
    "scrolled": true
   },
   "outputs": [
    {
     "name": "stdout",
     "output_type": "stream",
     "text": [
      "$6.885 M\n",
      "19.7 %\n"
     ]
    }
   ],
   "source": [
    "utilidadtotal2022 = Ventas_zona_producto_cultivo_2022['Utilidad'].sum()\n",
    "utilidadcito2022 = Ventas_zona_producto_cultivo_Cito_2022['Utilidad'].sum()\n",
    "utilidadcito2022/ utilidadtotal2022\n",
    "print ('${:,.3f} M'.format(Ventas_zona_producto_cultivo_Cito_2022['Utilidad'].sum()/1000000) )\n",
    "print ('{:,.1f} %'.format(utilidadcito2022*100/ utilidadtotal2022))\n"
   ]
  },
  {
   "cell_type": "code",
   "execution_count": 11,
   "id": "a6a37907",
   "metadata": {
    "scrolled": true
   },
   "outputs": [
    {
     "data": {
      "image/png": "[encoded data removed]",
      "text/plain": [
       "<Figure size 432x288 with 1 Axes>"
      ]
     },
     "metadata": {
      "needs_background": "light"
     },
     "output_type": "display_data"
    }
   ],
   "source": [
    "ResumenporHorizonteyEmp = Ventas_zona_producto_cultivo_Cito_2022.groupby(['Zona_Ranking','Producto_']).agg({'Utilidad $M': 'sum'}).reset_index()\n",
    "ResumenporHorizonteyEmp_ = Ventas_zona_producto_cultivo_Cito_2022.groupby(['Zona_Ranking','Producto_']).agg({'Utilidad $M': 'sum'})\n",
    "ResumenporHorizonteyEmp_df = pd.DataFrame(ResumenporHorizonteyEmp_.unstack(level = 1))\n",
    "ResumenporHorizonteyEmp_df.plot.bar(stacked=True)\n",
    "plt.legend(loc='center left', bbox_to_anchor=(1.0, 0.5))\n",
    "plt.show()\n"
   ]
  },
  {
   "cell_type": "code",
   "execution_count": 12,
   "id": "8cc3c8dd",
   "metadata": {},
   "outputs": [
    {
     "data": {
      "text/html": [
       "<style  type=\"text/css\" >\n",
       "#T_d2003_row0_col0{\n",
       "            width:  10em;\n",
       "             height:  80%;\n",
       "            background:  linear-gradient(90deg,lightgreen 100.0%, transparent 100.0%);\n",
       "        }#T_d2003_row1_col0{\n",
       "            width:  10em;\n",
       "             height:  80%;\n",
       "            background:  linear-gradient(90deg,lightgreen 28.7%, transparent 28.7%);\n",
       "        }#T_d2003_row2_col0{\n",
       "            width:  10em;\n",
       "             height:  80%;\n",
       "            background:  linear-gradient(90deg,lightgreen 21.4%, transparent 21.4%);\n",
       "        }#T_d2003_row3_col0{\n",
       "            width:  10em;\n",
       "             height:  80%;\n",
       "            background:  linear-gradient(90deg,lightgreen 19.4%, transparent 19.4%);\n",
       "        }#T_d2003_row4_col0{\n",
       "            width:  10em;\n",
       "             height:  80%;\n",
       "            background:  linear-gradient(90deg,lightgreen 18.9%, transparent 18.9%);\n",
       "        }#T_d2003_row5_col0{\n",
       "            width:  10em;\n",
       "             height:  80%;\n",
       "            background:  linear-gradient(90deg,lightgreen 13.1%, transparent 13.1%);\n",
       "        }#T_d2003_row6_col0{\n",
       "            width:  10em;\n",
       "             height:  80%;\n",
       "            background:  linear-gradient(90deg,lightgreen 8.6%, transparent 8.6%);\n",
       "        }#T_d2003_row7_col0{\n",
       "            width:  10em;\n",
       "             height:  80%;\n",
       "            background:  linear-gradient(90deg,lightgreen 6.9%, transparent 6.9%);\n",
       "        }#T_d2003_row8_col0{\n",
       "            width:  10em;\n",
       "             height:  80%;\n",
       "            background:  linear-gradient(90deg,lightgreen 5.9%, transparent 5.9%);\n",
       "        }#T_d2003_row9_col0{\n",
       "            width:  10em;\n",
       "             height:  80%;\n",
       "            background:  linear-gradient(90deg,lightgreen 5.5%, transparent 5.5%);\n",
       "        }</style><table id=\"T_d2003_\" ><thead>    <tr>        <th class=\"blank level0\" ></th>        <th class=\"col_heading level0 col0\" >Utilidad $M</th>    </tr>    <tr>        <th class=\"index_name level0\" >RM/ REIQ_Ranking</th>        <th class=\"blank\" ></th>    </tr></thead><tbody>\n",
       "                <tr>\n",
       "                        <th id=\"T_d2003_level0_row0\" class=\"row_heading level0 row0\" >11 Empresas Melo</th>\n",
       "                        <td id=\"T_d2003_row0_col0\" class=\"data row0 col0\" >$2.83</td>\n",
       "            </tr>\n",
       "            <tr>\n",
       "                        <th id=\"T_d2003_level0_row1\" class=\"row_heading level0 row1\" >05 GT</th>\n",
       "                        <td id=\"T_d2003_row1_col0\" class=\"data row1 col0\" >$0.81</td>\n",
       "            </tr>\n",
       "            <tr>\n",
       "                        <th id=\"T_d2003_level0_row2\" class=\"row_heading level0 row2\" >08 Agrícola Piscis</th>\n",
       "                        <td id=\"T_d2003_row2_col0\" class=\"data row2 col0\" >$0.61</td>\n",
       "            </tr>\n",
       "            <tr>\n",
       "                        <th id=\"T_d2003_level0_row3\" class=\"row_heading level0 row3\" >16 Txao</th>\n",
       "                        <td id=\"T_d2003_row3_col0\" class=\"data row3 col0\" >$0.55</td>\n",
       "            </tr>\n",
       "            <tr>\n",
       "                        <th id=\"T_d2003_level0_row4\" class=\"row_heading level0 row4\" >19 Agrica</th>\n",
       "                        <td id=\"T_d2003_row4_col0\" class=\"data row4 col0\" >$0.54</td>\n",
       "            </tr>\n",
       "            <tr>\n",
       "                        <th id=\"T_d2003_level0_row5\" class=\"row_heading level0 row5\" >12 Propios</th>\n",
       "                        <td id=\"T_d2003_row5_col0\" class=\"data row5 col0\" >$0.37</td>\n",
       "            </tr>\n",
       "            <tr>\n",
       "                        <th id=\"T_d2003_level0_row6\" class=\"row_heading level0 row6\" >05 NC</th>\n",
       "                        <td id=\"T_d2003_row6_col0\" class=\"data row6 col0\" >$0.24</td>\n",
       "            </tr>\n",
       "            <tr>\n",
       "                        <th id=\"T_d2003_level0_row7\" class=\"row_heading level0 row7\" >17 Tekquimik</th>\n",
       "                        <td id=\"T_d2003_row7_col0\" class=\"data row7 col0\" >$0.19</td>\n",
       "            </tr>\n",
       "            <tr>\n",
       "                        <th id=\"T_d2003_level0_row8\" class=\"row_heading level0 row8\" >05 HN</th>\n",
       "                        <td id=\"T_d2003_row8_col0\" class=\"data row8 col0\" >$0.17</td>\n",
       "            </tr>\n",
       "            <tr>\n",
       "                        <th id=\"T_d2003_level0_row9\" class=\"row_heading level0 row9\" >48 AICG</th>\n",
       "                        <td id=\"T_d2003_row9_col0\" class=\"data row9 col0\" >$0.16</td>\n",
       "            </tr>\n",
       "    </tbody></table>"
      ],
      "text/plain": [
       "<pandas.io.formats.style.Styler at 0x23c88a51c70>"
      ]
     },
     "execution_count": 12,
     "metadata": {},
     "output_type": "execute_result"
    }
   ],
   "source": [
    "Ventas_RM_Cito_2022 = Ventas_zona_producto_cultivo_Cito_2022.groupby(['RM/ REIQ_Ranking']).agg({'Utilidad $M': 'sum'})\n",
    "Ventas_RM_Cito_2022_sorted = Ventas_RM_Cito_2022.sort_values(by=['Utilidad $M'],ascending=False)\n",
    "Ventas_RM_Cito_2022_sorted.head(10).style.format('${0:,.2f}').bar(color='lightgreen', vmin=0, subset=['Utilidad $M'])"
   ]
  },
  {
   "cell_type": "markdown",
   "id": "0af7ea6a",
   "metadata": {},
   "source": [
    "# Raíz/ Suelo, 2022"
   ]
  },
  {
   "cell_type": "markdown",
   "id": "07bd8d0f",
   "metadata": {},
   "source": [
    "# Valor de RaízSuelo y lo que representa respecto a utilidad total"
   ]
  },
  {
   "cell_type": "code",
   "execution_count": 13,
   "id": "43ef131c",
   "metadata": {
    "scrolled": true
   },
   "outputs": [
    {
     "name": "stdout",
     "output_type": "stream",
     "text": [
      "$4.879 M\n",
      "13.9 %\n"
     ]
    }
   ],
   "source": [
    "utilidadtotal2022 = Ventas_zona_producto_cultivo_2022['Utilidad'].sum()\n",
    "utilidadsuelo2022 = Ventas_zona_producto_cultivo_Suelo_2022['Utilidad'].sum()\n",
    "print ('${:,.3f} M'.format(Ventas_zona_producto_cultivo_Suelo_2022['Utilidad'].sum()/1000000) )\n",
    "print ('{:,.1f} %'.format(utilidadsuelo2022*100/ utilidadtotal2022))\n"
   ]
  },
  {
   "cell_type": "code",
   "execution_count": 14,
   "id": "df72175a",
   "metadata": {
    "scrolled": true
   },
   "outputs": [
    {
     "data": {
      "image/png": "[encoded data removed]",
      "text/plain": [
       "<Figure size 432x288 with 1 Axes>"
      ]
     },
     "metadata": {
      "needs_background": "light"
     },
     "output_type": "display_data"
    }
   ],
   "source": [
    "ResumenporHorizonteyEmp_Suelo = Ventas_zona_producto_cultivo_Suelo_2022.groupby(['Zona_Ranking','Producto_']).agg({'Utilidad $M': 'sum'}).reset_index()\n",
    "ResumenporHorizonteyEmp_Suelo_ = Ventas_zona_producto_cultivo_Suelo_2022.groupby(['Zona_Ranking','Producto_']).agg({'Utilidad $M': 'sum'})\n",
    "ResumenporHorizonteyEmp_Suelo_df = pd.DataFrame(ResumenporHorizonteyEmp_Suelo_.unstack(level = 1))\n",
    "ResumenporHorizonteyEmp_Suelo_df.plot.bar(stacked=True)\n",
    "plt.legend(loc='center left', bbox_to_anchor=(1.0, 0.5))\n",
    "plt.show()\n"
   ]
  },
  {
   "cell_type": "code",
   "execution_count": 15,
   "id": "0344d657",
   "metadata": {},
   "outputs": [
    {
     "data": {
      "text/html": [
       "<style  type=\"text/css\" >\n",
       "#T_95a4f_row0_col0{\n",
       "            width:  10em;\n",
       "             height:  80%;\n",
       "            background:  linear-gradient(90deg,lightgreen 100.0%, transparent 100.0%);\n",
       "        }#T_95a4f_row1_col0{\n",
       "            width:  10em;\n",
       "             height:  80%;\n",
       "            background:  linear-gradient(90deg,lightgreen 66.7%, transparent 66.7%);\n",
       "        }#T_95a4f_row2_col0{\n",
       "            width:  10em;\n",
       "             height:  80%;\n",
       "            background:  linear-gradient(90deg,lightgreen 38.9%, transparent 38.9%);\n",
       "        }#T_95a4f_row3_col0{\n",
       "            width:  10em;\n",
       "             height:  80%;\n",
       "            background:  linear-gradient(90deg,lightgreen 27.8%, transparent 27.8%);\n",
       "        }#T_95a4f_row4_col0{\n",
       "            width:  10em;\n",
       "             height:  80%;\n",
       "            background:  linear-gradient(90deg,lightgreen 15.6%, transparent 15.6%);\n",
       "        }#T_95a4f_row5_col0{\n",
       "            width:  10em;\n",
       "             height:  80%;\n",
       "            background:  linear-gradient(90deg,lightgreen 14.3%, transparent 14.3%);\n",
       "        }#T_95a4f_row6_col0{\n",
       "            width:  10em;\n",
       "             height:  80%;\n",
       "            background:  linear-gradient(90deg,lightgreen 14.0%, transparent 14.0%);\n",
       "        }#T_95a4f_row7_col0{\n",
       "            width:  10em;\n",
       "             height:  80%;\n",
       "            background:  linear-gradient(90deg,lightgreen 11.7%, transparent 11.7%);\n",
       "        }#T_95a4f_row8_col0{\n",
       "            width:  10em;\n",
       "             height:  80%;\n",
       "            background:  linear-gradient(90deg,lightgreen 10.3%, transparent 10.3%);\n",
       "        }#T_95a4f_row9_col0{\n",
       "            width:  10em;\n",
       "             height:  80%;\n",
       "            background:  linear-gradient(90deg,lightgreen 9.9%, transparent 9.9%);\n",
       "        }</style><table id=\"T_95a4f_\" ><thead>    <tr>        <th class=\"blank level0\" ></th>        <th class=\"col_heading level0 col0\" >Utilidad $M</th>    </tr>    <tr>        <th class=\"index_name level0\" >RM/ REIQ_Ranking</th>        <th class=\"blank\" ></th>    </tr></thead><tbody>\n",
       "                <tr>\n",
       "                        <th id=\"T_95a4f_level0_row0\" class=\"row_heading level0 row0\" >18 Tattersal</th>\n",
       "                        <td id=\"T_95a4f_row0_col0\" class=\"data row0 col0\" >$1.29</td>\n",
       "            </tr>\n",
       "            <tr>\n",
       "                        <th id=\"T_95a4f_level0_row1\" class=\"row_heading level0 row1\" >34 Agrofuturo</th>\n",
       "                        <td id=\"T_95a4f_row1_col0\" class=\"data row1 col0\" >$0.86</td>\n",
       "            </tr>\n",
       "            <tr>\n",
       "                        <th id=\"T_95a4f_level0_row2\" class=\"row_heading level0 row2\" >07 Fv</th>\n",
       "                        <td id=\"T_95a4f_row2_col0\" class=\"data row2 col0\" >$0.50</td>\n",
       "            </tr>\n",
       "            <tr>\n",
       "                        <th id=\"T_95a4f_level0_row3\" class=\"row_heading level0 row3\" >27 Bioscience</th>\n",
       "                        <td id=\"T_95a4f_row3_col0\" class=\"data row3 col0\" >$0.36</td>\n",
       "            </tr>\n",
       "            <tr>\n",
       "                        <th id=\"T_95a4f_level0_row4\" class=\"row_heading level0 row4\" >03 Quinval</th>\n",
       "                        <td id=\"T_95a4f_row4_col0\" class=\"data row4 col0\" >$0.20</td>\n",
       "            </tr>\n",
       "            <tr>\n",
       "                        <th id=\"T_95a4f_level0_row5\" class=\"row_heading level0 row5\" >23 Agroasa</th>\n",
       "                        <td id=\"T_95a4f_row5_col0\" class=\"data row5 col0\" >$0.18</td>\n",
       "            </tr>\n",
       "            <tr>\n",
       "                        <th id=\"T_95a4f_level0_row6\" class=\"row_heading level0 row6\" >05 GT</th>\n",
       "                        <td id=\"T_95a4f_row6_col0\" class=\"data row6 col0\" >$0.18</td>\n",
       "            </tr>\n",
       "            <tr>\n",
       "                        <th id=\"T_95a4f_level0_row7\" class=\"row_heading level0 row7\" >06 AACSA</th>\n",
       "                        <td id=\"T_95a4f_row7_col0\" class=\"data row7 col0\" >$0.15</td>\n",
       "            </tr>\n",
       "            <tr>\n",
       "                        <th id=\"T_95a4f_level0_row8\" class=\"row_heading level0 row8\" >22 FormaQ</th>\n",
       "                        <td id=\"T_95a4f_row8_col0\" class=\"data row8 col0\" >$0.13</td>\n",
       "            </tr>\n",
       "            <tr>\n",
       "                        <th id=\"T_95a4f_level0_row9\" class=\"row_heading level0 row9\" >05 HN</th>\n",
       "                        <td id=\"T_95a4f_row9_col0\" class=\"data row9 col0\" >$0.13</td>\n",
       "            </tr>\n",
       "    </tbody></table>"
      ],
      "text/plain": [
       "<pandas.io.formats.style.Styler at 0x23c88962e80>"
      ]
     },
     "execution_count": 15,
     "metadata": {},
     "output_type": "execute_result"
    }
   ],
   "source": [
    "Ventas_RM_Suelo_2022 = Ventas_zona_producto_cultivo_Suelo_2022.groupby(['RM/ REIQ_Ranking']).agg({'Utilidad $M': 'sum'})\n",
    "Ventas_RM_Suelo_2022_sorted = Ventas_RM_Suelo_2022.sort_values(by=['Utilidad $M'],ascending=False)\n",
    "Ventas_RM_Suelo_2022_sorted.head(10).style.format('${0:,.2f}').bar(color='lightgreen', vmin=0, subset=['Utilidad $M'])"
   ]
  },
  {
   "cell_type": "markdown",
   "id": "ffd5dd47",
   "metadata": {},
   "source": [
    "# Bioestimulante, 2022"
   ]
  },
  {
   "cell_type": "markdown",
   "id": "c94fce5b",
   "metadata": {},
   "source": [
    "# Valor de Bioestimulante y lo que representa respecto a utilidad total"
   ]
  },
  {
   "cell_type": "code",
   "execution_count": 16,
   "id": "86992028",
   "metadata": {
    "scrolled": true
   },
   "outputs": [
    {
     "name": "stdout",
     "output_type": "stream",
     "text": [
      "$18.978 M\n",
      "54.2 %\n"
     ]
    }
   ],
   "source": [
    "utilidadtotal2022 = Ventas_zona_producto_cultivo_2022['Utilidad'].sum()\n",
    "utilidadbioest2022 = Ventas_zona_producto_cultivo_Bioest_2022['Utilidad'].sum()\n",
    "print ('${:,.3f} M'.format(Ventas_zona_producto_cultivo_Bioest_2022['Utilidad'].sum()/1000000) )\n",
    "print ('{:,.1f} %'.format(utilidadbioest2022*100/ utilidadtotal2022))\n"
   ]
  },
  {
   "cell_type": "code",
   "execution_count": 17,
   "id": "ca8695a8",
   "metadata": {
    "scrolled": false
   },
   "outputs": [
    {
     "data": {
      "image/png": "[encoded data removed]",
      "text/plain": [
       "<Figure size 432x288 with 1 Axes>"
      ]
     },
     "metadata": {
      "needs_background": "light"
     },
     "output_type": "display_data"
    }
   ],
   "source": [
    "ResumenporHorizonteyEmp_Bioest = Ventas_zona_producto_cultivo_Bioest_2022.groupby(['Zona_Ranking','Producto_']).agg({'Utilidad $M': 'sum'}).reset_index()\n",
    "ResumenporHorizonteyEmp_Bioest_ = Ventas_zona_producto_cultivo_Bioest_2022.groupby(['Zona_Ranking','Producto_']).agg({'Utilidad $M': 'sum'})\n",
    "ResumenporHorizonteyEmp_Bioest_df = pd.DataFrame(ResumenporHorizonteyEmp_Bioest_.unstack(level = 1))\n",
    "ResumenporHorizonteyEmp_Bioest_df.plot.bar(stacked=True)\n",
    "plt.legend(loc='center left', bbox_to_anchor=(1.0, 0.5))\n",
    "plt.show()\n"
   ]
  },
  {
   "cell_type": "code",
   "execution_count": 18,
   "id": "0b434f5e",
   "metadata": {},
   "outputs": [
    {
     "data": {
      "text/html": [
       "<style  type=\"text/css\" >\n",
       "#T_8d2b3_row0_col0{\n",
       "            width:  10em;\n",
       "             height:  80%;\n",
       "            background:  linear-gradient(90deg,lightgreen 100.0%, transparent 100.0%);\n",
       "        }#T_8d2b3_row1_col0{\n",
       "            width:  10em;\n",
       "             height:  80%;\n",
       "            background:  linear-gradient(90deg,lightgreen 65.0%, transparent 65.0%);\n",
       "        }#T_8d2b3_row2_col0{\n",
       "            width:  10em;\n",
       "             height:  80%;\n",
       "            background:  linear-gradient(90deg,lightgreen 57.3%, transparent 57.3%);\n",
       "        }#T_8d2b3_row3_col0{\n",
       "            width:  10em;\n",
       "             height:  80%;\n",
       "            background:  linear-gradient(90deg,lightgreen 41.0%, transparent 41.0%);\n",
       "        }#T_8d2b3_row4_col0{\n",
       "            width:  10em;\n",
       "             height:  80%;\n",
       "            background:  linear-gradient(90deg,lightgreen 35.4%, transparent 35.4%);\n",
       "        }#T_8d2b3_row5_col0{\n",
       "            width:  10em;\n",
       "             height:  80%;\n",
       "            background:  linear-gradient(90deg,lightgreen 24.2%, transparent 24.2%);\n",
       "        }#T_8d2b3_row6_col0{\n",
       "            width:  10em;\n",
       "             height:  80%;\n",
       "            background:  linear-gradient(90deg,lightgreen 19.5%, transparent 19.5%);\n",
       "        }#T_8d2b3_row7_col0{\n",
       "            width:  10em;\n",
       "             height:  80%;\n",
       "            background:  linear-gradient(90deg,lightgreen 17.7%, transparent 17.7%);\n",
       "        }#T_8d2b3_row8_col0{\n",
       "            width:  10em;\n",
       "             height:  80%;\n",
       "            background:  linear-gradient(90deg,lightgreen 16.9%, transparent 16.9%);\n",
       "        }#T_8d2b3_row9_col0{\n",
       "            width:  10em;\n",
       "             height:  80%;\n",
       "            background:  linear-gradient(90deg,lightgreen 16.8%, transparent 16.8%);\n",
       "        }</style><table id=\"T_8d2b3_\" ><thead>    <tr>        <th class=\"blank level0\" ></th>        <th class=\"col_heading level0 col0\" >Utilidad $M</th>    </tr>    <tr>        <th class=\"index_name level0\" >RM/ REIQ_Ranking</th>        <th class=\"blank\" ></th>    </tr></thead><tbody>\n",
       "                <tr>\n",
       "                        <th id=\"T_8d2b3_level0_row0\" class=\"row_heading level0 row0\" >01 Ditecosa</th>\n",
       "                        <td id=\"T_8d2b3_row0_col0\" class=\"data row0 col0\" >$3.81</td>\n",
       "            </tr>\n",
       "            <tr>\n",
       "                        <th id=\"T_8d2b3_level0_row1\" class=\"row_heading level0 row1\" >07 Fv</th>\n",
       "                        <td id=\"T_8d2b3_row1_col0\" class=\"data row1 col0\" >$2.48</td>\n",
       "            </tr>\n",
       "            <tr>\n",
       "                        <th id=\"T_8d2b3_level0_row2\" class=\"row_heading level0 row2\" >12 Propios</th>\n",
       "                        <td id=\"T_8d2b3_row2_col0\" class=\"data row2 col0\" >$2.19</td>\n",
       "            </tr>\n",
       "            <tr>\n",
       "                        <th id=\"T_8d2b3_level0_row3\" class=\"row_heading level0 row3\" >15 Ciba</th>\n",
       "                        <td id=\"T_8d2b3_row3_col0\" class=\"data row3 col0\" >$1.56</td>\n",
       "            </tr>\n",
       "            <tr>\n",
       "                        <th id=\"T_8d2b3_level0_row4\" class=\"row_heading level0 row4\" >34 Agrofuturo</th>\n",
       "                        <td id=\"T_8d2b3_row4_col0\" class=\"data row4 col0\" >$1.35</td>\n",
       "            </tr>\n",
       "            <tr>\n",
       "                        <th id=\"T_8d2b3_level0_row5\" class=\"row_heading level0 row5\" >03 Quinval</th>\n",
       "                        <td id=\"T_8d2b3_row5_col0\" class=\"data row5 col0\" >$0.92</td>\n",
       "            </tr>\n",
       "            <tr>\n",
       "                        <th id=\"T_8d2b3_level0_row6\" class=\"row_heading level0 row6\" >22 FormaQ</th>\n",
       "                        <td id=\"T_8d2b3_row6_col0\" class=\"data row6 col0\" >$0.74</td>\n",
       "            </tr>\n",
       "            <tr>\n",
       "                        <th id=\"T_8d2b3_level0_row7\" class=\"row_heading level0 row7\" >04 Dysea</th>\n",
       "                        <td id=\"T_8d2b3_row7_col0\" class=\"data row7 col0\" >$0.67</td>\n",
       "            </tr>\n",
       "            <tr>\n",
       "                        <th id=\"T_8d2b3_level0_row8\" class=\"row_heading level0 row8\" >06 AACSA</th>\n",
       "                        <td id=\"T_8d2b3_row8_col0\" class=\"data row8 col0\" >$0.64</td>\n",
       "            </tr>\n",
       "            <tr>\n",
       "                        <th id=\"T_8d2b3_level0_row9\" class=\"row_heading level0 row9\" >02 JF</th>\n",
       "                        <td id=\"T_8d2b3_row9_col0\" class=\"data row9 col0\" >$0.64</td>\n",
       "            </tr>\n",
       "    </tbody></table>"
      ],
      "text/plain": [
       "<pandas.io.formats.style.Styler at 0x23c89171b80>"
      ]
     },
     "execution_count": 18,
     "metadata": {},
     "output_type": "execute_result"
    }
   ],
   "source": [
    "Ventas_RM_Bioest_2022 = Ventas_zona_producto_cultivo_Bioest_2022.groupby(['RM/ REIQ_Ranking']).agg({'Utilidad $M': 'sum'})\n",
    "Ventas_RM_Bioest_2022_sorted = Ventas_RM_Bioest_2022.sort_values(by=['Utilidad $M'],ascending=False)\n",
    "Ventas_RM_Bioest_2022_sorted.head(10).style.format('${0:,.2f}').bar(color='lightgreen', vmin=0, subset=['Utilidad $M'])"
   ]
  },
  {
   "cell_type": "markdown",
   "id": "83b0c092",
   "metadata": {},
   "source": [
    "# Análisis Mx vs \"Internacional\""
   ]
  },
  {
   "cell_type": "code",
   "execution_count": 19,
   "id": "27342618",
   "metadata": {},
   "outputs": [
    {
     "data": {
      "image/png": "[encoded data removed]",
      "text/plain": [
       "<Figure size 432x288 with 1 Axes>"
      ]
     },
     "metadata": {
      "needs_background": "light"
     },
     "output_type": "display_data"
    }
   ],
   "source": [
    "RCZ_Mx = Ventas_zona_producto_cultivo_Mx_2022.groupby(['Administracion de la categoria','Zona_Ranking']).agg({'Utilidad $M': 'sum'}).reset_index()\n",
    "RCZ_Mx_ = Ventas_zona_producto_cultivo_Mx_2022.groupby(['Administracion de la categoria','Zona_Ranking']).agg({'Utilidad $M': 'sum'})\n",
    "RCZ_Mx_df = pd.DataFrame(RCZ_Mx_.unstack(level = 1))\n",
    "RCZ_Mx_df.plot.bar(stacked=True)\n",
    "plt.legend(loc='center left', bbox_to_anchor=(1.0, 0.5))\n",
    "plt.show()\n",
    "\n"
   ]
  },
  {
   "cell_type": "code",
   "execution_count": 20,
   "id": "4423a496",
   "metadata": {},
   "outputs": [
    {
     "name": "stdout",
     "output_type": "stream",
     "text": [
      "$16.277 M\n"
     ]
    }
   ],
   "source": [
    "print ('${:,.3f} M'.format(RCZ_Mx['Utilidad $M'].sum()) )\n"
   ]
  },
  {
   "cell_type": "code",
   "execution_count": 21,
   "id": "315077b7",
   "metadata": {},
   "outputs": [
    {
     "data": {
      "text/html": [
       "<style  type=\"text/css\" >\n",
       "#T_3b950_row0_col0{\n",
       "            width:  10em;\n",
       "             height:  80%;\n",
       "            background:  linear-gradient(90deg,lightgreen 100.0%, transparent 100.0%);\n",
       "        }#T_3b950_row1_col0{\n",
       "            width:  10em;\n",
       "             height:  80%;\n",
       "            background:  linear-gradient(90deg,lightgreen 83.9%, transparent 83.9%);\n",
       "        }#T_3b950_row2_col0{\n",
       "            width:  10em;\n",
       "             height:  80%;\n",
       "            background:  linear-gradient(90deg,lightgreen 43.9%, transparent 43.9%);\n",
       "        }#T_3b950_row3_col0{\n",
       "            width:  10em;\n",
       "             height:  80%;\n",
       "            background:  linear-gradient(90deg,lightgreen 39.2%, transparent 39.2%);\n",
       "        }#T_3b950_row4_col0{\n",
       "            width:  10em;\n",
       "             height:  80%;\n",
       "            background:  linear-gradient(90deg,lightgreen 33.5%, transparent 33.5%);\n",
       "        }#T_3b950_row5_col0{\n",
       "            width:  10em;\n",
       "             height:  80%;\n",
       "            background:  linear-gradient(90deg,lightgreen 25.7%, transparent 25.7%);\n",
       "        }#T_3b950_row6_col0{\n",
       "            width:  10em;\n",
       "             height:  80%;\n",
       "            background:  linear-gradient(90deg,lightgreen 23.0%, transparent 23.0%);\n",
       "        }#T_3b950_row7_col0{\n",
       "            width:  10em;\n",
       "             height:  80%;\n",
       "            background:  linear-gradient(90deg,lightgreen 22.5%, transparent 22.5%);\n",
       "        }#T_3b950_row8_col0{\n",
       "            width:  10em;\n",
       "             height:  80%;\n",
       "            background:  linear-gradient(90deg,lightgreen 21.5%, transparent 21.5%);\n",
       "        }#T_3b950_row9_col0{\n",
       "            width:  10em;\n",
       "             height:  80%;\n",
       "            background:  linear-gradient(90deg,lightgreen 16.5%, transparent 16.5%);\n",
       "        }</style><table id=\"T_3b950_\" ><thead>    <tr>        <th class=\"blank level0\" ></th>        <th class=\"col_heading level0 col0\" >Utilidad $M</th>    </tr>    <tr>        <th class=\"index_name level0\" >RM/ REIQ_Ranking</th>        <th class=\"blank\" ></th>    </tr></thead><tbody>\n",
       "                <tr>\n",
       "                        <th id=\"T_3b950_level0_row0\" class=\"row_heading level0 row0\" >01 Ditecosa</th>\n",
       "                        <td id=\"T_3b950_row0_col0\" class=\"data row0 col0\" >$3.81</td>\n",
       "            </tr>\n",
       "            <tr>\n",
       "                        <th id=\"T_3b950_level0_row1\" class=\"row_heading level0 row1\" >07 Fv</th>\n",
       "                        <td id=\"T_3b950_row1_col0\" class=\"data row1 col0\" >$3.20</td>\n",
       "            </tr>\n",
       "            <tr>\n",
       "                        <th id=\"T_3b950_level0_row2\" class=\"row_heading level0 row2\" >15 Ciba</th>\n",
       "                        <td id=\"T_3b950_row2_col0\" class=\"data row2 col0\" >$1.68</td>\n",
       "            </tr>\n",
       "            <tr>\n",
       "                        <th id=\"T_3b950_level0_row3\" class=\"row_heading level0 row3\" >02 JF</th>\n",
       "                        <td id=\"T_3b950_row3_col0\" class=\"data row3 col0\" >$1.50</td>\n",
       "            </tr>\n",
       "            <tr>\n",
       "                        <th id=\"T_3b950_level0_row4\" class=\"row_heading level0 row4\" >03 Quinval</th>\n",
       "                        <td id=\"T_3b950_row4_col0\" class=\"data row4 col0\" >$1.28</td>\n",
       "            </tr>\n",
       "            <tr>\n",
       "                        <th id=\"T_3b950_level0_row5\" class=\"row_heading level0 row5\" >39 Serco Verde</th>\n",
       "                        <td id=\"T_3b950_row5_col0\" class=\"data row5 col0\" >$0.98</td>\n",
       "            </tr>\n",
       "            <tr>\n",
       "                        <th id=\"T_3b950_level0_row6\" class=\"row_heading level0 row6\" >22 FormaQ</th>\n",
       "                        <td id=\"T_3b950_row6_col0\" class=\"data row6 col0\" >$0.88</td>\n",
       "            </tr>\n",
       "            <tr>\n",
       "                        <th id=\"T_3b950_level0_row7\" class=\"row_heading level0 row7\" >06 AACSA</th>\n",
       "                        <td id=\"T_3b950_row7_col0\" class=\"data row7 col0\" >$0.86</td>\n",
       "            </tr>\n",
       "            <tr>\n",
       "                        <th id=\"T_3b950_level0_row8\" class=\"row_heading level0 row8\" >04 Dysea</th>\n",
       "                        <td id=\"T_3b950_row8_col0\" class=\"data row8 col0\" >$0.82</td>\n",
       "            </tr>\n",
       "            <tr>\n",
       "                        <th id=\"T_3b950_level0_row9\" class=\"row_heading level0 row9\" >14 PromAgric</th>\n",
       "                        <td id=\"T_3b950_row9_col0\" class=\"data row9 col0\" >$0.63</td>\n",
       "            </tr>\n",
       "    </tbody></table>"
      ],
      "text/plain": [
       "<pandas.io.formats.style.Styler at 0x23c8947ff40>"
      ]
     },
     "execution_count": 21,
     "metadata": {},
     "output_type": "execute_result"
    }
   ],
   "source": [
    "Ventas_RM_Mx_2022 = Ventas_zona_producto_cultivo_Mx_2022.groupby(['RM/ REIQ_Ranking']).agg({'Utilidad $M': 'sum'})\n",
    "Ventas_RM_Mx_2022_sorted = Ventas_RM_Mx_2022.sort_values(by=['Utilidad $M'],ascending=False)\n",
    "Ventas_RM_Mx_2022_sorted.head(10).style.format('${0:,.2f}').bar(color='lightgreen', vmin=0, subset=['Utilidad $M'])"
   ]
  },
  {
   "cell_type": "code",
   "execution_count": 22,
   "id": "830b31bd",
   "metadata": {},
   "outputs": [
    {
     "name": "stdout",
     "output_type": "stream",
     "text": [
      "$14.131 M\n"
     ]
    }
   ],
   "source": [
    "print ('${:,.3f} M'.format(Ventas_RM_Mx_2022['Utilidad $M'].head(10).sum()) )\n"
   ]
  },
  {
   "cell_type": "code",
   "execution_count": 23,
   "id": "ce00ff8a",
   "metadata": {},
   "outputs": [
    {
     "data": {
      "image/png": "[encoded data removed]",
      "text/plain": [
       "<Figure size 432x288 with 1 Axes>"
      ]
     },
     "metadata": {
      "needs_background": "light"
     },
     "output_type": "display_data"
    }
   ],
   "source": [
    "RCZ_noesMx = Ventas_zona_producto_cultivo_noesMx_2022.groupby(['Administracion de la categoria','Zona_Ranking']).agg({'Utilidad $M': 'sum'}).reset_index()\n",
    "RCZ_noesMx_ = Ventas_zona_producto_cultivo_noesMx_2022.groupby(['Administracion de la categoria','Zona_Ranking']).agg({'Utilidad $M': 'sum'})\n",
    "RCZ_noesMx_df = pd.DataFrame(RCZ_noesMx_.unstack(level = 1))\n",
    "RCZ_noesMx_df.plot.bar(stacked=True)\n",
    "plt.legend(loc='center left', bbox_to_anchor=(1.0, 0.5))\n",
    "plt.show()\n"
   ]
  },
  {
   "cell_type": "code",
   "execution_count": 24,
   "id": "9b40b6c4",
   "metadata": {},
   "outputs": [
    {
     "name": "stdout",
     "output_type": "stream",
     "text": [
      "$18.732 M\n"
     ]
    }
   ],
   "source": [
    "print ('${:,.3f} M'.format(RCZ_noesMx['Utilidad $M'].sum()) )"
   ]
  },
  {
   "cell_type": "code",
   "execution_count": 25,
   "id": "9388a5a9",
   "metadata": {},
   "outputs": [
    {
     "data": {
      "text/html": [
       "<style  type=\"text/css\" >\n",
       "#T_28378_row0_col0{\n",
       "            width:  10em;\n",
       "             height:  80%;\n",
       "            background:  linear-gradient(90deg,lightgreen 100.0%, transparent 100.0%);\n",
       "        }#T_28378_row1_col0{\n",
       "            width:  10em;\n",
       "             height:  80%;\n",
       "            background:  linear-gradient(90deg,lightgreen 85.4%, transparent 85.4%);\n",
       "        }#T_28378_row2_col0{\n",
       "            width:  10em;\n",
       "             height:  80%;\n",
       "            background:  linear-gradient(90deg,lightgreen 77.7%, transparent 77.7%);\n",
       "        }#T_28378_row3_col0{\n",
       "            width:  10em;\n",
       "             height:  80%;\n",
       "            background:  linear-gradient(90deg,lightgreen 56.3%, transparent 56.3%);\n",
       "        }#T_28378_row4_col0{\n",
       "            width:  10em;\n",
       "             height:  80%;\n",
       "            background:  linear-gradient(90deg,lightgreen 55.7%, transparent 55.7%);\n",
       "        }#T_28378_row5_col0{\n",
       "            width:  10em;\n",
       "             height:  80%;\n",
       "            background:  linear-gradient(90deg,lightgreen 40.2%, transparent 40.2%);\n",
       "        }#T_28378_row6_col0{\n",
       "            width:  10em;\n",
       "             height:  80%;\n",
       "            background:  linear-gradient(90deg,lightgreen 37.3%, transparent 37.3%);\n",
       "        }#T_28378_row7_col0{\n",
       "            width:  10em;\n",
       "             height:  80%;\n",
       "            background:  linear-gradient(90deg,lightgreen 32.4%, transparent 32.4%);\n",
       "        }#T_28378_row8_col0{\n",
       "            width:  10em;\n",
       "             height:  80%;\n",
       "            background:  linear-gradient(90deg,lightgreen 30.1%, transparent 30.1%);\n",
       "        }#T_28378_row9_col0{\n",
       "            width:  10em;\n",
       "             height:  80%;\n",
       "            background:  linear-gradient(90deg,lightgreen 28.8%, transparent 28.8%);\n",
       "        }</style><table id=\"T_28378_\" ><thead>    <tr>        <th class=\"blank level0\" ></th>        <th class=\"col_heading level0 col0\" >Utilidad $M</th>    </tr>    <tr>        <th class=\"index_name level0\" >RM/ REIQ_Ranking</th>        <th class=\"blank\" ></th>    </tr></thead><tbody>\n",
       "                <tr>\n",
       "                        <th id=\"T_28378_level0_row0\" class=\"row_heading level0 row0\" >11 Empresas Melo</th>\n",
       "                        <td id=\"T_28378_row0_col0\" class=\"data row0 col0\" >$2.99</td>\n",
       "            </tr>\n",
       "            <tr>\n",
       "                        <th id=\"T_28378_level0_row1\" class=\"row_heading level0 row1\" >12 Propios</th>\n",
       "                        <td id=\"T_28378_row1_col0\" class=\"data row1 col0\" >$2.56</td>\n",
       "            </tr>\n",
       "            <tr>\n",
       "                        <th id=\"T_28378_level0_row2\" class=\"row_heading level0 row2\" >34 Agrofuturo</th>\n",
       "                        <td id=\"T_28378_row2_col0\" class=\"data row2 col0\" >$2.33</td>\n",
       "            </tr>\n",
       "            <tr>\n",
       "                        <th id=\"T_28378_level0_row3\" class=\"row_heading level0 row3\" >05 GT</th>\n",
       "                        <td id=\"T_28378_row3_col0\" class=\"data row3 col0\" >$1.69</td>\n",
       "            </tr>\n",
       "            <tr>\n",
       "                        <th id=\"T_28378_level0_row4\" class=\"row_heading level0 row4\" >18 Tattersal</th>\n",
       "                        <td id=\"T_28378_row4_col0\" class=\"data row4 col0\" >$1.67</td>\n",
       "            </tr>\n",
       "            <tr>\n",
       "                        <th id=\"T_28378_level0_row5\" class=\"row_heading level0 row5\" >17 Tekquimik</th>\n",
       "                        <td id=\"T_28378_row5_col0\" class=\"data row5 col0\" >$1.20</td>\n",
       "            </tr>\n",
       "            <tr>\n",
       "                        <th id=\"T_28378_level0_row6\" class=\"row_heading level0 row6\" >19 Agrica</th>\n",
       "                        <td id=\"T_28378_row6_col0\" class=\"data row6 col0\" >$1.11</td>\n",
       "            </tr>\n",
       "            <tr>\n",
       "                        <th id=\"T_28378_level0_row7\" class=\"row_heading level0 row7\" >05 HN</th>\n",
       "                        <td id=\"T_28378_row7_col0\" class=\"data row7 col0\" >$0.97</td>\n",
       "            </tr>\n",
       "            <tr>\n",
       "                        <th id=\"T_28378_level0_row8\" class=\"row_heading level0 row8\" >08 Agrícola Piscis</th>\n",
       "                        <td id=\"T_28378_row8_col0\" class=\"data row8 col0\" >$0.90</td>\n",
       "            </tr>\n",
       "            <tr>\n",
       "                        <th id=\"T_28378_level0_row9\" class=\"row_heading level0 row9\" >27 Bioscience</th>\n",
       "                        <td id=\"T_28378_row9_col0\" class=\"data row9 col0\" >$0.86</td>\n",
       "            </tr>\n",
       "    </tbody></table>"
      ],
      "text/plain": [
       "<pandas.io.formats.style.Styler at 0x23c8896bb80>"
      ]
     },
     "execution_count": 25,
     "metadata": {},
     "output_type": "execute_result"
    }
   ],
   "source": [
    "Ventas_RM_noesMx_2022 = Ventas_zona_producto_cultivo_noesMx_2022.groupby(['RM/ REIQ_Ranking']).agg({'Utilidad $M': 'sum'})\n",
    "Ventas_RM_noesMx_2022_sorted = Ventas_RM_noesMx_2022.sort_values(by=['Utilidad $M'],ascending=False)\n",
    "Ventas_RM_noesMx_2022_sorted.head(10).style.format('${0:,.2f}').bar(color='lightgreen', vmin=0, subset=['Utilidad $M'])"
   ]
  },
  {
   "cell_type": "code",
   "execution_count": 26,
   "id": "eacf04ed",
   "metadata": {},
   "outputs": [
    {
     "name": "stdout",
     "output_type": "stream",
     "text": [
      "$13.586 M\n"
     ]
    }
   ],
   "source": [
    "print ('${:,.3f} M'.format(Ventas_RM_noesMx_2022['Utilidad $M'].head(10).sum()) )\n"
   ]
  },
  {
   "cell_type": "code",
   "execution_count": null,
   "id": "72034137",
   "metadata": {},
   "outputs": [],
   "source": []
  }
 ],
 "metadata": {
  "hide_input": true,
  "kernelspec": {
   "display_name": "Python 3",
   "language": "python",
   "name": "python3"
  },
  "language_info": {
   "codemirror_mode": {
    "name": "ipython",
    "version": 3
   },
   "file_extension": ".py",
   "mimetype": "text/x-python",
   "name": "python",
   "nbconvert_exporter": "python",
   "pygments_lexer": "ipython3",
   "version": "3.8.8"
  }
 },
 "nbformat": 4,
 "nbformat_minor": 5
}
