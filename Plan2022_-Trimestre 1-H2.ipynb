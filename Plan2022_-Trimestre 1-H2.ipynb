{
 "cells": [
  {
   "cell_type": "code",
   "execution_count": 21,
   "id": "b62c12a0",
   "metadata": {
    "hide_input": false
   },
   "outputs": [
    {
     "data": {
      "text/html": [
       "<script>jQuery(function() {if (jQuery(\"body.notebook_app\").length == 0) { jQuery(\".input_area\").toggle(); jQuery(\".prompt\").toggle();}});</script>"
      ]
     },
     "metadata": {},
     "output_type": "display_data"
    },
    {
     "data": {
      "text/html": [
       "<button onclick=\"jQuery('.input_area').toggle(); jQuery('.prompt').toggle();\">Toggle code</button>"
      ]
     },
     "metadata": {},
     "output_type": "display_data"
    }
   ],
   "source": [
    "from IPython.display import display\n",
    "from IPython.display import HTML\n",
    "import IPython.core.display as di # Example: di.display_html('<h3>%s:</h3>' % str, raw=True)\n",
    "\n",
    "# This line will hide code by default when the notebook is exported as HTML\n",
    "di.display_html('<script>jQuery(function() {if (jQuery(\"body.notebook_app\").length == 0) { jQuery(\".input_area\").toggle(); jQuery(\".prompt\").toggle();}});</script>', raw=True)\n",
    "\n",
    "# This line will add a button to toggle visibility of code blocks, for use with the HTML export version\n",
    "di.display_html('''<button onclick=\"jQuery('.input_area').toggle(); jQuery('.prompt').toggle();\">Toggle code</button>''', raw=True)\n",
    "\n",
    "# Se importan paquetes de análisis de datos- Proceso\n",
    "\n",
    "import pandas as pd\n",
    "\n",
    "import matplotlib.pyplot as plt\n",
    "\n",
    "import numpy as np\n",
    "\n",
    "# Se importa base de plan de ventas fusión Agro \n",
    "\n",
    "BaseVentasFusionAgro = pd.read_csv(\"11.csv\")\n",
    "\n",
    "# Se importan categorías de producto, cultivo y cliente\n",
    "\n",
    "Zona = pd.read_csv(\"Zona.csv\")\n",
    "\n",
    "Producto = pd.read_csv(\"Producto.csv\")\n",
    "\n",
    "Cultivo = pd.read_csv(\"Cultivo.csv\")\n",
    "\n",
    "Mesatrimestre = pd.read_csv(\"Mesatrimestre.csv\")\n",
    "\n",
    "# Se incluyen las categorías en la base\n",
    "\n",
    "Ventas_zona = BaseVentasFusionAgro.merge(Zona, how='left', left_on='RM/ REIQ', right_on='RM/ REIQ_')\n",
    "\n",
    "Ventas_zona_producto = Ventas_zona.merge(Producto, how='left', left_on='Producto_', right_on='Producto_')\n",
    "\n",
    "Ventas_zona_producto_ = Ventas_zona_producto.merge(Mesatrimestre, how='left', left_on='Mes', right_on='Mes')\n",
    "\n",
    "Ventas_zona_producto_cultivo_ = Ventas_zona_producto_.merge(Cultivo, how='left', left_on='Cultivo_', right_on='Cultivo', indicator = True)\n",
    "\n"
   ]
  },
  {
   "cell_type": "code",
   "execution_count": 22,
   "id": "143c0f0e",
   "metadata": {},
   "outputs": [],
   "source": [
    "#Criterios para filtrar datos\n",
    "\n",
    "Periodoconsiderado_2022 = Ventas_zona_producto_cultivo_['Periodo'] == 2022\n",
    "Periodoconsiderado2021 = Ventas_zona_producto_cultivo_['Periodo'] == 2021\n",
    "T1 = Ventas_zona_producto_cultivo_['Trimestre'] == \"T1\"\n",
    "EmpresaconsideradaMéxico = Ventas_zona_producto_cultivo_ ['Empresa'] == \"México\"\n",
    "EmpresaconsideradaNOesMéxico = Ventas_zona_producto_cultivo_ ['Empresa'] != \"México\"\n",
    "AdmCat_Cito = Ventas_zona_producto_cultivo_['Administracion de la categoria'] == \"1 Cito\"\n",
    "AdmCat_Suelo = Ventas_zona_producto_cultivo_['Administracion de la categoria'] == \"2 Raiz/ suelo\"\n",
    "AdmCat_Bioest = Ventas_zona_producto_cultivo_['Administracion de la categoria'] == \"3 Bioestimulante\"\n",
    "AdmCat_Coady = Ventas_zona_producto_cultivo_['Administracion de la categoria'] == \"4 Coadyuvante\"\n",
    "H2 = Ventas_zona_producto_cultivo_['H1 o H2 o Resto'] == \"H2\"\n",
    "\n",
    "# También es posible filtrar por zona p.ej.: ['Zona_Ranking'] == '02 Pacífico'\n",
    "# En lugar de Pacífico las otras zonas son:\n",
    "# '01 Norte', '08 Ecu,Col,EUA', '05 Zona 2','06 IqChem', '07 Zona 1', '03 Sureste', '04 Chile/Perú'\n",
    "# Las otras empresas: \n",
    "# 'Intnl', 'CAC', 'IqChem', 'SUD'\n",
    "\n"
   ]
  },
  {
   "cell_type": "code",
   "execution_count": 23,
   "id": "de7c1e15",
   "metadata": {},
   "outputs": [],
   "source": [
    "# Plan 2022 corresponde al año 2022, también es posible seleccionar 2020 o 2021\n",
    "\n",
    "Ventas_zona_producto_cultivo = Ventas_zona_producto_cultivo_\n",
    "\n",
    "#Columnas auxiliares\n",
    "\n",
    "Ventas_zona_producto_cultivo['Utilidad $M'] = Ventas_zona_producto_cultivo['Utilidad']/1000000\n",
    "\n",
    "Ventas_zona_producto_cultivo['Utilidad/Utilidad_total (%)'] = Ventas_zona_producto_cultivo['Utilidad']*100/(Ventas_zona_producto_cultivo['Utilidad'].sum())\n",
    "\n",
    "# La base de ventas fusión agro, se filtra por año y/o empresa y/o categoría\n",
    "# Se usa la base que incluye categorías de cultivos, clientes y productos\n",
    "# Se usan los criterios para filtrar datos listados previamente\n",
    "# Se muestra sólo T1\n",
    "\n",
    "Ventas_zona_producto_cultivo_T1 = Ventas_zona_producto_cultivo_[\n",
    "    T1 &\n",
    "    H2]\n",
    "\n",
    "Ventas_zona_producto_cultivo_Mx_2022 = Ventas_zona_producto_cultivo_[\n",
    "    EmpresaconsideradaMéxico &\n",
    "    Periodoconsiderado_2022&\n",
    "    T1&\n",
    "    H2]\n",
    "\n",
    "Ventas_zona_producto_cultivo_noesMx_2022 = Ventas_zona_producto_cultivo_[\n",
    "    EmpresaconsideradaNOesMéxico &\n",
    "    Periodoconsiderado_2022&\n",
    "    T1&\n",
    "    H2]\n",
    "\n",
    "Ventas_zona_producto_cultivo_2021 = Ventas_zona_producto_cultivo_[\n",
    "    Periodoconsiderado2021&\n",
    "    T1&\n",
    "    H2]\n",
    "\n",
    "Ventas_zona_producto_cultivo_2022 = Ventas_zona_producto_cultivo_[\n",
    "    Periodoconsiderado_2022&\n",
    "    T1&\n",
    "    H2]\n",
    "\n",
    "Ventas_zona_producto_cultivo_Cito_2022 = Ventas_zona_producto_cultivo_[\n",
    "    Periodoconsiderado_2022  &\n",
    "    AdmCat_Cito&\n",
    "    T1&\n",
    "    H2]\n",
    "Ventas_zona_producto_cultivo_Suelo_2022 = Ventas_zona_producto_cultivo_[\n",
    "    Periodoconsiderado_2022 &\n",
    "    AdmCat_Suelo&\n",
    "    T1&\n",
    "    H2]\n",
    "Ventas_zona_producto_cultivo_Bioest_2022 = Ventas_zona_producto_cultivo_[\n",
    "    Periodoconsiderado_2022 &\n",
    "    AdmCat_Bioest&\n",
    "    T1&\n",
    "    H2]\n",
    "Ventas_zona_producto_cultivo_Coady_2022 = Ventas_zona_producto_cultivo_[\n",
    "    Periodoconsiderado_2022 &\n",
    "    AdmCat_Coady&\n",
    "    T1&\n",
    "    H2]"
   ]
  },
  {
   "cell_type": "markdown",
   "id": "4cce3afc",
   "metadata": {},
   "source": [
    "# Análisis de Base de ventas Fusión Agro"
   ]
  },
  {
   "cell_type": "markdown",
   "id": "3ad8608c",
   "metadata": {},
   "source": [
    "# Utilidad ($M) Fusión Agro por zona y por año "
   ]
  },
  {
   "cell_type": "code",
   "execution_count": 24,
   "id": "032e6040",
   "metadata": {
    "scrolled": true
   },
   "outputs": [
    {
     "data": {
      "image/png": "[encoded data removed]",
      "text/plain": [
       "<Figure size 432x288 with 1 Axes>"
      ]
     },
     "metadata": {
      "needs_background": "light"
     },
     "output_type": "display_data"
    }
   ],
   "source": [
    "UZA_ = Ventas_zona_producto_cultivo_T1.groupby(['Periodo','Zona_Ranking']).agg({'Utilidad $M': 'sum'})\n",
    "UZA_df = pd.DataFrame(UZA_.unstack(level = 1))\n",
    "UZA_df.plot.bar(stacked=True)\n",
    "plt.legend(loc='center left', bbox_to_anchor=(1.0, 0.5))\n",
    "plt.show()\n"
   ]
  },
  {
   "cell_type": "code",
   "execution_count": 25,
   "id": "d0b1096f",
   "metadata": {},
   "outputs": [
    {
     "data": {
      "text/html": [
       "<style  type=\"text/css\" >\n",
       "#T_9b0d9_row0_col0{\n",
       "            width:  10em;\n",
       "             height:  80%;\n",
       "            background:  linear-gradient(90deg,lightgreen 100.0%, transparent 100.0%);\n",
       "        }#T_9b0d9_row1_col0{\n",
       "            width:  10em;\n",
       "             height:  80%;\n",
       "            background:  linear-gradient(90deg,lightgreen 59.2%, transparent 59.2%);\n",
       "        }#T_9b0d9_row2_col0{\n",
       "            width:  10em;\n",
       "             height:  80%;\n",
       "            background:  linear-gradient(90deg,lightgreen 79.5%, transparent 79.5%);\n",
       "        }</style><table id=\"T_9b0d9_\" ><thead>    <tr>        <th class=\"blank level0\" ></th>        <th class=\"col_heading level0 col0\" >Utilidad $M</th>    </tr>    <tr>        <th class=\"index_name level0\" >Periodo</th>        <th class=\"blank\" ></th>    </tr></thead><tbody>\n",
       "                <tr>\n",
       "                        <th id=\"T_9b0d9_level0_row0\" class=\"row_heading level0 row0\" >2020</th>\n",
       "                        <td id=\"T_9b0d9_row0_col0\" class=\"data row0 col0\" >$11.36</td>\n",
       "            </tr>\n",
       "            <tr>\n",
       "                        <th id=\"T_9b0d9_level0_row1\" class=\"row_heading level0 row1\" >2021</th>\n",
       "                        <td id=\"T_9b0d9_row1_col0\" class=\"data row1 col0\" >$6.72</td>\n",
       "            </tr>\n",
       "            <tr>\n",
       "                        <th id=\"T_9b0d9_level0_row2\" class=\"row_heading level0 row2\" >2022</th>\n",
       "                        <td id=\"T_9b0d9_row2_col0\" class=\"data row2 col0\" >$9.03</td>\n",
       "            </tr>\n",
       "    </tbody></table>"
      ],
      "text/plain": [
       "<pandas.io.formats.style.Styler at 0x23d17a27a00>"
      ]
     },
     "execution_count": 25,
     "metadata": {},
     "output_type": "execute_result"
    }
   ],
   "source": [
    "UZA2 = Ventas_zona_producto_cultivo_T1.groupby(['Periodo']).agg({'Utilidad $M': 'sum'})\n",
    "UZA2.style.format('${0:,.2f}').bar(color='lightgreen', vmin=0, subset=['Utilidad $M'])"
   ]
  },
  {
   "cell_type": "markdown",
   "id": "264a29a7",
   "metadata": {},
   "source": [
    "# Utilidad ($M) Fusión Agro "
   ]
  },
  {
   "cell_type": "code",
   "execution_count": 26,
   "id": "0f47997e",
   "metadata": {},
   "outputs": [
    {
     "name": "stdout",
     "output_type": "stream",
     "text": [
      "$9.030 M\n"
     ]
    }
   ],
   "source": [
    "print ('${:,.3f} M'.format(Ventas_zona_producto_cultivo_2022['Utilidad'].sum()/1000000) )"
   ]
  },
  {
   "cell_type": "markdown",
   "id": "1654d3a2",
   "metadata": {},
   "source": [
    "# Crecimiento respecto al 2021"
   ]
  },
  {
   "cell_type": "code",
   "execution_count": 27,
   "id": "0f4ff2e5",
   "metadata": {},
   "outputs": [
    {
     "name": "stdout",
     "output_type": "stream",
     "text": [
      "34.32 %\n"
     ]
    }
   ],
   "source": [
    "print ('{:,.2f} %'.format(\n",
    "                            ((Ventas_zona_producto_cultivo_2022['Utilidad'].sum()/\n",
    "                            Ventas_zona_producto_cultivo_2021['Utilidad'].sum())-1)*100\n",
    "                        )) "
   ]
  },
  {
   "cell_type": "markdown",
   "id": "ddd201b1",
   "metadata": {},
   "source": [
    " # Desglose por zona y por categoría"
   ]
  },
  {
   "cell_type": "code",
   "execution_count": 28,
   "id": "b1ff9ae4",
   "metadata": {
    "scrolled": true
   },
   "outputs": [
    {
     "data": {
      "image/png": "[encoded data removed]",
      "text/plain": [
       "<Figure size 432x288 with 1 Axes>"
      ]
     },
     "metadata": {
      "needs_background": "light"
     },
     "output_type": "display_data"
    }
   ],
   "source": [
    "RCZ = Ventas_zona_producto_cultivo_2022.groupby(['Administracion de la categoria','Zona_Ranking']).agg({'Utilidad $M': 'sum'}).reset_index()\n",
    "RCZ_ = Ventas_zona_producto_cultivo_2022.groupby(['Administracion de la categoria','Zona_Ranking']).agg({'Utilidad $M': 'sum'})\n",
    "RCZ_df = pd.DataFrame(RCZ_.unstack(level = 1))\n",
    "RCZ_df.plot.bar(stacked=True)\n",
    "plt.legend(loc='center left', bbox_to_anchor=(1.0, 0.5))\n",
    "plt.show()\n"
   ]
  },
  {
   "cell_type": "code",
   "execution_count": 29,
   "id": "6d752127",
   "metadata": {},
   "outputs": [
    {
     "data": {
      "text/html": [
       "<style  type=\"text/css\" >\n",
       "#T_9a442_row0_col0{\n",
       "            width:  10em;\n",
       "             height:  80%;\n",
       "            background:  linear-gradient(90deg,lightgreen 42.5%, transparent 42.5%);\n",
       "        }#T_9a442_row1_col0{\n",
       "            width:  10em;\n",
       "             height:  80%;\n",
       "            background:  linear-gradient(90deg,lightgreen 21.4%, transparent 21.4%);\n",
       "        }#T_9a442_row2_col0{\n",
       "            width:  10em;\n",
       "             height:  80%;\n",
       "            background:  linear-gradient(90deg,lightgreen 100.0%, transparent 100.0%);\n",
       "        }#T_9a442_row3_col0{\n",
       "            width:  10em;\n",
       "             height:  80%;\n",
       "            background:  linear-gradient(90deg,lightgreen 26.1%, transparent 26.1%);\n",
       "        }</style><table id=\"T_9a442_\" ><thead>    <tr>        <th class=\"blank level0\" ></th>        <th class=\"col_heading level0 col0\" >Utilidad $M</th>    </tr>    <tr>        <th class=\"index_name level0\" >Administracion de la categoria</th>        <th class=\"blank\" ></th>    </tr></thead><tbody>\n",
       "                <tr>\n",
       "                        <th id=\"T_9a442_level0_row0\" class=\"row_heading level0 row0\" >1 Cito</th>\n",
       "                        <td id=\"T_9a442_row0_col0\" class=\"data row0 col0\" >$2.02</td>\n",
       "            </tr>\n",
       "            <tr>\n",
       "                        <th id=\"T_9a442_level0_row1\" class=\"row_heading level0 row1\" >2 Raiz/ suelo</th>\n",
       "                        <td id=\"T_9a442_row1_col0\" class=\"data row1 col0\" >$1.02</td>\n",
       "            </tr>\n",
       "            <tr>\n",
       "                        <th id=\"T_9a442_level0_row2\" class=\"row_heading level0 row2\" >3 Bioestimulante</th>\n",
       "                        <td id=\"T_9a442_row2_col0\" class=\"data row2 col0\" >$4.75</td>\n",
       "            </tr>\n",
       "            <tr>\n",
       "                        <th id=\"T_9a442_level0_row3\" class=\"row_heading level0 row3\" >5 GA</th>\n",
       "                        <td id=\"T_9a442_row3_col0\" class=\"data row3 col0\" >$1.24</td>\n",
       "            </tr>\n",
       "    </tbody></table>"
      ],
      "text/plain": [
       "<pandas.io.formats.style.Styler at 0x23d171fb910>"
      ]
     },
     "execution_count": 29,
     "metadata": {},
     "output_type": "execute_result"
    }
   ],
   "source": [
    "RCZ2 = Ventas_zona_producto_cultivo_2022.groupby(['Administracion de la categoria']).agg({'Utilidad $M': 'sum'})\n",
    "RCZ2.head(20).style.format('${0:,.2f}').bar(color='lightgreen', vmin=0, subset=['Utilidad $M'])"
   ]
  },
  {
   "cell_type": "code",
   "execution_count": null,
   "id": "984a5b42",
   "metadata": {},
   "outputs": [],
   "source": [
    "\n",
    "\n",
    "\n",
    "\n",
    "\n",
    "\n",
    "\n",
    "\n",
    "\n",
    "\n",
    "\n",
    "\n",
    "\n",
    "\n",
    "\n",
    "\n",
    "\n",
    "\n"
   ]
  },
  {
   "cell_type": "markdown",
   "id": "e2ba580c",
   "metadata": {},
   "source": [
    "# Análisis por categoría"
   ]
  },
  {
   "cell_type": "markdown",
   "id": "28023422",
   "metadata": {},
   "source": [
    "# Cito, 2022"
   ]
  },
  {
   "cell_type": "markdown",
   "id": "799b789f",
   "metadata": {},
   "source": [
    "# Valor de Cito y lo que representa respecto a utilidad total"
   ]
  },
  {
   "cell_type": "code",
   "execution_count": 30,
   "id": "ec1baf07",
   "metadata": {
    "scrolled": true
   },
   "outputs": [
    {
     "name": "stdout",
     "output_type": "stream",
     "text": [
      "$2.021 M\n",
      "22.4 %\n"
     ]
    }
   ],
   "source": [
    "utilidadtotal2022 = Ventas_zona_producto_cultivo_2022['Utilidad'].sum()\n",
    "utilidadcito2022 = Ventas_zona_producto_cultivo_Cito_2022['Utilidad'].sum()\n",
    "utilidadcito2022/ utilidadtotal2022\n",
    "print ('${:,.3f} M'.format(Ventas_zona_producto_cultivo_Cito_2022['Utilidad'].sum()/1000000) )\n",
    "print ('{:,.1f} %'.format(utilidadcito2022*100/ utilidadtotal2022))\n"
   ]
  },
  {
   "cell_type": "code",
   "execution_count": 31,
   "id": "a6a37907",
   "metadata": {
    "scrolled": true
   },
   "outputs": [
    {
     "data": {
      "image/png": "[encoded data removed]",
      "text/plain": [
       "<Figure size 432x288 with 1 Axes>"
      ]
     },
     "metadata": {
      "needs_background": "light"
     },
     "output_type": "display_data"
    }
   ],
   "source": [
    "ResumenporHorizonteyEmp = Ventas_zona_producto_cultivo_Cito_2022.groupby(['Zona_Ranking','Producto_']).agg({'Utilidad $M': 'sum'}).reset_index()\n",
    "ResumenporHorizonteyEmp_ = Ventas_zona_producto_cultivo_Cito_2022.groupby(['Zona_Ranking','Producto_']).agg({'Utilidad $M': 'sum'})\n",
    "ResumenporHorizonteyEmp_df = pd.DataFrame(ResumenporHorizonteyEmp_.unstack(level = 1))\n",
    "ResumenporHorizonteyEmp_df.plot.bar(stacked=True)\n",
    "plt.legend(loc='center left', bbox_to_anchor=(1.0, 0.5))\n",
    "plt.show()\n"
   ]
  },
  {
   "cell_type": "code",
   "execution_count": 32,
   "id": "8cc3c8dd",
   "metadata": {},
   "outputs": [
    {
     "data": {
      "text/html": [
       "<style  type=\"text/css\" >\n",
       "#T_9b366_row0_col0{\n",
       "            width:  10em;\n",
       "             height:  80%;\n",
       "            background:  linear-gradient(90deg,lightgreen 100.0%, transparent 100.0%);\n",
       "        }#T_9b366_row1_col0{\n",
       "            width:  10em;\n",
       "             height:  80%;\n",
       "            background:  linear-gradient(90deg,lightgreen 28.8%, transparent 28.8%);\n",
       "        }#T_9b366_row2_col0{\n",
       "            width:  10em;\n",
       "             height:  80%;\n",
       "            background:  linear-gradient(90deg,lightgreen 22.8%, transparent 22.8%);\n",
       "        }#T_9b366_row3_col0{\n",
       "            width:  10em;\n",
       "             height:  80%;\n",
       "            background:  linear-gradient(90deg,lightgreen 11.7%, transparent 11.7%);\n",
       "        }#T_9b366_row4_col0{\n",
       "            width:  10em;\n",
       "             height:  80%;\n",
       "            background:  linear-gradient(90deg,lightgreen 8.0%, transparent 8.0%);\n",
       "        }#T_9b366_row5_col0{\n",
       "            width:  10em;\n",
       "             height:  80%;\n",
       "            background:  linear-gradient(90deg,lightgreen 7.3%, transparent 7.3%);\n",
       "        }#T_9b366_row6_col0{\n",
       "            width:  10em;\n",
       "             height:  80%;\n",
       "            background:  linear-gradient(90deg,lightgreen 6.6%, transparent 6.6%);\n",
       "        }#T_9b366_row7_col0{\n",
       "            width:  10em;\n",
       "             height:  80%;\n",
       "            background:  linear-gradient(90deg,lightgreen 6.5%, transparent 6.5%);\n",
       "        }#T_9b366_row8_col0{\n",
       "            width:  10em;\n",
       "             height:  80%;\n",
       "            background:  linear-gradient(90deg,lightgreen 2.1%, transparent 2.1%);\n",
       "        }#T_9b366_row9_col0{\n",
       "            width:  10em;\n",
       "             height:  80%;\n",
       "            background:  linear-gradient(90deg,lightgreen 0.1%, transparent 0.1%);\n",
       "        }</style><table id=\"T_9b366_\" ><thead>    <tr>        <th class=\"blank level0\" ></th>        <th class=\"col_heading level0 col0\" >Utilidad $M</th>    </tr>    <tr>        <th class=\"index_name level0\" >RM/ REIQ_Ranking</th>        <th class=\"blank\" ></th>    </tr></thead><tbody>\n",
       "                <tr>\n",
       "                        <th id=\"T_9b366_level0_row0\" class=\"row_heading level0 row0\" >11 Empresas Melo</th>\n",
       "                        <td id=\"T_9b366_row0_col0\" class=\"data row0 col0\" >$1.04</td>\n",
       "            </tr>\n",
       "            <tr>\n",
       "                        <th id=\"T_9b366_level0_row1\" class=\"row_heading level0 row1\" >05 GT</th>\n",
       "                        <td id=\"T_9b366_row1_col0\" class=\"data row1 col0\" >$0.30</td>\n",
       "            </tr>\n",
       "            <tr>\n",
       "                        <th id=\"T_9b366_level0_row2\" class=\"row_heading level0 row2\" >08 Agrícola Piscis</th>\n",
       "                        <td id=\"T_9b366_row2_col0\" class=\"data row2 col0\" >$0.24</td>\n",
       "            </tr>\n",
       "            <tr>\n",
       "                        <th id=\"T_9b366_level0_row3\" class=\"row_heading level0 row3\" >05 NC</th>\n",
       "                        <td id=\"T_9b366_row3_col0\" class=\"data row3 col0\" >$0.12</td>\n",
       "            </tr>\n",
       "            <tr>\n",
       "                        <th id=\"T_9b366_level0_row4\" class=\"row_heading level0 row4\" >05 HN</th>\n",
       "                        <td id=\"T_9b366_row4_col0\" class=\"data row4 col0\" >$0.08</td>\n",
       "            </tr>\n",
       "            <tr>\n",
       "                        <th id=\"T_9b366_level0_row5\" class=\"row_heading level0 row5\" >05 ES</th>\n",
       "                        <td id=\"T_9b366_row5_col0\" class=\"data row5 col0\" >$0.08</td>\n",
       "            </tr>\n",
       "            <tr>\n",
       "                        <th id=\"T_9b366_level0_row6\" class=\"row_heading level0 row6\" >16 Txao</th>\n",
       "                        <td id=\"T_9b366_row6_col0\" class=\"data row6 col0\" >$0.07</td>\n",
       "            </tr>\n",
       "            <tr>\n",
       "                        <th id=\"T_9b366_level0_row7\" class=\"row_heading level0 row7\" >12 Propios</th>\n",
       "                        <td id=\"T_9b366_row7_col0\" class=\"data row7 col0\" >$0.07</td>\n",
       "            </tr>\n",
       "            <tr>\n",
       "                        <th id=\"T_9b366_level0_row8\" class=\"row_heading level0 row8\" >17 Tekquimik</th>\n",
       "                        <td id=\"T_9b366_row8_col0\" class=\"data row8 col0\" >$0.02</td>\n",
       "            </tr>\n",
       "            <tr>\n",
       "                        <th id=\"T_9b366_level0_row9\" class=\"row_heading level0 row9\" >25 AgroE</th>\n",
       "                        <td id=\"T_9b366_row9_col0\" class=\"data row9 col0\" >$0.00</td>\n",
       "            </tr>\n",
       "    </tbody></table>"
      ],
      "text/plain": [
       "<pandas.io.formats.style.Styler at 0x23d171b37c0>"
      ]
     },
     "execution_count": 32,
     "metadata": {},
     "output_type": "execute_result"
    }
   ],
   "source": [
    "Ventas_RM_Cito_2022 = Ventas_zona_producto_cultivo_Cito_2022.groupby(['RM/ REIQ_Ranking']).agg({'Utilidad $M': 'sum'})\n",
    "Ventas_RM_Cito_2022_sorted = Ventas_RM_Cito_2022.sort_values(by=['Utilidad $M'],ascending=False)\n",
    "Ventas_RM_Cito_2022_sorted.head(10).style.format('${0:,.2f}').bar(color='lightgreen', vmin=0, subset=['Utilidad $M'])"
   ]
  },
  {
   "cell_type": "markdown",
   "id": "0af7ea6a",
   "metadata": {},
   "source": [
    "# Raíz/ Suelo, 2022"
   ]
  },
  {
   "cell_type": "markdown",
   "id": "07bd8d0f",
   "metadata": {},
   "source": [
    "# Valor de RaízSuelo y lo que representa respecto a utilidad total"
   ]
  },
  {
   "cell_type": "code",
   "execution_count": 33,
   "id": "43ef131c",
   "metadata": {
    "scrolled": true
   },
   "outputs": [
    {
     "name": "stdout",
     "output_type": "stream",
     "text": [
      "$1.016 M\n",
      "11.3 %\n"
     ]
    }
   ],
   "source": [
    "utilidadtotal2022 = Ventas_zona_producto_cultivo_2022['Utilidad'].sum()\n",
    "utilidadsuelo2022 = Ventas_zona_producto_cultivo_Suelo_2022['Utilidad'].sum()\n",
    "print ('${:,.3f} M'.format(Ventas_zona_producto_cultivo_Suelo_2022['Utilidad'].sum()/1000000) )\n",
    "print ('{:,.1f} %'.format(utilidadsuelo2022*100/ utilidadtotal2022))\n"
   ]
  },
  {
   "cell_type": "code",
   "execution_count": 34,
   "id": "df72175a",
   "metadata": {
    "scrolled": true
   },
   "outputs": [
    {
     "data": {
      "image/png": "[encoded data removed]",
      "text/plain": [
       "<Figure size 432x288 with 1 Axes>"
      ]
     },
     "metadata": {
      "needs_background": "light"
     },
     "output_type": "display_data"
    }
   ],
   "source": [
    "ResumenporHorizonteyEmp_Suelo = Ventas_zona_producto_cultivo_Suelo_2022.groupby(['Zona_Ranking','Producto_']).agg({'Utilidad $M': 'sum'}).reset_index()\n",
    "ResumenporHorizonteyEmp_Suelo_ = Ventas_zona_producto_cultivo_Suelo_2022.groupby(['Zona_Ranking','Producto_']).agg({'Utilidad $M': 'sum'})\n",
    "ResumenporHorizonteyEmp_Suelo_df = pd.DataFrame(ResumenporHorizonteyEmp_Suelo_.unstack(level = 1))\n",
    "ResumenporHorizonteyEmp_Suelo_df.plot.bar(stacked=True)\n",
    "plt.legend(loc='center left', bbox_to_anchor=(1.0, 0.5))\n",
    "plt.show()\n"
   ]
  },
  {
   "cell_type": "code",
   "execution_count": 35,
   "id": "0344d657",
   "metadata": {},
   "outputs": [
    {
     "data": {
      "text/html": [
       "<style  type=\"text/css\" >\n",
       "#T_b7277_row0_col0{\n",
       "            width:  10em;\n",
       "             height:  80%;\n",
       "            background:  linear-gradient(90deg,lightgreen 100.0%, transparent 100.0%);\n",
       "        }#T_b7277_row1_col0{\n",
       "            width:  10em;\n",
       "             height:  80%;\n",
       "            background:  linear-gradient(90deg,lightgreen 97.5%, transparent 97.5%);\n",
       "        }#T_b7277_row2_col0{\n",
       "            width:  10em;\n",
       "             height:  80%;\n",
       "            background:  linear-gradient(90deg,lightgreen 72.9%, transparent 72.9%);\n",
       "        }#T_b7277_row3_col0{\n",
       "            width:  10em;\n",
       "             height:  80%;\n",
       "            background:  linear-gradient(90deg,lightgreen 49.1%, transparent 49.1%);\n",
       "        }#T_b7277_row4_col0{\n",
       "            width:  10em;\n",
       "             height:  80%;\n",
       "            background:  linear-gradient(90deg,lightgreen 40.1%, transparent 40.1%);\n",
       "        }#T_b7277_row5_col0{\n",
       "            width:  10em;\n",
       "             height:  80%;\n",
       "            background:  linear-gradient(90deg,lightgreen 37.1%, transparent 37.1%);\n",
       "        }#T_b7277_row6_col0,#T_b7277_row7_col0{\n",
       "            width:  10em;\n",
       "             height:  80%;\n",
       "            background:  linear-gradient(90deg,lightgreen 35.6%, transparent 35.6%);\n",
       "        }#T_b7277_row8_col0{\n",
       "            width:  10em;\n",
       "             height:  80%;\n",
       "            background:  linear-gradient(90deg,lightgreen 35.2%, transparent 35.2%);\n",
       "        }#T_b7277_row9_col0{\n",
       "            width:  10em;\n",
       "             height:  80%;\n",
       "            background:  linear-gradient(90deg,lightgreen 30.2%, transparent 30.2%);\n",
       "        }</style><table id=\"T_b7277_\" ><thead>    <tr>        <th class=\"blank level0\" ></th>        <th class=\"col_heading level0 col0\" >Utilidad $M</th>    </tr>    <tr>        <th class=\"index_name level0\" >RM/ REIQ_Ranking</th>        <th class=\"blank\" ></th>    </tr></thead><tbody>\n",
       "                <tr>\n",
       "                        <th id=\"T_b7277_level0_row0\" class=\"row_heading level0 row0\" >34 Agrofuturo</th>\n",
       "                        <td id=\"T_b7277_row0_col0\" class=\"data row0 col0\" >$0.17</td>\n",
       "            </tr>\n",
       "            <tr>\n",
       "                        <th id=\"T_b7277_level0_row1\" class=\"row_heading level0 row1\" >07 Fv</th>\n",
       "                        <td id=\"T_b7277_row1_col0\" class=\"data row1 col0\" >$0.17</td>\n",
       "            </tr>\n",
       "            <tr>\n",
       "                        <th id=\"T_b7277_level0_row2\" class=\"row_heading level0 row2\" >27 Bioscience</th>\n",
       "                        <td id=\"T_b7277_row2_col0\" class=\"data row2 col0\" >$0.13</td>\n",
       "            </tr>\n",
       "            <tr>\n",
       "                        <th id=\"T_b7277_level0_row3\" class=\"row_heading level0 row3\" >03 Quinval</th>\n",
       "                        <td id=\"T_b7277_row3_col0\" class=\"data row3 col0\" >$0.08</td>\n",
       "            </tr>\n",
       "            <tr>\n",
       "                        <th id=\"T_b7277_level0_row4\" class=\"row_heading level0 row4\" >06 AACSA</th>\n",
       "                        <td id=\"T_b7277_row4_col0\" class=\"data row4 col0\" >$0.07</td>\n",
       "            </tr>\n",
       "            <tr>\n",
       "                        <th id=\"T_b7277_level0_row5\" class=\"row_heading level0 row5\" >05 HN</th>\n",
       "                        <td id=\"T_b7277_row5_col0\" class=\"data row5 col0\" >$0.06</td>\n",
       "            </tr>\n",
       "            <tr>\n",
       "                        <th id=\"T_b7277_level0_row6\" class=\"row_heading level0 row6\" >05 NC</th>\n",
       "                        <td id=\"T_b7277_row6_col0\" class=\"data row6 col0\" >$0.06</td>\n",
       "            </tr>\n",
       "            <tr>\n",
       "                        <th id=\"T_b7277_level0_row7\" class=\"row_heading level0 row7\" >05 ES</th>\n",
       "                        <td id=\"T_b7277_row7_col0\" class=\"data row7 col0\" >$0.06</td>\n",
       "            </tr>\n",
       "            <tr>\n",
       "                        <th id=\"T_b7277_level0_row8\" class=\"row_heading level0 row8\" >05 GT</th>\n",
       "                        <td id=\"T_b7277_row8_col0\" class=\"data row8 col0\" >$0.06</td>\n",
       "            </tr>\n",
       "            <tr>\n",
       "                        <th id=\"T_b7277_level0_row9\" class=\"row_heading level0 row9\" >02 JF</th>\n",
       "                        <td id=\"T_b7277_row9_col0\" class=\"data row9 col0\" >$0.05</td>\n",
       "            </tr>\n",
       "    </tbody></table>"
      ],
      "text/plain": [
       "<pandas.io.formats.style.Styler at 0x23d177f1f70>"
      ]
     },
     "execution_count": 35,
     "metadata": {},
     "output_type": "execute_result"
    }
   ],
   "source": [
    "Ventas_RM_Suelo_2022 = Ventas_zona_producto_cultivo_Suelo_2022.groupby(['RM/ REIQ_Ranking']).agg({'Utilidad $M': 'sum'})\n",
    "Ventas_RM_Suelo_2022_sorted = Ventas_RM_Suelo_2022.sort_values(by=['Utilidad $M'],ascending=False)\n",
    "Ventas_RM_Suelo_2022_sorted.head(10).style.format('${0:,.2f}').bar(color='lightgreen', vmin=0, subset=['Utilidad $M'])"
   ]
  },
  {
   "cell_type": "markdown",
   "id": "ffd5dd47",
   "metadata": {},
   "source": [
    "# Bioestimulante, 2022"
   ]
  },
  {
   "cell_type": "markdown",
   "id": "c94fce5b",
   "metadata": {},
   "source": [
    "# Valor de Bioestimulante y lo que representa respecto a utilidad total"
   ]
  },
  {
   "cell_type": "code",
   "execution_count": 36,
   "id": "86992028",
   "metadata": {
    "scrolled": true
   },
   "outputs": [
    {
     "name": "stdout",
     "output_type": "stream",
     "text": [
      "$4.753 M\n",
      "52.6 %\n"
     ]
    }
   ],
   "source": [
    "utilidadtotal2022 = Ventas_zona_producto_cultivo_2022['Utilidad'].sum()\n",
    "utilidadbioest2022 = Ventas_zona_producto_cultivo_Bioest_2022['Utilidad'].sum()\n",
    "print ('${:,.3f} M'.format(Ventas_zona_producto_cultivo_Bioest_2022['Utilidad'].sum()/1000000) )\n",
    "print ('{:,.1f} %'.format(utilidadbioest2022*100/ utilidadtotal2022))\n"
   ]
  },
  {
   "cell_type": "code",
   "execution_count": 37,
   "id": "ca8695a8",
   "metadata": {
    "scrolled": false
   },
   "outputs": [
    {
     "data": {
      "image/png": "[encoded data removed]",
      "text/plain": [
       "<Figure size 432x288 with 1 Axes>"
      ]
     },
     "metadata": {
      "needs_background": "light"
     },
     "output_type": "display_data"
    }
   ],
   "source": [
    "ResumenporHorizonteyEmp_Bioest = Ventas_zona_producto_cultivo_Bioest_2022.groupby(['Zona_Ranking','Producto_']).agg({'Utilidad $M': 'sum'}).reset_index()\n",
    "ResumenporHorizonteyEmp_Bioest_ = Ventas_zona_producto_cultivo_Bioest_2022.groupby(['Zona_Ranking','Producto_']).agg({'Utilidad $M': 'sum'})\n",
    "ResumenporHorizonteyEmp_Bioest_df = pd.DataFrame(ResumenporHorizonteyEmp_Bioest_.unstack(level = 1))\n",
    "ResumenporHorizonteyEmp_Bioest_df.plot.bar(stacked=True)\n",
    "plt.legend(loc='center left', bbox_to_anchor=(1.0, 0.5))\n",
    "plt.show()\n"
   ]
  },
  {
   "cell_type": "code",
   "execution_count": 38,
   "id": "0b434f5e",
   "metadata": {},
   "outputs": [
    {
     "data": {
      "text/html": [
       "<style  type=\"text/css\" >\n",
       "#T_bc7ee_row0_col0{\n",
       "            width:  10em;\n",
       "             height:  80%;\n",
       "            background:  linear-gradient(90deg,lightgreen 100.0%, transparent 100.0%);\n",
       "        }#T_bc7ee_row1_col0{\n",
       "            width:  10em;\n",
       "             height:  80%;\n",
       "            background:  linear-gradient(90deg,lightgreen 39.8%, transparent 39.8%);\n",
       "        }#T_bc7ee_row2_col0{\n",
       "            width:  10em;\n",
       "             height:  80%;\n",
       "            background:  linear-gradient(90deg,lightgreen 21.6%, transparent 21.6%);\n",
       "        }#T_bc7ee_row3_col0{\n",
       "            width:  10em;\n",
       "             height:  80%;\n",
       "            background:  linear-gradient(90deg,lightgreen 18.4%, transparent 18.4%);\n",
       "        }#T_bc7ee_row4_col0{\n",
       "            width:  10em;\n",
       "             height:  80%;\n",
       "            background:  linear-gradient(90deg,lightgreen 15.7%, transparent 15.7%);\n",
       "        }#T_bc7ee_row5_col0{\n",
       "            width:  10em;\n",
       "             height:  80%;\n",
       "            background:  linear-gradient(90deg,lightgreen 11.8%, transparent 11.8%);\n",
       "        }#T_bc7ee_row6_col0{\n",
       "            width:  10em;\n",
       "             height:  80%;\n",
       "            background:  linear-gradient(90deg,lightgreen 8.5%, transparent 8.5%);\n",
       "        }#T_bc7ee_row7_col0{\n",
       "            width:  10em;\n",
       "             height:  80%;\n",
       "            background:  linear-gradient(90deg,lightgreen 8.1%, transparent 8.1%);\n",
       "        }#T_bc7ee_row8_col0{\n",
       "            width:  10em;\n",
       "             height:  80%;\n",
       "            background:  linear-gradient(90deg,lightgreen 5.8%, transparent 5.8%);\n",
       "        }#T_bc7ee_row9_col0{\n",
       "            width:  10em;\n",
       "             height:  80%;\n",
       "            background:  linear-gradient(90deg,lightgreen 5.5%, transparent 5.5%);\n",
       "        }</style><table id=\"T_bc7ee_\" ><thead>    <tr>        <th class=\"blank level0\" ></th>        <th class=\"col_heading level0 col0\" >Utilidad $M</th>    </tr>    <tr>        <th class=\"index_name level0\" >RM/ REIQ_Ranking</th>        <th class=\"blank\" ></th>    </tr></thead><tbody>\n",
       "                <tr>\n",
       "                        <th id=\"T_bc7ee_level0_row0\" class=\"row_heading level0 row0\" >01 Ditecosa</th>\n",
       "                        <td id=\"T_bc7ee_row0_col0\" class=\"data row0 col0\" >$1.92</td>\n",
       "            </tr>\n",
       "            <tr>\n",
       "                        <th id=\"T_bc7ee_level0_row1\" class=\"row_heading level0 row1\" >07 Fv</th>\n",
       "                        <td id=\"T_bc7ee_row1_col0\" class=\"data row1 col0\" >$0.77</td>\n",
       "            </tr>\n",
       "            <tr>\n",
       "                        <th id=\"T_bc7ee_level0_row2\" class=\"row_heading level0 row2\" >03 Quinval</th>\n",
       "                        <td id=\"T_bc7ee_row2_col0\" class=\"data row2 col0\" >$0.41</td>\n",
       "            </tr>\n",
       "            <tr>\n",
       "                        <th id=\"T_bc7ee_level0_row3\" class=\"row_heading level0 row3\" >12 Propios</th>\n",
       "                        <td id=\"T_bc7ee_row3_col0\" class=\"data row3 col0\" >$0.35</td>\n",
       "            </tr>\n",
       "            <tr>\n",
       "                        <th id=\"T_bc7ee_level0_row4\" class=\"row_heading level0 row4\" >15 Ciba</th>\n",
       "                        <td id=\"T_bc7ee_row4_col0\" class=\"data row4 col0\" >$0.30</td>\n",
       "            </tr>\n",
       "            <tr>\n",
       "                        <th id=\"T_bc7ee_level0_row5\" class=\"row_heading level0 row5\" >06 AACSA</th>\n",
       "                        <td id=\"T_bc7ee_row5_col0\" class=\"data row5 col0\" >$0.23</td>\n",
       "            </tr>\n",
       "            <tr>\n",
       "                        <th id=\"T_bc7ee_level0_row6\" class=\"row_heading level0 row6\" >02 JF</th>\n",
       "                        <td id=\"T_bc7ee_row6_col0\" class=\"data row6 col0\" >$0.16</td>\n",
       "            </tr>\n",
       "            <tr>\n",
       "                        <th id=\"T_bc7ee_level0_row7\" class=\"row_heading level0 row7\" >22 FormaQ</th>\n",
       "                        <td id=\"T_bc7ee_row7_col0\" class=\"data row7 col0\" >$0.16</td>\n",
       "            </tr>\n",
       "            <tr>\n",
       "                        <th id=\"T_bc7ee_level0_row8\" class=\"row_heading level0 row8\" >17 Tekquimik</th>\n",
       "                        <td id=\"T_bc7ee_row8_col0\" class=\"data row8 col0\" >$0.11</td>\n",
       "            </tr>\n",
       "            <tr>\n",
       "                        <th id=\"T_bc7ee_level0_row9\" class=\"row_heading level0 row9\" >39 Serco Verde</th>\n",
       "                        <td id=\"T_bc7ee_row9_col0\" class=\"data row9 col0\" >$0.11</td>\n",
       "            </tr>\n",
       "    </tbody></table>"
      ],
      "text/plain": [
       "<pandas.io.formats.style.Styler at 0x23d1789b460>"
      ]
     },
     "execution_count": 38,
     "metadata": {},
     "output_type": "execute_result"
    }
   ],
   "source": [
    "Ventas_RM_Bioest_2022 = Ventas_zona_producto_cultivo_Bioest_2022.groupby(['RM/ REIQ_Ranking']).agg({'Utilidad $M': 'sum'})\n",
    "Ventas_RM_Bioest_2022_sorted = Ventas_RM_Bioest_2022.sort_values(by=['Utilidad $M'],ascending=False)\n",
    "Ventas_RM_Bioest_2022_sorted.head(10).style.format('${0:,.2f}').bar(color='lightgreen', vmin=0, subset=['Utilidad $M'])"
   ]
  },
  {
   "cell_type": "markdown",
   "id": "83b0c092",
   "metadata": {},
   "source": [
    "# Análisis Mx vs \"Internacional\""
   ]
  },
  {
   "cell_type": "code",
   "execution_count": 39,
   "id": "27342618",
   "metadata": {},
   "outputs": [
    {
     "data": {
      "image/png": "[encoded data removed]",
      "text/plain": [
       "<Figure size 432x288 with 1 Axes>"
      ]
     },
     "metadata": {
      "needs_background": "light"
     },
     "output_type": "display_data"
    }
   ],
   "source": [
    "RCZ_Mx = Ventas_zona_producto_cultivo_Mx_2022.groupby(['Administracion de la categoria','Zona_Ranking']).agg({'Utilidad $M': 'sum'}).reset_index()\n",
    "RCZ_Mx_ = Ventas_zona_producto_cultivo_Mx_2022.groupby(['Administracion de la categoria','Zona_Ranking']).agg({'Utilidad $M': 'sum'})\n",
    "RCZ_Mx_df = pd.DataFrame(RCZ_Mx_.unstack(level = 1))\n",
    "RCZ_Mx_df.plot.bar(stacked=True)\n",
    "plt.legend(loc='center left', bbox_to_anchor=(1.0, 0.5))\n",
    "plt.show()\n",
    "\n"
   ]
  },
  {
   "cell_type": "code",
   "execution_count": 40,
   "id": "4423a496",
   "metadata": {},
   "outputs": [
    {
     "name": "stdout",
     "output_type": "stream",
     "text": [
      "$5.007 M\n"
     ]
    }
   ],
   "source": [
    "print ('${:,.3f} M'.format(RCZ_Mx['Utilidad $M'].sum()) )\n"
   ]
  },
  {
   "cell_type": "code",
   "execution_count": 41,
   "id": "315077b7",
   "metadata": {},
   "outputs": [
    {
     "data": {
      "text/html": [
       "<style  type=\"text/css\" >\n",
       "#T_14736_row0_col0{\n",
       "            width:  10em;\n",
       "             height:  80%;\n",
       "            background:  linear-gradient(90deg,lightgreen 100.0%, transparent 100.0%);\n",
       "        }#T_14736_row1_col0{\n",
       "            width:  10em;\n",
       "             height:  80%;\n",
       "            background:  linear-gradient(90deg,lightgreen 53.4%, transparent 53.4%);\n",
       "        }#T_14736_row2_col0{\n",
       "            width:  10em;\n",
       "             height:  80%;\n",
       "            background:  linear-gradient(90deg,lightgreen 30.0%, transparent 30.0%);\n",
       "        }#T_14736_row3_col0{\n",
       "            width:  10em;\n",
       "             height:  80%;\n",
       "            background:  linear-gradient(90deg,lightgreen 16.5%, transparent 16.5%);\n",
       "        }#T_14736_row4_col0{\n",
       "            width:  10em;\n",
       "             height:  80%;\n",
       "            background:  linear-gradient(90deg,lightgreen 15.4%, transparent 15.4%);\n",
       "        }#T_14736_row5_col0{\n",
       "            width:  10em;\n",
       "             height:  80%;\n",
       "            background:  linear-gradient(90deg,lightgreen 11.2%, transparent 11.2%);\n",
       "        }#T_14736_row6_col0{\n",
       "            width:  10em;\n",
       "             height:  80%;\n",
       "            background:  linear-gradient(90deg,lightgreen 10.3%, transparent 10.3%);\n",
       "        }#T_14736_row7_col0{\n",
       "            width:  10em;\n",
       "             height:  80%;\n",
       "            background:  linear-gradient(90deg,lightgreen 8.6%, transparent 8.6%);\n",
       "        }#T_14736_row8_col0{\n",
       "            width:  10em;\n",
       "             height:  80%;\n",
       "            background:  linear-gradient(90deg,lightgreen 5.2%, transparent 5.2%);\n",
       "        }#T_14736_row9_col0{\n",
       "            width:  10em;\n",
       "             height:  80%;\n",
       "            background:  linear-gradient(90deg,lightgreen 4.7%, transparent 4.7%);\n",
       "        }</style><table id=\"T_14736_\" ><thead>    <tr>        <th class=\"blank level0\" ></th>        <th class=\"col_heading level0 col0\" >Utilidad $M</th>    </tr>    <tr>        <th class=\"index_name level0\" >RM/ REIQ_Ranking</th>        <th class=\"blank\" ></th>    </tr></thead><tbody>\n",
       "                <tr>\n",
       "                        <th id=\"T_14736_level0_row0\" class=\"row_heading level0 row0\" >01 Ditecosa</th>\n",
       "                        <td id=\"T_14736_row0_col0\" class=\"data row0 col0\" >$1.92</td>\n",
       "            </tr>\n",
       "            <tr>\n",
       "                        <th id=\"T_14736_level0_row1\" class=\"row_heading level0 row1\" >07 Fv</th>\n",
       "                        <td id=\"T_14736_row1_col0\" class=\"data row1 col0\" >$1.03</td>\n",
       "            </tr>\n",
       "            <tr>\n",
       "                        <th id=\"T_14736_level0_row2\" class=\"row_heading level0 row2\" >03 Quinval</th>\n",
       "                        <td id=\"T_14736_row2_col0\" class=\"data row2 col0\" >$0.58</td>\n",
       "            </tr>\n",
       "            <tr>\n",
       "                        <th id=\"T_14736_level0_row3\" class=\"row_heading level0 row3\" >15 Ciba</th>\n",
       "                        <td id=\"T_14736_row3_col0\" class=\"data row3 col0\" >$0.32</td>\n",
       "            </tr>\n",
       "            <tr>\n",
       "                        <th id=\"T_14736_level0_row4\" class=\"row_heading level0 row4\" >06 AACSA</th>\n",
       "                        <td id=\"T_14736_row4_col0\" class=\"data row4 col0\" >$0.30</td>\n",
       "            </tr>\n",
       "            <tr>\n",
       "                        <th id=\"T_14736_level0_row5\" class=\"row_heading level0 row5\" >02 JF</th>\n",
       "                        <td id=\"T_14736_row5_col0\" class=\"data row5 col0\" >$0.22</td>\n",
       "            </tr>\n",
       "            <tr>\n",
       "                        <th id=\"T_14736_level0_row6\" class=\"row_heading level0 row6\" >39 Serco Verde</th>\n",
       "                        <td id=\"T_14736_row6_col0\" class=\"data row6 col0\" >$0.20</td>\n",
       "            </tr>\n",
       "            <tr>\n",
       "                        <th id=\"T_14736_level0_row7\" class=\"row_heading level0 row7\" >22 FormaQ</th>\n",
       "                        <td id=\"T_14736_row7_col0\" class=\"data row7 col0\" >$0.17</td>\n",
       "            </tr>\n",
       "            <tr>\n",
       "                        <th id=\"T_14736_level0_row8\" class=\"row_heading level0 row8\" >14 PromAgric</th>\n",
       "                        <td id=\"T_14736_row8_col0\" class=\"data row8 col0\" >$0.10</td>\n",
       "            </tr>\n",
       "            <tr>\n",
       "                        <th id=\"T_14736_level0_row9\" class=\"row_heading level0 row9\" >04 Dysea</th>\n",
       "                        <td id=\"T_14736_row9_col0\" class=\"data row9 col0\" >$0.09</td>\n",
       "            </tr>\n",
       "    </tbody></table>"
      ],
      "text/plain": [
       "<pandas.io.formats.style.Styler at 0x23d16b164c0>"
      ]
     },
     "execution_count": 41,
     "metadata": {},
     "output_type": "execute_result"
    }
   ],
   "source": [
    "Ventas_RM_Mx_2022 = Ventas_zona_producto_cultivo_Mx_2022.groupby(['RM/ REIQ_Ranking']).agg({'Utilidad $M': 'sum'})\n",
    "Ventas_RM_Mx_2022_sorted = Ventas_RM_Mx_2022.sort_values(by=['Utilidad $M'],ascending=False)\n",
    "Ventas_RM_Mx_2022_sorted.head(10).style.format('${0:,.2f}').bar(color='lightgreen', vmin=0, subset=['Utilidad $M'])"
   ]
  },
  {
   "cell_type": "code",
   "execution_count": 42,
   "id": "830b31bd",
   "metadata": {},
   "outputs": [
    {
     "name": "stdout",
     "output_type": "stream",
     "text": [
      "$4.612 M\n"
     ]
    }
   ],
   "source": [
    "print ('${:,.3f} M'.format(Ventas_RM_Mx_2022['Utilidad $M'].head(10).sum()) )\n"
   ]
  },
  {
   "cell_type": "code",
   "execution_count": 43,
   "id": "ce00ff8a",
   "metadata": {},
   "outputs": [
    {
     "data": {
      "image/png": "[encoded data removed]",
      "text/plain": [
       "<Figure size 432x288 with 1 Axes>"
      ]
     },
     "metadata": {
      "needs_background": "light"
     },
     "output_type": "display_data"
    }
   ],
   "source": [
    "RCZ_noesMx = Ventas_zona_producto_cultivo_noesMx_2022.groupby(['Administracion de la categoria','Zona_Ranking']).agg({'Utilidad $M': 'sum'}).reset_index()\n",
    "RCZ_noesMx_ = Ventas_zona_producto_cultivo_noesMx_2022.groupby(['Administracion de la categoria','Zona_Ranking']).agg({'Utilidad $M': 'sum'})\n",
    "RCZ_noesMx_df = pd.DataFrame(RCZ_noesMx_.unstack(level = 1))\n",
    "RCZ_noesMx_df.plot.bar(stacked=True)\n",
    "plt.legend(loc='center left', bbox_to_anchor=(1.0, 0.5))\n",
    "plt.show()\n"
   ]
  },
  {
   "cell_type": "code",
   "execution_count": 44,
   "id": "9b40b6c4",
   "metadata": {},
   "outputs": [
    {
     "name": "stdout",
     "output_type": "stream",
     "text": [
      "$4.023 M\n"
     ]
    }
   ],
   "source": [
    "print ('${:,.3f} M'.format(RCZ_noesMx['Utilidad $M'].sum()) )"
   ]
  },
  {
   "cell_type": "code",
   "execution_count": 45,
   "id": "9388a5a9",
   "metadata": {},
   "outputs": [
    {
     "data": {
      "text/html": [
       "<style  type=\"text/css\" >\n",
       "#T_86d98_row0_col0{\n",
       "            width:  10em;\n",
       "             height:  80%;\n",
       "            background:  linear-gradient(90deg,lightgreen 100.0%, transparent 100.0%);\n",
       "        }#T_86d98_row1_col0{\n",
       "            width:  10em;\n",
       "             height:  80%;\n",
       "            background:  linear-gradient(90deg,lightgreen 65.4%, transparent 65.4%);\n",
       "        }#T_86d98_row2_col0{\n",
       "            width:  10em;\n",
       "             height:  80%;\n",
       "            background:  linear-gradient(90deg,lightgreen 45.6%, transparent 45.6%);\n",
       "        }#T_86d98_row3_col0{\n",
       "            width:  10em;\n",
       "             height:  80%;\n",
       "            background:  linear-gradient(90deg,lightgreen 39.6%, transparent 39.6%);\n",
       "        }#T_86d98_row4_col0{\n",
       "            width:  10em;\n",
       "             height:  80%;\n",
       "            background:  linear-gradient(90deg,lightgreen 27.6%, transparent 27.6%);\n",
       "        }#T_86d98_row5_col0{\n",
       "            width:  10em;\n",
       "             height:  80%;\n",
       "            background:  linear-gradient(90deg,lightgreen 22.4%, transparent 22.4%);\n",
       "        }#T_86d98_row6_col0{\n",
       "            width:  10em;\n",
       "             height:  80%;\n",
       "            background:  linear-gradient(90deg,lightgreen 21.8%, transparent 21.8%);\n",
       "        }#T_86d98_row7_col0{\n",
       "            width:  10em;\n",
       "             height:  80%;\n",
       "            background:  linear-gradient(90deg,lightgreen 16.1%, transparent 16.1%);\n",
       "        }#T_86d98_row8_col0{\n",
       "            width:  10em;\n",
       "             height:  80%;\n",
       "            background:  linear-gradient(90deg,lightgreen 12.9%, transparent 12.9%);\n",
       "        }#T_86d98_row9_col0{\n",
       "            width:  10em;\n",
       "             height:  80%;\n",
       "            background:  linear-gradient(90deg,lightgreen 12.2%, transparent 12.2%);\n",
       "        }</style><table id=\"T_86d98_\" ><thead>    <tr>        <th class=\"blank level0\" ></th>        <th class=\"col_heading level0 col0\" >Utilidad $M</th>    </tr>    <tr>        <th class=\"index_name level0\" >RM/ REIQ_Ranking</th>        <th class=\"blank\" ></th>    </tr></thead><tbody>\n",
       "                <tr>\n",
       "                        <th id=\"T_86d98_level0_row0\" class=\"row_heading level0 row0\" >11 Empresas Melo</th>\n",
       "                        <td id=\"T_86d98_row0_col0\" class=\"data row0 col0\" >$1.06</td>\n",
       "            </tr>\n",
       "            <tr>\n",
       "                        <th id=\"T_86d98_level0_row1\" class=\"row_heading level0 row1\" >05 GT</th>\n",
       "                        <td id=\"T_86d98_row1_col0\" class=\"data row1 col0\" >$0.70</td>\n",
       "            </tr>\n",
       "            <tr>\n",
       "                        <th id=\"T_86d98_level0_row2\" class=\"row_heading level0 row2\" >05 HN</th>\n",
       "                        <td id=\"T_86d98_row2_col0\" class=\"data row2 col0\" >$0.49</td>\n",
       "            </tr>\n",
       "            <tr>\n",
       "                        <th id=\"T_86d98_level0_row3\" class=\"row_heading level0 row3\" >12 Propios</th>\n",
       "                        <td id=\"T_86d98_row3_col0\" class=\"data row3 col0\" >$0.42</td>\n",
       "            </tr>\n",
       "            <tr>\n",
       "                        <th id=\"T_86d98_level0_row4\" class=\"row_heading level0 row4\" >05 NC</th>\n",
       "                        <td id=\"T_86d98_row4_col0\" class=\"data row4 col0\" >$0.29</td>\n",
       "            </tr>\n",
       "            <tr>\n",
       "                        <th id=\"T_86d98_level0_row5\" class=\"row_heading level0 row5\" >08 Agrícola Piscis</th>\n",
       "                        <td id=\"T_86d98_row5_col0\" class=\"data row5 col0\" >$0.24</td>\n",
       "            </tr>\n",
       "            <tr>\n",
       "                        <th id=\"T_86d98_level0_row6\" class=\"row_heading level0 row6\" >17 Tekquimik</th>\n",
       "                        <td id=\"T_86d98_row6_col0\" class=\"data row6 col0\" >$0.23</td>\n",
       "            </tr>\n",
       "            <tr>\n",
       "                        <th id=\"T_86d98_level0_row7\" class=\"row_heading level0 row7\" >34 Agrofuturo</th>\n",
       "                        <td id=\"T_86d98_row7_col0\" class=\"data row7 col0\" >$0.17</td>\n",
       "            </tr>\n",
       "            <tr>\n",
       "                        <th id=\"T_86d98_level0_row8\" class=\"row_heading level0 row8\" >05 ES</th>\n",
       "                        <td id=\"T_86d98_row8_col0\" class=\"data row8 col0\" >$0.14</td>\n",
       "            </tr>\n",
       "            <tr>\n",
       "                        <th id=\"T_86d98_level0_row9\" class=\"row_heading level0 row9\" >16 Txao</th>\n",
       "                        <td id=\"T_86d98_row9_col0\" class=\"data row9 col0\" >$0.13</td>\n",
       "            </tr>\n",
       "    </tbody></table>"
      ],
      "text/plain": [
       "<pandas.io.formats.style.Styler at 0x23d15686040>"
      ]
     },
     "execution_count": 45,
     "metadata": {},
     "output_type": "execute_result"
    }
   ],
   "source": [
    "Ventas_RM_noesMx_2022 = Ventas_zona_producto_cultivo_noesMx_2022.groupby(['RM/ REIQ_Ranking']).agg({'Utilidad $M': 'sum'})\n",
    "Ventas_RM_noesMx_2022_sorted = Ventas_RM_noesMx_2022.sort_values(by=['Utilidad $M'],ascending=False)\n",
    "Ventas_RM_noesMx_2022_sorted.head(10).style.format('${0:,.2f}').bar(color='lightgreen', vmin=0, subset=['Utilidad $M'])"
   ]
  },
  {
   "cell_type": "code",
   "execution_count": 46,
   "id": "eacf04ed",
   "metadata": {},
   "outputs": [
    {
     "name": "stdout",
     "output_type": "stream",
     "text": [
      "$3.725 M\n"
     ]
    }
   ],
   "source": [
    "print ('${:,.3f} M'.format(Ventas_RM_noesMx_2022['Utilidad $M'].head(10).sum()) )\n"
   ]
  },
  {
   "cell_type": "code",
   "execution_count": null,
   "id": "72034137",
   "metadata": {},
   "outputs": [],
   "source": []
  }
 ],
 "metadata": {
  "hide_input": true,
  "kernelspec": {
   "display_name": "Python 3",
   "language": "python",
   "name": "python3"
  },
  "language_info": {
   "codemirror_mode": {
    "name": "ipython",
    "version": 3
   },
   "file_extension": ".py",
   "mimetype": "text/x-python",
   "name": "python",
   "nbconvert_exporter": "python",
   "pygments_lexer": "ipython3",
   "version": "3.8.8"
  }
 },
 "nbformat": 4,
 "nbformat_minor": 5
}
