{
 "cells": [
  {
   "cell_type": "code",
   "execution_count": 1,
   "id": "b62c12a0",
   "metadata": {
    "hide_input": false
   },
   "outputs": [],
   "source": [
    "# Se importan paquetes de análisis de datos- Proceso\n",
    "\n",
    "import pandas as pd\n",
    "\n",
    "import matplotlib.pyplot as plt\n",
    "\n",
    "import numpy as np\n",
    "\n",
    "# Se importa base de plan de ventas fusión Agro - Proceso\n",
    "\n",
    "Plan2022 = pd.read_csv(\"1.csv\")\n",
    "\n",
    "Precios = pd.read_csv(\"2.csv\")\n",
    "\n",
    "Costos = pd.read_csv(\"4.csv\")\n",
    "\n",
    "Plan2022_ = pd.read_csv(\"5.csv\")\n",
    "\n",
    "BaseVentasFusionAgro = pd.read_csv(\"11.csv\")\n",
    "\n",
    "# Se importan categorías de producto, cultivo y cliente\n",
    "\n",
    "Zona = pd.read_csv(\"Zona.csv\")\n",
    "\n",
    "Producto = pd.read_csv(\"Producto.csv\")\n",
    "\n",
    "Cultivo = pd.read_csv(\"Cultivo.csv\")\n",
    "\n",
    "Mesatrimestre = pd.read_csv(\"Mesatrimestre.csv\")\n",
    "\n",
    "# A qué categorías pertenece cada producto\n",
    "\n",
    "\n",
    "Producto_ = Producto.groupby(['Administracion de la categoria','H1 o H2 o Resto','Producto_Ranking']).agg({'Producto_': 'count'})\n",
    "\n",
    "# A qué zonas pertenece cada cliente\n",
    "\n",
    "\n",
    "Zona_ = Zona.groupby(['Empresa','Zona','RM/ REIQ']).agg({'RM/ REIQ': 'count'})\n",
    "\n",
    "\n",
    "# A qué zonas pertenece cada cliente\n",
    "\n",
    "\n",
    "Cultivos= Cultivo[(Cultivo['Cultivo_Categoría'] != \"-\") & (Cultivo['Cultivo_Categoría'] != \"Otros\")]\n",
    "\n",
    "Cultivo_ = Cultivos.groupby(['Cultivo_Macrocategoría','Cultivo_Categoría','Cultivo_']).agg({'Cultivo_': 'count'})\n",
    "\n",
    "\n",
    "# Se incluyen las categorías en la base\n",
    "\n",
    "\n",
    "Ventas_zona = BaseVentasFusionAgro.merge(Zona, how='left', left_on='RM/ REIQ', right_on='RM/ REIQ_')\n",
    "\n",
    "Ventas_zona_producto = Ventas_zona.merge(Producto, how='left', left_on='Producto_', right_on='Producto_')\n",
    "\n",
    "Ventas_zona_producto_ = Ventas_zona_producto.merge(Mesatrimestre, how='left', left_on='Mes', right_on='Mes')\n",
    "\n",
    "Ventas_zona_producto_cultivo_ = Ventas_zona_producto_.merge(Cultivo, how='left', left_on='Cultivo_', right_on='Cultivo', indicator = True)\n",
    "\n",
    "\n",
    "\n",
    "\n"
   ]
  },
  {
   "cell_type": "code",
   "execution_count": 2,
   "id": "1f079a3f",
   "metadata": {},
   "outputs": [],
   "source": [
    "#Criterios para filtrar datos\n",
    "Periodoconsiderado_2022 = Ventas_zona_producto_cultivo_['Periodo'] == 2022\n",
    "Periodoconsiderado2021 = Ventas_zona_producto_cultivo_['Periodo'] == 2021\n",
    "Periodoconsiderado2020 = Ventas_zona_producto_cultivo_['Periodo'] == 2020\n",
    "Zonaconsiderada_Noroeste = Ventas_zona_producto_cultivo_['Zona Ranking_'] == \"01 Noroeste\"\n",
    "ZonaconsideradaZona2 = Ventas_zona_producto_cultivo_['Zona Ranking_'] == \"03 Zona 2\"\n",
    "ZonaconsideradaPacífico = Ventas_zona_producto_cultivo_['Zona Ranking_'] == \"02 Pacífico\"\n",
    "EmpresaconsideradaMéxico = Ventas_zona_producto_cultivo_ ['Empresa'] == \"México\"\n",
    "EmpresaconsideradaNOesMéxico = Ventas_zona_producto_cultivo_ ['Empresa'] != \"México\"\n",
    "\n",
    "Trimestres = ['T1','T2','T3','T4']\n",
    "Trimestres_ = Ventas_zona_producto_cultivo_['Trimestre'].isin(Trimestres)\n",
    "T1_ = Ventas_zona_producto_cultivo_['Trimestre'] == \"T1\"\n",
    "T1yT2 = ['T1', 'T2']\n",
    "T1aT4 = ['T1', 'T2','T3', 'T4']\n",
    "Catdecultivo = Ventas_zona_producto_cultivo_['Cultivo_Categoría'] == \"Hortalizas\"\n",
    "AdmCat_Cito = Ventas_zona_producto_cultivo_['Administracion de la categoria'] == \"1 Cito\"\n",
    "AdmCat_Suelo = Ventas_zona_producto_cultivo_['Administracion de la categoria'] == \"2 Raiz/ suelo\"\n",
    "AdmCat_Bioest = Ventas_zona_producto_cultivo_['Administracion de la categoria'] == \"3 Bioestimulante\"\n",
    "AdmCat_Coady = Ventas_zona_producto_cultivo_['Administracion de la categoria'] == \"4 Coadyuvante\"\n",
    "H2 = Ventas_zona_producto_cultivo_['H1 o H2 o Resto'] == \"H2\"\n",
    "\n"
   ]
  },
  {
   "cell_type": "code",
   "execution_count": 3,
   "id": "5fcec25c",
   "metadata": {},
   "outputs": [],
   "source": [
    "# Plan 2022 corresponde al año 2022, también es posible seleccionar 2020 o 2021\n",
    "\n",
    "Ventas_zona_producto_cultivo = Ventas_zona_producto_cultivo_[H2]\n",
    "\n",
    "Ventas_zona_producto_cultivo_2021 = Ventas_zona_producto_cultivo_[\n",
    "    Periodoconsiderado2021 &\n",
    "    H2 &\n",
    "    Trimestres_]\n",
    "\n",
    "Ventas_zona_producto_cultivo_2022 = Ventas_zona_producto_cultivo_[\n",
    "    Periodoconsiderado_2022 &\n",
    "    H2&\n",
    "    Trimestres_]\n",
    "Ventas_zona_producto_cultivo_Cito_2022 = Ventas_zona_producto_cultivo_[\n",
    "    Periodoconsiderado_2022  &\n",
    "    AdmCat_Cito &\n",
    "    H2&\n",
    "    Trimestres_]\n",
    "Ventas_zona_producto_cultivo_Suelo_2022 = Ventas_zona_producto_cultivo_[\n",
    "    Periodoconsiderado_2022 &\n",
    "    AdmCat_Suelo &\n",
    "    H2&\n",
    "    Trimestres_]\n",
    "Ventas_zona_producto_cultivo_Bioest_2022 = Ventas_zona_producto_cultivo_[\n",
    "    Periodoconsiderado_2022 &\n",
    "    AdmCat_Bioest &\n",
    "    H2&\n",
    "    Trimestres_]\n",
    "Ventas_zona_producto_cultivo_Coady_2022 = Ventas_zona_producto_cultivo_[\n",
    "    Periodoconsiderado_2022 &\n",
    "    AdmCat_Coady &\n",
    "    H2&\n",
    "    Trimestres_]\n",
    "\n",
    "CitoMx = Ventas_zona_producto_cultivo_[Periodoconsiderado_2022 & \n",
    "                                      EmpresaconsideradaMéxico &\n",
    "                                      AdmCat_Cito  &\n",
    "    H2&\n",
    "    Trimestres_]\n",
    "CitoIntnl = Ventas_zona_producto_cultivo_[Periodoconsiderado_2022 &\n",
    "                                         EmpresaconsideradaNOesMéxico &\n",
    "                                         AdmCat_Cito \n",
    "                                       &\n",
    "    H2&\n",
    "    Trimestres_]\n",
    "SueloMx = Ventas_zona_producto_cultivo_[Periodoconsiderado_2022 &\n",
    "                                       EmpresaconsideradaMéxico &\n",
    "                                       AdmCat_Suelo \n",
    "                                       &\n",
    "    H2&\n",
    "    Trimestres_]\n",
    "SueloIntnl = Ventas_zona_producto_cultivo_[Periodoconsiderado_2022 &\n",
    "                                          EmpresaconsideradaNOesMéxico &\n",
    "                                          AdmCat_Suelo \n",
    "                                       &\n",
    "    H2&\n",
    "    Trimestres_]\n",
    "BioestMx = Ventas_zona_producto_cultivo_[Periodoconsiderado_2022 &\n",
    "                                        EmpresaconsideradaMéxico &\n",
    "                                        AdmCat_Bioest \n",
    "                                       &\n",
    "    H2&\n",
    "    Trimestres_]\n",
    "BioestIntnl = Ventas_zona_producto_cultivo_[Periodoconsiderado_2022 &\n",
    "                                           EmpresaconsideradaNOesMéxico &\n",
    "                                           AdmCat_Bioest \n",
    "                                       &\n",
    "    H2&\n",
    "    Trimestres_]"
   ]
  },
  {
   "cell_type": "markdown",
   "id": "4cce3afc",
   "metadata": {},
   "source": [
    "# Análisis  H2 "
   ]
  },
  {
   "cell_type": "markdown",
   "id": "3ad8608c",
   "metadata": {},
   "source": [
    "# Utilidad Fusión Agro por zona y por año "
   ]
  },
  {
   "cell_type": "code",
   "execution_count": 4,
   "id": "032e6040",
   "metadata": {
    "scrolled": true
   },
   "outputs": [
    {
     "data": {
      "image/png": "[encoded data removed]",
      "text/plain": [
       "<Figure size 432x288 with 1 Axes>"
      ]
     },
     "metadata": {
      "needs_background": "light"
     },
     "output_type": "display_data"
    }
   ],
   "source": [
    "UZA = Ventas_zona_producto_cultivo.groupby(['Periodo','Zona_Ranking']).agg({'Utilidad': 'sum'}).reset_index()\n",
    "UZA_ = Ventas_zona_producto_cultivo.groupby(['Periodo','Zona_Ranking']).agg({'Utilidad': 'sum'})\n",
    "UZA_df = pd.DataFrame(UZA_.unstack(level = 1))\n",
    "UZA_df.plot.bar(stacked=True)\n",
    "plt.legend(loc='center left', bbox_to_anchor=(1.0, 0.5))\n",
    "plt.show()\n"
   ]
  },
  {
   "cell_type": "code",
   "execution_count": 5,
   "id": "02e06f03",
   "metadata": {},
   "outputs": [
    {
     "data": {
      "text/html": [
       "<div>\n",
       "<style scoped>\n",
       "    .dataframe tbody tr th:only-of-type {\n",
       "        vertical-align: middle;\n",
       "    }\n",
       "\n",
       "    .dataframe tbody tr th {\n",
       "        vertical-align: top;\n",
       "    }\n",
       "\n",
       "    .dataframe thead th {\n",
       "        text-align: right;\n",
       "    }\n",
       "</style>\n",
       "<table border=\"1\" class=\"dataframe\">\n",
       "  <thead>\n",
       "    <tr style=\"text-align: right;\">\n",
       "      <th></th>\n",
       "      <th>Utilidad</th>\n",
       "    </tr>\n",
       "    <tr>\n",
       "      <th>Periodo</th>\n",
       "      <th></th>\n",
       "    </tr>\n",
       "  </thead>\n",
       "  <tbody>\n",
       "    <tr>\n",
       "      <th>2020</th>\n",
       "      <td>2.983104e+07</td>\n",
       "    </tr>\n",
       "    <tr>\n",
       "      <th>2021</th>\n",
       "      <td>3.191855e+07</td>\n",
       "    </tr>\n",
       "    <tr>\n",
       "      <th>2022</th>\n",
       "      <td>3.500884e+07</td>\n",
       "    </tr>\n",
       "  </tbody>\n",
       "</table>\n",
       "</div>"
      ],
      "text/plain": [
       "             Utilidad\n",
       "Periodo              \n",
       "2020     2.983104e+07\n",
       "2021     3.191855e+07\n",
       "2022     3.500884e+07"
      ]
     },
     "execution_count": 5,
     "metadata": {},
     "output_type": "execute_result"
    }
   ],
   "source": [
    "UZA2 = Ventas_zona_producto_cultivo.groupby(['Periodo']).agg({'Utilidad': 'sum'})\n",
    "UZA2.head(20)"
   ]
  },
  {
   "cell_type": "markdown",
   "id": "264a29a7",
   "metadata": {},
   "source": [
    "# Utilidad Fusión Agro "
   ]
  },
  {
   "cell_type": "code",
   "execution_count": 6,
   "id": "0f47997e",
   "metadata": {},
   "outputs": [
    {
     "name": "stdout",
     "output_type": "stream",
     "text": [
      "$35.009 M\n"
     ]
    }
   ],
   "source": [
    "print ('${:,.3f} M'.format(Ventas_zona_producto_cultivo_2022['Utilidad'].sum()/1000000) )"
   ]
  },
  {
   "cell_type": "markdown",
   "id": "1654d3a2",
   "metadata": {},
   "source": [
    "# Crecimiento respecto al 2021"
   ]
  },
  {
   "cell_type": "code",
   "execution_count": 7,
   "id": "0f4ff2e5",
   "metadata": {},
   "outputs": [
    {
     "name": "stdout",
     "output_type": "stream",
     "text": [
      "9.68 %\n"
     ]
    }
   ],
   "source": [
    "print ('{:,.2f} %'.format(\n",
    "                            ((Ventas_zona_producto_cultivo_2022['Utilidad'].sum()/\n",
    "                            Ventas_zona_producto_cultivo_2021['Utilidad'].sum())-1)*100\n",
    "                        )) "
   ]
  },
  {
   "cell_type": "markdown",
   "id": "ddd201b1",
   "metadata": {},
   "source": [
    " # Desglose por zona y por categoría"
   ]
  },
  {
   "cell_type": "code",
   "execution_count": 8,
   "id": "b1ff9ae4",
   "metadata": {
    "scrolled": true
   },
   "outputs": [
    {
     "data": {
      "image/png": "[encoded data removed]",
      "text/plain": [
       "<Figure size 432x288 with 1 Axes>"
      ]
     },
     "metadata": {
      "needs_background": "light"
     },
     "output_type": "display_data"
    }
   ],
   "source": [
    "RCZ = Ventas_zona_producto_cultivo_2022.groupby(['Producto_Ranking','Zona_Ranking']).agg({'Utilidad': 'sum'}).reset_index()\n",
    "RCZ_ = Ventas_zona_producto_cultivo_2022.groupby(['Producto_Ranking','Zona_Ranking']).agg({'Utilidad': 'sum'})\n",
    "RCZ_df = pd.DataFrame(RCZ_.unstack(level = 1))\n",
    "RCZ_df.plot.bar(stacked=True)\n",
    "plt.legend(loc='center left', bbox_to_anchor=(1.0, 0.5))\n",
    "plt.show()\n"
   ]
  },
  {
   "cell_type": "code",
   "execution_count": 9,
   "id": "6d752127",
   "metadata": {},
   "outputs": [
    {
     "data": {
      "text/html": [
       "<div>\n",
       "<style scoped>\n",
       "    .dataframe tbody tr th:only-of-type {\n",
       "        vertical-align: middle;\n",
       "    }\n",
       "\n",
       "    .dataframe tbody tr th {\n",
       "        vertical-align: top;\n",
       "    }\n",
       "\n",
       "    .dataframe thead th {\n",
       "        text-align: right;\n",
       "    }\n",
       "</style>\n",
       "<table border=\"1\" class=\"dataframe\">\n",
       "  <thead>\n",
       "    <tr style=\"text-align: right;\">\n",
       "      <th></th>\n",
       "      <th>Utilidad</th>\n",
       "    </tr>\n",
       "    <tr>\n",
       "      <th>Producto_Ranking</th>\n",
       "      <th></th>\n",
       "    </tr>\n",
       "  </thead>\n",
       "  <tbody>\n",
       "    <tr>\n",
       "      <th>05 Jun�perus StressOff</th>\n",
       "      <td>1.556617e+07</td>\n",
       "    </tr>\n",
       "    <tr>\n",
       "      <th>09 Aciggib AdStrong</th>\n",
       "      <td>1.083211e+06</td>\n",
       "    </tr>\n",
       "    <tr>\n",
       "      <th>14 Aciggib ReactMaxx</th>\n",
       "      <td>3.183653e+06</td>\n",
       "    </tr>\n",
       "    <tr>\n",
       "      <th>15 LPG 456 - ReacMaxx</th>\n",
       "      <td>6.511189e+06</td>\n",
       "    </tr>\n",
       "    <tr>\n",
       "      <th>17 Querkus SmartSelect</th>\n",
       "      <td>4.879402e+06</td>\n",
       "    </tr>\n",
       "    <tr>\n",
       "      <th>22 AV5G BioActive</th>\n",
       "      <td>1.029301e+06</td>\n",
       "    </tr>\n",
       "    <tr>\n",
       "      <th>23 Reserbion StressOff</th>\n",
       "      <td>5.584621e+05</td>\n",
       "    </tr>\n",
       "    <tr>\n",
       "      <th>28 Sparce Xploid BioActive</th>\n",
       "      <td>8.589562e+05</td>\n",
       "    </tr>\n",
       "    <tr>\n",
       "      <th>29 DCS3+</th>\n",
       "      <td>2.050920e+05</td>\n",
       "    </tr>\n",
       "    <tr>\n",
       "      <th>z-IqKit Calidad</th>\n",
       "      <td>3.734100e+05</td>\n",
       "    </tr>\n",
       "    <tr>\n",
       "      <th>z-IqKit Estructural</th>\n",
       "      <td>7.599900e+05</td>\n",
       "    </tr>\n",
       "  </tbody>\n",
       "</table>\n",
       "</div>"
      ],
      "text/plain": [
       "                                Utilidad\n",
       "Producto_Ranking                        \n",
       "05 Jun�perus StressOff      1.556617e+07\n",
       "09 Aciggib AdStrong         1.083211e+06\n",
       "14 Aciggib ReactMaxx        3.183653e+06\n",
       "15 LPG 456 - ReacMaxx       6.511189e+06\n",
       "17 Querkus SmartSelect      4.879402e+06\n",
       "22 AV5G BioActive           1.029301e+06\n",
       "23 Reserbion StressOff      5.584621e+05\n",
       "28 Sparce Xploid BioActive  8.589562e+05\n",
       "29 DCS3+                    2.050920e+05\n",
       "z-IqKit Calidad             3.734100e+05\n",
       "z-IqKit Estructural         7.599900e+05"
      ]
     },
     "execution_count": 9,
     "metadata": {},
     "output_type": "execute_result"
    }
   ],
   "source": [
    "RCZ2 = Ventas_zona_producto_cultivo_2022.groupby(['Producto_Ranking']).agg({'Utilidad': 'sum'})\n",
    "RCZ2.head(20)"
   ]
  },
  {
   "cell_type": "markdown",
   "id": "2cb988cb",
   "metadata": {},
   "source": [
    "# Top 20 prioridades en todo Fusión Agro"
   ]
  },
  {
   "cell_type": "code",
   "execution_count": 10,
   "id": "c0c40ac6",
   "metadata": {},
   "outputs": [
    {
     "data": {
      "text/html": [
       "<div>\n",
       "<style scoped>\n",
       "    .dataframe tbody tr th:only-of-type {\n",
       "        vertical-align: middle;\n",
       "    }\n",
       "\n",
       "    .dataframe tbody tr th {\n",
       "        vertical-align: top;\n",
       "    }\n",
       "\n",
       "    .dataframe thead th {\n",
       "        text-align: right;\n",
       "    }\n",
       "</style>\n",
       "<table border=\"1\" class=\"dataframe\">\n",
       "  <thead>\n",
       "    <tr style=\"text-align: right;\">\n",
       "      <th></th>\n",
       "      <th></th>\n",
       "      <th></th>\n",
       "      <th>Utilidad</th>\n",
       "    </tr>\n",
       "    <tr>\n",
       "      <th>Cultivo_Categoría_Ranking</th>\n",
       "      <th>Zona_Ranking</th>\n",
       "      <th>Producto_Ranking</th>\n",
       "      <th></th>\n",
       "    </tr>\n",
       "  </thead>\n",
       "  <tbody>\n",
       "    <tr>\n",
       "      <th>06 Granos</th>\n",
       "      <th>05 Zona 2</th>\n",
       "      <th>15 LPG 456 - ReacMaxx</th>\n",
       "      <td>3.039594e+06</td>\n",
       "    </tr>\n",
       "    <tr>\n",
       "      <th>02 Frutales siempre verdes</th>\n",
       "      <th>03 Sureste</th>\n",
       "      <th>05 Jun�perus StressOff</th>\n",
       "      <td>2.057203e+06</td>\n",
       "    </tr>\n",
       "    <tr>\n",
       "      <th>09 Cucurbitácea</th>\n",
       "      <th>01 Norte</th>\n",
       "      <th>05 Jun�perus StressOff</th>\n",
       "      <td>1.781742e+06</td>\n",
       "    </tr>\n",
       "    <tr>\n",
       "      <th>04 Vides</th>\n",
       "      <th>01 Norte</th>\n",
       "      <th>05 Jun�perus StressOff</th>\n",
       "      <td>1.648559e+06</td>\n",
       "    </tr>\n",
       "    <tr>\n",
       "      <th>03 Hortalizas</th>\n",
       "      <th>01 Norte</th>\n",
       "      <th>05 Jun�perus StressOff</th>\n",
       "      <td>1.431277e+06</td>\n",
       "    </tr>\n",
       "    <tr>\n",
       "      <th>04 Vides</th>\n",
       "      <th>04 Chile/Perú</th>\n",
       "      <th>17 Querkus SmartSelect</th>\n",
       "      <td>1.287379e+06</td>\n",
       "    </tr>\n",
       "    <tr>\n",
       "      <th rowspan=\"2\" valign=\"top\">03 Hortalizas</th>\n",
       "      <th>02 Pacífico</th>\n",
       "      <th>05 Jun�perus StressOff</th>\n",
       "      <td>1.020789e+06</td>\n",
       "    </tr>\n",
       "    <tr>\n",
       "      <th>07 Zona 1</th>\n",
       "      <th>14 Aciggib ReactMaxx</th>\n",
       "      <td>8.848063e+05</td>\n",
       "    </tr>\n",
       "    <tr>\n",
       "      <th>10 Frutal caducifolio</th>\n",
       "      <th>04 Chile/Perú</th>\n",
       "      <th>17 Querkus SmartSelect</th>\n",
       "      <td>8.582524e+05</td>\n",
       "    </tr>\n",
       "    <tr>\n",
       "      <th>05 Berries</th>\n",
       "      <th>02 Pacífico</th>\n",
       "      <th>14 Aciggib ReactMaxx</th>\n",
       "      <td>8.221995e+05</td>\n",
       "    </tr>\n",
       "    <tr>\n",
       "      <th>03 Hortalizas</th>\n",
       "      <th>03 Sureste</th>\n",
       "      <th>05 Jun�perus StressOff</th>\n",
       "      <td>8.219658e+05</td>\n",
       "    </tr>\n",
       "    <tr>\n",
       "      <th>08 Industriales</th>\n",
       "      <th>02 Pacífico</th>\n",
       "      <th>05 Jun�perus StressOff</th>\n",
       "      <td>7.970362e+05</td>\n",
       "    </tr>\n",
       "    <tr>\n",
       "      <th>03 Hortalizas</th>\n",
       "      <th>04 Chile/Perú</th>\n",
       "      <th>05 Jun�perus StressOff</th>\n",
       "      <td>7.042793e+05</td>\n",
       "    </tr>\n",
       "    <tr>\n",
       "      <th rowspan=\"2\" valign=\"top\">02 Frutales siempre verdes</th>\n",
       "      <th>08 Ecu,Col,EUA</th>\n",
       "      <th>09 Aciggib AdStrong</th>\n",
       "      <td>6.169310e+05</td>\n",
       "    </tr>\n",
       "    <tr>\n",
       "      <th>02 Pacífico</th>\n",
       "      <th>05 Jun�perus StressOff</th>\n",
       "      <td>6.139306e+05</td>\n",
       "    </tr>\n",
       "    <tr>\n",
       "      <th>04 Vides</th>\n",
       "      <th>04 Chile/Perú</th>\n",
       "      <th>22 AV5G BioActive</th>\n",
       "      <td>6.108529e+05</td>\n",
       "    </tr>\n",
       "    <tr>\n",
       "      <th>08 Industriales</th>\n",
       "      <th>03 Sureste</th>\n",
       "      <th>05 Jun�perus StressOff</th>\n",
       "      <td>4.992108e+05</td>\n",
       "    </tr>\n",
       "    <tr>\n",
       "      <th>06 Granos</th>\n",
       "      <th>06 IqChem</th>\n",
       "      <th>z-IqKit Estructural</th>\n",
       "      <td>4.693500e+05</td>\n",
       "    </tr>\n",
       "    <tr>\n",
       "      <th>10 Frutal caducifolio</th>\n",
       "      <th>01 Norte</th>\n",
       "      <th>05 Jun�perus StressOff</th>\n",
       "      <td>4.627533e+05</td>\n",
       "    </tr>\n",
       "    <tr>\n",
       "      <th>02 Frutales siempre verdes</th>\n",
       "      <th>07 Zona 1</th>\n",
       "      <th>09 Aciggib AdStrong</th>\n",
       "      <td>4.505285e+05</td>\n",
       "    </tr>\n",
       "  </tbody>\n",
       "</table>\n",
       "</div>"
      ],
      "text/plain": [
       "                                                                      Utilidad\n",
       "Cultivo_Categoría_Ranking  Zona_Ranking   Producto_Ranking                    \n",
       "06 Granos                  05 Zona 2      15 LPG 456 - ReacMaxx   3.039594e+06\n",
       "02 Frutales siempre verdes 03 Sureste     05 Jun�perus StressOff  2.057203e+06\n",
       "09 Cucurbitácea            01 Norte       05 Jun�perus StressOff  1.781742e+06\n",
       "04 Vides                   01 Norte       05 Jun�perus StressOff  1.648559e+06\n",
       "03 Hortalizas              01 Norte       05 Jun�perus StressOff  1.431277e+06\n",
       "04 Vides                   04 Chile/Perú  17 Querkus SmartSelect  1.287379e+06\n",
       "03 Hortalizas              02 Pacífico    05 Jun�perus StressOff  1.020789e+06\n",
       "                           07 Zona 1      14 Aciggib ReactMaxx    8.848063e+05\n",
       "10 Frutal caducifolio      04 Chile/Perú  17 Querkus SmartSelect  8.582524e+05\n",
       "05 Berries                 02 Pacífico    14 Aciggib ReactMaxx    8.221995e+05\n",
       "03 Hortalizas              03 Sureste     05 Jun�perus StressOff  8.219658e+05\n",
       "08 Industriales            02 Pacífico    05 Jun�perus StressOff  7.970362e+05\n",
       "03 Hortalizas              04 Chile/Perú  05 Jun�perus StressOff  7.042793e+05\n",
       "02 Frutales siempre verdes 08 Ecu,Col,EUA 09 Aciggib AdStrong     6.169310e+05\n",
       "                           02 Pacífico    05 Jun�perus StressOff  6.139306e+05\n",
       "04 Vides                   04 Chile/Perú  22 AV5G BioActive       6.108529e+05\n",
       "08 Industriales            03 Sureste     05 Jun�perus StressOff  4.992108e+05\n",
       "06 Granos                  06 IqChem      z-IqKit Estructural     4.693500e+05\n",
       "10 Frutal caducifolio      01 Norte       05 Jun�perus StressOff  4.627533e+05\n",
       "02 Frutales siempre verdes 07 Zona 1      09 Aciggib AdStrong     4.505285e+05"
      ]
     },
     "execution_count": 10,
     "metadata": {},
     "output_type": "execute_result"
    }
   ],
   "source": [
    "Detalle2022 = Ventas_zona_producto_cultivo_2022.groupby(['Cultivo_Categoría_Ranking','Zona_Ranking','Producto_Ranking']).agg({'Utilidad': 'sum'})\n",
    "Detalle2022_sorted = Detalle2022.sort_values(by=['Utilidad'],ascending=False)\n",
    "Detalle2022_sorted.head(20)"
   ]
  },
  {
   "cell_type": "code",
   "execution_count": 11,
   "id": "5a832bd5",
   "metadata": {},
   "outputs": [
    {
     "name": "stdout",
     "output_type": "stream",
     "text": [
      "$20.879 M\n"
     ]
    }
   ],
   "source": [
    "print ('${:,.3f} M'.format(Detalle2022_sorted['Utilidad'].head(20).sum()/1000000) )\n"
   ]
  },
  {
   "cell_type": "markdown",
   "id": "e2ba580c",
   "metadata": {},
   "source": [
    "# Análisis por categoría"
   ]
  },
  {
   "cell_type": "markdown",
   "id": "28023422",
   "metadata": {},
   "source": [
    "# Cito, 2022"
   ]
  },
  {
   "cell_type": "markdown",
   "id": "799b789f",
   "metadata": {},
   "source": [
    "# Valor de Cito y lo que representa respecto a utilidad total"
   ]
  },
  {
   "cell_type": "code",
   "execution_count": 12,
   "id": "ec1baf07",
   "metadata": {
    "scrolled": true
   },
   "outputs": [
    {
     "name": "stdout",
     "output_type": "stream",
     "text": [
      "$6.885 M\n",
      "19.7 %\n"
     ]
    }
   ],
   "source": [
    "utilidadtotal2022 = Ventas_zona_producto_cultivo_2022['Utilidad'].sum()\n",
    "utilidadcito2022 = Ventas_zona_producto_cultivo_Cito_2022['Utilidad'].sum()\n",
    "utilidadcito2022/ utilidadtotal2022\n",
    "print ('${:,.3f} M'.format(Ventas_zona_producto_cultivo_Cito_2022['Utilidad'].sum()/1000000) )\n",
    "print ('{:,.1f} %'.format(utilidadcito2022*100/ utilidadtotal2022))\n"
   ]
  },
  {
   "cell_type": "code",
   "execution_count": 13,
   "id": "a6a37907",
   "metadata": {
    "scrolled": true
   },
   "outputs": [
    {
     "data": {
      "image/png": "[encoded data removed]",
      "text/plain": [
       "<Figure size 432x288 with 1 Axes>"
      ]
     },
     "metadata": {
      "needs_background": "light"
     },
     "output_type": "display_data"
    }
   ],
   "source": [
    "ResumenporHorizonteyEmp = Ventas_zona_producto_cultivo_Cito_2022.groupby(['Zona_Ranking','Producto_']).agg({'Utilidad': 'sum'}).reset_index()\n",
    "ResumenporHorizonteyEmp_ = Ventas_zona_producto_cultivo_Cito_2022.groupby(['Zona_Ranking','Producto_']).agg({'Utilidad': 'sum'})\n",
    "ResumenporHorizonteyEmp_df = pd.DataFrame(ResumenporHorizonteyEmp_.unstack(level = 1))\n",
    "ResumenporHorizonteyEmp_df.plot.bar(stacked=True)\n",
    "plt.legend(loc='center left', bbox_to_anchor=(1.0, 0.5))\n",
    "plt.show()\n"
   ]
  },
  {
   "cell_type": "code",
   "execution_count": 14,
   "id": "8cc3c8dd",
   "metadata": {},
   "outputs": [
    {
     "data": {
      "text/html": [
       "<div>\n",
       "<style scoped>\n",
       "    .dataframe tbody tr th:only-of-type {\n",
       "        vertical-align: middle;\n",
       "    }\n",
       "\n",
       "    .dataframe tbody tr th {\n",
       "        vertical-align: top;\n",
       "    }\n",
       "\n",
       "    .dataframe thead th {\n",
       "        text-align: right;\n",
       "    }\n",
       "</style>\n",
       "<table border=\"1\" class=\"dataframe\">\n",
       "  <thead>\n",
       "    <tr style=\"text-align: right;\">\n",
       "      <th></th>\n",
       "      <th>Utilidad</th>\n",
       "    </tr>\n",
       "    <tr>\n",
       "      <th>Zona_Ranking</th>\n",
       "      <th></th>\n",
       "    </tr>\n",
       "  </thead>\n",
       "  <tbody>\n",
       "    <tr>\n",
       "      <th>05 Zona 2</th>\n",
       "      <td>3.584948e+06</td>\n",
       "    </tr>\n",
       "    <tr>\n",
       "      <th>07 Zona 1</th>\n",
       "      <td>1.375736e+06</td>\n",
       "    </tr>\n",
       "    <tr>\n",
       "      <th>06 IqChem</th>\n",
       "      <td>9.226269e+05</td>\n",
       "    </tr>\n",
       "    <tr>\n",
       "      <th>08 Ecu,Col,EUA</th>\n",
       "      <td>7.298073e+05</td>\n",
       "    </tr>\n",
       "    <tr>\n",
       "      <th>04 Chile/Perú</th>\n",
       "      <td>2.714806e+05</td>\n",
       "    </tr>\n",
       "  </tbody>\n",
       "</table>\n",
       "</div>"
      ],
      "text/plain": [
       "                    Utilidad\n",
       "Zona_Ranking                \n",
       "05 Zona 2       3.584948e+06\n",
       "07 Zona 1       1.375736e+06\n",
       "06 IqChem       9.226269e+05\n",
       "08 Ecu,Col,EUA  7.298073e+05\n",
       "04 Chile/Perú   2.714806e+05"
      ]
     },
     "execution_count": 14,
     "metadata": {},
     "output_type": "execute_result"
    }
   ],
   "source": [
    "Ventas_zona_Cito_2022 = ResumenporHorizonteyEmp.groupby(['Zona_Ranking']).agg({'Utilidad': 'sum'})\n",
    "Ventas_zona_Cito_2022_sorted = Ventas_zona_Cito_2022.sort_values(by=['Utilidad'],ascending=False)\n",
    "Ventas_zona_Cito_2022_sorted.head(20)"
   ]
  },
  {
   "cell_type": "markdown",
   "id": "20799158",
   "metadata": {},
   "source": [
    "# Top 10"
   ]
  },
  {
   "cell_type": "code",
   "execution_count": 15,
   "id": "6a4b1ced",
   "metadata": {
    "scrolled": true
   },
   "outputs": [
    {
     "data": {
      "text/html": [
       "<div>\n",
       "<style scoped>\n",
       "    .dataframe tbody tr th:only-of-type {\n",
       "        vertical-align: middle;\n",
       "    }\n",
       "\n",
       "    .dataframe tbody tr th {\n",
       "        vertical-align: top;\n",
       "    }\n",
       "\n",
       "    .dataframe thead th {\n",
       "        text-align: right;\n",
       "    }\n",
       "</style>\n",
       "<table border=\"1\" class=\"dataframe\">\n",
       "  <thead>\n",
       "    <tr style=\"text-align: right;\">\n",
       "      <th></th>\n",
       "      <th></th>\n",
       "      <th>Utilidad</th>\n",
       "    </tr>\n",
       "    <tr>\n",
       "      <th>Cultivo_Categoría</th>\n",
       "      <th>Zona_Ranking</th>\n",
       "      <th></th>\n",
       "    </tr>\n",
       "  </thead>\n",
       "  <tbody>\n",
       "    <tr>\n",
       "      <th>Granos</th>\n",
       "      <th>05 Zona 2</th>\n",
       "      <td>3.039594e+06</td>\n",
       "    </tr>\n",
       "    <tr>\n",
       "      <th>Industriales</th>\n",
       "      <th>07 Zona 1</th>\n",
       "      <td>4.199006e+05</td>\n",
       "    </tr>\n",
       "    <tr>\n",
       "      <th>Forraje</th>\n",
       "      <th>05 Zona 2</th>\n",
       "      <td>3.787184e+05</td>\n",
       "    </tr>\n",
       "    <tr>\n",
       "      <th>Industriales</th>\n",
       "      <th>06 IqChem</th>\n",
       "      <td>3.647288e+05</td>\n",
       "    </tr>\n",
       "    <tr>\n",
       "      <th rowspan=\"2\" valign=\"top\">Frutales siempre verdes</th>\n",
       "      <th>08 Ecu,Col,EUA</th>\n",
       "      <td>3.601119e+05</td>\n",
       "    </tr>\n",
       "    <tr>\n",
       "      <th>07 Zona 1</th>\n",
       "      <td>2.861040e+05</td>\n",
       "    </tr>\n",
       "    <tr>\n",
       "      <th rowspan=\"3\" valign=\"top\">Granos</th>\n",
       "      <th>07 Zona 1</th>\n",
       "      <td>2.556425e+05</td>\n",
       "    </tr>\n",
       "    <tr>\n",
       "      <th>08 Ecu,Col,EUA</th>\n",
       "      <td>2.151345e+05</td>\n",
       "    </tr>\n",
       "    <tr>\n",
       "      <th>06 IqChem</th>\n",
       "      <td>1.709360e+05</td>\n",
       "    </tr>\n",
       "    <tr>\n",
       "      <th>Hortalizas</th>\n",
       "      <th>04 Chile/Perú</th>\n",
       "      <td>1.551318e+05</td>\n",
       "    </tr>\n",
       "  </tbody>\n",
       "</table>\n",
       "</div>"
      ],
      "text/plain": [
       "                                            Utilidad\n",
       "Cultivo_Categoría       Zona_Ranking                \n",
       "Granos                  05 Zona 2       3.039594e+06\n",
       "Industriales            07 Zona 1       4.199006e+05\n",
       "Forraje                 05 Zona 2       3.787184e+05\n",
       "Industriales            06 IqChem       3.647288e+05\n",
       "Frutales siempre verdes 08 Ecu,Col,EUA  3.601119e+05\n",
       "                        07 Zona 1       2.861040e+05\n",
       "Granos                  07 Zona 1       2.556425e+05\n",
       "                        08 Ecu,Col,EUA  2.151345e+05\n",
       "                        06 IqChem       1.709360e+05\n",
       "Hortalizas              04 Chile/Perú   1.551318e+05"
      ]
     },
     "execution_count": 15,
     "metadata": {},
     "output_type": "execute_result"
    }
   ],
   "source": [
    "DetalleCito2022 = Ventas_zona_producto_cultivo_Cito_2022.groupby(['Cultivo_Categoría','Zona_Ranking']).agg({'Utilidad': 'sum'})\n",
    "DetalleCito2022_sorted = DetalleCito2022.sort_values(by=['Utilidad'],ascending=False)\n",
    "DetalleCito2022_sorted.head(10)\n"
   ]
  },
  {
   "cell_type": "code",
   "execution_count": 16,
   "id": "98ec32fe",
   "metadata": {},
   "outputs": [
    {
     "name": "stdout",
     "output_type": "stream",
     "text": [
      "$5.646 M\n"
     ]
    }
   ],
   "source": [
    "print('${:,.3f} M'.format(DetalleCito2022_sorted['Utilidad'].head(10).sum()/1000000))"
   ]
  },
  {
   "cell_type": "markdown",
   "id": "0af7ea6a",
   "metadata": {},
   "source": [
    "# Raíz/ Suelo, 2022"
   ]
  },
  {
   "cell_type": "markdown",
   "id": "07bd8d0f",
   "metadata": {},
   "source": [
    "# Valor de RaízSuelo y lo que representa respecto a utilidad total"
   ]
  },
  {
   "cell_type": "code",
   "execution_count": 17,
   "id": "43ef131c",
   "metadata": {
    "scrolled": true
   },
   "outputs": [
    {
     "name": "stdout",
     "output_type": "stream",
     "text": [
      "$4.879 M\n",
      "13.9 %\n"
     ]
    }
   ],
   "source": [
    "utilidadtotal2022 = Ventas_zona_producto_cultivo_2022['Utilidad'].sum()\n",
    "utilidadsuelo2022 = Ventas_zona_producto_cultivo_Suelo_2022['Utilidad'].sum()\n",
    "print ('${:,.3f} M'.format(Ventas_zona_producto_cultivo_Suelo_2022['Utilidad'].sum()/1000000) )\n",
    "print ('{:,.1f} %'.format(utilidadsuelo2022*100/ utilidadtotal2022))\n"
   ]
  },
  {
   "cell_type": "code",
   "execution_count": 18,
   "id": "df72175a",
   "metadata": {
    "scrolled": true
   },
   "outputs": [
    {
     "data": {
      "image/png": "[encoded data removed]",
      "text/plain": [
       "<Figure size 432x288 with 1 Axes>"
      ]
     },
     "metadata": {
      "needs_background": "light"
     },
     "output_type": "display_data"
    }
   ],
   "source": [
    "ResumenporHorizonteyEmp_Suelo = Ventas_zona_producto_cultivo_Suelo_2022.groupby(['Zona_Ranking','Producto_']).agg({'Utilidad': 'sum'}).reset_index()\n",
    "ResumenporHorizonteyEmp_Suelo_ = Ventas_zona_producto_cultivo_Suelo_2022.groupby(['Zona_Ranking','Producto_']).agg({'Utilidad': 'sum'})\n",
    "ResumenporHorizonteyEmp_Suelo_df = pd.DataFrame(ResumenporHorizonteyEmp_Suelo_.unstack(level = 1))\n",
    "ResumenporHorizonteyEmp_Suelo_df.plot.bar(stacked=True)\n",
    "plt.legend(loc='center left', bbox_to_anchor=(1.0, 0.5))\n",
    "plt.show()\n"
   ]
  },
  {
   "cell_type": "code",
   "execution_count": 19,
   "id": "0344d657",
   "metadata": {},
   "outputs": [
    {
     "data": {
      "text/html": [
       "<div>\n",
       "<style scoped>\n",
       "    .dataframe tbody tr th:only-of-type {\n",
       "        vertical-align: middle;\n",
       "    }\n",
       "\n",
       "    .dataframe tbody tr th {\n",
       "        vertical-align: top;\n",
       "    }\n",
       "\n",
       "    .dataframe thead th {\n",
       "        text-align: right;\n",
       "    }\n",
       "</style>\n",
       "<table border=\"1\" class=\"dataframe\">\n",
       "  <thead>\n",
       "    <tr style=\"text-align: right;\">\n",
       "      <th></th>\n",
       "      <th>Utilidad</th>\n",
       "    </tr>\n",
       "    <tr>\n",
       "      <th>Zona_Ranking</th>\n",
       "      <th></th>\n",
       "    </tr>\n",
       "  </thead>\n",
       "  <tbody>\n",
       "    <tr>\n",
       "      <th>01 Norte</th>\n",
       "      <td>4.689326e+05</td>\n",
       "    </tr>\n",
       "    <tr>\n",
       "      <th>02 Pacífico</th>\n",
       "      <td>2.912724e+05</td>\n",
       "    </tr>\n",
       "    <tr>\n",
       "      <th>03 Sureste</th>\n",
       "      <td>6.844091e+05</td>\n",
       "    </tr>\n",
       "    <tr>\n",
       "      <th>04 Chile/Perú</th>\n",
       "      <td>2.503007e+06</td>\n",
       "    </tr>\n",
       "    <tr>\n",
       "      <th>05 Zona 2</th>\n",
       "      <td>3.791706e+05</td>\n",
       "    </tr>\n",
       "    <tr>\n",
       "      <th>07 Zona 1</th>\n",
       "      <td>5.526106e+05</td>\n",
       "    </tr>\n",
       "  </tbody>\n",
       "</table>\n",
       "</div>"
      ],
      "text/plain": [
       "                   Utilidad\n",
       "Zona_Ranking               \n",
       "01 Norte       4.689326e+05\n",
       "02 Pacífico    2.912724e+05\n",
       "03 Sureste     6.844091e+05\n",
       "04 Chile/Perú  2.503007e+06\n",
       "05 Zona 2      3.791706e+05\n",
       "07 Zona 1      5.526106e+05"
      ]
     },
     "execution_count": 19,
     "metadata": {},
     "output_type": "execute_result"
    }
   ],
   "source": [
    "Ventas_zona_Suelo_2022 = Ventas_zona_producto_cultivo_Suelo_2022.groupby(['Zona_Ranking']).agg({'Utilidad': 'sum'})\n",
    "Ventas_zona_Suelo_2022.head(20)"
   ]
  },
  {
   "cell_type": "markdown",
   "id": "95bd0153",
   "metadata": {},
   "source": [
    "# Top 10 "
   ]
  },
  {
   "cell_type": "code",
   "execution_count": 20,
   "id": "1149227d",
   "metadata": {
    "scrolled": true
   },
   "outputs": [
    {
     "data": {
      "text/html": [
       "<div>\n",
       "<style scoped>\n",
       "    .dataframe tbody tr th:only-of-type {\n",
       "        vertical-align: middle;\n",
       "    }\n",
       "\n",
       "    .dataframe tbody tr th {\n",
       "        vertical-align: top;\n",
       "    }\n",
       "\n",
       "    .dataframe thead th {\n",
       "        text-align: right;\n",
       "    }\n",
       "</style>\n",
       "<table border=\"1\" class=\"dataframe\">\n",
       "  <thead>\n",
       "    <tr style=\"text-align: right;\">\n",
       "      <th></th>\n",
       "      <th></th>\n",
       "      <th>Utilidad</th>\n",
       "    </tr>\n",
       "    <tr>\n",
       "      <th>Cultivo_Categoría</th>\n",
       "      <th>Zona_Ranking</th>\n",
       "      <th></th>\n",
       "    </tr>\n",
       "  </thead>\n",
       "  <tbody>\n",
       "    <tr>\n",
       "      <th>Vides</th>\n",
       "      <th>04 Chile/Perú</th>\n",
       "      <td>1.287379e+06</td>\n",
       "    </tr>\n",
       "    <tr>\n",
       "      <th>Frutal caducifolio</th>\n",
       "      <th>04 Chile/Perú</th>\n",
       "      <td>8.582524e+05</td>\n",
       "    </tr>\n",
       "    <tr>\n",
       "      <th>Hortalizas</th>\n",
       "      <th>03 Sureste</th>\n",
       "      <td>3.684176e+05</td>\n",
       "    </tr>\n",
       "    <tr>\n",
       "      <th>Frutales siempre verdes</th>\n",
       "      <th>04 Chile/Perú</th>\n",
       "      <td>3.573762e+05</td>\n",
       "    </tr>\n",
       "    <tr>\n",
       "      <th>Hortalizas</th>\n",
       "      <th>01 Norte</th>\n",
       "      <td>3.344356e+05</td>\n",
       "    </tr>\n",
       "    <tr>\n",
       "      <th rowspan=\"3\" valign=\"top\">Frutales siempre verdes</th>\n",
       "      <th>07 Zona 1</th>\n",
       "      <td>3.210719e+05</td>\n",
       "    </tr>\n",
       "    <tr>\n",
       "      <th>03 Sureste</th>\n",
       "      <td>2.468655e+05</td>\n",
       "    </tr>\n",
       "    <tr>\n",
       "      <th>05 Zona 2</th>\n",
       "      <td>2.079323e+05</td>\n",
       "    </tr>\n",
       "    <tr>\n",
       "      <th>Berries</th>\n",
       "      <th>02 Pacífico</th>\n",
       "      <td>1.999075e+05</td>\n",
       "    </tr>\n",
       "    <tr>\n",
       "      <th>Hortalizas</th>\n",
       "      <th>07 Zona 1</th>\n",
       "      <td>1.161974e+05</td>\n",
       "    </tr>\n",
       "  </tbody>\n",
       "</table>\n",
       "</div>"
      ],
      "text/plain": [
       "                                           Utilidad\n",
       "Cultivo_Categoría       Zona_Ranking               \n",
       "Vides                   04 Chile/Perú  1.287379e+06\n",
       "Frutal caducifolio      04 Chile/Perú  8.582524e+05\n",
       "Hortalizas              03 Sureste     3.684176e+05\n",
       "Frutales siempre verdes 04 Chile/Perú  3.573762e+05\n",
       "Hortalizas              01 Norte       3.344356e+05\n",
       "Frutales siempre verdes 07 Zona 1      3.210719e+05\n",
       "                        03 Sureste     2.468655e+05\n",
       "                        05 Zona 2      2.079323e+05\n",
       "Berries                 02 Pacífico    1.999075e+05\n",
       "Hortalizas              07 Zona 1      1.161974e+05"
      ]
     },
     "execution_count": 20,
     "metadata": {},
     "output_type": "execute_result"
    }
   ],
   "source": [
    "DetalleSuelo2022 = Ventas_zona_producto_cultivo_Suelo_2022.groupby(['Cultivo_Categoría','Zona_Ranking']).agg({'Utilidad': 'sum'})\n",
    "DetalleSuelo2022_sorted = DetalleSuelo2022.sort_values(by=['Utilidad'],ascending=False)\n",
    "DetalleSuelo2022_sorted.head(10)"
   ]
  },
  {
   "cell_type": "code",
   "execution_count": 21,
   "id": "1e8b3bfa",
   "metadata": {},
   "outputs": [
    {
     "name": "stdout",
     "output_type": "stream",
     "text": [
      "$4.298 M\n"
     ]
    }
   ],
   "source": [
    "print('${:,.3f} M'.format(DetalleSuelo2022_sorted['Utilidad'].head(10).sum()/1000000))"
   ]
  },
  {
   "cell_type": "markdown",
   "id": "ffd5dd47",
   "metadata": {},
   "source": [
    "# Bioestimulante, 2022"
   ]
  },
  {
   "cell_type": "markdown",
   "id": "c94fce5b",
   "metadata": {},
   "source": [
    "# Valor de Bioestimulante y lo que representa respecto a utilidad total"
   ]
  },
  {
   "cell_type": "code",
   "execution_count": 22,
   "id": "86992028",
   "metadata": {
    "scrolled": true
   },
   "outputs": [
    {
     "name": "stdout",
     "output_type": "stream",
     "text": [
      "$18.978 M\n",
      "54.2 %\n"
     ]
    }
   ],
   "source": [
    "utilidadtotal2022 = Ventas_zona_producto_cultivo_2022['Utilidad'].sum()\n",
    "utilidadbioest2022 = Ventas_zona_producto_cultivo_Bioest_2022['Utilidad'].sum()\n",
    "print ('${:,.3f} M'.format(Ventas_zona_producto_cultivo_Bioest_2022['Utilidad'].sum()/1000000) )\n",
    "print ('{:,.1f} %'.format(utilidadbioest2022*100/ utilidadtotal2022))\n"
   ]
  },
  {
   "cell_type": "code",
   "execution_count": 23,
   "id": "ca8695a8",
   "metadata": {
    "scrolled": false
   },
   "outputs": [
    {
     "data": {
      "image/png": "[encoded data removed]",
      "text/plain": [
       "<Figure size 432x288 with 1 Axes>"
      ]
     },
     "metadata": {
      "needs_background": "light"
     },
     "output_type": "display_data"
    }
   ],
   "source": [
    "ResumenporHorizonteyEmp_Bioest = Ventas_zona_producto_cultivo_Bioest_2022.groupby(['Zona_Ranking','Producto_']).agg({'Utilidad': 'sum'}).reset_index()\n",
    "ResumenporHorizonteyEmp_Bioest_ = Ventas_zona_producto_cultivo_Bioest_2022.groupby(['Zona_Ranking','Producto_']).agg({'Utilidad': 'sum'})\n",
    "ResumenporHorizonteyEmp_Bioest_df = pd.DataFrame(ResumenporHorizonteyEmp_Bioest_.unstack(level = 1))\n",
    "ResumenporHorizonteyEmp_Bioest_df.plot.bar(stacked=True)\n",
    "plt.legend(loc='center left', bbox_to_anchor=(1.0, 0.5))\n",
    "plt.show()\n"
   ]
  },
  {
   "cell_type": "code",
   "execution_count": 24,
   "id": "0b434f5e",
   "metadata": {},
   "outputs": [
    {
     "data": {
      "text/html": [
       "<div>\n",
       "<style scoped>\n",
       "    .dataframe tbody tr th:only-of-type {\n",
       "        vertical-align: middle;\n",
       "    }\n",
       "\n",
       "    .dataframe tbody tr th {\n",
       "        vertical-align: top;\n",
       "    }\n",
       "\n",
       "    .dataframe thead th {\n",
       "        text-align: right;\n",
       "    }\n",
       "</style>\n",
       "<table border=\"1\" class=\"dataframe\">\n",
       "  <thead>\n",
       "    <tr style=\"text-align: right;\">\n",
       "      <th></th>\n",
       "      <th>Utilidad</th>\n",
       "    </tr>\n",
       "    <tr>\n",
       "      <th>Zona_Ranking</th>\n",
       "      <th></th>\n",
       "    </tr>\n",
       "  </thead>\n",
       "  <tbody>\n",
       "    <tr>\n",
       "      <th>01 Norte</th>\n",
       "      <td>6.297107e+06</td>\n",
       "    </tr>\n",
       "    <tr>\n",
       "      <th>02 Pacífico</th>\n",
       "      <td>2.930925e+06</td>\n",
       "    </tr>\n",
       "    <tr>\n",
       "      <th>03 Sureste</th>\n",
       "      <td>3.804096e+06</td>\n",
       "    </tr>\n",
       "    <tr>\n",
       "      <th>04 Chile/Perú</th>\n",
       "      <td>2.435891e+06</td>\n",
       "    </tr>\n",
       "    <tr>\n",
       "      <th>05 Zona 2</th>\n",
       "      <td>1.145045e+05</td>\n",
       "    </tr>\n",
       "    <tr>\n",
       "      <th>06 IqChem</th>\n",
       "      <td>2.344555e+06</td>\n",
       "    </tr>\n",
       "    <tr>\n",
       "      <th>08 Ecu,Col,EUA</th>\n",
       "      <td>1.050896e+06</td>\n",
       "    </tr>\n",
       "  </tbody>\n",
       "</table>\n",
       "</div>"
      ],
      "text/plain": [
       "                    Utilidad\n",
       "Zona_Ranking                \n",
       "01 Norte        6.297107e+06\n",
       "02 Pacífico     2.930925e+06\n",
       "03 Sureste      3.804096e+06\n",
       "04 Chile/Perú   2.435891e+06\n",
       "05 Zona 2       1.145045e+05\n",
       "06 IqChem       2.344555e+06\n",
       "08 Ecu,Col,EUA  1.050896e+06"
      ]
     },
     "execution_count": 24,
     "metadata": {},
     "output_type": "execute_result"
    }
   ],
   "source": [
    "Ventas_zona_Bioest_2022 = Ventas_zona_producto_cultivo_Bioest_2022.groupby(['Zona_Ranking']).agg({'Utilidad': 'sum'})\n",
    "Ventas_zona_Bioest_2022.head(20)"
   ]
  },
  {
   "cell_type": "markdown",
   "id": "e4b3901e",
   "metadata": {},
   "source": [
    "# Top 10 "
   ]
  },
  {
   "cell_type": "code",
   "execution_count": 25,
   "id": "dc09b9f7",
   "metadata": {
    "scrolled": true
   },
   "outputs": [
    {
     "data": {
      "text/html": [
       "<div>\n",
       "<style scoped>\n",
       "    .dataframe tbody tr th:only-of-type {\n",
       "        vertical-align: middle;\n",
       "    }\n",
       "\n",
       "    .dataframe tbody tr th {\n",
       "        vertical-align: top;\n",
       "    }\n",
       "\n",
       "    .dataframe thead th {\n",
       "        text-align: right;\n",
       "    }\n",
       "</style>\n",
       "<table border=\"1\" class=\"dataframe\">\n",
       "  <thead>\n",
       "    <tr style=\"text-align: right;\">\n",
       "      <th></th>\n",
       "      <th></th>\n",
       "      <th>Utilidad</th>\n",
       "    </tr>\n",
       "    <tr>\n",
       "      <th>Cultivo_Categoría</th>\n",
       "      <th>Zona_Ranking</th>\n",
       "      <th></th>\n",
       "    </tr>\n",
       "  </thead>\n",
       "  <tbody>\n",
       "    <tr>\n",
       "      <th>Frutales siempre verdes</th>\n",
       "      <th>03 Sureste</th>\n",
       "      <td>2.057203e+06</td>\n",
       "    </tr>\n",
       "    <tr>\n",
       "      <th>Vides</th>\n",
       "      <th>01 Norte</th>\n",
       "      <td>1.985606e+06</td>\n",
       "    </tr>\n",
       "    <tr>\n",
       "      <th>Cucurbitácea</th>\n",
       "      <th>01 Norte</th>\n",
       "      <td>1.781742e+06</td>\n",
       "    </tr>\n",
       "    <tr>\n",
       "      <th rowspan=\"2\" valign=\"top\">Hortalizas</th>\n",
       "      <th>01 Norte</th>\n",
       "      <td>1.431277e+06</td>\n",
       "    </tr>\n",
       "    <tr>\n",
       "      <th>02 Pacífico</th>\n",
       "      <td>1.020789e+06</td>\n",
       "    </tr>\n",
       "    <tr>\n",
       "      <th>Vides</th>\n",
       "      <th>04 Chile/Perú</th>\n",
       "      <td>9.126869e+05</td>\n",
       "    </tr>\n",
       "    <tr>\n",
       "      <th>Granos</th>\n",
       "      <th>06 IqChem</th>\n",
       "      <td>8.438353e+05</td>\n",
       "    </tr>\n",
       "    <tr>\n",
       "      <th>Hortalizas</th>\n",
       "      <th>03 Sureste</th>\n",
       "      <td>8.219658e+05</td>\n",
       "    </tr>\n",
       "    <tr>\n",
       "      <th>Industriales</th>\n",
       "      <th>02 Pacífico</th>\n",
       "      <td>7.970362e+05</td>\n",
       "    </tr>\n",
       "    <tr>\n",
       "      <th>Hortalizas</th>\n",
       "      <th>06 IqChem</th>\n",
       "      <td>7.846444e+05</td>\n",
       "    </tr>\n",
       "  </tbody>\n",
       "</table>\n",
       "</div>"
      ],
      "text/plain": [
       "                                           Utilidad\n",
       "Cultivo_Categoría       Zona_Ranking               \n",
       "Frutales siempre verdes 03 Sureste     2.057203e+06\n",
       "Vides                   01 Norte       1.985606e+06\n",
       "Cucurbitácea            01 Norte       1.781742e+06\n",
       "Hortalizas              01 Norte       1.431277e+06\n",
       "                        02 Pacífico    1.020789e+06\n",
       "Vides                   04 Chile/Perú  9.126869e+05\n",
       "Granos                  06 IqChem      8.438353e+05\n",
       "Hortalizas              03 Sureste     8.219658e+05\n",
       "Industriales            02 Pacífico    7.970362e+05\n",
       "Hortalizas              06 IqChem      7.846444e+05"
      ]
     },
     "execution_count": 25,
     "metadata": {},
     "output_type": "execute_result"
    }
   ],
   "source": [
    "DetalleBioest2022 = Ventas_zona_producto_cultivo_Bioest_2022.groupby(['Cultivo_Categoría','Zona_Ranking']).agg({'Utilidad': 'sum'})\n",
    "DetalleBioest2022_sorted = DetalleBioest2022.sort_values(by=['Utilidad'],ascending=False)\n",
    "DetalleBioest2022_sorted.head(10)"
   ]
  },
  {
   "cell_type": "code",
   "execution_count": 26,
   "id": "b2b3d85b",
   "metadata": {},
   "outputs": [
    {
     "name": "stdout",
     "output_type": "stream",
     "text": [
      "$12.437 M\n"
     ]
    }
   ],
   "source": [
    "print('${:,.3f} M'.format(DetalleBioest2022_sorted['Utilidad'].head(10).sum()/1000000))"
   ]
  },
  {
   "cell_type": "markdown",
   "id": "83b0c092",
   "metadata": {},
   "source": [
    "# Análisis Mx vs \"Internacional\""
   ]
  },
  {
   "cell_type": "markdown",
   "id": "03a1e01a",
   "metadata": {},
   "source": [
    "# Raíz/Suelo en México, 2022"
   ]
  },
  {
   "cell_type": "code",
   "execution_count": 27,
   "id": "87a004b6",
   "metadata": {},
   "outputs": [
    {
     "name": "stdout",
     "output_type": "stream",
     "text": [
      "$1.445 M\n"
     ]
    }
   ],
   "source": [
    "print ('${:,.3f} M'.format(SueloMx['Utilidad'].sum()/1000000) )"
   ]
  },
  {
   "cell_type": "code",
   "execution_count": 28,
   "id": "9ec835bd",
   "metadata": {
    "scrolled": true
   },
   "outputs": [
    {
     "data": {
      "text/plain": [
       "<AxesSubplot:xlabel='Cultivo_Categoría_Ranking'>"
      ]
     },
     "execution_count": 28,
     "metadata": {},
     "output_type": "execute_result"
    },
    {
     "data": {
      "image/png": "[encoded data removed]",
      "text/plain": [
       "<Figure size 432x288 with 1 Axes>"
      ]
     },
     "metadata": {
      "needs_background": "light"
     },
     "output_type": "display_data"
    }
   ],
   "source": [
    "ResumenporCultyZona_SueloMx = SueloMx.groupby(['Cultivo_Categoría_Ranking','Zona_Ranking']).agg({'Utilidad': 'sum'})\n",
    "ResumenporCultyZona_SueloMx_df = pd.DataFrame(ResumenporCultyZona_SueloMx.unstack(level = 1))\n",
    "ResumenporCultyZona_SueloMx_df.plot(kind = 'bar')"
   ]
  },
  {
   "cell_type": "code",
   "execution_count": 29,
   "id": "57980b50",
   "metadata": {},
   "outputs": [
    {
     "data": {
      "text/html": [
       "<div>\n",
       "<style scoped>\n",
       "    .dataframe tbody tr th:only-of-type {\n",
       "        vertical-align: middle;\n",
       "    }\n",
       "\n",
       "    .dataframe tbody tr th {\n",
       "        vertical-align: top;\n",
       "    }\n",
       "\n",
       "    .dataframe thead th {\n",
       "        text-align: right;\n",
       "    }\n",
       "</style>\n",
       "<table border=\"1\" class=\"dataframe\">\n",
       "  <thead>\n",
       "    <tr style=\"text-align: right;\">\n",
       "      <th></th>\n",
       "      <th>Utilidad</th>\n",
       "    </tr>\n",
       "    <tr>\n",
       "      <th>Cultivo_Categoría_Ranking</th>\n",
       "      <th></th>\n",
       "    </tr>\n",
       "  </thead>\n",
       "  <tbody>\n",
       "    <tr>\n",
       "      <th>02 Frutales siempre verdes</th>\n",
       "      <td>281572.292693</td>\n",
       "    </tr>\n",
       "    <tr>\n",
       "      <th>03 Hortalizas</th>\n",
       "      <td>742133.490554</td>\n",
       "    </tr>\n",
       "    <tr>\n",
       "      <th>04 Vides</th>\n",
       "      <td>9478.823454</td>\n",
       "    </tr>\n",
       "    <tr>\n",
       "      <th>05 Berries</th>\n",
       "      <td>243058.015681</td>\n",
       "    </tr>\n",
       "    <tr>\n",
       "      <th>08 Industriales</th>\n",
       "      <td>10967.429318</td>\n",
       "    </tr>\n",
       "    <tr>\n",
       "      <th>09 Cucurbitácea</th>\n",
       "      <td>146321.618042</td>\n",
       "    </tr>\n",
       "    <tr>\n",
       "      <th>11 Ornamental</th>\n",
       "      <td>11082.429319</td>\n",
       "    </tr>\n",
       "  </tbody>\n",
       "</table>\n",
       "</div>"
      ],
      "text/plain": [
       "                                 Utilidad\n",
       "Cultivo_Categoría_Ranking                \n",
       "02 Frutales siempre verdes  281572.292693\n",
       "03 Hortalizas               742133.490554\n",
       "04 Vides                      9478.823454\n",
       "05 Berries                  243058.015681\n",
       "08 Industriales              10967.429318\n",
       "09 Cucurbitácea             146321.618042\n",
       "11 Ornamental                11082.429319"
      ]
     },
     "execution_count": 29,
     "metadata": {},
     "output_type": "execute_result"
    }
   ],
   "source": [
    "ResumenporCultyZona_SueloMx2 = SueloMx.groupby(['Cultivo_Categoría_Ranking']).agg({'Utilidad': 'sum'})\n",
    "ResumenporCultyZona_SueloMx2.head(20)"
   ]
  },
  {
   "cell_type": "markdown",
   "id": "03070224",
   "metadata": {},
   "source": [
    "# Raíz/Suelo en demás empresas\n"
   ]
  },
  {
   "cell_type": "code",
   "execution_count": 30,
   "id": "ccfe82e9",
   "metadata": {},
   "outputs": [
    {
     "name": "stdout",
     "output_type": "stream",
     "text": [
      "$3.435 M\n"
     ]
    }
   ],
   "source": [
    "print ('${:,.3f} M'.format(SueloIntnl['Utilidad'].sum()/1000000) )"
   ]
  },
  {
   "cell_type": "code",
   "execution_count": 31,
   "id": "0bdd8671",
   "metadata": {
    "scrolled": true
   },
   "outputs": [
    {
     "data": {
      "text/plain": [
       "<AxesSubplot:xlabel='Cultivo_Categoría_Ranking'>"
      ]
     },
     "execution_count": 31,
     "metadata": {},
     "output_type": "execute_result"
    },
    {
     "data": {
      "image/png": "[encoded data removed]",
      "text/plain": [
       "<Figure size 432x288 with 1 Axes>"
      ]
     },
     "metadata": {
      "needs_background": "light"
     },
     "output_type": "display_data"
    }
   ],
   "source": [
    "ResumenporCultyZona_SueloIntnl = SueloIntnl.groupby(['Cultivo_Categoría_Ranking','Zona_Ranking']).agg({'Utilidad': 'sum'})\n",
    "ResumenporCultyZona_SueloIntnl_df = pd.DataFrame(ResumenporCultyZona_SueloIntnl.unstack(level = 1))\n",
    "ResumenporCultyZona_SueloIntnl_df.plot(kind = 'bar')"
   ]
  },
  {
   "cell_type": "code",
   "execution_count": 32,
   "id": "6d38e68c",
   "metadata": {},
   "outputs": [
    {
     "data": {
      "text/html": [
       "<div>\n",
       "<style scoped>\n",
       "    .dataframe tbody tr th:only-of-type {\n",
       "        vertical-align: middle;\n",
       "    }\n",
       "\n",
       "    .dataframe tbody tr th {\n",
       "        vertical-align: top;\n",
       "    }\n",
       "\n",
       "    .dataframe thead th {\n",
       "        text-align: right;\n",
       "    }\n",
       "</style>\n",
       "<table border=\"1\" class=\"dataframe\">\n",
       "  <thead>\n",
       "    <tr style=\"text-align: right;\">\n",
       "      <th></th>\n",
       "      <th>Utilidad</th>\n",
       "    </tr>\n",
       "    <tr>\n",
       "      <th>Cultivo_Categoría_Ranking</th>\n",
       "      <th></th>\n",
       "    </tr>\n",
       "  </thead>\n",
       "  <tbody>\n",
       "    <tr>\n",
       "      <th>-</th>\n",
       "      <td>3.669393e+02</td>\n",
       "    </tr>\n",
       "    <tr>\n",
       "      <th>02 Frutales siempre verdes</th>\n",
       "      <td>8.863803e+05</td>\n",
       "    </tr>\n",
       "    <tr>\n",
       "      <th>03 Hortalizas</th>\n",
       "      <td>2.018166e+05</td>\n",
       "    </tr>\n",
       "    <tr>\n",
       "      <th>04 Vides</th>\n",
       "      <td>1.287379e+06</td>\n",
       "    </tr>\n",
       "    <tr>\n",
       "      <th>05 Berries</th>\n",
       "      <td>6.115655e+03</td>\n",
       "    </tr>\n",
       "    <tr>\n",
       "      <th>06 Granos</th>\n",
       "      <td>9.173482e+04</td>\n",
       "    </tr>\n",
       "    <tr>\n",
       "      <th>09 Cucurbitácea</th>\n",
       "      <td>4.770211e+04</td>\n",
       "    </tr>\n",
       "    <tr>\n",
       "      <th>10 Frutal caducifolio</th>\n",
       "      <td>8.582524e+05</td>\n",
       "    </tr>\n",
       "    <tr>\n",
       "      <th>51 Leguminosa</th>\n",
       "      <td>5.504089e+04</td>\n",
       "    </tr>\n",
       "  </tbody>\n",
       "</table>\n",
       "</div>"
      ],
      "text/plain": [
       "                                Utilidad\n",
       "Cultivo_Categoría_Ranking               \n",
       "-                           3.669393e+02\n",
       "02 Frutales siempre verdes  8.863803e+05\n",
       "03 Hortalizas               2.018166e+05\n",
       "04 Vides                    1.287379e+06\n",
       "05 Berries                  6.115655e+03\n",
       "06 Granos                   9.173482e+04\n",
       "09 Cucurbitácea             4.770211e+04\n",
       "10 Frutal caducifolio       8.582524e+05\n",
       "51 Leguminosa               5.504089e+04"
      ]
     },
     "execution_count": 32,
     "metadata": {},
     "output_type": "execute_result"
    }
   ],
   "source": [
    "ResumenporCultyZona_SueloIntnl2 = SueloIntnl.groupby(['Cultivo_Categoría_Ranking']).agg({'Utilidad': 'sum'})\n",
    "ResumenporCultyZona_SueloIntnl2.head(20)"
   ]
  },
  {
   "cell_type": "markdown",
   "id": "555bcdb8",
   "metadata": {},
   "source": [
    "# Top 10 en México"
   ]
  },
  {
   "cell_type": "code",
   "execution_count": 33,
   "id": "5ae8c231",
   "metadata": {
    "scrolled": true
   },
   "outputs": [
    {
     "data": {
      "text/html": [
       "<div>\n",
       "<style scoped>\n",
       "    .dataframe tbody tr th:only-of-type {\n",
       "        vertical-align: middle;\n",
       "    }\n",
       "\n",
       "    .dataframe tbody tr th {\n",
       "        vertical-align: top;\n",
       "    }\n",
       "\n",
       "    .dataframe thead th {\n",
       "        text-align: right;\n",
       "    }\n",
       "</style>\n",
       "<table border=\"1\" class=\"dataframe\">\n",
       "  <thead>\n",
       "    <tr style=\"text-align: right;\">\n",
       "      <th></th>\n",
       "      <th></th>\n",
       "      <th>Utilidad</th>\n",
       "    </tr>\n",
       "    <tr>\n",
       "      <th>Cultivo_Categoría</th>\n",
       "      <th>RM/ REIQ_x</th>\n",
       "      <th></th>\n",
       "    </tr>\n",
       "  </thead>\n",
       "  <tbody>\n",
       "    <tr>\n",
       "      <th>Hortalizas</th>\n",
       "      <th>Fv</th>\n",
       "      <td>294764.781780</td>\n",
       "    </tr>\n",
       "    <tr>\n",
       "      <th>Frutales siempre verdes</th>\n",
       "      <th>Fv</th>\n",
       "      <td>206335.347240</td>\n",
       "    </tr>\n",
       "    <tr>\n",
       "      <th>Hortalizas</th>\n",
       "      <th>Quinval</th>\n",
       "      <td>175521.347266</td>\n",
       "    </tr>\n",
       "    <tr>\n",
       "      <th rowspan=\"2\" valign=\"top\">Berries</th>\n",
       "      <th>AACSA</th>\n",
       "      <td>100264.054091</td>\n",
       "    </tr>\n",
       "    <tr>\n",
       "      <th>JF</th>\n",
       "      <td>99643.434550</td>\n",
       "    </tr>\n",
       "    <tr>\n",
       "      <th>Cucurbitácea</th>\n",
       "      <th>FormaQ</th>\n",
       "      <td>77239.434541</td>\n",
       "    </tr>\n",
       "    <tr>\n",
       "      <th rowspan=\"3\" valign=\"top\">Hortalizas</th>\n",
       "      <th>Dysea</th>\n",
       "      <td>71376.195456</td>\n",
       "    </tr>\n",
       "    <tr>\n",
       "      <th>FormaQ</th>\n",
       "      <td>55354.928091</td>\n",
       "    </tr>\n",
       "    <tr>\n",
       "      <th>Serco Verde</th>\n",
       "      <td>40530.157500</td>\n",
       "    </tr>\n",
       "    <tr>\n",
       "      <th>Frutales siempre verdes</th>\n",
       "      <th>Serco Verde</th>\n",
       "      <td>40530.157500</td>\n",
       "    </tr>\n",
       "  </tbody>\n",
       "</table>\n",
       "</div>"
      ],
      "text/plain": [
       "                                          Utilidad\n",
       "Cultivo_Categoría       RM/ REIQ_x                \n",
       "Hortalizas              Fv           294764.781780\n",
       "Frutales siempre verdes Fv           206335.347240\n",
       "Hortalizas              Quinval      175521.347266\n",
       "Berries                 AACSA        100264.054091\n",
       "                        JF            99643.434550\n",
       "Cucurbitácea            FormaQ        77239.434541\n",
       "Hortalizas              Dysea         71376.195456\n",
       "                        FormaQ        55354.928091\n",
       "                        Serco Verde   40530.157500\n",
       "Frutales siempre verdes Serco Verde   40530.157500"
      ]
     },
     "execution_count": 33,
     "metadata": {},
     "output_type": "execute_result"
    }
   ],
   "source": [
    "ResumenporCultyZona_SueloMx_detalle = SueloMx.groupby(['Cultivo_Categoría','RM/ REIQ_x']).agg({'Utilidad': 'sum'})\n",
    "ResumenporCultyZona_SueloIntnl_detalle = SueloIntnl.groupby(['Cultivo_Categoría','RM/ REIQ_x']).agg({'Utilidad': 'sum'})\n",
    "ResumenporCultyZona_SueloMx_detalle_sorted = ResumenporCultyZona_SueloMx_detalle.sort_values(by=['Utilidad'],ascending=False)\n",
    "ResumenporCultyZona_SueloMx_detalle_sorted.head(10)"
   ]
  },
  {
   "cell_type": "code",
   "execution_count": 34,
   "id": "b9374250",
   "metadata": {},
   "outputs": [
    {
     "name": "stdout",
     "output_type": "stream",
     "text": [
      "$1.162 M\n"
     ]
    }
   ],
   "source": [
    "print ('${:,.3f} M'.format(ResumenporCultyZona_SueloMx_detalle_sorted['Utilidad'].head(10).sum()/1000000) )\n"
   ]
  },
  {
   "cell_type": "markdown",
   "id": "99056a88",
   "metadata": {},
   "source": [
    "# Top 10 en otros países"
   ]
  },
  {
   "cell_type": "code",
   "execution_count": 35,
   "id": "a5768cff",
   "metadata": {},
   "outputs": [
    {
     "data": {
      "text/html": [
       "<div>\n",
       "<style scoped>\n",
       "    .dataframe tbody tr th:only-of-type {\n",
       "        vertical-align: middle;\n",
       "    }\n",
       "\n",
       "    .dataframe tbody tr th {\n",
       "        vertical-align: top;\n",
       "    }\n",
       "\n",
       "    .dataframe thead th {\n",
       "        text-align: right;\n",
       "    }\n",
       "</style>\n",
       "<table border=\"1\" class=\"dataframe\">\n",
       "  <thead>\n",
       "    <tr style=\"text-align: right;\">\n",
       "      <th></th>\n",
       "      <th></th>\n",
       "      <th>Utilidad</th>\n",
       "    </tr>\n",
       "    <tr>\n",
       "      <th>Cultivo_Categoría</th>\n",
       "      <th>RM/ REIQ_x</th>\n",
       "      <th></th>\n",
       "    </tr>\n",
       "  </thead>\n",
       "  <tbody>\n",
       "    <tr>\n",
       "      <th>Vides</th>\n",
       "      <th>Agrofuturo</th>\n",
       "      <td>858252.391000</td>\n",
       "    </tr>\n",
       "    <tr>\n",
       "      <th>Frutal caducifolio</th>\n",
       "      <th>Tattersal</th>\n",
       "      <td>858252.390900</td>\n",
       "    </tr>\n",
       "    <tr>\n",
       "      <th>Vides</th>\n",
       "      <th>Tattersal</th>\n",
       "      <td>429126.195400</td>\n",
       "    </tr>\n",
       "    <tr>\n",
       "      <th rowspan=\"4\" valign=\"top\">Frutales siempre verdes</th>\n",
       "      <th>Bioscience</th>\n",
       "      <td>357376.195420</td>\n",
       "    </tr>\n",
       "    <tr>\n",
       "      <th>Empresas Melo</th>\n",
       "      <td>122313.097720</td>\n",
       "    </tr>\n",
       "    <tr>\n",
       "      <th>Guatemala</th>\n",
       "      <td>100908.305628</td>\n",
       "    </tr>\n",
       "    <tr>\n",
       "      <th>Honduras</th>\n",
       "      <td>97850.478182</td>\n",
       "    </tr>\n",
       "    <tr>\n",
       "      <th>Hortalizas</th>\n",
       "      <th>Agroasa</th>\n",
       "      <td>85619.168412</td>\n",
       "    </tr>\n",
       "    <tr>\n",
       "      <th rowspan=\"2\" valign=\"top\">Frutales siempre verdes</th>\n",
       "      <th>Nicaragua</th>\n",
       "      <td>73387.858640</td>\n",
       "    </tr>\n",
       "    <tr>\n",
       "      <th>Agricola Piscis</th>\n",
       "      <td>73387.858640</td>\n",
       "    </tr>\n",
       "  </tbody>\n",
       "</table>\n",
       "</div>"
      ],
      "text/plain": [
       "                                              Utilidad\n",
       "Cultivo_Categoría       RM/ REIQ_x                    \n",
       "Vides                   Agrofuturo       858252.391000\n",
       "Frutal caducifolio      Tattersal        858252.390900\n",
       "Vides                   Tattersal        429126.195400\n",
       "Frutales siempre verdes Bioscience       357376.195420\n",
       "                        Empresas Melo    122313.097720\n",
       "                        Guatemala        100908.305628\n",
       "                        Honduras          97850.478182\n",
       "Hortalizas              Agroasa           85619.168412\n",
       "Frutales siempre verdes Nicaragua         73387.858640\n",
       "                        Agricola Piscis   73387.858640"
      ]
     },
     "execution_count": 35,
     "metadata": {},
     "output_type": "execute_result"
    }
   ],
   "source": [
    "ResumenporCultyZona_SueloIntnl_detalle_sorted = ResumenporCultyZona_SueloIntnl_detalle.sort_values(by=['Utilidad'],ascending=False)\n",
    "ResumenporCultyZona_SueloIntnl_detalle_sorted.head(10)"
   ]
  },
  {
   "cell_type": "code",
   "execution_count": 36,
   "id": "c0d5e069",
   "metadata": {},
   "outputs": [
    {
     "name": "stdout",
     "output_type": "stream",
     "text": [
      "$3.056 M\n"
     ]
    }
   ],
   "source": [
    "print ('${:,.3f} M'.format(ResumenporCultyZona_SueloIntnl_detalle_sorted['Utilidad'].head(10).sum()/1000000) )\n"
   ]
  },
  {
   "cell_type": "markdown",
   "id": "1fa12386",
   "metadata": {},
   "source": [
    "# Bioestimulante en México, 2022"
   ]
  },
  {
   "cell_type": "code",
   "execution_count": 37,
   "id": "e02cc325",
   "metadata": {},
   "outputs": [
    {
     "name": "stdout",
     "output_type": "stream",
     "text": [
      "$13.032 M\n"
     ]
    }
   ],
   "source": [
    "print ('${:,.3f} M'.format(BioestMx['Utilidad'].sum()/1000000) )"
   ]
  },
  {
   "cell_type": "code",
   "execution_count": 38,
   "id": "485f4da0",
   "metadata": {
    "scrolled": true
   },
   "outputs": [
    {
     "data": {
      "text/plain": [
       "<AxesSubplot:xlabel='Cultivo_Categoría_Ranking'>"
      ]
     },
     "execution_count": 38,
     "metadata": {},
     "output_type": "execute_result"
    },
    {
     "data": {
      "image/png": "[encoded data removed]",
      "text/plain": [
       "<Figure size 432x288 with 1 Axes>"
      ]
     },
     "metadata": {
      "needs_background": "light"
     },
     "output_type": "display_data"
    }
   ],
   "source": [
    "ResumenporCultyZona_BioestMx = BioestMx.groupby(['Cultivo_Categoría_Ranking','Zona_Ranking']).agg({'Utilidad': 'sum'})\n",
    "ResumenporCultyZona_BioestMx_df = pd.DataFrame(ResumenporCultyZona_BioestMx.unstack(level = 1))\n",
    "ResumenporCultyZona_BioestMx_df.plot(kind = 'bar')"
   ]
  },
  {
   "cell_type": "code",
   "execution_count": 39,
   "id": "f3a80ef1",
   "metadata": {},
   "outputs": [
    {
     "data": {
      "text/html": [
       "<div>\n",
       "<style scoped>\n",
       "    .dataframe tbody tr th:only-of-type {\n",
       "        vertical-align: middle;\n",
       "    }\n",
       "\n",
       "    .dataframe tbody tr th {\n",
       "        vertical-align: top;\n",
       "    }\n",
       "\n",
       "    .dataframe thead th {\n",
       "        text-align: right;\n",
       "    }\n",
       "</style>\n",
       "<table border=\"1\" class=\"dataframe\">\n",
       "  <thead>\n",
       "    <tr style=\"text-align: right;\">\n",
       "      <th></th>\n",
       "      <th>Utilidad</th>\n",
       "    </tr>\n",
       "    <tr>\n",
       "      <th>Cultivo_Categoría_Ranking</th>\n",
       "      <th></th>\n",
       "    </tr>\n",
       "  </thead>\n",
       "  <tbody>\n",
       "    <tr>\n",
       "      <th>02 Frutales siempre verdes</th>\n",
       "      <td>2.671134e+06</td>\n",
       "    </tr>\n",
       "    <tr>\n",
       "      <th>03 Hortalizas</th>\n",
       "      <td>3.274032e+06</td>\n",
       "    </tr>\n",
       "    <tr>\n",
       "      <th>04 Vides</th>\n",
       "      <td>2.124406e+06</td>\n",
       "    </tr>\n",
       "    <tr>\n",
       "      <th>05 Berries</th>\n",
       "      <td>4.071820e+05</td>\n",
       "    </tr>\n",
       "    <tr>\n",
       "      <th>06 Granos</th>\n",
       "      <td>2.717203e+05</td>\n",
       "    </tr>\n",
       "    <tr>\n",
       "      <th>08 Industriales</th>\n",
       "      <td>1.507010e+06</td>\n",
       "    </tr>\n",
       "    <tr>\n",
       "      <th>09 Cucurbitácea</th>\n",
       "      <td>1.863179e+06</td>\n",
       "    </tr>\n",
       "    <tr>\n",
       "      <th>10 Frutal caducifolio</th>\n",
       "      <td>6.452521e+05</td>\n",
       "    </tr>\n",
       "    <tr>\n",
       "      <th>11 Ornamental</th>\n",
       "      <td>2.574475e+04</td>\n",
       "    </tr>\n",
       "    <tr>\n",
       "      <th>51 Leguminosa</th>\n",
       "      <td>2.424678e+05</td>\n",
       "    </tr>\n",
       "  </tbody>\n",
       "</table>\n",
       "</div>"
      ],
      "text/plain": [
       "                                Utilidad\n",
       "Cultivo_Categoría_Ranking               \n",
       "02 Frutales siempre verdes  2.671134e+06\n",
       "03 Hortalizas               3.274032e+06\n",
       "04 Vides                    2.124406e+06\n",
       "05 Berries                  4.071820e+05\n",
       "06 Granos                   2.717203e+05\n",
       "08 Industriales             1.507010e+06\n",
       "09 Cucurbitácea             1.863179e+06\n",
       "10 Frutal caducifolio       6.452521e+05\n",
       "11 Ornamental               2.574475e+04\n",
       "51 Leguminosa               2.424678e+05"
      ]
     },
     "execution_count": 39,
     "metadata": {},
     "output_type": "execute_result"
    }
   ],
   "source": [
    "ResumenporCultyZona_BioestMx2 = BioestMx.groupby(['Cultivo_Categoría_Ranking']).agg({'Utilidad': 'sum'})\n",
    "ResumenporCultyZona_BioestMx2.head(20)"
   ]
  },
  {
   "cell_type": "markdown",
   "id": "ec43b24f",
   "metadata": {},
   "source": [
    "# Bioestimulante en demás empresas\n"
   ]
  },
  {
   "cell_type": "code",
   "execution_count": 40,
   "id": "36f3875b",
   "metadata": {},
   "outputs": [
    {
     "name": "stdout",
     "output_type": "stream",
     "text": [
      "$5.946 M\n"
     ]
    }
   ],
   "source": [
    "print ('${:,.3f} M'.format(BioestIntnl['Utilidad'].sum()/1000000) )"
   ]
  },
  {
   "cell_type": "code",
   "execution_count": 41,
   "id": "40d51684",
   "metadata": {
    "scrolled": true
   },
   "outputs": [
    {
     "data": {
      "text/plain": [
       "<AxesSubplot:xlabel='Cultivo_Categoría_Ranking'>"
      ]
     },
     "execution_count": 41,
     "metadata": {},
     "output_type": "execute_result"
    },
    {
     "data": {
      "image/png": "[encoded data removed]",
      "text/plain": [
       "<Figure size 432x288 with 1 Axes>"
      ]
     },
     "metadata": {
      "needs_background": "light"
     },
     "output_type": "display_data"
    }
   ],
   "source": [
    "ResumenporCultyZona_BioestIntnl = BioestIntnl.groupby(['Cultivo_Categoría_Ranking','Zona_Ranking']).agg({'Utilidad': 'sum'})\n",
    "ResumenporCultyZona_Bioest_df = pd.DataFrame(ResumenporCultyZona_BioestIntnl.unstack(level = 1))\n",
    "ResumenporCultyZona_Bioest_df.plot(kind = 'bar')"
   ]
  },
  {
   "cell_type": "code",
   "execution_count": 42,
   "id": "78f5c7c3",
   "metadata": {},
   "outputs": [
    {
     "data": {
      "text/html": [
       "<div>\n",
       "<style scoped>\n",
       "    .dataframe tbody tr th:only-of-type {\n",
       "        vertical-align: middle;\n",
       "    }\n",
       "\n",
       "    .dataframe tbody tr th {\n",
       "        vertical-align: top;\n",
       "    }\n",
       "\n",
       "    .dataframe thead th {\n",
       "        text-align: right;\n",
       "    }\n",
       "</style>\n",
       "<table border=\"1\" class=\"dataframe\">\n",
       "  <thead>\n",
       "    <tr style=\"text-align: right;\">\n",
       "      <th></th>\n",
       "      <th>Utilidad</th>\n",
       "    </tr>\n",
       "    <tr>\n",
       "      <th>Cultivo_Categoría_Ranking</th>\n",
       "      <th></th>\n",
       "    </tr>\n",
       "  </thead>\n",
       "  <tbody>\n",
       "    <tr>\n",
       "      <th>-</th>\n",
       "      <td>1.207833e+04</td>\n",
       "    </tr>\n",
       "    <tr>\n",
       "      <th>02 Frutales siempre verdes</th>\n",
       "      <td>1.019469e+06</td>\n",
       "    </tr>\n",
       "    <tr>\n",
       "      <th>03 Hortalizas</th>\n",
       "      <td>1.770096e+06</td>\n",
       "    </tr>\n",
       "    <tr>\n",
       "      <th>04 Vides</th>\n",
       "      <td>9.126869e+05</td>\n",
       "    </tr>\n",
       "    <tr>\n",
       "      <th>05 Berries</th>\n",
       "      <td>4.471700e+04</td>\n",
       "    </tr>\n",
       "    <tr>\n",
       "      <th>06 Granos</th>\n",
       "      <td>9.919052e+05</td>\n",
       "    </tr>\n",
       "    <tr>\n",
       "      <th>08 Industriales</th>\n",
       "      <td>1.841074e+05</td>\n",
       "    </tr>\n",
       "    <tr>\n",
       "      <th>09 Cucurbitácea</th>\n",
       "      <td>1.602260e+05</td>\n",
       "    </tr>\n",
       "    <tr>\n",
       "      <th>10 Frutal caducifolio</th>\n",
       "      <td>5.673964e+05</td>\n",
       "    </tr>\n",
       "    <tr>\n",
       "      <th>11 Ornamental</th>\n",
       "      <td>1.128951e+05</td>\n",
       "    </tr>\n",
       "    <tr>\n",
       "      <th>13 Forraje</th>\n",
       "      <td>1.271923e+05</td>\n",
       "    </tr>\n",
       "    <tr>\n",
       "      <th>51 Leguminosa</th>\n",
       "      <td>4.307696e+04</td>\n",
       "    </tr>\n",
       "  </tbody>\n",
       "</table>\n",
       "</div>"
      ],
      "text/plain": [
       "                                Utilidad\n",
       "Cultivo_Categoría_Ranking               \n",
       "-                           1.207833e+04\n",
       "02 Frutales siempre verdes  1.019469e+06\n",
       "03 Hortalizas               1.770096e+06\n",
       "04 Vides                    9.126869e+05\n",
       "05 Berries                  4.471700e+04\n",
       "06 Granos                   9.919052e+05\n",
       "08 Industriales             1.841074e+05\n",
       "09 Cucurbitácea             1.602260e+05\n",
       "10 Frutal caducifolio       5.673964e+05\n",
       "11 Ornamental               1.128951e+05\n",
       "13 Forraje                  1.271923e+05\n",
       "51 Leguminosa               4.307696e+04"
      ]
     },
     "execution_count": 42,
     "metadata": {},
     "output_type": "execute_result"
    }
   ],
   "source": [
    "ResumenporCultyZona_BioestIntnl2 = BioestIntnl.groupby(['Cultivo_Categoría_Ranking']).agg({'Utilidad': 'sum'})\n",
    "ResumenporCultyZona_BioestIntnl2.head(20)"
   ]
  },
  {
   "cell_type": "markdown",
   "id": "7ee488e9",
   "metadata": {},
   "source": [
    "# Top 10 en México"
   ]
  },
  {
   "cell_type": "code",
   "execution_count": 43,
   "id": "8521cde7",
   "metadata": {
    "scrolled": true
   },
   "outputs": [
    {
     "data": {
      "text/html": [
       "<div>\n",
       "<style scoped>\n",
       "    .dataframe tbody tr th:only-of-type {\n",
       "        vertical-align: middle;\n",
       "    }\n",
       "\n",
       "    .dataframe tbody tr th {\n",
       "        vertical-align: top;\n",
       "    }\n",
       "\n",
       "    .dataframe thead th {\n",
       "        text-align: right;\n",
       "    }\n",
       "</style>\n",
       "<table border=\"1\" class=\"dataframe\">\n",
       "  <thead>\n",
       "    <tr style=\"text-align: right;\">\n",
       "      <th></th>\n",
       "      <th></th>\n",
       "      <th>Utilidad</th>\n",
       "    </tr>\n",
       "    <tr>\n",
       "      <th>Cultivo_Categoría</th>\n",
       "      <th>RM/ REIQ_x</th>\n",
       "      <th></th>\n",
       "    </tr>\n",
       "  </thead>\n",
       "  <tbody>\n",
       "    <tr>\n",
       "      <th>Vides</th>\n",
       "      <th>Ditecosa</th>\n",
       "      <td>1.985606e+06</td>\n",
       "    </tr>\n",
       "    <tr>\n",
       "      <th>Frutales siempre verdes</th>\n",
       "      <th>Fv</th>\n",
       "      <td>1.600836e+06</td>\n",
       "    </tr>\n",
       "    <tr>\n",
       "      <th>Cucurbitácea</th>\n",
       "      <th>Ditecosa</th>\n",
       "      <td>1.133746e+06</td>\n",
       "    </tr>\n",
       "    <tr>\n",
       "      <th rowspan=\"2\" valign=\"top\">Hortalizas</th>\n",
       "      <th>Ciba</th>\n",
       "      <td>8.639966e+05</td>\n",
       "    </tr>\n",
       "    <tr>\n",
       "      <th>Quinval</th>\n",
       "      <td>6.178981e+05</td>\n",
       "    </tr>\n",
       "    <tr>\n",
       "      <th>Industriales</th>\n",
       "      <th>Ciba</th>\n",
       "      <td>5.618475e+05</td>\n",
       "    </tr>\n",
       "    <tr>\n",
       "      <th>Cucurbitácea</th>\n",
       "      <th>FormaQ</th>\n",
       "      <td>5.339224e+05</td>\n",
       "    </tr>\n",
       "    <tr>\n",
       "      <th>Hortalizas</th>\n",
       "      <th>Fv</th>\n",
       "      <td>4.925650e+05</td>\n",
       "    </tr>\n",
       "    <tr>\n",
       "      <th>Frutal caducifolio</th>\n",
       "      <th>Ditecosa</th>\n",
       "      <td>4.627533e+05</td>\n",
       "    </tr>\n",
       "    <tr>\n",
       "      <th>Frutales siempre verdes</th>\n",
       "      <th>Serco Verde</th>\n",
       "      <td>3.981567e+05</td>\n",
       "    </tr>\n",
       "  </tbody>\n",
       "</table>\n",
       "</div>"
      ],
      "text/plain": [
       "                                         Utilidad\n",
       "Cultivo_Categoría       RM/ REIQ_x               \n",
       "Vides                   Ditecosa     1.985606e+06\n",
       "Frutales siempre verdes Fv           1.600836e+06\n",
       "Cucurbitácea            Ditecosa     1.133746e+06\n",
       "Hortalizas              Ciba         8.639966e+05\n",
       "                        Quinval      6.178981e+05\n",
       "Industriales            Ciba         5.618475e+05\n",
       "Cucurbitácea            FormaQ       5.339224e+05\n",
       "Hortalizas              Fv           4.925650e+05\n",
       "Frutal caducifolio      Ditecosa     4.627533e+05\n",
       "Frutales siempre verdes Serco Verde  3.981567e+05"
      ]
     },
     "execution_count": 43,
     "metadata": {},
     "output_type": "execute_result"
    }
   ],
   "source": [
    "ResumenporCultyZona_BioestMx_detalle = BioestMx.groupby(['Cultivo_Categoría','RM/ REIQ_x']).agg({'Utilidad': 'sum'})\n",
    "ResumenporCultyZona_BioestIntnl_detalle = BioestIntnl.groupby(['Cultivo_Categoría','RM/ REIQ_x']).agg({'Utilidad': 'sum'})\n",
    "ResumenporCultyZona_BioestMx_detalle_sorted = ResumenporCultyZona_BioestMx_detalle.sort_values(by=['Utilidad'],ascending=False)\n",
    "ResumenporCultyZona_BioestMx_detalle_sorted.head(10)"
   ]
  },
  {
   "cell_type": "code",
   "execution_count": 44,
   "id": "a779c9e7",
   "metadata": {},
   "outputs": [
    {
     "name": "stdout",
     "output_type": "stream",
     "text": [
      "$8.651 M\n"
     ]
    }
   ],
   "source": [
    "print ('${:,.3f} M'.format(ResumenporCultyZona_BioestMx_detalle_sorted['Utilidad'].head(10).sum()/1000000) )\n"
   ]
  },
  {
   "cell_type": "markdown",
   "id": "72b495c5",
   "metadata": {},
   "source": [
    "# Top 10 en otros países"
   ]
  },
  {
   "cell_type": "code",
   "execution_count": 45,
   "id": "805781da",
   "metadata": {},
   "outputs": [
    {
     "data": {
      "text/html": [
       "<div>\n",
       "<style scoped>\n",
       "    .dataframe tbody tr th:only-of-type {\n",
       "        vertical-align: middle;\n",
       "    }\n",
       "\n",
       "    .dataframe tbody tr th {\n",
       "        vertical-align: top;\n",
       "    }\n",
       "\n",
       "    .dataframe thead th {\n",
       "        text-align: right;\n",
       "    }\n",
       "</style>\n",
       "<table border=\"1\" class=\"dataframe\">\n",
       "  <thead>\n",
       "    <tr style=\"text-align: right;\">\n",
       "      <th></th>\n",
       "      <th></th>\n",
       "      <th>Utilidad</th>\n",
       "    </tr>\n",
       "    <tr>\n",
       "      <th>Cultivo_Categoría</th>\n",
       "      <th>RM/ REIQ_x</th>\n",
       "      <th></th>\n",
       "    </tr>\n",
       "  </thead>\n",
       "  <tbody>\n",
       "    <tr>\n",
       "      <th>Vides</th>\n",
       "      <th>Agrofuturo</th>\n",
       "      <td>772888.657700</td>\n",
       "    </tr>\n",
       "    <tr>\n",
       "      <th>Hortalizas</th>\n",
       "      <th>Bioscience</th>\n",
       "      <td>503056.665140</td>\n",
       "    </tr>\n",
       "    <tr>\n",
       "      <th>Frutal caducifolio</th>\n",
       "      <th>Agrofuturo</th>\n",
       "      <td>326986.832400</td>\n",
       "    </tr>\n",
       "    <tr>\n",
       "      <th>Granos</th>\n",
       "      <th>Active Zoo</th>\n",
       "      <td>304500.000000</td>\n",
       "    </tr>\n",
       "    <tr>\n",
       "      <th>Frutales siempre verdes</th>\n",
       "      <th>Tekquimik</th>\n",
       "      <td>299615.461662</td>\n",
       "    </tr>\n",
       "    <tr>\n",
       "      <th>Hortalizas</th>\n",
       "      <th>IA- JPM</th>\n",
       "      <td>293765.003507</td>\n",
       "    </tr>\n",
       "    <tr>\n",
       "      <th>Frutales siempre verdes</th>\n",
       "      <th>Agrofuturo</th>\n",
       "      <td>251528.332600</td>\n",
       "    </tr>\n",
       "    <tr>\n",
       "      <th>Frutal caducifolio</th>\n",
       "      <th>Tattersal</th>\n",
       "      <td>240409.552600</td>\n",
       "    </tr>\n",
       "    <tr>\n",
       "      <th rowspan=\"2\" valign=\"top\">Hortalizas</th>\n",
       "      <th>Agrica</th>\n",
       "      <td>235600.499330</td>\n",
       "    </tr>\n",
       "    <tr>\n",
       "      <th>IA- JSR</th>\n",
       "      <td>230992.337506</td>\n",
       "    </tr>\n",
       "  </tbody>\n",
       "</table>\n",
       "</div>"
      ],
      "text/plain": [
       "                                         Utilidad\n",
       "Cultivo_Categoría       RM/ REIQ_x               \n",
       "Vides                   Agrofuturo  772888.657700\n",
       "Hortalizas              Bioscience  503056.665140\n",
       "Frutal caducifolio      Agrofuturo  326986.832400\n",
       "Granos                  Active Zoo  304500.000000\n",
       "Frutales siempre verdes Tekquimik   299615.461662\n",
       "Hortalizas              IA- JPM     293765.003507\n",
       "Frutales siempre verdes Agrofuturo  251528.332600\n",
       "Frutal caducifolio      Tattersal   240409.552600\n",
       "Hortalizas              Agrica      235600.499330\n",
       "                        IA- JSR     230992.337506"
      ]
     },
     "execution_count": 45,
     "metadata": {},
     "output_type": "execute_result"
    }
   ],
   "source": [
    "ResumenporCultyZona_BioestIntnl_detalle_sorted = ResumenporCultyZona_BioestIntnl_detalle.sort_values(by=['Utilidad'],ascending=False)\n",
    "ResumenporCultyZona_BioestIntnl_detalle_sorted.head(10)"
   ]
  },
  {
   "cell_type": "code",
   "execution_count": 46,
   "id": "89a822c6",
   "metadata": {},
   "outputs": [
    {
     "name": "stdout",
     "output_type": "stream",
     "text": [
      "$3.459 M\n"
     ]
    }
   ],
   "source": [
    "print ('${:,.3f} M'.format(ResumenporCultyZona_BioestIntnl_detalle_sorted['Utilidad'].head(10).sum()/1000000) )\n"
   ]
  }
 ],
 "metadata": {
  "hide_input": true,
  "kernelspec": {
   "display_name": "Python 3",
   "language": "python",
   "name": "python3"
  },
  "language_info": {
   "codemirror_mode": {
    "name": "ipython",
    "version": 3
   },
   "file_extension": ".py",
   "mimetype": "text/x-python",
   "name": "python",
   "nbconvert_exporter": "python",
   "pygments_lexer": "ipython3",
   "version": "3.8.8"
  }
 },
 "nbformat": 4,
 "nbformat_minor": 5
}
