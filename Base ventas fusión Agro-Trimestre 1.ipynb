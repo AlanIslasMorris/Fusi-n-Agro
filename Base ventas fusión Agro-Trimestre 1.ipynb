{
 "cells": [
  {
   "cell_type": "code",
   "execution_count": 2,
   "id": "b62c12a0",
   "metadata": {},
   "outputs": [],
   "source": [
    "# Se importan paquetes de análisis de datos- Proceso\n",
    "\n",
    "import pandas as pd\n",
    "\n",
    "import matplotlib.pyplot as plt\n",
    "\n",
    "import numpy as np\n",
    "\n",
    "# Se importa base de plan de ventas fusión Agro - Proceso\n",
    "\n",
    "Plan2022 = pd.read_csv(\"1.csv\")\n",
    "\n",
    "Precios = pd.read_csv(\"2.csv\")\n",
    "\n",
    "Costos = pd.read_csv(\"4.csv\")\n",
    "\n",
    "Plan2022_ = pd.read_csv(\"5.csv\")\n",
    "\n",
    "BaseVentasFusionAgro = pd.read_csv(\"11.csv\")\n",
    "\n",
    "# Se importan categorías de producto, cultivo y cliente\n",
    "\n",
    "Zona = pd.read_csv(\"Zona.csv\")\n",
    "\n",
    "Producto = pd.read_csv(\"Producto.csv\")\n",
    "\n",
    "Cultivo = pd.read_csv(\"Cultivo.csv\")\n",
    "\n",
    "Producto_ = Producto.groupby(['Administracion de la categoria','H1 o H2 o Resto','Producto_Ranking']).agg({'Producto_': 'count'})\n",
    "\n",
    "\n",
    "Zona_ = Zona.groupby(['Empresa','Zona','RM/ REIQ']).agg({'RM/ REIQ': 'count'})\n",
    "\n",
    "\n",
    "Cultivos= Cultivo[(Cultivo['Cultivo_Categoría'] != \"-\") & (Cultivo['Cultivo_Categoría'] != \"Otros\")]\n",
    "\n",
    "Cultivo_ = Cultivos.groupby(['Cultivo_Macrocategoría','Cultivo_Categoría','Cultivo_']).agg({'Cultivo_': 'count'})\n",
    "\n",
    "\n",
    "# Se incluyen las categorías en la base\n",
    "\n",
    "Ventas_zona = BaseVentasFusionAgro.merge(Zona, how='left', left_on='RM/ REIQ', right_on='RM/ REIQ_')\n",
    "\n",
    "Ventas_zona_producto = Ventas_zona.merge(Producto, how='left', left_on='Producto_', right_on='Producto_')\n",
    "\n",
    "Ventas_zona_producto_cultivo_ = Ventas_zona_producto.merge(Cultivo, how='left', left_on='Cultivo_', right_on='Cultivo', indicator = True)\n",
    "\n",
    "# Filtro de mes 1 y 2\n",
    "\n",
    "T1 = [1, 2, 3]\n",
    "\n",
    "Ventas_zona_producto_cultivo = Ventas_zona_producto_cultivo_[Ventas_zona_producto_cultivo_['Mes'].isin(\n",
    "    T1)]"
   ]
  },
  {
   "cell_type": "markdown",
   "id": "4cce3afc",
   "metadata": {},
   "source": [
    "# Análisis del primer trimestre de Base de ventas Fusión Agro"
   ]
  },
  {
   "cell_type": "markdown",
   "id": "3ad8608c",
   "metadata": {},
   "source": [
    "# Utilidad Fusión Agro por zona y por año "
   ]
  },
  {
   "cell_type": "code",
   "execution_count": 3,
   "id": "032e6040",
   "metadata": {
    "scrolled": true
   },
   "outputs": [
    {
     "data": {
      "image/png": "[encoded data removed]",
      "text/plain": [
       "<Figure size 432x288 with 1 Axes>"
      ]
     },
     "metadata": {
      "needs_background": "light"
     },
     "output_type": "display_data"
    }
   ],
   "source": [
    "UZA = Ventas_zona_producto_cultivo.groupby(['Periodo','Zona_Ranking']).agg({'Utilidad': 'sum'}).reset_index()\n",
    "UZA_ = Ventas_zona_producto_cultivo.groupby(['Periodo','Zona_Ranking']).agg({'Utilidad': 'sum'})\n",
    "UZA_df = pd.DataFrame(UZA_.unstack(level = 1))\n",
    "UZA_df.plot.bar(stacked=True)\n",
    "plt.legend(loc='center left', bbox_to_anchor=(1.0, 0.5))\n",
    "plt.show()\n"
   ]
  },
  {
   "cell_type": "code",
   "execution_count": 4,
   "id": "02e06f03",
   "metadata": {},
   "outputs": [
    {
     "data": {
      "text/html": [
       "<div>\n",
       "<style scoped>\n",
       "    .dataframe tbody tr th:only-of-type {\n",
       "        vertical-align: middle;\n",
       "    }\n",
       "\n",
       "    .dataframe tbody tr th {\n",
       "        vertical-align: top;\n",
       "    }\n",
       "\n",
       "    .dataframe thead th {\n",
       "        text-align: right;\n",
       "    }\n",
       "</style>\n",
       "<table border=\"1\" class=\"dataframe\">\n",
       "  <thead>\n",
       "    <tr style=\"text-align: right;\">\n",
       "      <th></th>\n",
       "      <th>Utilidad</th>\n",
       "    </tr>\n",
       "    <tr>\n",
       "      <th>Periodo</th>\n",
       "      <th></th>\n",
       "    </tr>\n",
       "  </thead>\n",
       "  <tbody>\n",
       "    <tr>\n",
       "      <th>2020</th>\n",
       "      <td>4.699915e+07</td>\n",
       "    </tr>\n",
       "    <tr>\n",
       "      <th>2021</th>\n",
       "      <td>6.146052e+07</td>\n",
       "    </tr>\n",
       "    <tr>\n",
       "      <th>2022</th>\n",
       "      <td>7.394561e+07</td>\n",
       "    </tr>\n",
       "  </tbody>\n",
       "</table>\n",
       "</div>"
      ],
      "text/plain": [
       "             Utilidad\n",
       "Periodo              \n",
       "2020     4.699915e+07\n",
       "2021     6.146052e+07\n",
       "2022     7.394561e+07"
      ]
     },
     "execution_count": 4,
     "metadata": {},
     "output_type": "execute_result"
    }
   ],
   "source": [
    "UZA2 = Ventas_zona_producto_cultivo.groupby(['Periodo']).agg({'Utilidad': 'sum'})\n",
    "UZA2.head(20)"
   ]
  },
  {
   "cell_type": "markdown",
   "id": "264a29a7",
   "metadata": {},
   "source": [
    "# Utilidad Fusión Agro "
   ]
  },
  {
   "cell_type": "code",
   "execution_count": 5,
   "id": "0f47997e",
   "metadata": {},
   "outputs": [
    {
     "ename": "NameError",
     "evalue": "name 'Ventas_zona_producto_cultivo_2022' is not defined",
     "output_type": "error",
     "traceback": [
      "\u001b[1;31m---------------------------------------------------------------------------\u001b[0m",
      "\u001b[1;31mNameError\u001b[0m                                 Traceback (most recent call last)",
      "\u001b[1;32m<ipython-input-5-e4ab7246e29a>\u001b[0m in \u001b[0;36m<module>\u001b[1;34m\u001b[0m\n\u001b[1;32m----> 1\u001b[1;33m \u001b[0mprint\u001b[0m \u001b[1;33m(\u001b[0m\u001b[1;34m'${:,.3f} M'\u001b[0m\u001b[1;33m.\u001b[0m\u001b[0mformat\u001b[0m\u001b[1;33m(\u001b[0m\u001b[0mVentas_zona_producto_cultivo_2022\u001b[0m\u001b[1;33m[\u001b[0m\u001b[1;34m'Utilidad'\u001b[0m\u001b[1;33m]\u001b[0m\u001b[1;33m.\u001b[0m\u001b[0msum\u001b[0m\u001b[1;33m(\u001b[0m\u001b[1;33m)\u001b[0m\u001b[1;33m/\u001b[0m\u001b[1;36m1000000\u001b[0m\u001b[1;33m)\u001b[0m \u001b[1;33m)\u001b[0m\u001b[1;33m\u001b[0m\u001b[1;33m\u001b[0m\u001b[0m\n\u001b[0m",
      "\u001b[1;31mNameError\u001b[0m: name 'Ventas_zona_producto_cultivo_2022' is not defined"
     ]
    }
   ],
   "source": [
    "print ('${:,.3f} M'.format(Ventas_zona_producto_cultivo_2022['Utilidad'].sum()/1000000) )"
   ]
  },
  {
   "cell_type": "code",
   "execution_count": null,
   "id": "e1cd20a7",
   "metadata": {},
   "outputs": [],
   "source": [
    "Pormesyzona = Ventas_zona_producto_cultivo_2022.groupby(['Mes','Zona_Ranking']).agg({'Utilidad': 'sum'}).reset_index()\n",
    "Pormesyzona_ = Ventas_zona_producto_cultivo_2022.groupby(['Mes','Zona_Ranking']).agg({'Utilidad': 'sum'})\n",
    "Pormesyzona_df = pd.DataFrame(Pormesyzona_.unstack(level = 1))\n",
    "Pormesyzona_df.plot.bar(stacked=True)\n",
    "plt.legend(loc='center left', bbox_to_anchor=(1.0, 0.5))\n",
    "plt.show()"
   ]
  },
  {
   "cell_type": "markdown",
   "id": "1654d3a2",
   "metadata": {},
   "source": [
    "# Crecimiento respecto al 2021"
   ]
  },
  {
   "cell_type": "code",
   "execution_count": null,
   "id": "0f4ff2e5",
   "metadata": {},
   "outputs": [],
   "source": [
    "print ('{:,.2f} %'.format(\n",
    "                            ((Ventas_zona_producto_cultivo_2022['Utilidad'].sum()/\n",
    "                            Ventas_zona_producto_cultivo_2021['Utilidad'].sum())-1)*100\n",
    "                        )) "
   ]
  },
  {
   "cell_type": "markdown",
   "id": "ddd201b1",
   "metadata": {},
   "source": [
    " # Desglose por zona y por categoría"
   ]
  },
  {
   "cell_type": "code",
   "execution_count": null,
   "id": "88172a43",
   "metadata": {
    "scrolled": true
   },
   "outputs": [],
   "source": [
    "Ventas_zona_producto_cultivo_2022 = Ventas_zona_producto_cultivo[h]"
   ]
  },
  {
   "cell_type": "code",
   "execution_count": null,
   "id": "b1ff9ae4",
   "metadata": {
    "scrolled": true
   },
   "outputs": [],
   "source": [
    "RCZ = Ventas_zona_producto_cultivo_2022.groupby(['Administracion de la categoria','Zona_Ranking']).agg({'Utilidad': 'sum'}).reset_index()\n",
    "RCZ_ = Ventas_zona_producto_cultivo_2022.groupby(['Administracion de la categoria','Zona_Ranking']).agg({'Utilidad': 'sum'})\n",
    "RCZ_df = pd.DataFrame(RCZ_.unstack(level = 1))\n",
    "RCZ_df.plot.bar(stacked=True)\n",
    "plt.legend(loc='center left', bbox_to_anchor=(1.0, 0.5))\n",
    "plt.show()\n"
   ]
  },
  {
   "cell_type": "code",
   "execution_count": null,
   "id": "6d752127",
   "metadata": {},
   "outputs": [],
   "source": [
    "RCZ2 = Ventas_zona_producto_cultivo_2022.groupby(['Administracion de la categoria']).agg({'Utilidad': 'sum'})\n",
    "RCZ2.head(20)"
   ]
  },
  {
   "cell_type": "markdown",
   "id": "df15d2ba",
   "metadata": {},
   "source": [
    "# Desglose por zona y por horizonte"
   ]
  },
  {
   "cell_type": "code",
   "execution_count": null,
   "id": "f990aad6",
   "metadata": {},
   "outputs": [],
   "source": [
    "RCZ_H = Ventas_zona_producto_cultivo_2022.groupby(['H1 o H2 o Resto','Zona_Ranking']).agg({'Utilidad': 'sum'}).reset_index()\n",
    "RCZ__H = Ventas_zona_producto_cultivo_2022.groupby(['H1 o H2 o Resto','Zona_Ranking']).agg({'Utilidad': 'sum'})\n",
    "RCZ_df_H = pd.DataFrame(RCZ__H.unstack(level = 1))\n",
    "RCZ_df_H.plot.bar(stacked=True)\n",
    "plt.legend(loc='center left', bbox_to_anchor=(1.0, 0.5))\n",
    "plt.show()\n"
   ]
  },
  {
   "cell_type": "code",
   "execution_count": null,
   "id": "a4db6601",
   "metadata": {},
   "outputs": [],
   "source": [
    "RCZ_H2 = Ventas_zona_producto_cultivo_2022.groupby(['H1 o H2 o Resto']).agg({'Utilidad': 'sum'})\n",
    "RCZ_H2.head(20)"
   ]
  },
  {
   "cell_type": "markdown",
   "id": "2cb988cb",
   "metadata": {},
   "source": [
    "# Top 20 prioridades en todo Fusión Agro"
   ]
  },
  {
   "cell_type": "code",
   "execution_count": null,
   "id": "c0c40ac6",
   "metadata": {},
   "outputs": [],
   "source": [
    "Detalle2022 = Ventas_zona_producto_cultivo_2022.groupby(['Cultivo_Categoría_Ranking','Zona_Ranking','Administracion de la categoria']).agg({'Utilidad': 'sum'})\n",
    "Detalle2022_sorted = Detalle2022.sort_values(by=['Utilidad'],ascending=False)\n",
    "Detalle2022_sorted.head(20)"
   ]
  },
  {
   "cell_type": "code",
   "execution_count": null,
   "id": "5a832bd5",
   "metadata": {},
   "outputs": [],
   "source": [
    "print ('${:,.3f} M'.format(Detalle2022_sorted['Utilidad'].head(20).sum()/1000000) )\n"
   ]
  },
  {
   "cell_type": "markdown",
   "id": "e2ba580c",
   "metadata": {},
   "source": [
    "# Análisis por categoría"
   ]
  },
  {
   "cell_type": "markdown",
   "id": "28023422",
   "metadata": {},
   "source": [
    "# Cito, 2022"
   ]
  },
  {
   "cell_type": "markdown",
   "id": "799b789f",
   "metadata": {},
   "source": [
    "# Valor de Cito y lo que representa respecto a utilidad total"
   ]
  },
  {
   "cell_type": "code",
   "execution_count": null,
   "id": "ec1baf07",
   "metadata": {
    "scrolled": true
   },
   "outputs": [],
   "source": [
    "utilidadtotal2022 = Ventas_zona_producto_cultivo_2022['Utilidad'].sum()\n",
    "utilidadcito2022 = Ventas_zona_producto_cultivo_Cito_2022['Utilidad'].sum()\n",
    "utilidadcito2022/ utilidadtotal2022\n",
    "print ('${:,.3f} M'.format(Ventas_zona_producto_cultivo_Cito_2022['Utilidad'].sum()/1000000) )\n",
    "print ('{:,.1f} %'.format(utilidadcito2022*100/ utilidadtotal2022))\n"
   ]
  },
  {
   "cell_type": "code",
   "execution_count": null,
   "id": "32aed087",
   "metadata": {
    "scrolled": true
   },
   "outputs": [],
   "source": [
    "Ventas_zona_producto_cultivo_Cito_2022 = Ventas_zona_producto_cultivo[a & b]"
   ]
  },
  {
   "cell_type": "code",
   "execution_count": null,
   "id": "a6a37907",
   "metadata": {
    "scrolled": true
   },
   "outputs": [],
   "source": [
    "ResumenporHorizonteyEmp = Ventas_zona_producto_cultivo_Cito_2022.groupby(['Zona_Ranking','Producto_']).agg({'Utilidad': 'sum'}).reset_index()\n",
    "ResumenporHorizonteyEmp_ = Ventas_zona_producto_cultivo_Cito_2022.groupby(['Zona_Ranking','Producto_']).agg({'Utilidad': 'sum'})\n",
    "ResumenporHorizonteyEmp_df = pd.DataFrame(ResumenporHorizonteyEmp_.unstack(level = 1))\n",
    "ResumenporHorizonteyEmp_df.plot.bar(stacked=True)\n",
    "plt.legend(loc='center left', bbox_to_anchor=(1.0, 0.5))\n",
    "plt.show()\n"
   ]
  },
  {
   "cell_type": "code",
   "execution_count": null,
   "id": "8cc3c8dd",
   "metadata": {},
   "outputs": [],
   "source": [
    "Ventas_zona_Cito_2022 = ResumenporHorizonteyEmp.groupby(['Zona_Ranking']).agg({'Utilidad': 'sum'})\n",
    "Ventas_zona_Cito_2022_sorted = Ventas_zona_Cito_2022.sort_values(by=['Utilidad'],ascending=False)\n",
    "Ventas_zona_Cito_2022_sorted.head(20)"
   ]
  },
  {
   "cell_type": "markdown",
   "id": "20799158",
   "metadata": {},
   "source": [
    "# Top 10"
   ]
  },
  {
   "cell_type": "code",
   "execution_count": null,
   "id": "6a4b1ced",
   "metadata": {
    "scrolled": true
   },
   "outputs": [],
   "source": [
    "DetalleCito2022 = Ventas_zona_producto_cultivo_Cito_2022.groupby(['Cultivo_Categoría','Zona_Ranking']).agg({'Utilidad': 'sum'})\n",
    "DetalleCito2022_sorted = DetalleCito2022.sort_values(by=['Utilidad'],ascending=False)\n",
    "DetalleCito2022_sorted.head(10)\n"
   ]
  },
  {
   "cell_type": "code",
   "execution_count": null,
   "id": "98ec32fe",
   "metadata": {},
   "outputs": [],
   "source": [
    "print('${:,.3f} M'.format(DetalleCito2022_sorted['Utilidad'].head(10).sum()/1000000))"
   ]
  },
  {
   "cell_type": "markdown",
   "id": "0af7ea6a",
   "metadata": {},
   "source": [
    "# Raíz/ Suelo, 2022"
   ]
  },
  {
   "cell_type": "code",
   "execution_count": null,
   "id": "4f91bcc5",
   "metadata": {
    "scrolled": true
   },
   "outputs": [],
   "source": [
    "c = Ventas_zona_producto_cultivo['Administracion de la categoria'] == \"2 Raiz/ suelo\"\n",
    "d = Ventas_zona_producto_cultivo['Periodo'] == 2022"
   ]
  },
  {
   "cell_type": "code",
   "execution_count": null,
   "id": "5df6b348",
   "metadata": {
    "scrolled": true
   },
   "outputs": [],
   "source": [
    "Ventas_zona_producto_cultivo_Suelo_2022 = Ventas_zona_producto_cultivo[c & d]"
   ]
  },
  {
   "cell_type": "markdown",
   "id": "07bd8d0f",
   "metadata": {},
   "source": [
    "# Valor de RaízSuelo y lo que representa respecto a utilidad total"
   ]
  },
  {
   "cell_type": "code",
   "execution_count": null,
   "id": "43ef131c",
   "metadata": {
    "scrolled": true
   },
   "outputs": [],
   "source": [
    "utilidadtotal2022 = Ventas_zona_producto_cultivo_2022['Utilidad'].sum()\n",
    "utilidadsuelo2022 = Ventas_zona_producto_cultivo_Suelo_2022['Utilidad'].sum()\n",
    "print ('${:,.3f} M'.format(Ventas_zona_producto_cultivo_Suelo_2022['Utilidad'].sum()/1000000) )\n",
    "print ('{:,.1f} %'.format(utilidadsuelo2022*100/ utilidadtotal2022))\n"
   ]
  },
  {
   "cell_type": "code",
   "execution_count": null,
   "id": "df72175a",
   "metadata": {
    "scrolled": true
   },
   "outputs": [],
   "source": [
    "ResumenporHorizonteyEmp_Suelo = Ventas_zona_producto_cultivo_Suelo_2022.groupby(['Zona_Ranking','Producto_']).agg({'Utilidad': 'sum'}).reset_index()\n",
    "ResumenporHorizonteyEmp_Suelo_ = Ventas_zona_producto_cultivo_Suelo_2022.groupby(['Zona_Ranking','Producto_']).agg({'Utilidad': 'sum'})\n",
    "ResumenporHorizonteyEmp_Suelo_df = pd.DataFrame(ResumenporHorizonteyEmp_Suelo_.unstack(level = 1))\n",
    "ResumenporHorizonteyEmp_Suelo_df.plot.bar(stacked=True)\n",
    "plt.legend(loc='center left', bbox_to_anchor=(1.0, 0.5))\n",
    "plt.show()\n"
   ]
  },
  {
   "cell_type": "code",
   "execution_count": null,
   "id": "0344d657",
   "metadata": {},
   "outputs": [],
   "source": [
    "Ventas_zona_Suelo_2022 = Ventas_zona_producto_cultivo_Suelo_2022.groupby(['Zona_Ranking']).agg({'Utilidad': 'sum'})\n",
    "Ventas_zona_Suelo_2022.head(20)"
   ]
  },
  {
   "cell_type": "markdown",
   "id": "95bd0153",
   "metadata": {},
   "source": [
    "# Top 10 "
   ]
  },
  {
   "cell_type": "code",
   "execution_count": null,
   "id": "1149227d",
   "metadata": {
    "scrolled": true
   },
   "outputs": [],
   "source": [
    "DetalleSuelo2022 = Ventas_zona_producto_cultivo_Suelo_2022.groupby(['Cultivo_Categoría','Zona_Ranking']).agg({'Utilidad': 'sum'})\n",
    "DetalleSuelo2022_sorted = DetalleSuelo2022.sort_values(by=['Utilidad'],ascending=False)\n",
    "DetalleSuelo2022_sorted.head(10)"
   ]
  },
  {
   "cell_type": "code",
   "execution_count": null,
   "id": "1e8b3bfa",
   "metadata": {},
   "outputs": [],
   "source": [
    "print('${:,.3f} M'.format(DetalleSuelo2022_sorted['Utilidad'].head(10).sum()/1000000))"
   ]
  },
  {
   "cell_type": "markdown",
   "id": "ffd5dd47",
   "metadata": {},
   "source": [
    "# Bioestimulante, 2022"
   ]
  },
  {
   "cell_type": "markdown",
   "id": "c94fce5b",
   "metadata": {},
   "source": [
    "# Valor de Bioestimulante y lo que representa respecto a utilidad total"
   ]
  },
  {
   "cell_type": "code",
   "execution_count": null,
   "id": "86992028",
   "metadata": {
    "scrolled": true
   },
   "outputs": [],
   "source": [
    "utilidadtotal2022 = Ventas_zona_producto_cultivo_2022['Utilidad'].sum()\n",
    "utilidadbioest2022 = Ventas_zona_producto_cultivo_Bioest_2022['Utilidad'].sum()\n",
    "print ('${:,.3f} M'.format(Ventas_zona_producto_cultivo_Bioest_2022['Utilidad'].sum()/1000000) )\n",
    "print ('{:,.1f} %'.format(utilidadbioest2022*100/ utilidadtotal2022))\n"
   ]
  },
  {
   "cell_type": "code",
   "execution_count": null,
   "id": "ca8695a8",
   "metadata": {
    "scrolled": false
   },
   "outputs": [],
   "source": [
    "ResumenporHorizonteyEmp_Bioest = Ventas_zona_producto_cultivo_Bioest_2022.groupby(['Zona_Ranking','Producto_']).agg({'Utilidad': 'sum'}).reset_index()\n",
    "ResumenporHorizonteyEmp_Bioest_ = Ventas_zona_producto_cultivo_Bioest_2022.groupby(['Zona_Ranking','Producto_']).agg({'Utilidad': 'sum'})\n",
    "ResumenporHorizonteyEmp_Bioest_df = pd.DataFrame(ResumenporHorizonteyEmp_Bioest_.unstack(level = 1))\n",
    "ResumenporHorizonteyEmp_Bioest_df.plot.bar(stacked=True)\n",
    "plt.legend(loc='center left', bbox_to_anchor=(1.0, 0.5))\n",
    "plt.show()\n"
   ]
  },
  {
   "cell_type": "code",
   "execution_count": null,
   "id": "0b434f5e",
   "metadata": {},
   "outputs": [],
   "source": [
    "Ventas_zona_Bioest_2022 = Ventas_zona_producto_cultivo_Bioest_2022.groupby(['Zona_Ranking']).agg({'Utilidad': 'sum'})\n",
    "Ventas_zona_Bioest_2022.head(20)"
   ]
  },
  {
   "cell_type": "markdown",
   "id": "e4b3901e",
   "metadata": {},
   "source": [
    "# Top 10 "
   ]
  },
  {
   "cell_type": "code",
   "execution_count": null,
   "id": "dc09b9f7",
   "metadata": {
    "scrolled": true
   },
   "outputs": [],
   "source": [
    "DetalleBioest2022 = Ventas_zona_producto_cultivo_Bioest_2022.groupby(['Cultivo_Categoría','Zona_Ranking']).agg({'Utilidad': 'sum'})\n",
    "DetalleBioest2022_sorted = DetalleBioest2022.sort_values(by=['Utilidad'],ascending=False)\n",
    "DetalleBioest2022_sorted.head(10)"
   ]
  },
  {
   "cell_type": "code",
   "execution_count": null,
   "id": "b2b3d85b",
   "metadata": {},
   "outputs": [],
   "source": [
    "print('${:,.3f} M'.format(DetalleBioest2022_sorted['Utilidad'].head(10).sum()/1000000))"
   ]
  },
  {
   "cell_type": "markdown",
   "id": "fb253c42",
   "metadata": {},
   "source": [
    "# Coady 2022"
   ]
  },
  {
   "cell_type": "code",
   "execution_count": null,
   "id": "a15fd6b3",
   "metadata": {
    "scrolled": true
   },
   "outputs": [],
   "source": [
    "g = Ventas_zona_producto_cultivo['Administracion de la categoria'] == \"4 Coadyuvante\"\n",
    "h = Ventas_zona_producto_cultivo['Periodo'] == 2022"
   ]
  },
  {
   "cell_type": "code",
   "execution_count": null,
   "id": "9f042bd9",
   "metadata": {
    "scrolled": true
   },
   "outputs": [],
   "source": [
    "Ventas_zona_producto_cultivo_Coady_2022 = Ventas_zona_producto_cultivo[g & h]"
   ]
  },
  {
   "cell_type": "markdown",
   "id": "1b7a5100",
   "metadata": {},
   "source": [
    "# Valor de Coadyuvante y lo que  representa respecto a utilidad total "
   ]
  },
  {
   "cell_type": "code",
   "execution_count": null,
   "id": "4774ca81",
   "metadata": {
    "scrolled": true
   },
   "outputs": [],
   "source": [
    "utilidadtotal2022 = Ventas_zona_producto_cultivo_2022['Utilidad'].sum()\n",
    "utilidadcoady2022 = Ventas_zona_producto_cultivo_Coady_2022['Utilidad'].sum()\n",
    "print ('${:,.3f} M'.format(Ventas_zona_producto_cultivo_Coady_2022['Utilidad'].sum()/1000000) )\n",
    "print ('{:,.1f} %'.format(utilidadcoady2022*100/ utilidadtotal2022))"
   ]
  },
  {
   "cell_type": "code",
   "execution_count": null,
   "id": "ae088900",
   "metadata": {
    "scrolled": false
   },
   "outputs": [],
   "source": [
    "ResumenporHorizonteyEmp_Coady = Ventas_zona_producto_cultivo_Coady_2022.groupby(['Zona_Ranking','Producto_']).agg({'Utilidad': 'sum'}).reset_index()\n",
    "ResumenporHorizonteyEmp_Coady_ = Ventas_zona_producto_cultivo_Coady_2022.groupby(['Zona_Ranking','Producto_']).agg({'Utilidad': 'sum'})\n",
    "ResumenporHorizonteyEmp_Coady_df = pd.DataFrame(ResumenporHorizonteyEmp_Coady_.unstack(level = 1))\n",
    "ResumenporHorizonteyEmp_Coady_df.plot.bar(stacked=True)\n",
    "plt.legend(loc='center left', bbox_to_anchor=(1.0, 0.5))\n",
    "plt.show()\n"
   ]
  },
  {
   "cell_type": "code",
   "execution_count": null,
   "id": "5d1effd9",
   "metadata": {},
   "outputs": [],
   "source": [
    "Ventas_zona_Coady_2022 = Ventas_zona_producto_cultivo_Coady_2022.groupby(['Zona_Ranking']).agg({'Utilidad': 'sum'})\n",
    "Ventas_zona_Coady_2022.head(20)"
   ]
  },
  {
   "cell_type": "markdown",
   "id": "83b0c092",
   "metadata": {},
   "source": [
    "# Análisis Mx vs \"Internacional\""
   ]
  },
  {
   "cell_type": "markdown",
   "id": "44cc1876",
   "metadata": {},
   "source": [
    "# Cito en México, 2022\n"
   ]
  },
  {
   "cell_type": "code",
   "execution_count": null,
   "id": "7db17f4b",
   "metadata": {
    "scrolled": true
   },
   "outputs": [],
   "source": [
    "i = Ventas_zona_producto_cultivo ['Empresa'] == \"México\"\n",
    "j = Ventas_zona_producto_cultivo ['Administracion de la categoria'] == \"1 Cito\"\n",
    "k = Ventas_zona_producto_cultivo ['Periodo'] == 2022\n",
    "l = Ventas_zona_producto_cultivo ['Empresa'] != \"México\"\n",
    "CitoMx = Ventas_zona_producto_cultivo[i & j & k]\n",
    "CitoIntnl = Ventas_zona_producto_cultivo[l & j & k]\n"
   ]
  },
  {
   "cell_type": "code",
   "execution_count": null,
   "id": "4423a496",
   "metadata": {},
   "outputs": [],
   "source": [
    "print ('${:,.3f} M'.format(CitoMx['Utilidad'].sum()/1000000) )\n"
   ]
  },
  {
   "cell_type": "code",
   "execution_count": null,
   "id": "4ac9610f",
   "metadata": {
    "scrolled": true
   },
   "outputs": [],
   "source": [
    "ResumenporCultyZona_CitoMx = CitoMx.groupby(['Cultivo_Categoría_Ranking','Zona_Ranking']).agg({'Utilidad': 'sum'})\n",
    "ResumenporCultyZona_CitoMx_df = pd.DataFrame(ResumenporCultyZona_CitoMx.unstack(level = 1))\n",
    "ResumenporCultyZona_CitoMx_df.plot(kind = 'bar')"
   ]
  },
  {
   "cell_type": "code",
   "execution_count": null,
   "id": "bbee6f73",
   "metadata": {},
   "outputs": [],
   "source": [
    "ResumenporCultyZona_CitoMx2 = CitoMx.groupby(['Cultivo_Categoría_Ranking']).agg({'Utilidad': 'sum'})\n",
    "ResumenporCultyZona_CitoMx2.head(20)"
   ]
  },
  {
   "cell_type": "markdown",
   "id": "e27ad607",
   "metadata": {},
   "source": [
    "# Cito en demás empresas"
   ]
  },
  {
   "cell_type": "code",
   "execution_count": null,
   "id": "d221199b",
   "metadata": {},
   "outputs": [],
   "source": [
    "print ('${:,.3f} M'.format(CitoIntnl['Utilidad'].sum()/1000000) )"
   ]
  },
  {
   "cell_type": "code",
   "execution_count": null,
   "id": "7bbaedbf",
   "metadata": {},
   "outputs": [],
   "source": [
    "ResumenporCultyZona_CitoIntnl = CitoIntnl.groupby(['Cultivo_Categoría_Ranking','Zona_Ranking']).agg({'Utilidad': 'sum'})\n",
    "ResumenporCultyZona_CitoIntnl_df = pd.DataFrame(ResumenporCultyZona_CitoIntnl.unstack(level = 1))\n",
    "ResumenporCultyZona_CitoIntnl_df.plot(kind = 'bar')"
   ]
  },
  {
   "cell_type": "code",
   "execution_count": null,
   "id": "08c8f0eb",
   "metadata": {},
   "outputs": [],
   "source": [
    "ResumenporCultyZona_CitoIntnl2 = CitoIntnl.groupby(['Cultivo_Categoría_Ranking']).agg({'Utilidad': 'sum'})\n",
    "ResumenporCultyZona_CitoIntnl2.head(20)"
   ]
  },
  {
   "cell_type": "markdown",
   "id": "cec134d6",
   "metadata": {},
   "source": [
    "# Top 10 en México "
   ]
  },
  {
   "cell_type": "code",
   "execution_count": null,
   "id": "dca743ee",
   "metadata": {
    "scrolled": true
   },
   "outputs": [],
   "source": [
    "ResumenporCultyZona_CitoMx_detalle = CitoMx.groupby(['Cultivo_Categoría','RM/ REIQ_x']).agg({'Utilidad': 'sum'})"
   ]
  },
  {
   "cell_type": "code",
   "execution_count": null,
   "id": "e35885fe",
   "metadata": {},
   "outputs": [],
   "source": [
    "ResumenporCultyZona_CitoIntnl_detalle = CitoIntnl.groupby(['Cultivo_Categoría','RM/ REIQ_x']).agg({'Utilidad': 'sum'})"
   ]
  },
  {
   "cell_type": "code",
   "execution_count": null,
   "id": "d5ca98a0",
   "metadata": {
    "scrolled": true
   },
   "outputs": [],
   "source": [
    "ResumenporCultyZona_CitoMx_detalle_sorted = ResumenporCultyZona_CitoMx_detalle.sort_values(by=['Utilidad'],ascending=False)\n",
    "ResumenporCultyZona_CitoMx_detalle_sorted.head(10)"
   ]
  },
  {
   "cell_type": "code",
   "execution_count": null,
   "id": "9fab96a3",
   "metadata": {
    "scrolled": true
   },
   "outputs": [],
   "source": [
    "print ('${:,.3f} M'.format(ResumenporCultyZona_CitoMx_detalle['Utilidad'].sum()/1000000) )"
   ]
  },
  {
   "cell_type": "markdown",
   "id": "faafdd74",
   "metadata": {},
   "source": [
    "# Top 10 en otros países"
   ]
  },
  {
   "cell_type": "code",
   "execution_count": null,
   "id": "9149da42",
   "metadata": {},
   "outputs": [],
   "source": [
    "ResumenporCultyZona_CitoIntnl_detalle_sorted = ResumenporCultyZona_CitoIntnl_detalle.sort_values(by=['Utilidad'],ascending=False)\n",
    "ResumenporCultyZona_CitoIntnl_detalle_sorted.head(10)"
   ]
  },
  {
   "cell_type": "markdown",
   "id": "03a1e01a",
   "metadata": {},
   "source": [
    "# Raíz/Suelo en México, 2022"
   ]
  },
  {
   "cell_type": "code",
   "execution_count": null,
   "id": "7135b7b9",
   "metadata": {},
   "outputs": [],
   "source": [
    "m = Ventas_zona_producto_cultivo ['Empresa'] == \"México\"\n",
    "n = Ventas_zona_producto_cultivo ['Administracion de la categoria'] == \"2 Raiz/ suelo\"\n",
    "o = Ventas_zona_producto_cultivo ['Periodo'] == 2022\n",
    "p = Ventas_zona_producto_cultivo ['Empresa'] != \"México\"\n",
    "SueloMx = Ventas_zona_producto_cultivo[m & n & o]\n",
    "SueloIntnl = Ventas_zona_producto_cultivo[p & n & o]\n"
   ]
  },
  {
   "cell_type": "code",
   "execution_count": null,
   "id": "87a004b6",
   "metadata": {},
   "outputs": [],
   "source": [
    "print ('${:,.3f} M'.format(SueloMx['Utilidad'].sum()/1000000) )"
   ]
  },
  {
   "cell_type": "code",
   "execution_count": null,
   "id": "9ec835bd",
   "metadata": {
    "scrolled": true
   },
   "outputs": [],
   "source": [
    "ResumenporCultyZona_SueloMx = SueloMx.groupby(['Cultivo_Categoría_Ranking','Zona_Ranking']).agg({'Utilidad': 'sum'})\n",
    "ResumenporCultyZona_SueloMx_df = pd.DataFrame(ResumenporCultyZona_SueloMx.unstack(level = 1))\n",
    "ResumenporCultyZona_SueloMx_df.plot(kind = 'bar')"
   ]
  },
  {
   "cell_type": "code",
   "execution_count": null,
   "id": "57980b50",
   "metadata": {},
   "outputs": [],
   "source": [
    "ResumenporCultyZona_SueloMx2 = SueloMx.groupby(['Cultivo_Categoría_Ranking']).agg({'Utilidad': 'sum'})\n",
    "ResumenporCultyZona_SueloMx2.head(20)"
   ]
  },
  {
   "cell_type": "markdown",
   "id": "03070224",
   "metadata": {},
   "source": [
    "# Raíz/Suelo en demás empresas\n"
   ]
  },
  {
   "cell_type": "code",
   "execution_count": null,
   "id": "ccfe82e9",
   "metadata": {},
   "outputs": [],
   "source": [
    "print ('${:,.3f} M'.format(SueloIntnl['Utilidad'].sum()/1000000) )"
   ]
  },
  {
   "cell_type": "code",
   "execution_count": null,
   "id": "0bdd8671",
   "metadata": {
    "scrolled": true
   },
   "outputs": [],
   "source": [
    "ResumenporCultyZona_SueloIntnl = SueloIntnl.groupby(['Cultivo_Categoría_Ranking','Zona_Ranking']).agg({'Utilidad': 'sum'})\n",
    "ResumenporCultyZona_SueloIntnl_df = pd.DataFrame(ResumenporCultyZona_SueloIntnl.unstack(level = 1))\n",
    "ResumenporCultyZona_SueloIntnl_df.plot(kind = 'bar')"
   ]
  },
  {
   "cell_type": "code",
   "execution_count": null,
   "id": "6d38e68c",
   "metadata": {},
   "outputs": [],
   "source": [
    "ResumenporCultyZona_SueloIntnl2 = SueloIntnl.groupby(['Cultivo_Categoría_Ranking']).agg({'Utilidad': 'sum'})\n",
    "ResumenporCultyZona_SueloIntnl2.head(20)"
   ]
  },
  {
   "cell_type": "markdown",
   "id": "555bcdb8",
   "metadata": {},
   "source": [
    "# Top 10 en México"
   ]
  },
  {
   "cell_type": "code",
   "execution_count": null,
   "id": "5ae8c231",
   "metadata": {
    "scrolled": true
   },
   "outputs": [],
   "source": [
    "ResumenporCultyZona_SueloMx_detalle = SueloMx.groupby(['Cultivo_Categoría','RM/ REIQ_x']).agg({'Utilidad': 'sum'})\n",
    "ResumenporCultyZona_SueloIntnl_detalle = SueloIntnl.groupby(['Cultivo_Categoría','RM/ REIQ_x']).agg({'Utilidad': 'sum'})\n",
    "ResumenporCultyZona_SueloMx_detalle_sorted = ResumenporCultyZona_SueloMx_detalle.sort_values(by=['Utilidad'],ascending=False)\n",
    "ResumenporCultyZona_SueloMx_detalle_sorted.head(10)"
   ]
  },
  {
   "cell_type": "code",
   "execution_count": null,
   "id": "b9374250",
   "metadata": {},
   "outputs": [],
   "source": [
    "print ('${:,.3f} M'.format(ResumenporCultyZona_SueloMx_detalle_sorted['Utilidad'].head(10).sum()/1000000) )\n"
   ]
  },
  {
   "cell_type": "markdown",
   "id": "99056a88",
   "metadata": {},
   "source": [
    "# Top 10 en otros países"
   ]
  },
  {
   "cell_type": "code",
   "execution_count": null,
   "id": "a5768cff",
   "metadata": {},
   "outputs": [],
   "source": [
    "ResumenporCultyZona_SueloIntnl_detalle_sorted = ResumenporCultyZona_SueloIntnl_detalle.sort_values(by=['Utilidad'],ascending=False)\n",
    "ResumenporCultyZona_SueloIntnl_detalle_sorted.head(10)"
   ]
  },
  {
   "cell_type": "code",
   "execution_count": null,
   "id": "c0d5e069",
   "metadata": {},
   "outputs": [],
   "source": [
    "print ('${:,.3f} M'.format(ResumenporCultyZona_SueloIntnl_detalle_sorted['Utilidad'].head(10).sum()/1000000) )\n"
   ]
  },
  {
   "cell_type": "markdown",
   "id": "1fa12386",
   "metadata": {},
   "source": [
    "# Bioestimulante en México, 2022"
   ]
  },
  {
   "cell_type": "code",
   "execution_count": null,
   "id": "17dafc11",
   "metadata": {},
   "outputs": [],
   "source": [
    "q = Ventas_zona_producto_cultivo ['Empresa'] == \"México\"\n",
    "r = Ventas_zona_producto_cultivo ['Administracion de la categoria'] == \"3 Bioestimulante\"\n",
    "s = Ventas_zona_producto_cultivo ['Periodo'] == 2022\n",
    "t = Ventas_zona_producto_cultivo ['Empresa'] != \"México\"\n",
    "BioestMx = Ventas_zona_producto_cultivo[q & r & s]\n",
    "BioestIntnl = Ventas_zona_producto_cultivo[t & r & s]\n"
   ]
  },
  {
   "cell_type": "code",
   "execution_count": null,
   "id": "e02cc325",
   "metadata": {},
   "outputs": [],
   "source": [
    "print ('${:,.3f} M'.format(BioestMx['Utilidad'].sum()/1000000) )"
   ]
  },
  {
   "cell_type": "code",
   "execution_count": null,
   "id": "485f4da0",
   "metadata": {
    "scrolled": true
   },
   "outputs": [],
   "source": [
    "ResumenporCultyZona_BioestMx = BioestMx.groupby(['Cultivo_Categoría_Ranking','Zona_Ranking']).agg({'Utilidad': 'sum'})\n",
    "ResumenporCultyZona_BioestMx_df = pd.DataFrame(ResumenporCultyZona_BioestMx.unstack(level = 1))\n",
    "ResumenporCultyZona_BioestMx_df.plot(kind = 'bar')"
   ]
  },
  {
   "cell_type": "code",
   "execution_count": null,
   "id": "f3a80ef1",
   "metadata": {},
   "outputs": [],
   "source": [
    "ResumenporCultyZona_BioestMx2 = BioestMx.groupby(['Cultivo_Categoría_Ranking']).agg({'Utilidad': 'sum'})\n",
    "ResumenporCultyZona_BioestMx2.head(20)"
   ]
  },
  {
   "cell_type": "markdown",
   "id": "ec43b24f",
   "metadata": {},
   "source": [
    "# Bioestimulante en demás empresas\n"
   ]
  },
  {
   "cell_type": "code",
   "execution_count": null,
   "id": "36f3875b",
   "metadata": {},
   "outputs": [],
   "source": [
    "print ('${:,.3f} M'.format(BioestIntnl['Utilidad'].sum()/1000000) )"
   ]
  },
  {
   "cell_type": "code",
   "execution_count": null,
   "id": "40d51684",
   "metadata": {
    "scrolled": true
   },
   "outputs": [],
   "source": [
    "ResumenporCultyZona_BioestIntnl = BioestIntnl.groupby(['Cultivo_Categoría_Ranking','Zona_Ranking']).agg({'Utilidad': 'sum'})\n",
    "ResumenporCultyZona_Bioest_df = pd.DataFrame(ResumenporCultyZona_BioestIntnl.unstack(level = 1))\n",
    "ResumenporCultyZona_Bioest_df.plot(kind = 'bar')"
   ]
  },
  {
   "cell_type": "code",
   "execution_count": null,
   "id": "78f5c7c3",
   "metadata": {},
   "outputs": [],
   "source": [
    "ResumenporCultyZona_BioestIntnl2 = BioestIntnl.groupby(['Cultivo_Categoría_Ranking']).agg({'Utilidad': 'sum'})\n",
    "ResumenporCultyZona_BioestIntnl2.head(20)"
   ]
  },
  {
   "cell_type": "markdown",
   "id": "7ee488e9",
   "metadata": {},
   "source": [
    "# Top 10 en México"
   ]
  },
  {
   "cell_type": "code",
   "execution_count": null,
   "id": "8521cde7",
   "metadata": {
    "scrolled": true
   },
   "outputs": [],
   "source": [
    "ResumenporCultyZona_BioestMx_detalle = BioestMx.groupby(['Cultivo_Categoría','RM/ REIQ_x']).agg({'Utilidad': 'sum'})\n",
    "ResumenporCultyZona_BioestIntnl_detalle = BioestIntnl.groupby(['Cultivo_Categoría','RM/ REIQ_x']).agg({'Utilidad': 'sum'})\n",
    "ResumenporCultyZona_BioestMx_detalle_sorted = ResumenporCultyZona_BioestMx_detalle.sort_values(by=['Utilidad'],ascending=False)\n",
    "ResumenporCultyZona_BioestMx_detalle_sorted.head(10)"
   ]
  },
  {
   "cell_type": "code",
   "execution_count": null,
   "id": "a779c9e7",
   "metadata": {},
   "outputs": [],
   "source": [
    "print ('${:,.3f} M'.format(ResumenporCultyZona_BioestMx_detalle_sorted['Utilidad'].head(10).sum()/1000000) )\n"
   ]
  },
  {
   "cell_type": "markdown",
   "id": "72b495c5",
   "metadata": {},
   "source": [
    "# Top 10 en otros países"
   ]
  },
  {
   "cell_type": "code",
   "execution_count": null,
   "id": "805781da",
   "metadata": {},
   "outputs": [],
   "source": [
    "ResumenporCultyZona_BioestIntnl_detalle_sorted = ResumenporCultyZona_BioestIntnl_detalle.sort_values(by=['Utilidad'],ascending=False)\n",
    "ResumenporCultyZona_BioestIntnl_detalle_sorted.head(10)"
   ]
  },
  {
   "cell_type": "code",
   "execution_count": null,
   "id": "89a822c6",
   "metadata": {},
   "outputs": [],
   "source": [
    "print ('${:,.3f} M'.format(ResumenporCultyZona_BioestIntnl_detalle_sorted['Utilidad'].head(10).sum()/1000000) )\n"
   ]
  }
 ],
 "metadata": {
  "hide_input": false,
  "kernelspec": {
   "display_name": "Python 3",
   "language": "python",
   "name": "python3"
  },
  "language_info": {
   "codemirror_mode": {
    "name": "ipython",
    "version": 3
   },
   "file_extension": ".py",
   "mimetype": "text/x-python",
   "name": "python",
   "nbconvert_exporter": "python",
   "pygments_lexer": "ipython3",
   "version": "3.8.8"
  }
 },
 "nbformat": 4,
 "nbformat_minor": 5
}
